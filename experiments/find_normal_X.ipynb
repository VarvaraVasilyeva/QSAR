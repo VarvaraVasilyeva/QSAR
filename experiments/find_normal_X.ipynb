{
 "cells": [
  {
   "cell_type": "code",
   "execution_count": 1,
   "metadata": {},
   "outputs": [],
   "source": [
    "from sklearn import preprocessing\n",
    "import mguaJN\n",
    "import numpy as np\n",
    "import pandas as pd\n",
    "from sklearn.metrics import r2_score, classification_report, roc_auc_score\n",
    "import matplotlib.pyplot as plt\n",
    "from sklearn.linear_model import Ridge\n",
    "from numpy import random"
   ]
  },
  {
   "cell_type": "code",
   "execution_count": 12,
   "metadata": {},
   "outputs": [],
   "source": [
    "# библиотеки для кластеризации\n",
    "from metric_learn import MLKR\n",
    "from sklearn.cluster import DBSCAN\n",
    "from sklearn.cluster import KMeans\n",
    "from sklearn.metrics.pairwise import pairwise_distances\n",
    "from sklearn.decomposition import PCA\n",
    "import hdbscan\n",
    "# import random"
   ]
  },
  {
   "cell_type": "markdown",
   "metadata": {},
   "source": [
    "## Выборка bzr NNdb*_UpTo3chains\n",
    "Посмотрим для каждого столбца Х распределение (хотим, чтобы оно было нормальным)"
   ]
  },
  {
   "cell_type": "code",
   "execution_count": 15,
   "metadata": {},
   "outputs": [],
   "source": [
    "bzr = pd.read_csv('bzr/bzr_matrix_alphabet_NNdb*_UpTo3chains.csv', sep=',')\n",
    "bzr_y = pd.read_csv('bzr/bzr_y.csv', sep=',')"
   ]
  },
  {
   "cell_type": "code",
   "execution_count": 16,
   "metadata": {},
   "outputs": [],
   "source": [
    "for i, elem in bzr_y['IC50_uM'].items():\n",
    "    bzr_y['IC50_uM'][i] = float(elem.strip('[]').strip('()').split(', ')[0])"
   ]
  },
  {
   "cell_type": "code",
   "execution_count": 17,
   "metadata": {},
   "outputs": [
    {
     "data": {
      "text/plain": [
       "(405, 357)"
      ]
     },
     "execution_count": 17,
     "metadata": {},
     "output_type": "execute_result"
    }
   ],
   "source": [
    "normalized_bzr = preprocessing.normalize(bzr)\n",
    "normalized_bzr.shape"
   ]
  },
  {
   "cell_type": "code",
   "execution_count": 18,
   "metadata": {},
   "outputs": [
    {
     "data": {
      "image/png": "[encoded data removed]",
      "text/plain": [
       "<Figure size 720x288 with 1 Axes>"
      ]
     },
     "metadata": {
      "needs_background": "light"
     },
     "output_type": "display_data"
    }
   ],
   "source": [
    "num_nonzero_col = []\n",
    "for i in range(normalized_bzr.shape[1]):\n",
    "    num_nonzero_col.append(normalized_bzr[:, i].nonzero()[0].shape[0])\n",
    "plt.figure(figsize=(10,4))\n",
    "plt.title(\"Гистограмма количества ненулевых элементов в столбцах матрицы bzr NNdb*_UpTo3chains\")\n",
    "_ = plt.hist(num_nonzero_col, bins=100)"
   ]
  },
  {
   "cell_type": "code",
   "execution_count": 117,
   "metadata": {},
   "outputs": [
    {
     "data": {
      "text/plain": [
       "102"
      ]
     },
     "execution_count": 117,
     "metadata": {},
     "output_type": "execute_result"
    }
   ],
   "source": [
    "mask = np.array(num_nonzero_col) == 1\n",
    "mask.sum()"
   ]
  },
  {
   "cell_type": "markdown",
   "metadata": {},
   "source": [
    "### Нормализация y\n",
    "вычтем из y активность: для выборки bzr - это 0.1"
   ]
  },
  {
   "cell_type": "code",
   "execution_count": 19,
   "metadata": {},
   "outputs": [],
   "source": [
    "bzr_y = bzr_y - 0.1"
   ]
  },
  {
   "cell_type": "markdown",
   "metadata": {},
   "source": [
    "Попробуем использовать Гребневую регрессию с регуляризацией. Перед этим необходимо сделать стандартизацию матрицы X (предобработку данных, после которой каждый признак имеет среднее 0 и дисперсию 1.)"
   ]
  },
  {
   "cell_type": "code",
   "execution_count": 119,
   "metadata": {},
   "outputs": [],
   "source": [
    "mgua_model = mguaJN.MGUA(Q=20, C=0.6, I=10, model=Ridge(alpha=0.1))"
   ]
  },
  {
   "cell_type": "code",
   "execution_count": 120,
   "metadata": {},
   "outputs": [
    {
     "data": {
      "application/vnd.jupyter.widget-view+json": {
       "model_id": "0f0eb3c984e84631bc934a55e295571d",
       "version_major": 2,
       "version_minor": 0
      },
      "text/plain": [
       "VBox(children=(HTML(value=''), IntProgress(value=0, max=357)))"
      ]
     },
     "metadata": {},
     "output_type": "display_data"
    },
    {
     "data": {
      "application/vnd.jupyter.widget-view+json": {
       "model_id": "70e3a77c5e4f431c95654add2f1754b9",
       "version_major": 2,
       "version_minor": 0
      },
      "text/plain": [
       "VBox(children=(HTML(value=''), IntProgress(value=0, max=9)))"
      ]
     },
     "metadata": {},
     "output_type": "display_data"
    },
    {
     "name": "stdout",
     "output_type": "stream",
     "text": [
      "r2 score на тестовой выборке =  -0.00787313926308486\n",
      "r2 score на тренировочной выборке =  0.23008644456823413\n"
     ]
    }
   ],
   "source": [
    "train_size = int(0.7 * bzr.shape[0])\n",
    "X_train = pd.DataFrame(preprocessing.scale(bzr[:][:train_size]))\n",
    "y_train = bzr_y[:][:train_size]\n",
    "X_test = pd.DataFrame(preprocessing.scale(bzr[:][train_size:]))\n",
    "y_test = bzr_y[:][train_size:]\n",
    "mgua_model.fit(X_train, y_train)\n",
    "res = np.array(mgua_model.predict(X_test))\n",
    "res_train = np.array(mgua_model.predict(X_train))\n",
    "res = res.reshape(len(mgua_model.buf_coef[0]), X_test.shape[0]).mean(axis=0)\n",
    "res_train = res_train.reshape(len(mgua_model.buf_coef[0]), X_train.shape[0]).mean(axis=0)\n",
    "print(\"r2 score на тестовой выборке = \", r2_score(y_test, res))\n",
    "print(\"r2 score на тренировочной выборке = \", r2_score(y_train, res_train))"
   ]
  },
  {
   "cell_type": "code",
   "execution_count": 121,
   "metadata": {},
   "outputs": [],
   "source": [
    "y_np_test = y_test.to_numpy().reshape(-1)\n",
    "y_sgn_test = [-1 if y_i <= 0 else 1 for y_i in y_np_test]"
   ]
  },
  {
   "cell_type": "code",
   "execution_count": 122,
   "metadata": {},
   "outputs": [],
   "source": [
    "y_sgn_res = [-1 if y_i <= 0 else 1 for y_i in res]"
   ]
  },
  {
   "cell_type": "markdown",
   "metadata": {},
   "source": [
    "Результаты классификации с помощью МГУА:"
   ]
  },
  {
   "cell_type": "code",
   "execution_count": 123,
   "metadata": {},
   "outputs": [
    {
     "name": "stdout",
     "output_type": "stream",
     "text": [
      "              precision    recall  f1-score   support\n",
      "\n",
      "          -1       0.00      0.00      0.00        39\n",
      "           1       0.67      0.96      0.79        83\n",
      "\n",
      "    accuracy                           0.66       122\n",
      "   macro avg       0.34      0.48      0.40       122\n",
      "weighted avg       0.46      0.66      0.54       122\n",
      "\n"
     ]
    }
   ],
   "source": [
    "print(classification_report(y_sgn_test, y_sgn_res))"
   ]
  },
  {
   "cell_type": "code",
   "execution_count": 124,
   "metadata": {},
   "outputs": [
    {
     "data": {
      "text/plain": [
       "0.4819277108433735"
      ]
     },
     "execution_count": 124,
     "metadata": {},
     "output_type": "execute_result"
    }
   ],
   "source": [
    "roc_auc_score(y_sgn_test, y_sgn_res)"
   ]
  },
  {
   "cell_type": "markdown",
   "metadata": {},
   "source": [
    "просто в результате получилось всего 3 отрицательных значения"
   ]
  },
  {
   "cell_type": "markdown",
   "metadata": {},
   "source": [
    "Попробуем в МГУА подать вместо регрессионных ответов ответы для классификации:"
   ]
  },
  {
   "cell_type": "code",
   "execution_count": 134,
   "metadata": {},
   "outputs": [],
   "source": [
    "bzr_np_y = bzr_y.to_numpy().reshape(-1)\n",
    "bzr_class_y = pd.DataFrame([-1 if y_i <= 0 else 1 for y_i in bzr_np_y])"
   ]
  },
  {
   "cell_type": "code",
   "execution_count": 137,
   "metadata": {
    "scrolled": true
   },
   "outputs": [
    {
     "data": {
      "application/vnd.jupyter.widget-view+json": {
       "model_id": "04ac49eb0dd1489897c7d24037586d00",
       "version_major": 2,
       "version_minor": 0
      },
      "text/plain": [
       "VBox(children=(HTML(value=''), IntProgress(value=0, max=357)))"
      ]
     },
     "metadata": {},
     "output_type": "display_data"
    },
    {
     "data": {
      "application/vnd.jupyter.widget-view+json": {
       "model_id": "0c984412341b42d28cd8dec9bdea4827",
       "version_major": 2,
       "version_minor": 0
      },
      "text/plain": [
       "VBox(children=(HTML(value=''), IntProgress(value=0, max=9)))"
      ]
     },
     "metadata": {},
     "output_type": "display_data"
    },
    {
     "name": "stdout",
     "output_type": "stream",
     "text": [
      "r2 score на тестовой выборке =  0.08948423390946392\n",
      "\n",
      "              precision    recall  f1-score   support\n",
      "\n",
      "          -1       0.56      1.00      0.72        64\n",
      "           1       1.00      0.12      0.22        58\n",
      "\n",
      "    accuracy                           0.58       122\n",
      "   macro avg       0.78      0.56      0.47       122\n",
      "weighted avg       0.77      0.58      0.48       122\n",
      "\n",
      "\n",
      "roc_auc_score =  0.5603448275862069\n"
     ]
    }
   ],
   "source": [
    "# train_size = int(0.7 * bzr.shape[0])\n",
    "rand_fold = random.choice(np.arange(bzr.shape[0]).tolist(), train_size, False)\n",
    "X_train = pd.DataFrame(preprocessing.scale(bzr[:].loc[rand_fold]))\n",
    "y_train = bzr_class_y[:].loc[rand_fold]\n",
    "X_test = pd.DataFrame(preprocessing.scale(bzr[:].loc[np.delete(np.arange(bzr.shape[0]), rand_fold)]))\n",
    "y_test = bzr_class_y[:].loc[np.delete(np.arange(bzr.shape[0]), rand_fold)]\n",
    "# X_train = pd.DataFrame(preprocessing.scale(bzr[:][:train_size]))\n",
    "# y_train = bzr_class_y[:][:train_size]\n",
    "# X_test = pd.DataFrame(preprocessing.scale(bzr[:][train_size:]))\n",
    "# y_test = bzr_class_y[:][train_size:]\n",
    "mgua_model.fit(X_train, y_train)\n",
    "res = np.array(mgua_model.predict(X_test))\n",
    "# res_train = np.array(mgua_model.predict(X_train))\n",
    "res = res.reshape(len(mgua_model.buf_coef[0]), X_test.shape[0]).mean(axis=0)\n",
    "# res_train = res_train.reshape(len(mgua_model.buf_coef[0]), X_train.shape[0]).mean(axis=0)\n",
    "print(\"r2 score на тестовой выборке = \", r2_score(y_test, res))\n",
    "# print(\"r2 score на тренировочной выборке = \", r2_score(y_train, res_train))\n",
    "y_sgn_res = [-1 if y_i <= 0 else 1 for y_i in res]\n",
    "print()\n",
    "print(classification_report(y_test, y_sgn_res))\n",
    "print()\n",
    "print(\"roc_auc_score = \", roc_auc_score(y_test, y_sgn_res))"
   ]
  },
  {
   "cell_type": "code",
   "execution_count": 141,
   "metadata": {},
   "outputs": [
    {
     "data": {
      "text/plain": [
       "array([[<matplotlib.axes._subplots.AxesSubplot object at 0x7fc28b96c750>]],\n",
       "      dtype=object)"
      ]
     },
     "execution_count": 141,
     "metadata": {},
     "output_type": "execute_result"
    },
    {
     "data": {
      "image/png": "[encoded data removed]",
      "text/plain": [
       "<Figure size 432x288 with 1 Axes>"
      ]
     },
     "metadata": {
      "needs_background": "light"
     },
     "output_type": "display_data"
    }
   ],
   "source": [
    "y_train.hist()"
   ]
  },
  {
   "cell_type": "markdown",
   "metadata": {},
   "source": [
    "### Кластеризация"
   ]
  },
  {
   "cell_type": "code",
   "execution_count": 20,
   "metadata": {},
   "outputs": [],
   "source": [
    "bzr_np_y = bzr_y.to_numpy().reshape(-1)\n",
    "bzr_class_y = pd.DataFrame([-1 if y_i <= 0 else 1 for y_i in bzr_np_y])"
   ]
  },
  {
   "cell_type": "code",
   "execution_count": 47,
   "metadata": {},
   "outputs": [],
   "source": [
    "train_size = int(0.7 * bzr.shape[0])\n",
    "rand_fold = random.choice(np.arange(bzr.shape[0]).tolist(), train_size, False)\n",
    "X_train = pd.DataFrame(preprocessing.scale(bzr[:].loc[rand_fold]))\n",
    "y_train = bzr_class_y[:].loc[rand_fold]\n",
    "X_test = pd.DataFrame(preprocessing.scale(bzr[:].loc[np.delete(np.arange(bzr.shape[0]), rand_fold)]))\n",
    "y_test = bzr_class_y[:].loc[np.delete(np.arange(bzr.shape[0]), rand_fold)]"
   ]
  },
  {
   "cell_type": "markdown",
   "metadata": {},
   "source": [
    "#### кластеризация с помощью метода к-средних"
   ]
  },
  {
   "cell_type": "code",
   "execution_count": 93,
   "metadata": {},
   "outputs": [
    {
     "name": "stdout",
     "output_type": "stream",
     "text": [
      "Founded good clusters: [ 35  80 168]\n",
      "\n"
     ]
    },
    {
     "data": {
      "application/vnd.jupyter.widget-view+json": {
       "model_id": "c306fc055ed64063af5cd5217beb8b09",
       "version_major": 2,
       "version_minor": 0
      },
      "text/plain": [
       "VBox(children=(HTML(value=''), IntProgress(value=0, max=357)))"
      ]
     },
     "metadata": {},
     "output_type": "display_data"
    },
    {
     "data": {
      "application/vnd.jupyter.widget-view+json": {
       "model_id": "dca7c2f8bd08414ea4be49b89e8315be",
       "version_major": 2,
       "version_minor": 0
      },
      "text/plain": [
       "VBox(children=(HTML(value=''), IntProgress(value=0, max=9)))"
      ]
     },
     "metadata": {},
     "output_type": "display_data"
    },
    {
     "name": "stdout",
     "output_type": "stream",
     "text": [
      "CLUSTER # 0\n",
      "\n",
      "r2 score на тестовой выборке =  -0.15953553403471576\n",
      "\n",
      "              precision    recall  f1-score   support\n",
      "\n",
      "          -1       0.91      1.00      0.95        20\n",
      "           1       0.00      0.00      0.00         2\n",
      "\n",
      "    accuracy                           0.91        22\n",
      "   macro avg       0.45      0.50      0.48        22\n",
      "weighted avg       0.83      0.91      0.87        22\n",
      "\n"
     ]
    },
    {
     "name": "stderr",
     "output_type": "stream",
     "text": [
      "/Users/Varya/opt/anaconda3/lib/python3.7/site-packages/sklearn/metrics/_classification.py:1272: UndefinedMetricWarning: Precision and F-score are ill-defined and being set to 0.0 in labels with no predicted samples. Use `zero_division` parameter to control this behavior.\n",
      "  _warn_prf(average, modifier, msg_start, len(result))\n"
     ]
    },
    {
     "data": {
      "application/vnd.jupyter.widget-view+json": {
       "model_id": "9b66c9c01f0f4330806854396eec030a",
       "version_major": 2,
       "version_minor": 0
      },
      "text/plain": [
       "VBox(children=(HTML(value=''), IntProgress(value=0, max=357)))"
      ]
     },
     "metadata": {},
     "output_type": "display_data"
    },
    {
     "data": {
      "application/vnd.jupyter.widget-view+json": {
       "model_id": "b81cef50eb33441d9e305755b392a2e6",
       "version_major": 2,
       "version_minor": 0
      },
      "text/plain": [
       "VBox(children=(HTML(value=''), IntProgress(value=0, max=9)))"
      ]
     },
     "metadata": {},
     "output_type": "display_data"
    },
    {
     "name": "stdout",
     "output_type": "stream",
     "text": [
      "CLUSTER # 1\n",
      "\n",
      "r2 score на тестовой выборке =  -0.021503159309249398\n",
      "\n",
      "              precision    recall  f1-score   support\n",
      "\n",
      "          -1       0.71      0.92      0.80        24\n",
      "           1       0.50      0.18      0.27        11\n",
      "\n",
      "    accuracy                           0.69        35\n",
      "   macro avg       0.60      0.55      0.53        35\n",
      "weighted avg       0.64      0.69      0.63        35\n",
      "\n"
     ]
    },
    {
     "data": {
      "application/vnd.jupyter.widget-view+json": {
       "model_id": "30284e220599421aaa25dcea1166eee2",
       "version_major": 2,
       "version_minor": 0
      },
      "text/plain": [
       "VBox(children=(HTML(value=''), IntProgress(value=0, max=357)))"
      ]
     },
     "metadata": {},
     "output_type": "display_data"
    },
    {
     "data": {
      "application/vnd.jupyter.widget-view+json": {
       "model_id": "a99c3ff0235b492bbd5af8b437fe4554",
       "version_major": 2,
       "version_minor": 0
      },
      "text/plain": [
       "VBox(children=(HTML(value=''), IntProgress(value=0, max=9)))"
      ]
     },
     "metadata": {},
     "output_type": "display_data"
    },
    {
     "name": "stdout",
     "output_type": "stream",
     "text": [
      "CLUSTER # 2\n",
      "\n",
      "r2 score на тестовой выборке =  0.11163304757708759\n",
      "\n",
      "              precision    recall  f1-score   support\n",
      "\n",
      "          -1       0.78      0.60      0.68        30\n",
      "           1       0.71      0.86      0.78        35\n",
      "\n",
      "    accuracy                           0.74        65\n",
      "   macro avg       0.75      0.73      0.73        65\n",
      "weighted avg       0.75      0.74      0.73        65\n",
      "\n"
     ]
    }
   ],
   "source": [
    "k = 3\n",
    "min_elem_in_cluster = 25\n",
    "clusters = KMeans(n_clusters=k)\n",
    "clusters_train = clusters.fit_predict(X_train)\n",
    "\n",
    "is_good_clusters = False\n",
    "while is_good_clusters == False:\n",
    "    clusters_train = clusters.fit_predict(X_train)\n",
    "    elems_in_clusters = np.array([np.array([clusters_train == i]).sum() for i in np.unique(clusters_train)])\n",
    "    elems_in_clusters_bool = elems_in_clusters > min_elem_in_cluster\n",
    "    is_good_clusters = np.all(elems_in_clusters_bool)\n",
    "print('Founded good clusters:', elems_in_clusters)\n",
    "print()\n",
    "clusters_test = clusters.predict(X_test)\n",
    "\n",
    "for i in range(k):\n",
    "    mgua_model = mguaJN.MGUA(Q=20, C=0.6, I=10, model=Ridge(alpha=0.1))\n",
    "    mgua_model.fit(X_train.loc[clusters_train==i], y_train.loc[clusters_train==i])\n",
    "    if X_test.loc[clusters_test==i].shape[0] > 0:\n",
    "        res = np.array(mgua_model.predict(X_test.loc[clusters_test==i]))\n",
    "        res = res.reshape(len(mgua_model.buf_coef[0]), X_test.loc[clusters_test==i].shape[0]).mean(axis=0)\n",
    "        print(\"CLUSTER #\", i)\n",
    "        print()\n",
    "        print(\"r2 score на тестовой выборке = \", r2_score(y_test.loc[clusters_test==i], res))\n",
    "        y_sgn_res = [-1 if y_i <= 0 else 1 for y_i in res]\n",
    "        print()\n",
    "        print(classification_report(y_test.loc[clusters_test==i], y_sgn_res))\n",
    "    else:\n",
    "        print(\"CLUSTER #\", i)\n",
    "        print(\"No elements in test\")\n",
    "#     print()\n",
    "#     print(\"roc_auc_score = \", roc_auc_score(y_test.loc[clusters_test==i], y_sgn_res))"
   ]
  },
  {
   "cell_type": "markdown",
   "metadata": {},
   "source": [
    "Получилось, что в кластере 0 все метки предсказались как -1, в действительности же там только 2 молекулы из 65 в тестовой выборке имеют значение 1"
   ]
  },
  {
   "cell_type": "code",
   "execution_count": 98,
   "metadata": {},
   "outputs": [
    {
     "data": {
      "text/plain": [
       "(65, 1)"
      ]
     },
     "execution_count": 98,
     "metadata": {},
     "output_type": "execute_result"
    }
   ],
   "source": [
    "y_test.loc[clusters_test==i].shape"
   ]
  },
  {
   "cell_type": "markdown",
   "metadata": {},
   "source": [
    "#### Кластеризация с помощью метода DBSCAN"
   ]
  },
  {
   "cell_type": "code",
   "execution_count": 100,
   "metadata": {},
   "outputs": [],
   "source": [
    "train_size = int(0.7 * bzr.shape[0])\n",
    "rand_fold = random.choice(np.arange(bzr.shape[0]).tolist(), train_size, False)\n",
    "X_train = pd.DataFrame(preprocessing.scale(bzr[:].loc[rand_fold]))\n",
    "y_train = bzr_class_y[:].loc[rand_fold]\n",
    "X_test = pd.DataFrame(preprocessing.scale(bzr[:].loc[np.delete(np.arange(bzr.shape[0]), rand_fold)]))\n",
    "y_test = bzr_class_y[:].loc[np.delete(np.arange(bzr.shape[0]), rand_fold)]"
   ]
  },
  {
   "cell_type": "markdown",
   "metadata": {},
   "source": [
    "Подберем параметр эпсилон так, чтобы было как можно меньше точек отказа (-1), но чтобы все молекулы не отнеслись к одному классу (0 при eps=7.). Параметр min_samples означает минимальное количество точек в кластере "
   ]
  },
  {
   "cell_type": "code",
   "execution_count": 120,
   "metadata": {},
   "outputs": [
    {
     "data": {
      "text/plain": [
       "(array([ 73.,   0.,   0., 152.,   0.,   0.,  30.,   0.,   0.,  28.]),\n",
       " array([-1. , -0.7, -0.4, -0.1,  0.2,  0.5,  0.8,  1.1,  1.4,  1.7,  2. ]),\n",
       " <a list of 10 Patch objects>)"
      ]
     },
     "execution_count": 120,
     "metadata": {},
     "output_type": "execute_result"
    },
    {
     "data": {
      "image/png": "[encoded data removed]",
      "text/plain": [
       "<Figure size 432x288 with 1 Axes>"
      ]
     },
     "metadata": {
      "needs_background": "light"
     },
     "output_type": "display_data"
    }
   ],
   "source": [
    "clusters = DBSCAN(eps=5.5, min_samples=30)\n",
    "clusters_all = clusters.fit_predict(bzr)\n",
    "clusters_train = clusters_all[rand_fold]\n",
    "clusters_test = clusters_all[np.delete(np.arange(bzr.shape[0]), rand_fold)]\n",
    "plt.hist(clusters_train)"
   ]
  },
  {
   "cell_type": "code",
   "execution_count": 124,
   "metadata": {},
   "outputs": [
    {
     "data": {
      "text/plain": [
       "array([-1,  0,  1,  2])"
      ]
     },
     "execution_count": 124,
     "metadata": {},
     "output_type": "execute_result"
    }
   ],
   "source": [
    "np.unique(clusters.labels_)"
   ]
  },
  {
   "cell_type": "code",
   "execution_count": 125,
   "metadata": {},
   "outputs": [
    {
     "data": {
      "application/vnd.jupyter.widget-view+json": {
       "model_id": "d299adf6055c4cd3a69d62e02c6b6ec0",
       "version_major": 2,
       "version_minor": 0
      },
      "text/plain": [
       "VBox(children=(HTML(value=''), IntProgress(value=0, max=357)))"
      ]
     },
     "metadata": {},
     "output_type": "display_data"
    },
    {
     "data": {
      "application/vnd.jupyter.widget-view+json": {
       "model_id": "46df2e9363b34810bee4df23ca4e869d",
       "version_major": 2,
       "version_minor": 0
      },
      "text/plain": [
       "VBox(children=(HTML(value=''), IntProgress(value=0, max=9)))"
      ]
     },
     "metadata": {},
     "output_type": "display_data"
    },
    {
     "name": "stdout",
     "output_type": "stream",
     "text": [
      "CLUSTER # -1\n",
      "\n",
      "r2 score на тестовой выборке =  0.2600961817778642\n",
      "\n",
      "              precision    recall  f1-score   support\n",
      "\n",
      "          -1       0.89      0.89      0.89        18\n",
      "           1       0.86      0.86      0.86        14\n",
      "\n",
      "    accuracy                           0.88        32\n",
      "   macro avg       0.87      0.87      0.87        32\n",
      "weighted avg       0.88      0.88      0.88        32\n",
      "\n"
     ]
    },
    {
     "data": {
      "application/vnd.jupyter.widget-view+json": {
       "model_id": "96f6eef5ac40486699d45ed1ca153eee",
       "version_major": 2,
       "version_minor": 0
      },
      "text/plain": [
       "VBox(children=(HTML(value=''), IntProgress(value=0, max=357)))"
      ]
     },
     "metadata": {},
     "output_type": "display_data"
    },
    {
     "data": {
      "application/vnd.jupyter.widget-view+json": {
       "model_id": "e198d172b90945aebc3dc3df485336e6",
       "version_major": 2,
       "version_minor": 0
      },
      "text/plain": [
       "VBox(children=(HTML(value=''), IntProgress(value=0, max=9)))"
      ]
     },
     "metadata": {},
     "output_type": "display_data"
    },
    {
     "name": "stdout",
     "output_type": "stream",
     "text": [
      "CLUSTER # 0\n",
      "\n",
      "r2 score на тестовой выборке =  0.08239018190652148\n",
      "\n",
      "              precision    recall  f1-score   support\n",
      "\n",
      "          -1       0.66      0.79      0.72        29\n",
      "           1       0.65      0.48      0.55        23\n",
      "\n",
      "    accuracy                           0.65        52\n",
      "   macro avg       0.65      0.64      0.63        52\n",
      "weighted avg       0.65      0.65      0.64        52\n",
      "\n"
     ]
    },
    {
     "data": {
      "application/vnd.jupyter.widget-view+json": {
       "model_id": "64d66daee35c4214bc0469618c9795b7",
       "version_major": 2,
       "version_minor": 0
      },
      "text/plain": [
       "VBox(children=(HTML(value=''), IntProgress(value=0, max=357)))"
      ]
     },
     "metadata": {},
     "output_type": "display_data"
    },
    {
     "data": {
      "application/vnd.jupyter.widget-view+json": {
       "model_id": "2b58c7deeea04fde83e06a98e1292f76",
       "version_major": 2,
       "version_minor": 0
      },
      "text/plain": [
       "VBox(children=(HTML(value=''), IntProgress(value=0, max=9)))"
      ]
     },
     "metadata": {},
     "output_type": "display_data"
    },
    {
     "name": "stdout",
     "output_type": "stream",
     "text": [
      "CLUSTER # 1\n",
      "\n",
      "r2 score на тестовой выборке =  -0.5504761904761901\n",
      "\n",
      "              precision    recall  f1-score   support\n",
      "\n",
      "          -1       0.95      1.00      0.98        21\n",
      "           1       0.00      0.00      0.00         1\n",
      "\n",
      "    accuracy                           0.95        22\n",
      "   macro avg       0.48      0.50      0.49        22\n",
      "weighted avg       0.91      0.95      0.93        22\n",
      "\n"
     ]
    },
    {
     "name": "stderr",
     "output_type": "stream",
     "text": [
      "/Users/Varya/opt/anaconda3/lib/python3.7/site-packages/sklearn/metrics/_classification.py:1272: UndefinedMetricWarning: Precision and F-score are ill-defined and being set to 0.0 in labels with no predicted samples. Use `zero_division` parameter to control this behavior.\n",
      "  _warn_prf(average, modifier, msg_start, len(result))\n"
     ]
    },
    {
     "data": {
      "application/vnd.jupyter.widget-view+json": {
       "model_id": "97a02d7672044b21b35836503fc85b35",
       "version_major": 2,
       "version_minor": 0
      },
      "text/plain": [
       "VBox(children=(HTML(value=''), IntProgress(value=0, max=357)))"
      ]
     },
     "metadata": {},
     "output_type": "display_data"
    },
    {
     "data": {
      "application/vnd.jupyter.widget-view+json": {
       "model_id": "7f6ecdfe8a7d4c879b48fead8b8142ba",
       "version_major": 2,
       "version_minor": 0
      },
      "text/plain": [
       "VBox(children=(HTML(value=''), IntProgress(value=0, max=9)))"
      ]
     },
     "metadata": {},
     "output_type": "display_data"
    },
    {
     "name": "stdout",
     "output_type": "stream",
     "text": [
      "CLUSTER # 2\n",
      "\n",
      "r2 score на тестовой выборке =  0.0871422137061505\n",
      "\n",
      "              precision    recall  f1-score   support\n",
      "\n",
      "          -1       0.62      0.71      0.67         7\n",
      "           1       0.75      0.67      0.71         9\n",
      "\n",
      "    accuracy                           0.69        16\n",
      "   macro avg       0.69      0.69      0.69        16\n",
      "weighted avg       0.70      0.69      0.69        16\n",
      "\n"
     ]
    }
   ],
   "source": [
    "clusters = DBSCAN(eps=5.5, min_samples=30)\n",
    "clusters_all = clusters.fit_predict(bzr)\n",
    "clusters_train = clusters_all[rand_fold]\n",
    "clusters_test = clusters_all[np.delete(np.arange(bzr.shape[0]), rand_fold)]\n",
    "\n",
    "for i in np.unique(clusters.labels_):\n",
    "    mgua_model = mguaJN.MGUA(Q=20, C=0.6, I=10, model=Ridge(alpha=0.1))\n",
    "    mgua_model.fit(X_train.loc[clusters_train==i], y_train.loc[clusters_train==i])\n",
    "    if X_test.loc[clusters_test==i].shape[0] > 0:\n",
    "        res = np.array(mgua_model.predict(X_test.loc[clusters_test==i]))\n",
    "        res = res.reshape(len(mgua_model.buf_coef[0]), X_test.loc[clusters_test==i].shape[0]).mean(axis=0)\n",
    "        print(\"CLUSTER #\", i)\n",
    "        print()\n",
    "        print(\"r2 score на тестовой выборке = \", r2_score(y_test.loc[clusters_test==i], res))\n",
    "        y_sgn_res = [-1 if y_i <= 0 else 1 for y_i in res]\n",
    "        print()\n",
    "        print(classification_report(y_test.loc[clusters_test==i], y_sgn_res))\n",
    "    else:\n",
    "        print(\"CLUSTER #\", i)\n",
    "        print(\"No elements in test\")"
   ]
  },
  {
   "cell_type": "markdown",
   "metadata": {},
   "source": [
    "### Метод главных компонент и DBSCAN"
   ]
  },
  {
   "cell_type": "code",
   "execution_count": 126,
   "metadata": {},
   "outputs": [],
   "source": [
    "from sklearn.decomposition import PCA"
   ]
  },
  {
   "cell_type": "code",
   "execution_count": 173,
   "metadata": {},
   "outputs": [],
   "source": [
    "pca = PCA(n_components=10)\n",
    "bzr_pca = pd.DataFrame(pca.fit_transform(bzr))\n",
    "\n",
    "train_size = int(0.7 * bzr_pca.shape[0])\n",
    "rand_fold = random.choice(np.arange(bzr_pca.shape[0]).tolist(), train_size, False)\n",
    "X_train = pd.DataFrame(preprocessing.scale(bzr_pca[:].loc[rand_fold]))\n",
    "y_train = bzr_class_y[:].loc[rand_fold]\n",
    "X_test = pd.DataFrame(preprocessing.scale(bzr_pca[:].loc[np.delete(np.arange(bzr_pca.shape[0]), rand_fold)]))\n",
    "y_test = bzr_class_y[:].loc[np.delete(np.arange(bzr_pca.shape[0]), rand_fold)]"
   ]
  },
  {
   "cell_type": "code",
   "execution_count": 174,
   "metadata": {},
   "outputs": [
    {
     "data": {
      "application/vnd.jupyter.widget-view+json": {
       "model_id": "5bb908c970024c959724e3c54fd23143",
       "version_major": 2,
       "version_minor": 0
      },
      "text/plain": [
       "VBox(children=(HTML(value=''), IntProgress(value=0, max=10)))"
      ]
     },
     "metadata": {},
     "output_type": "display_data"
    },
    {
     "data": {
      "application/vnd.jupyter.widget-view+json": {
       "model_id": "5f4bde0c843c44a9acf56dc9630efab3",
       "version_major": 2,
       "version_minor": 0
      },
      "text/plain": [
       "VBox(children=(HTML(value=''), IntProgress(value=0, max=9)))"
      ]
     },
     "metadata": {},
     "output_type": "display_data"
    },
    {
     "name": "stdout",
     "output_type": "stream",
     "text": [
      "CLUSTER # -1\n",
      "\n",
      "r2 score на тестовой выборке =  0.11922648822901627\n",
      "\n",
      "              precision    recall  f1-score   support\n",
      "\n",
      "          -1       0.67      0.89      0.76         9\n",
      "           1       0.89      0.67      0.76        12\n",
      "\n",
      "    accuracy                           0.76        21\n",
      "   macro avg       0.78      0.78      0.76        21\n",
      "weighted avg       0.79      0.76      0.76        21\n",
      "\n"
     ]
    },
    {
     "data": {
      "application/vnd.jupyter.widget-view+json": {
       "model_id": "b48643d1c3004c31a272a6c5dc972d79",
       "version_major": 2,
       "version_minor": 0
      },
      "text/plain": [
       "VBox(children=(HTML(value=''), IntProgress(value=0, max=10)))"
      ]
     },
     "metadata": {},
     "output_type": "display_data"
    },
    {
     "data": {
      "application/vnd.jupyter.widget-view+json": {
       "model_id": "6a84d76113014feebc0ced6038f78801",
       "version_major": 2,
       "version_minor": 0
      },
      "text/plain": [
       "VBox(children=(HTML(value=''), IntProgress(value=0, max=9)))"
      ]
     },
     "metadata": {},
     "output_type": "display_data"
    },
    {
     "name": "stdout",
     "output_type": "stream",
     "text": [
      "CLUSTER # 0\n",
      "\n",
      "r2 score на тестовой выборке =  0.10558704880325387\n",
      "\n",
      "              precision    recall  f1-score   support\n",
      "\n",
      "          -1       0.67      0.79      0.73        42\n",
      "           1       0.62      0.48      0.55        31\n",
      "\n",
      "    accuracy                           0.66        73\n",
      "   macro avg       0.65      0.63      0.64        73\n",
      "weighted avg       0.65      0.66      0.65        73\n",
      "\n"
     ]
    },
    {
     "data": {
      "application/vnd.jupyter.widget-view+json": {
       "model_id": "03dbad49ac8f4d1db6c085fb5415bcd2",
       "version_major": 2,
       "version_minor": 0
      },
      "text/plain": [
       "VBox(children=(HTML(value=''), IntProgress(value=0, max=10)))"
      ]
     },
     "metadata": {},
     "output_type": "display_data"
    },
    {
     "data": {
      "application/vnd.jupyter.widget-view+json": {
       "model_id": "beb4d394078945619014e29aae63082d",
       "version_major": 2,
       "version_minor": 0
      },
      "text/plain": [
       "VBox(children=(HTML(value=''), IntProgress(value=0, max=9)))"
      ]
     },
     "metadata": {},
     "output_type": "display_data"
    },
    {
     "name": "stdout",
     "output_type": "stream",
     "text": [
      "CLUSTER # 1\n",
      "\n",
      "r2 score на тестовой выборке =  0.2117448688608784\n",
      "\n",
      "              precision    recall  f1-score   support\n",
      "\n",
      "          -1       0.81      1.00      0.90        13\n",
      "           1       0.00      0.00      0.00         3\n",
      "\n",
      "    accuracy                           0.81        16\n",
      "   macro avg       0.41      0.50      0.45        16\n",
      "weighted avg       0.66      0.81      0.73        16\n",
      "\n"
     ]
    },
    {
     "name": "stderr",
     "output_type": "stream",
     "text": [
      "/Users/Varya/opt/anaconda3/lib/python3.7/site-packages/sklearn/metrics/_classification.py:1272: UndefinedMetricWarning: Precision and F-score are ill-defined and being set to 0.0 in labels with no predicted samples. Use `zero_division` parameter to control this behavior.\n",
      "  _warn_prf(average, modifier, msg_start, len(result))\n"
     ]
    },
    {
     "data": {
      "application/vnd.jupyter.widget-view+json": {
       "model_id": "1abdbf1b973b48fca440cc2d3dcfc53c",
       "version_major": 2,
       "version_minor": 0
      },
      "text/plain": [
       "VBox(children=(HTML(value=''), IntProgress(value=0, max=10)))"
      ]
     },
     "metadata": {},
     "output_type": "display_data"
    },
    {
     "data": {
      "application/vnd.jupyter.widget-view+json": {
       "model_id": "49a117484c1d421798f77bdf89339555",
       "version_major": 2,
       "version_minor": 0
      },
      "text/plain": [
       "VBox(children=(HTML(value=''), IntProgress(value=0, max=9)))"
      ]
     },
     "metadata": {},
     "output_type": "display_data"
    },
    {
     "name": "stdout",
     "output_type": "stream",
     "text": [
      "CLUSTER # 2\n",
      "\n",
      "r2 score на тестовой выборке =  0.14507667615619912\n",
      "\n",
      "              precision    recall  f1-score   support\n",
      "\n",
      "          -1       0.57      1.00      0.73         4\n",
      "           1       1.00      0.62      0.77         8\n",
      "\n",
      "    accuracy                           0.75        12\n",
      "   macro avg       0.79      0.81      0.75        12\n",
      "weighted avg       0.86      0.75      0.76        12\n",
      "\n"
     ]
    }
   ],
   "source": [
    "clusters = DBSCAN(eps=5.8, min_samples=30)\n",
    "clusters_all = clusters.fit_predict(bzr)\n",
    "clusters_train = clusters_all[rand_fold]\n",
    "clusters_test = clusters_all[np.delete(np.arange(bzr.shape[0]), rand_fold)]\n",
    "\n",
    "for i in np.unique(clusters.labels_):\n",
    "    mgua_model = mguaJN.MGUA(Q=20, C=0.6, I=10, model=Ridge(alpha=0.1))\n",
    "    mgua_model.fit(X_train.loc[clusters_train==i], y_train.loc[clusters_train==i])\n",
    "    if X_test.loc[clusters_test==i].shape[0] > 0:\n",
    "        res = np.array(mgua_model.predict(X_test.loc[clusters_test==i]))\n",
    "        res = res.reshape(len(mgua_model.buf_coef[0]), X_test.loc[clusters_test==i].shape[0]).mean(axis=0)\n",
    "        print(\"CLUSTER #\", i)\n",
    "        print()\n",
    "        print(\"r2 score на тестовой выборке = \", r2_score(y_test.loc[clusters_test==i], res))\n",
    "        y_sgn_res = [-1 if y_i <= 0 else 1 for y_i in res]\n",
    "        print()\n",
    "        print(classification_report(y_test.loc[clusters_test==i], y_sgn_res))\n",
    "    else:\n",
    "        print(\"CLUSTER #\", i)\n",
    "        print(\"No elements in test\")"
   ]
  },
  {
   "cell_type": "markdown",
   "metadata": {},
   "source": [
    "## Выборка bzr NNd**_UpTo3chains\n"
   ]
  },
  {
   "cell_type": "code",
   "execution_count": 175,
   "metadata": {},
   "outputs": [],
   "source": [
    "bzr = pd.read_csv('bzr/bzr_matrix_alphabet_NNd**_UpTo3chains.csv', sep=',')\n",
    "bzr_y = pd.read_csv('bzr/bzr_y.csv', sep=',')"
   ]
  },
  {
   "cell_type": "code",
   "execution_count": 176,
   "metadata": {},
   "outputs": [],
   "source": [
    "for i, elem in bzr_y['IC50_uM'].items():\n",
    "    bzr_y['IC50_uM'][i] = float(elem.strip('[]').strip('()').split(', ')[0])"
   ]
  },
  {
   "cell_type": "code",
   "execution_count": 151,
   "metadata": {},
   "outputs": [
    {
     "data": {
      "text/plain": [
       "(405, 138)"
      ]
     },
     "execution_count": 151,
     "metadata": {},
     "output_type": "execute_result"
    }
   ],
   "source": [
    "normalized_bzr = preprocessing.normalize(bzr)\n",
    "normalized_bzr.shape"
   ]
  },
  {
   "cell_type": "code",
   "execution_count": 152,
   "metadata": {},
   "outputs": [
    {
     "data": {
      "image/png": "[encoded data removed]",
      "text/plain": [
       "<Figure size 720x288 with 1 Axes>"
      ]
     },
     "metadata": {
      "needs_background": "light"
     },
     "output_type": "display_data"
    }
   ],
   "source": [
    "num_nonzero_col = []\n",
    "for i in range(normalized_bzr.shape[1]):\n",
    "    num_nonzero_col.append(normalized_bzr[:, i].nonzero()[0].shape[0])\n",
    "plt.figure(figsize=(10,4))\n",
    "plt.title(\"Гистограмма количества ненулевых элементов в столбцах матрицы bzr NNd**_UpTo3chains\")\n",
    "_ = plt.hist(num_nonzero_col, bins=100)"
   ]
  },
  {
   "cell_type": "code",
   "execution_count": 153,
   "metadata": {
    "scrolled": true
   },
   "outputs": [
    {
     "name": "stdout",
     "output_type": "stream",
     "text": [
      "количество столбцов с одним ненулевым элементом =  26 / 112\n"
     ]
    }
   ],
   "source": [
    "mask = np.array(num_nonzero_col) == 1\n",
    "print(\"количество столбцов с одним ненулевым элементом = \", mask.sum(), \"/\", (~mask).sum())"
   ]
  },
  {
   "cell_type": "markdown",
   "metadata": {},
   "source": [
    "### Нормализация y"
   ]
  },
  {
   "cell_type": "code",
   "execution_count": 177,
   "metadata": {},
   "outputs": [],
   "source": [
    "bzr_y = bzr_y - 0.1"
   ]
  },
  {
   "cell_type": "code",
   "execution_count": 155,
   "metadata": {},
   "outputs": [],
   "source": [
    "mgua_model = mguaJN.MGUA(Q=20, C=0.6, I=10, model=Ridge(alpha=0.1))"
   ]
  },
  {
   "cell_type": "code",
   "execution_count": 156,
   "metadata": {},
   "outputs": [
    {
     "data": {
      "application/vnd.jupyter.widget-view+json": {
       "model_id": "cc0a2619378f48479ca551cd711f8aa4",
       "version_major": 2,
       "version_minor": 0
      },
      "text/plain": [
       "VBox(children=(HTML(value=''), IntProgress(value=0, max=138)))"
      ]
     },
     "metadata": {},
     "output_type": "display_data"
    },
    {
     "data": {
      "application/vnd.jupyter.widget-view+json": {
       "model_id": "8b48671974eb415a9225dca9452fdad5",
       "version_major": 2,
       "version_minor": 0
      },
      "text/plain": [
       "VBox(children=(HTML(value=''), IntProgress(value=0, max=9)))"
      ]
     },
     "metadata": {},
     "output_type": "display_data"
    },
    {
     "name": "stdout",
     "output_type": "stream",
     "text": [
      "r2 score на тестовой выборке =  -0.0001987325388648209\n",
      "r2 score на тренировочной выборке =  0.23519308554758978\n"
     ]
    }
   ],
   "source": [
    "train_size = int(0.7 * bzr.shape[0])\n",
    "X_train = pd.DataFrame(preprocessing.scale(bzr[:][:train_size]))\n",
    "y_train = bzr_y[:][:train_size]\n",
    "X_test = pd.DataFrame(preprocessing.scale(bzr[:][train_size:]))\n",
    "y_test = bzr_y[:][train_size:]\n",
    "mgua_model.fit(X_train, y_train)\n",
    "res = np.array(mgua_model.predict(X_test))\n",
    "res_train = np.array(mgua_model.predict(X_train))\n",
    "res = res.reshape(len(mgua_model.buf_coef[0]), X_test.shape[0]).mean(axis=0)\n",
    "res_train = res_train.reshape(len(mgua_model.buf_coef[0]), X_train.shape[0]).mean(axis=0)\n",
    "print(\"r2 score на тестовой выборке = \", r2_score(y_test, res))\n",
    "print(\"r2 score на тренировочной выборке = \", r2_score(y_train, res_train))"
   ]
  },
  {
   "cell_type": "code",
   "execution_count": 157,
   "metadata": {},
   "outputs": [],
   "source": [
    "y_np_test = y_test.to_numpy().reshape(-1)\n",
    "y_sgn_test = [-1 if y_i <= 0 else 1 for y_i in y_np_test]\n",
    "y_sgn_res = [-1 if y_i <= 0 else 1 for y_i in res]"
   ]
  },
  {
   "cell_type": "code",
   "execution_count": 158,
   "metadata": {
    "scrolled": true
   },
   "outputs": [
    {
     "name": "stdout",
     "output_type": "stream",
     "text": [
      "              precision    recall  f1-score   support\n",
      "\n",
      "          -1       0.10      0.03      0.04        39\n",
      "           1       0.66      0.89      0.76        83\n",
      "\n",
      "    accuracy                           0.61       122\n",
      "   macro avg       0.38      0.46      0.40       122\n",
      "weighted avg       0.48      0.61      0.53       122\n",
      "\n",
      "roc_auc_score =  0.4586036453506333\n"
     ]
    }
   ],
   "source": [
    "print(classification_report(y_sgn_test, y_sgn_res))\n",
    "print(\"roc_auc_score = \", roc_auc_score(y_sgn_test, y_sgn_res))"
   ]
  },
  {
   "cell_type": "markdown",
   "metadata": {},
   "source": [
    "Подадим в МГУА ответы для классификации:"
   ]
  },
  {
   "cell_type": "code",
   "execution_count": 159,
   "metadata": {},
   "outputs": [],
   "source": [
    "bzr_np_y = bzr_y.to_numpy().reshape(-1)\n",
    "bzr_class_y = pd.DataFrame([-1 if y_i <= 0 else 1 for y_i in bzr_np_y])"
   ]
  },
  {
   "cell_type": "code",
   "execution_count": 168,
   "metadata": {},
   "outputs": [
    {
     "data": {
      "application/vnd.jupyter.widget-view+json": {
       "model_id": "3c6df61ebbb24eb3b85076b7f2bfeab4",
       "version_major": 2,
       "version_minor": 0
      },
      "text/plain": [
       "VBox(children=(HTML(value=''), IntProgress(value=0, max=138)))"
      ]
     },
     "metadata": {},
     "output_type": "display_data"
    },
    {
     "data": {
      "application/vnd.jupyter.widget-view+json": {
       "model_id": "5f57e7b80e6d4975a6babc53701cd72d",
       "version_major": 2,
       "version_minor": 0
      },
      "text/plain": [
       "VBox(children=(HTML(value=''), IntProgress(value=0, max=9)))"
      ]
     },
     "metadata": {},
     "output_type": "display_data"
    },
    {
     "name": "stdout",
     "output_type": "stream",
     "text": [
      "r2 score на тестовой выборке =  0.07218647175050374\n",
      "\n",
      "              precision    recall  f1-score   support\n",
      "\n",
      "          -1       0.53      1.00      0.70        63\n",
      "           1       1.00      0.07      0.13        59\n",
      "\n",
      "    accuracy                           0.55       122\n",
      "   macro avg       0.77      0.53      0.41       122\n",
      "weighted avg       0.76      0.55      0.42       122\n",
      "\n",
      "\n",
      "roc_auc_score =  0.5338983050847458\n"
     ]
    }
   ],
   "source": [
    "# train_size = int(0.7 * bzr.shape[0])\n",
    "rand_fold = random.choice(np.arange(bzr.shape[0]).tolist(), train_size, False)\n",
    "X_train = pd.DataFrame(preprocessing.scale(bzr[:].loc[rand_fold]))\n",
    "y_train = bzr_class_y[:].loc[rand_fold]\n",
    "X_test = pd.DataFrame(preprocessing.scale(bzr[:].loc[np.delete(np.arange(bzr.shape[0]), rand_fold)]))\n",
    "y_test = bzr_class_y[:].loc[np.delete(np.arange(bzr.shape[0]), rand_fold)]\n",
    "# X_train = pd.DataFrame(preprocessing.scale(bzr[:][:train_size]))\n",
    "# y_train = bzr_class_y[:][:train_size]\n",
    "# X_test = pd.DataFrame(preprocessing.scale(bzr[:][train_size:]))\n",
    "# y_test = bzr_class_y[:][train_size:]\n",
    "mgua_model.fit(X_train, y_train)\n",
    "res = np.array(mgua_model.predict(X_test))\n",
    "# res_train = np.array(mgua_model.predict(X_train))\n",
    "res = res.reshape(res.shape[0], res.shape[1]).mean(axis=0)\n",
    "# res_train = res_train.reshape(len(mgua_model.buf_coef[0]), X_train.shape[0]).mean(axis=0)\n",
    "print(\"r2 score на тестовой выборке = \", r2_score(y_test, res))\n",
    "# print(\"r2 score на тренировочной выборке = \", r2_score(y_train, res_train))\n",
    "y_sgn_res = [-1 if y_i <= 0 else 1 for y_i in res]\n",
    "print()\n",
    "print(classification_report(y_test, y_sgn_res))\n",
    "print()\n",
    "print(\"roc_auc_score = \", roc_auc_score(y_test, y_sgn_res))"
   ]
  },
  {
   "cell_type": "code",
   "execution_count": 170,
   "metadata": {},
   "outputs": [
    {
     "data": {
      "text/plain": [
       "array([[<matplotlib.axes._subplots.AxesSubplot object at 0x7fc289de0150>]],\n",
       "      dtype=object)"
      ]
     },
     "execution_count": 170,
     "metadata": {},
     "output_type": "execute_result"
    },
    {
     "data": {
      "image/png": "[encoded data removed]",
      "text/plain": [
       "<Figure size 432x288 with 1 Axes>"
      ]
     },
     "metadata": {
      "needs_background": "light"
     },
     "output_type": "display_data"
    }
   ],
   "source": [
    "y_train.hist()"
   ]
  },
  {
   "cell_type": "markdown",
   "metadata": {},
   "source": [
    "## Кластеризация"
   ]
  },
  {
   "cell_type": "code",
   "execution_count": 178,
   "metadata": {},
   "outputs": [],
   "source": [
    "bzr_np_y = bzr_y.to_numpy().reshape(-1)\n",
    "bzr_class_y = pd.DataFrame([-1 if y_i <= 0 else 1 for y_i in bzr_np_y])"
   ]
  },
  {
   "cell_type": "code",
   "execution_count": 179,
   "metadata": {},
   "outputs": [],
   "source": [
    "train_size = int(0.7 * bzr.shape[0])\n",
    "rand_fold = random.choice(np.arange(bzr.shape[0]).tolist(), train_size, False)\n",
    "X_train = pd.DataFrame(preprocessing.scale(bzr[:].loc[rand_fold]))\n",
    "y_train = bzr_class_y[:].loc[rand_fold]\n",
    "X_test = pd.DataFrame(preprocessing.scale(bzr[:].loc[np.delete(np.arange(bzr.shape[0]), rand_fold)]))\n",
    "y_test = bzr_class_y[:].loc[np.delete(np.arange(bzr.shape[0]), rand_fold)]"
   ]
  },
  {
   "cell_type": "markdown",
   "metadata": {},
   "source": [
    "### Кластеризация с помощью метода к-средних"
   ]
  },
  {
   "cell_type": "code",
   "execution_count": 183,
   "metadata": {},
   "outputs": [
    {
     "name": "stdout",
     "output_type": "stream",
     "text": [
      "Founded good clusters: [ 29  45 209]\n",
      "\n"
     ]
    },
    {
     "data": {
      "application/vnd.jupyter.widget-view+json": {
       "model_id": "0c4210d6901f4674921e375f89da801a",
       "version_major": 2,
       "version_minor": 0
      },
      "text/plain": [
       "VBox(children=(HTML(value=''), IntProgress(value=0, max=138)))"
      ]
     },
     "metadata": {},
     "output_type": "display_data"
    },
    {
     "data": {
      "application/vnd.jupyter.widget-view+json": {
       "model_id": "0bf1f633b3a74c4d9ae47bae85339279",
       "version_major": 2,
       "version_minor": 0
      },
      "text/plain": [
       "VBox(children=(HTML(value=''), IntProgress(value=0, max=9)))"
      ]
     },
     "metadata": {},
     "output_type": "display_data"
    },
    {
     "name": "stdout",
     "output_type": "stream",
     "text": [
      "CLUSTER # 0\n",
      "\n",
      "r2 score на тестовой выборке =  0.13252059131724658\n",
      "\n",
      "              precision    recall  f1-score   support\n",
      "\n",
      "          -1       0.67      1.00      0.80         4\n",
      "           1       1.00      0.33      0.50         3\n",
      "\n",
      "    accuracy                           0.71         7\n",
      "   macro avg       0.83      0.67      0.65         7\n",
      "weighted avg       0.81      0.71      0.67         7\n",
      "\n"
     ]
    },
    {
     "data": {
      "application/vnd.jupyter.widget-view+json": {
       "model_id": "0854bfe67335487a8eac88b58d67310d",
       "version_major": 2,
       "version_minor": 0
      },
      "text/plain": [
       "VBox(children=(HTML(value=''), IntProgress(value=0, max=138)))"
      ]
     },
     "metadata": {},
     "output_type": "display_data"
    },
    {
     "data": {
      "application/vnd.jupyter.widget-view+json": {
       "model_id": "04718d1943b948a38b5e8c0168d68656",
       "version_major": 2,
       "version_minor": 0
      },
      "text/plain": [
       "VBox(children=(HTML(value=''), IntProgress(value=0, max=9)))"
      ]
     },
     "metadata": {},
     "output_type": "display_data"
    },
    {
     "name": "stdout",
     "output_type": "stream",
     "text": [
      "CLUSTER # 1\n",
      "\n",
      "r2 score на тестовой выборке =  0.008438370193681877\n",
      "\n",
      "              precision    recall  f1-score   support\n",
      "\n",
      "          -1       0.88      1.00      0.93        14\n",
      "           1       0.00      0.00      0.00         2\n",
      "\n",
      "    accuracy                           0.88        16\n",
      "   macro avg       0.44      0.50      0.47        16\n",
      "weighted avg       0.77      0.88      0.82        16\n",
      "\n"
     ]
    },
    {
     "name": "stderr",
     "output_type": "stream",
     "text": [
      "/Users/Varya/opt/anaconda3/lib/python3.7/site-packages/sklearn/metrics/_classification.py:1272: UndefinedMetricWarning: Precision and F-score are ill-defined and being set to 0.0 in labels with no predicted samples. Use `zero_division` parameter to control this behavior.\n",
      "  _warn_prf(average, modifier, msg_start, len(result))\n"
     ]
    },
    {
     "data": {
      "application/vnd.jupyter.widget-view+json": {
       "model_id": "9fcc0197219946e79bba1ffbeffc7ed9",
       "version_major": 2,
       "version_minor": 0
      },
      "text/plain": [
       "VBox(children=(HTML(value=''), IntProgress(value=0, max=138)))"
      ]
     },
     "metadata": {},
     "output_type": "display_data"
    },
    {
     "data": {
      "application/vnd.jupyter.widget-view+json": {
       "model_id": "b4e43a3996fb4476b6e178d4f1cb25fd",
       "version_major": 2,
       "version_minor": 0
      },
      "text/plain": [
       "VBox(children=(HTML(value=''), IntProgress(value=0, max=9)))"
      ]
     },
     "metadata": {},
     "output_type": "display_data"
    },
    {
     "name": "stdout",
     "output_type": "stream",
     "text": [
      "CLUSTER # 2\n",
      "\n",
      "r2 score на тестовой выборке =  0.06399600593794563\n",
      "\n",
      "              precision    recall  f1-score   support\n",
      "\n",
      "          -1       0.60      0.56      0.58        48\n",
      "           1       0.61      0.65      0.63        51\n",
      "\n",
      "    accuracy                           0.61        99\n",
      "   macro avg       0.61      0.60      0.60        99\n",
      "weighted avg       0.61      0.61      0.61        99\n",
      "\n"
     ]
    }
   ],
   "source": [
    "k = 3\n",
    "min_elem_in_cluster = 25\n",
    "clusters = KMeans(n_clusters=k)\n",
    "clusters_train = clusters.fit_predict(X_train)\n",
    "\n",
    "is_good_clusters = False\n",
    "while is_good_clusters == False:\n",
    "    clusters_train = clusters.fit_predict(X_train)\n",
    "    elems_in_clusters = np.array([np.array([clusters_train == i]).sum() for i in np.unique(clusters_train)])\n",
    "    elems_in_clusters_bool = elems_in_clusters > min_elem_in_cluster\n",
    "    is_good_clusters = np.all(elems_in_clusters_bool)\n",
    "print('Founded good clusters:', elems_in_clusters)\n",
    "print()\n",
    "clusters_test = clusters.predict(X_test)\n",
    "\n",
    "for i in range(k):\n",
    "    mgua_model = mguaJN.MGUA(Q=20, C=0.6, I=10, model=Ridge(alpha=0.1))\n",
    "    mgua_model.fit(X_train.loc[clusters_train==i], y_train.loc[clusters_train==i])\n",
    "    if X_test.loc[clusters_test==i].shape[0] > 0:\n",
    "        res = np.array(mgua_model.predict(X_test.loc[clusters_test==i]))\n",
    "        res = res.reshape(len(mgua_model.buf_coef[0]), X_test.loc[clusters_test==i].shape[0]).mean(axis=0)\n",
    "        print(\"CLUSTER #\", i)\n",
    "        print()\n",
    "        print(\"r2 score на тестовой выборке = \", r2_score(y_test.loc[clusters_test==i], res))\n",
    "        y_sgn_res = [-1 if y_i <= 0 else 1 for y_i in res]\n",
    "        print()\n",
    "        print(classification_report(y_test.loc[clusters_test==i], y_sgn_res))\n",
    "    else:\n",
    "        print(\"CLUSTER #\", i)\n",
    "        print(\"No elements in test\")"
   ]
  },
  {
   "cell_type": "markdown",
   "metadata": {},
   "source": [
    "### Кластеризация с помощью метода DBSCAN"
   ]
  },
  {
   "cell_type": "code",
   "execution_count": 184,
   "metadata": {},
   "outputs": [],
   "source": [
    "train_size = int(0.7 * bzr.shape[0])\n",
    "rand_fold = random.choice(np.arange(bzr.shape[0]).tolist(), train_size, False)\n",
    "X_train = pd.DataFrame(preprocessing.scale(bzr[:].loc[rand_fold]))\n",
    "y_train = bzr_class_y[:].loc[rand_fold]\n",
    "X_test = pd.DataFrame(preprocessing.scale(bzr[:].loc[np.delete(np.arange(bzr.shape[0]), rand_fold)]))\n",
    "y_test = bzr_class_y[:].loc[np.delete(np.arange(bzr.shape[0]), rand_fold)]"
   ]
  },
  {
   "cell_type": "code",
   "execution_count": 196,
   "metadata": {},
   "outputs": [
    {
     "data": {
      "text/plain": [
       "(array([ 34.,   0.,   0.,   0.,   0., 212.,   0.,   0.,   0.,  37.]),\n",
       " array([-1. , -0.8, -0.6, -0.4, -0.2,  0. ,  0.2,  0.4,  0.6,  0.8,  1. ]),\n",
       " <a list of 10 Patch objects>)"
      ]
     },
     "execution_count": 196,
     "metadata": {},
     "output_type": "execute_result"
    },
    {
     "data": {
      "image/png": "[encoded data removed]",
      "text/plain": [
       "<Figure size 432x288 with 1 Axes>"
      ]
     },
     "metadata": {
      "needs_background": "light"
     },
     "output_type": "display_data"
    }
   ],
   "source": [
    "clusters = DBSCAN(eps=5.5, min_samples=30)\n",
    "clusters_all = clusters.fit_predict(bzr)\n",
    "clusters_train = clusters_all[rand_fold]\n",
    "clusters_test = clusters_all[np.delete(np.arange(bzr.shape[0]), rand_fold)]\n",
    "plt.hist(clusters_train)"
   ]
  },
  {
   "cell_type": "code",
   "execution_count": 197,
   "metadata": {},
   "outputs": [
    {
     "data": {
      "application/vnd.jupyter.widget-view+json": {
       "model_id": "fc66fe7936414a46b9d0b7689b4afb9d",
       "version_major": 2,
       "version_minor": 0
      },
      "text/plain": [
       "VBox(children=(HTML(value=''), IntProgress(value=0, max=138)))"
      ]
     },
     "metadata": {},
     "output_type": "display_data"
    },
    {
     "data": {
      "application/vnd.jupyter.widget-view+json": {
       "model_id": "fe475c24e5c7401582b60e5e212f0b44",
       "version_major": 2,
       "version_minor": 0
      },
      "text/plain": [
       "VBox(children=(HTML(value=''), IntProgress(value=0, max=9)))"
      ]
     },
     "metadata": {},
     "output_type": "display_data"
    },
    {
     "name": "stdout",
     "output_type": "stream",
     "text": [
      "CLUSTER # -1\n",
      "\n",
      "r2 score на тестовой выборке =  0.4403903479332085\n",
      "\n",
      "              precision    recall  f1-score   support\n",
      "\n",
      "          -1       0.86      1.00      0.92         6\n",
      "           1       1.00      0.75      0.86         4\n",
      "\n",
      "    accuracy                           0.90        10\n",
      "   macro avg       0.93      0.88      0.89        10\n",
      "weighted avg       0.91      0.90      0.90        10\n",
      "\n"
     ]
    },
    {
     "data": {
      "application/vnd.jupyter.widget-view+json": {
       "model_id": "340a520f2722452cb0e3c8dc86eca1bc",
       "version_major": 2,
       "version_minor": 0
      },
      "text/plain": [
       "VBox(children=(HTML(value=''), IntProgress(value=0, max=138)))"
      ]
     },
     "metadata": {},
     "output_type": "display_data"
    },
    {
     "data": {
      "application/vnd.jupyter.widget-view+json": {
       "model_id": "e59efce7d1ef4cdab0bd9d5c145438be",
       "version_major": 2,
       "version_minor": 0
      },
      "text/plain": [
       "VBox(children=(HTML(value=''), IntProgress(value=0, max=9)))"
      ]
     },
     "metadata": {},
     "output_type": "display_data"
    },
    {
     "name": "stdout",
     "output_type": "stream",
     "text": [
      "CLUSTER # 0\n",
      "\n",
      "r2 score на тестовой выборке =  -0.0673800646285665\n",
      "\n",
      "              precision    recall  f1-score   support\n",
      "\n",
      "          -1       0.43      0.90      0.58        39\n",
      "           1       0.73      0.19      0.30        58\n",
      "\n",
      "    accuracy                           0.47        97\n",
      "   macro avg       0.58      0.54      0.44        97\n",
      "weighted avg       0.61      0.47      0.41        97\n",
      "\n"
     ]
    },
    {
     "data": {
      "application/vnd.jupyter.widget-view+json": {
       "model_id": "3c647b866a704f268f0b890146136d72",
       "version_major": 2,
       "version_minor": 0
      },
      "text/plain": [
       "VBox(children=(HTML(value=''), IntProgress(value=0, max=138)))"
      ]
     },
     "metadata": {},
     "output_type": "display_data"
    },
    {
     "data": {
      "application/vnd.jupyter.widget-view+json": {
       "model_id": "14902b4c96844ddab8e11e409805b664",
       "version_major": 2,
       "version_minor": 0
      },
      "text/plain": [
       "VBox(children=(HTML(value=''), IntProgress(value=0, max=9)))"
      ]
     },
     "metadata": {},
     "output_type": "display_data"
    },
    {
     "name": "stdout",
     "output_type": "stream",
     "text": [
      "CLUSTER # 1\n",
      "\n",
      "r2 score на тестовой выборке =  -2.8094622689156523e-05\n",
      "\n",
      "              precision    recall  f1-score   support\n",
      "\n",
      "          -1       0.87      1.00      0.93        13\n",
      "           1       0.00      0.00      0.00         2\n",
      "\n",
      "    accuracy                           0.87        15\n",
      "   macro avg       0.43      0.50      0.46        15\n",
      "weighted avg       0.75      0.87      0.80        15\n",
      "\n"
     ]
    },
    {
     "name": "stderr",
     "output_type": "stream",
     "text": [
      "/Users/Varya/opt/anaconda3/lib/python3.7/site-packages/sklearn/metrics/_classification.py:1272: UndefinedMetricWarning: Precision and F-score are ill-defined and being set to 0.0 in labels with no predicted samples. Use `zero_division` parameter to control this behavior.\n",
      "  _warn_prf(average, modifier, msg_start, len(result))\n"
     ]
    }
   ],
   "source": [
    "clusters = DBSCAN(eps=5.5, min_samples=30)\n",
    "clusters_all = clusters.fit_predict(bzr)\n",
    "clusters_train = clusters_all[rand_fold]\n",
    "clusters_test = clusters_all[np.delete(np.arange(bzr.shape[0]), rand_fold)]\n",
    "\n",
    "for i in np.unique(clusters.labels_):\n",
    "    mgua_model = mguaJN.MGUA(Q=20, C=0.6, I=10, model=Ridge(alpha=0.1))\n",
    "    mgua_model.fit(X_train.loc[clusters_train==i], y_train.loc[clusters_train==i])\n",
    "    if X_test.loc[clusters_test==i].shape[0] > 0:\n",
    "        res = np.array(mgua_model.predict(X_test.loc[clusters_test==i]))\n",
    "        res = res.reshape(len(mgua_model.buf_coef[0]), X_test.loc[clusters_test==i].shape[0]).mean(axis=0)\n",
    "        print(\"CLUSTER #\", i)\n",
    "        print()\n",
    "        print(\"r2 score на тестовой выборке = \", r2_score(y_test.loc[clusters_test==i], res))\n",
    "        y_sgn_res = [-1 if y_i <= 0 else 1 for y_i in res]\n",
    "        print()\n",
    "        print(classification_report(y_test.loc[clusters_test==i], y_sgn_res))\n",
    "    else:\n",
    "        print(\"CLUSTER #\", i)\n",
    "        print(\"No elements in test\")"
   ]
  },
  {
   "cell_type": "markdown",
   "metadata": {},
   "source": [
    "### Метод главных компонент и DBSCAN"
   ]
  },
  {
   "cell_type": "code",
   "execution_count": 217,
   "metadata": {},
   "outputs": [],
   "source": [
    "pca = PCA(n_components=9)\n",
    "bzr_pca = pd.DataFrame(pca.fit_transform(bzr))\n",
    "\n",
    "train_size = int(0.7 * bzr_pca.shape[0])\n",
    "rand_fold = random.choice(np.arange(bzr_pca.shape[0]).tolist(), train_size, False)\n",
    "X_train = pd.DataFrame(preprocessing.scale(bzr_pca[:].loc[rand_fold]))\n",
    "y_train = bzr_class_y[:].loc[rand_fold]\n",
    "X_test = pd.DataFrame(preprocessing.scale(bzr_pca[:].loc[np.delete(np.arange(bzr_pca.shape[0]), rand_fold)]))\n",
    "y_test = bzr_class_y[:].loc[np.delete(np.arange(bzr_pca.shape[0]), rand_fold)]"
   ]
  },
  {
   "cell_type": "code",
   "execution_count": 218,
   "metadata": {},
   "outputs": [
    {
     "data": {
      "application/vnd.jupyter.widget-view+json": {
       "model_id": "b6f3d4a06a964dd1a165524db5a9f22f",
       "version_major": 2,
       "version_minor": 0
      },
      "text/plain": [
       "VBox(children=(HTML(value=''), IntProgress(value=0, max=9)))"
      ]
     },
     "metadata": {},
     "output_type": "display_data"
    },
    {
     "data": {
      "application/vnd.jupyter.widget-view+json": {
       "model_id": "e8dcba5312794933b1aabc99e03ea134",
       "version_major": 2,
       "version_minor": 0
      },
      "text/plain": [
       "VBox(children=(HTML(value=''), IntProgress(value=0, max=9)))"
      ]
     },
     "metadata": {},
     "output_type": "display_data"
    },
    {
     "name": "stdout",
     "output_type": "stream",
     "text": [
      "CLUSTER # -1\n",
      "\n",
      "r2 score на тестовой выборке =  -0.2527858374930241\n",
      "\n",
      "              precision    recall  f1-score   support\n",
      "\n",
      "          -1       0.47      1.00      0.64         7\n",
      "           1       0.00      0.00      0.00         8\n",
      "\n",
      "    accuracy                           0.47        15\n",
      "   macro avg       0.23      0.50      0.32        15\n",
      "weighted avg       0.22      0.47      0.30        15\n",
      "\n"
     ]
    },
    {
     "name": "stderr",
     "output_type": "stream",
     "text": [
      "/Users/Varya/opt/anaconda3/lib/python3.7/site-packages/sklearn/metrics/_classification.py:1272: UndefinedMetricWarning: Precision and F-score are ill-defined and being set to 0.0 in labels with no predicted samples. Use `zero_division` parameter to control this behavior.\n",
      "  _warn_prf(average, modifier, msg_start, len(result))\n"
     ]
    },
    {
     "data": {
      "application/vnd.jupyter.widget-view+json": {
       "model_id": "e0831728895949579831a398ad0c9ce5",
       "version_major": 2,
       "version_minor": 0
      },
      "text/plain": [
       "VBox(children=(HTML(value=''), IntProgress(value=0, max=9)))"
      ]
     },
     "metadata": {},
     "output_type": "display_data"
    },
    {
     "data": {
      "application/vnd.jupyter.widget-view+json": {
       "model_id": "763106816e2d4c258015f225ba2febf8",
       "version_major": 2,
       "version_minor": 0
      },
      "text/plain": [
       "VBox(children=(HTML(value=''), IntProgress(value=0, max=9)))"
      ]
     },
     "metadata": {},
     "output_type": "display_data"
    },
    {
     "name": "stdout",
     "output_type": "stream",
     "text": [
      "CLUSTER # 0\n",
      "\n",
      "r2 score на тестовой выборке =  0.012369903494924506\n",
      "\n",
      "              precision    recall  f1-score   support\n",
      "\n",
      "          -1       0.48      0.93      0.63        40\n",
      "           1       0.75      0.18      0.30        49\n",
      "\n",
      "    accuracy                           0.52        89\n",
      "   macro avg       0.62      0.55      0.46        89\n",
      "weighted avg       0.63      0.52      0.45        89\n",
      "\n"
     ]
    },
    {
     "data": {
      "application/vnd.jupyter.widget-view+json": {
       "model_id": "24736a8d7cc64c43ae89e9df7be5fcf3",
       "version_major": 2,
       "version_minor": 0
      },
      "text/plain": [
       "VBox(children=(HTML(value=''), IntProgress(value=0, max=9)))"
      ]
     },
     "metadata": {},
     "output_type": "display_data"
    },
    {
     "data": {
      "application/vnd.jupyter.widget-view+json": {
       "model_id": "e95a5c2ebad3428cb98a21e32e123b4a",
       "version_major": 2,
       "version_minor": 0
      },
      "text/plain": [
       "VBox(children=(HTML(value=''), IntProgress(value=0, max=9)))"
      ]
     },
     "metadata": {},
     "output_type": "display_data"
    },
    {
     "name": "stdout",
     "output_type": "stream",
     "text": [
      "CLUSTER # 1\n",
      "\n",
      "r2 score на тестовой выборке =  0.20691397607674067\n",
      "\n",
      "              precision    recall  f1-score   support\n",
      "\n",
      "          -1       0.78      1.00      0.88        14\n",
      "           1       0.00      0.00      0.00         4\n",
      "\n",
      "    accuracy                           0.78        18\n",
      "   macro avg       0.39      0.50      0.44        18\n",
      "weighted avg       0.60      0.78      0.68        18\n",
      "\n"
     ]
    },
    {
     "name": "stderr",
     "output_type": "stream",
     "text": [
      "/Users/Varya/opt/anaconda3/lib/python3.7/site-packages/sklearn/metrics/_classification.py:1272: UndefinedMetricWarning: Precision and F-score are ill-defined and being set to 0.0 in labels with no predicted samples. Use `zero_division` parameter to control this behavior.\n",
      "  _warn_prf(average, modifier, msg_start, len(result))\n"
     ]
    },
    {
     "data": {
      "image/png": "[encoded data removed]",
      "text/plain": [
       "<Figure size 432x288 with 1 Axes>"
      ]
     },
     "metadata": {
      "needs_background": "light"
     },
     "output_type": "display_data"
    }
   ],
   "source": [
    "clusters = DBSCAN(eps=5.3, min_samples=30)\n",
    "clusters_all = clusters.fit_predict(bzr)\n",
    "clusters_train = clusters_all[rand_fold]\n",
    "clusters_test = clusters_all[np.delete(np.arange(bzr.shape[0]), rand_fold)]\n",
    "plt.hist(clusters_train)\n",
    "\n",
    "for i in np.unique(clusters.labels_):\n",
    "    mgua_model = mguaJN.MGUA(Q=20, C=0.6, I=10, model=Ridge(alpha=0.1))\n",
    "    mgua_model.fit(X_train.loc[clusters_train==i], y_train.loc[clusters_train==i])\n",
    "    if X_test.loc[clusters_test==i].shape[0] > 0:\n",
    "        res = np.array(mgua_model.predict(X_test.loc[clusters_test==i]))\n",
    "        res = res.reshape(len(mgua_model.buf_coef[0]), X_test.loc[clusters_test==i].shape[0]).mean(axis=0)\n",
    "        print(\"CLUSTER #\", i)\n",
    "        print()\n",
    "        print(\"r2 score на тестовой выборке = \", r2_score(y_test.loc[clusters_test==i], res))\n",
    "        y_sgn_res = [-1 if y_i <= 0 else 1 for y_i in res]\n",
    "        print()\n",
    "        print(classification_report(y_test.loc[clusters_test==i], y_sgn_res))\n",
    "    else:\n",
    "        print(\"CLUSTER #\", i)\n",
    "        print(\"No elements in test\")"
   ]
  },
  {
   "cell_type": "markdown",
   "metadata": {},
   "source": [
    "## Выборка cox2 NNdb*_UpTo3chains"
   ]
  },
  {
   "cell_type": "code",
   "execution_count": 3,
   "metadata": {},
   "outputs": [],
   "source": [
    "cox = pd.read_csv('cox2/cox2_matrix_alphabet_NNdb*_UpTo3chains.csv', sep=',')\n",
    "cox_y = pd.read_csv('cox2/cox2_y.csv', sep=',')"
   ]
  },
  {
   "cell_type": "code",
   "execution_count": 4,
   "metadata": {},
   "outputs": [],
   "source": [
    "for i, elem in cox_y['IC50_uM'].items():\n",
    "    cox_y['IC50_uM'][i] = float(elem.strip('[]').strip('()').split(', ')[0])"
   ]
  },
  {
   "cell_type": "code",
   "execution_count": 5,
   "metadata": {},
   "outputs": [
    {
     "data": {
      "text/plain": [
       "(467, 256)"
      ]
     },
     "execution_count": 5,
     "metadata": {},
     "output_type": "execute_result"
    }
   ],
   "source": [
    "normalized_cox = preprocessing.normalize(cox)\n",
    "normalized_cox.shape"
   ]
  },
  {
   "cell_type": "code",
   "execution_count": 6,
   "metadata": {},
   "outputs": [
    {
     "data": {
      "image/png": "[encoded data removed]",
      "text/plain": [
       "<Figure size 720x288 with 1 Axes>"
      ]
     },
     "metadata": {
      "needs_background": "light"
     },
     "output_type": "display_data"
    }
   ],
   "source": [
    "num_nonzero_col = []\n",
    "for i in range(normalized_cox.shape[1]):\n",
    "    num_nonzero_col.append(normalized_cox[:, i].nonzero()[0].shape[0])\n",
    "plt.figure(figsize=(10,4))\n",
    "plt.title(\"Гистограмма количества ненулевых элементов в столбцах матрицы cox2 NNdb*_UpTo3chains\")\n",
    "_ = plt.hist(num_nonzero_col, bins=100)"
   ]
  },
  {
   "cell_type": "code",
   "execution_count": 7,
   "metadata": {},
   "outputs": [
    {
     "name": "stdout",
     "output_type": "stream",
     "text": [
      "количество столбцов с одним ненулевым элементом =  74 / 182\n"
     ]
    }
   ],
   "source": [
    "mask = np.array(num_nonzero_col) == 1\n",
    "print(\"количество столбцов с одним ненулевым элементом = \", mask.sum(), \"/\", (~mask).sum())"
   ]
  },
  {
   "cell_type": "markdown",
   "metadata": {},
   "source": [
    "### Нормализация y"
   ]
  },
  {
   "cell_type": "markdown",
   "metadata": {},
   "source": [
    "Вычтем из y порог активности. Для cox2 - 0.316"
   ]
  },
  {
   "cell_type": "code",
   "execution_count": 8,
   "metadata": {},
   "outputs": [],
   "source": [
    "cox_y = cox_y - 0.316"
   ]
  },
  {
   "cell_type": "code",
   "execution_count": 208,
   "metadata": {},
   "outputs": [],
   "source": [
    "mgua_model = mguaJN.MGUA(Q=20, C=0.6, I=10, model=Ridge(alpha=0.1))"
   ]
  },
  {
   "cell_type": "code",
   "execution_count": 209,
   "metadata": {},
   "outputs": [
    {
     "data": {
      "application/vnd.jupyter.widget-view+json": {
       "model_id": "b9908d0e0f454f28a1908fdf26ed682c",
       "version_major": 2,
       "version_minor": 0
      },
      "text/plain": [
       "VBox(children=(HTML(value=''), IntProgress(value=0, max=256)))"
      ]
     },
     "metadata": {},
     "output_type": "display_data"
    },
    {
     "data": {
      "application/vnd.jupyter.widget-view+json": {
       "model_id": "90be6673d60d47d58a664723624847b7",
       "version_major": 2,
       "version_minor": 0
      },
      "text/plain": [
       "VBox(children=(HTML(value=''), IntProgress(value=0, max=9)))"
      ]
     },
     "metadata": {},
     "output_type": "display_data"
    },
    {
     "name": "stdout",
     "output_type": "stream",
     "text": [
      "r2 score на тестовой выборке =  0.00321217683734909\n",
      "r2 score на тренировочной выборке =  0.004892922530684296\n"
     ]
    }
   ],
   "source": [
    "train_size = int(0.7 * cox.shape[0])\n",
    "X_train = pd.DataFrame(preprocessing.scale(cox[:][:train_size]))\n",
    "y_train = cox_y[:][:train_size]\n",
    "X_test = pd.DataFrame(preprocessing.scale(cox[:][train_size:]))\n",
    "y_test = cox_y[:][train_size:]\n",
    "mgua_model.fit(X_train, y_train)\n",
    "res = np.array(mgua_model.predict(X_test))\n",
    "res_train = np.array(mgua_model.predict(X_train))\n",
    "res = res.reshape(len(mgua_model.buf_coef[0]), X_test.shape[0]).mean(axis=0)\n",
    "res_train = res_train.reshape(len(mgua_model.buf_coef[0]), X_train.shape[0]).mean(axis=0)\n",
    "print(\"r2 score на тестовой выборке = \", r2_score(y_test, res))\n",
    "print(\"r2 score на тренировочной выборке = \", r2_score(y_train, res_train))"
   ]
  },
  {
   "cell_type": "code",
   "execution_count": 10,
   "metadata": {},
   "outputs": [],
   "source": [
    "y_np_test = y_test.to_numpy().reshape(-1)\n",
    "y_sgn_test = [-1 if y_i <= 0 else 1 for y_i in y_np_test]\n",
    "y_sgn_res = [-1 if y_i <= 0 else 1 for y_i in res]"
   ]
  },
  {
   "cell_type": "code",
   "execution_count": 211,
   "metadata": {},
   "outputs": [
    {
     "name": "stdout",
     "output_type": "stream",
     "text": [
      "              precision    recall  f1-score   support\n",
      "\n",
      "          -1       0.00      0.00      0.00        98\n",
      "           1       0.30      1.00      0.47        43\n",
      "\n",
      "    accuracy                           0.30       141\n",
      "   macro avg       0.15      0.50      0.23       141\n",
      "weighted avg       0.09      0.30      0.14       141\n",
      "\n",
      "roc_auc_score =  0.5\n"
     ]
    },
    {
     "name": "stderr",
     "output_type": "stream",
     "text": [
      "/Users/Varya/opt/anaconda3/lib/python3.7/site-packages/sklearn/metrics/_classification.py:1272: UndefinedMetricWarning: Precision and F-score are ill-defined and being set to 0.0 in labels with no predicted samples. Use `zero_division` parameter to control this behavior.\n",
      "  _warn_prf(average, modifier, msg_start, len(result))\n"
     ]
    }
   ],
   "source": [
    "print(classification_report(y_sgn_test, y_sgn_res))\n",
    "print(\"roc_auc_score = \", roc_auc_score(y_sgn_test, y_sgn_res))"
   ]
  },
  {
   "cell_type": "markdown",
   "metadata": {},
   "source": [
    "Подадим в МГУА ответы для классификации:"
   ]
  },
  {
   "cell_type": "code",
   "execution_count": 212,
   "metadata": {},
   "outputs": [],
   "source": [
    "cox_np_y = cox_y.to_numpy().reshape(-1)\n",
    "cox_class_y = pd.DataFrame([-1 if y_i <= 0 else 1 for y_i in cox_np_y])"
   ]
  },
  {
   "cell_type": "code",
   "execution_count": 182,
   "metadata": {},
   "outputs": [
    {
     "data": {
      "application/vnd.jupyter.widget-view+json": {
       "model_id": "5ef594a59fd54de982b1010424b16484",
       "version_major": 2,
       "version_minor": 0
      },
      "text/plain": [
       "VBox(children=(HTML(value=''), IntProgress(value=0, max=256)))"
      ]
     },
     "metadata": {},
     "output_type": "display_data"
    },
    {
     "data": {
      "application/vnd.jupyter.widget-view+json": {
       "model_id": "568118898d624188a3b2ce7aff7367ae",
       "version_major": 2,
       "version_minor": 0
      },
      "text/plain": [
       "VBox(children=(HTML(value=''), IntProgress(value=0, max=9)))"
      ]
     },
     "metadata": {},
     "output_type": "display_data"
    },
    {
     "name": "stdout",
     "output_type": "stream",
     "text": [
      "r2 score на тестовой выборке =  0.08198215633891992\n",
      "\n",
      "              precision    recall  f1-score   support\n",
      "\n",
      "          -1       0.59      0.99      0.74       103\n",
      "           1       0.90      0.11      0.20        81\n",
      "\n",
      "    accuracy                           0.60       184\n",
      "   macro avg       0.74      0.55      0.47       184\n",
      "weighted avg       0.72      0.60      0.50       184\n",
      "\n",
      "\n",
      "roc_auc_score =  0.5507011866235167\n"
     ]
    }
   ],
   "source": [
    "train_size = int(0.7 * cox.shape[0])\n",
    "rand_fold = random.choice(np.arange(cox.shape[0]).tolist(), train_size, False)\n",
    "X_train = pd.DataFrame(preprocessing.scale(cox[:].loc[rand_fold]))\n",
    "y_train = cox_class_y[:].loc[rand_fold]\n",
    "X_test = pd.DataFrame(preprocessing.scale(cox[:].loc[np.delete(np.arange(cox.shape[0]), rand_fold)]))\n",
    "y_test = cox_class_y[:].loc[np.delete(np.arange(cox.shape[0]), rand_fold)]\n",
    "# X_train = pd.DataFrame(preprocessing.scale(bzr[:][:train_size]))\n",
    "# y_train = bzr_class_y[:][:train_size]\n",
    "# X_test = pd.DataFrame(preprocessing.scale(bzr[:][train_size:]))\n",
    "# y_test = bzr_class_y[:][train_size:]\n",
    "mgua_model.fit(X_train, y_train)\n",
    "res = np.array(mgua_model.predict(X_test))\n",
    "# res_train = np.array(mgua_model.predict(X_train))\n",
    "res = res.reshape(res.shape[0], res.shape[1]).mean(axis=0)\n",
    "# res_train = res_train.reshape(len(mgua_model.buf_coef[0]), X_train.shape[0]).mean(axis=0)\n",
    "print(\"r2 score на тестовой выборке = \", r2_score(y_test, res))\n",
    "# print(\"r2 score на тренировочной выборке = \", r2_score(y_train, res_train))\n",
    "y_sgn_res = [-1 if y_i <= 0 else 1 for y_i in res]\n",
    "print()\n",
    "print(classification_report(y_test, y_sgn_res))\n",
    "print()\n",
    "print(\"roc_auc_score = \", roc_auc_score(y_test, y_sgn_res))"
   ]
  },
  {
   "cell_type": "markdown",
   "metadata": {},
   "source": [
    "# Кластеризация"
   ]
  },
  {
   "cell_type": "code",
   "execution_count": 14,
   "metadata": {},
   "outputs": [],
   "source": [
    "cox_np_y = cox_y.to_numpy().reshape(-1)\n",
    "cox_class_y = pd.DataFrame([-1 if y_i <= 0 else 1 for y_i in cox_np_y])"
   ]
  },
  {
   "cell_type": "code",
   "execution_count": 15,
   "metadata": {},
   "outputs": [],
   "source": [
    "train_size = int(0.7 * cox.shape[0])\n",
    "rand_fold = random.choice(np.arange(cox.shape[0]).tolist(), train_size, False)\n",
    "X_train = pd.DataFrame(preprocessing.scale(cox[:].loc[rand_fold]))\n",
    "y_train = cox_class_y[:].loc[rand_fold]\n",
    "X_test = pd.DataFrame(preprocessing.scale(cox[:].loc[np.delete(np.arange(cox.shape[0]), rand_fold)]))\n",
    "y_test = cox_class_y[:].loc[np.delete(np.arange(cox.shape[0]), rand_fold)]"
   ]
  },
  {
   "cell_type": "markdown",
   "metadata": {},
   "source": [
    "## Кластеризация с помощью метода к-средних"
   ]
  },
  {
   "cell_type": "code",
   "execution_count": 225,
   "metadata": {},
   "outputs": [
    {
     "name": "stdout",
     "output_type": "stream",
     "text": [
      "Founded good clusters: [ 91  79 156]\n",
      "\n"
     ]
    },
    {
     "data": {
      "application/vnd.jupyter.widget-view+json": {
       "model_id": "3d6976f074bc41fe80fa733160965422",
       "version_major": 2,
       "version_minor": 0
      },
      "text/plain": [
       "VBox(children=(HTML(value=''), IntProgress(value=0, max=256)))"
      ]
     },
     "metadata": {},
     "output_type": "display_data"
    },
    {
     "data": {
      "application/vnd.jupyter.widget-view+json": {
       "model_id": "d34e87a5dc1a43fc954ff0d2caee6000",
       "version_major": 2,
       "version_minor": 0
      },
      "text/plain": [
       "VBox(children=(HTML(value=''), IntProgress(value=0, max=9)))"
      ]
     },
     "metadata": {},
     "output_type": "display_data"
    },
    {
     "name": "stdout",
     "output_type": "stream",
     "text": [
      "CLUSTER # 0\n",
      "\n",
      "r2 score на тестовой выборке =  0.10002237581364903\n",
      "\n",
      "              precision    recall  f1-score   support\n",
      "\n",
      "          -1       1.00      0.21      0.35        19\n",
      "           1       0.66      1.00      0.79        29\n",
      "\n",
      "    accuracy                           0.69        48\n",
      "   macro avg       0.83      0.61      0.57        48\n",
      "weighted avg       0.79      0.69      0.62        48\n",
      "\n"
     ]
    },
    {
     "data": {
      "application/vnd.jupyter.widget-view+json": {
       "model_id": "28ddc782822a45bca779f3a4495e37ad",
       "version_major": 2,
       "version_minor": 0
      },
      "text/plain": [
       "VBox(children=(HTML(value=''), IntProgress(value=0, max=256)))"
      ]
     },
     "metadata": {},
     "output_type": "display_data"
    },
    {
     "data": {
      "application/vnd.jupyter.widget-view+json": {
       "model_id": "de6f7c557f7648c1b2cc49bf6d41a342",
       "version_major": 2,
       "version_minor": 0
      },
      "text/plain": [
       "VBox(children=(HTML(value=''), IntProgress(value=0, max=9)))"
      ]
     },
     "metadata": {},
     "output_type": "display_data"
    },
    {
     "name": "stdout",
     "output_type": "stream",
     "text": [
      "CLUSTER # 1\n",
      "\n",
      "r2 score на тестовой выборке =  0.0025745009838059607\n",
      "\n",
      "              precision    recall  f1-score   support\n",
      "\n",
      "          -1       0.83      0.50      0.62        20\n",
      "           1       0.50      0.83      0.62        12\n",
      "\n",
      "    accuracy                           0.62        32\n",
      "   macro avg       0.67      0.67      0.62        32\n",
      "weighted avg       0.71      0.62      0.62        32\n",
      "\n"
     ]
    },
    {
     "data": {
      "application/vnd.jupyter.widget-view+json": {
       "model_id": "c0e6c3c6b6f046998d5fd45342680557",
       "version_major": 2,
       "version_minor": 0
      },
      "text/plain": [
       "VBox(children=(HTML(value=''), IntProgress(value=0, max=256)))"
      ]
     },
     "metadata": {},
     "output_type": "display_data"
    },
    {
     "data": {
      "application/vnd.jupyter.widget-view+json": {
       "model_id": "cdb80ff7d8d74e7b9f1373691d512d91",
       "version_major": 2,
       "version_minor": 0
      },
      "text/plain": [
       "VBox(children=(HTML(value=''), IntProgress(value=0, max=9)))"
      ]
     },
     "metadata": {},
     "output_type": "display_data"
    },
    {
     "name": "stdout",
     "output_type": "stream",
     "text": [
      "CLUSTER # 2\n",
      "\n",
      "r2 score на тестовой выборке =  0.0013713034092102117\n",
      "\n",
      "              precision    recall  f1-score   support\n",
      "\n",
      "          -1       0.69      1.00      0.82        42\n",
      "           1       0.00      0.00      0.00        19\n",
      "\n",
      "    accuracy                           0.69        61\n",
      "   macro avg       0.34      0.50      0.41        61\n",
      "weighted avg       0.47      0.69      0.56        61\n",
      "\n"
     ]
    },
    {
     "name": "stderr",
     "output_type": "stream",
     "text": [
      "/Users/Varya/opt/anaconda3/lib/python3.7/site-packages/sklearn/metrics/_classification.py:1272: UndefinedMetricWarning: Precision and F-score are ill-defined and being set to 0.0 in labels with no predicted samples. Use `zero_division` parameter to control this behavior.\n",
      "  _warn_prf(average, modifier, msg_start, len(result))\n"
     ]
    }
   ],
   "source": [
    "k = 3\n",
    "min_elem_in_cluster = 25\n",
    "clusters = KMeans(n_clusters=k)\n",
    "clusters_train = clusters.fit_predict(X_train)\n",
    "\n",
    "is_good_clusters = False\n",
    "while is_good_clusters == False:\n",
    "    clusters_train = clusters.fit_predict(X_train)\n",
    "    elems_in_clusters = np.array([np.array([clusters_train == i]).sum() for i in np.unique(clusters_train)])\n",
    "    elems_in_clusters_bool = elems_in_clusters > min_elem_in_cluster\n",
    "    is_good_clusters = np.all(elems_in_clusters_bool)\n",
    "print('Founded good clusters:', elems_in_clusters)\n",
    "print()\n",
    "clusters_test = clusters.predict(X_test)\n",
    "\n",
    "for i in range(k):\n",
    "    mgua_model = mguaJN.MGUA(Q=20, C=0.6, I=10, model=Ridge(alpha=0.1))\n",
    "    mgua_model.fit(X_train.loc[clusters_train==i], y_train.loc[clusters_train==i])\n",
    "    if X_test.loc[clusters_test==i].shape[0] > 0:\n",
    "        res = np.array(mgua_model.predict(X_test.loc[clusters_test==i]))\n",
    "        res = res.reshape(len(mgua_model.buf_coef[0]), X_test.loc[clusters_test==i].shape[0]).mean(axis=0)\n",
    "        print(\"CLUSTER #\", i)\n",
    "        print()\n",
    "        print(\"r2 score на тестовой выборке = \", r2_score(y_test.loc[clusters_test==i], res))\n",
    "        y_sgn_res = [-1 if y_i <= 0 else 1 for y_i in res]\n",
    "        print()\n",
    "        print(classification_report(y_test.loc[clusters_test==i], y_sgn_res))\n",
    "    else:\n",
    "        print(\"CLUSTER #\", i)\n",
    "        print(\"No elements in test\")"
   ]
  },
  {
   "cell_type": "markdown",
   "metadata": {},
   "source": [
    "## Кластеризация с помощью метода DBSCAN"
   ]
  },
  {
   "cell_type": "code",
   "execution_count": 226,
   "metadata": {},
   "outputs": [],
   "source": [
    "train_size = int(0.7 * cox.shape[0])\n",
    "rand_fold = random.choice(np.arange(cox.shape[0]).tolist(), train_size, False)\n",
    "X_train = pd.DataFrame(preprocessing.scale(cox[:].loc[rand_fold]))\n",
    "y_train = cox_class_y[:].loc[rand_fold]\n",
    "X_test = pd.DataFrame(preprocessing.scale(cox[:].loc[np.delete(np.arange(cox.shape[0]), rand_fold)]))\n",
    "y_test = cox_class_y[:].loc[np.delete(np.arange(cox.shape[0]), rand_fold)]"
   ]
  },
  {
   "cell_type": "code",
   "execution_count": 230,
   "metadata": {},
   "outputs": [
    {
     "data": {
      "text/plain": [
       "(array([ 71.,   0.,   0., 192.,   0.,   0.,  26.,   0.,   0.,  37.]),\n",
       " array([-1. , -0.7, -0.4, -0.1,  0.2,  0.5,  0.8,  1.1,  1.4,  1.7,  2. ]),\n",
       " <a list of 10 Patch objects>)"
      ]
     },
     "execution_count": 230,
     "metadata": {},
     "output_type": "execute_result"
    },
    {
     "data": {
      "image/png": "[encoded data removed]",
      "text/plain": [
       "<Figure size 432x288 with 1 Axes>"
      ]
     },
     "metadata": {
      "needs_background": "light"
     },
     "output_type": "display_data"
    }
   ],
   "source": [
    "clusters = DBSCAN(eps=5.5, min_samples=30)\n",
    "clusters_all = clusters.fit_predict(cox)\n",
    "clusters_train = clusters_all[rand_fold]\n",
    "clusters_test = clusters_all[np.delete(np.arange(cox.shape[0]), rand_fold)]\n",
    "plt.hist(clusters_train)"
   ]
  },
  {
   "cell_type": "code",
   "execution_count": 231,
   "metadata": {},
   "outputs": [
    {
     "data": {
      "application/vnd.jupyter.widget-view+json": {
       "model_id": "aef06915f5694c99984d805365f20280",
       "version_major": 2,
       "version_minor": 0
      },
      "text/plain": [
       "VBox(children=(HTML(value=''), IntProgress(value=0, max=256)))"
      ]
     },
     "metadata": {},
     "output_type": "display_data"
    },
    {
     "data": {
      "application/vnd.jupyter.widget-view+json": {
       "model_id": "a4cc4814cce945c4a0966533ec9892a1",
       "version_major": 2,
       "version_minor": 0
      },
      "text/plain": [
       "VBox(children=(HTML(value=''), IntProgress(value=0, max=9)))"
      ]
     },
     "metadata": {},
     "output_type": "display_data"
    },
    {
     "name": "stdout",
     "output_type": "stream",
     "text": [
      "CLUSTER # -1\n",
      "\n",
      "r2 score на тестовой выборке =  -0.01684796918692788\n",
      "\n",
      "              precision    recall  f1-score   support\n",
      "\n",
      "          -1       0.79      1.00      0.89        31\n",
      "           1       0.00      0.00      0.00         8\n",
      "\n",
      "    accuracy                           0.79        39\n",
      "   macro avg       0.40      0.50      0.44        39\n",
      "weighted avg       0.63      0.79      0.70        39\n",
      "\n"
     ]
    },
    {
     "name": "stderr",
     "output_type": "stream",
     "text": [
      "/Users/Varya/opt/anaconda3/lib/python3.7/site-packages/sklearn/metrics/_classification.py:1272: UndefinedMetricWarning: Precision and F-score are ill-defined and being set to 0.0 in labels with no predicted samples. Use `zero_division` parameter to control this behavior.\n",
      "  _warn_prf(average, modifier, msg_start, len(result))\n"
     ]
    },
    {
     "data": {
      "application/vnd.jupyter.widget-view+json": {
       "model_id": "7dc4dcd3901c4ea9b77802c5d8586693",
       "version_major": 2,
       "version_minor": 0
      },
      "text/plain": [
       "VBox(children=(HTML(value=''), IntProgress(value=0, max=256)))"
      ]
     },
     "metadata": {},
     "output_type": "display_data"
    },
    {
     "data": {
      "application/vnd.jupyter.widget-view+json": {
       "model_id": "dcd0a47a7aaa4af1b468b7ef052ebb62",
       "version_major": 2,
       "version_minor": 0
      },
      "text/plain": [
       "VBox(children=(HTML(value=''), IntProgress(value=0, max=9)))"
      ]
     },
     "metadata": {},
     "output_type": "display_data"
    },
    {
     "name": "stdout",
     "output_type": "stream",
     "text": [
      "CLUSTER # 0\n",
      "\n",
      "r2 score на тестовой выборке =  0.019064266137154617\n",
      "\n",
      "              precision    recall  f1-score   support\n",
      "\n",
      "          -1       1.00      0.02      0.05        42\n",
      "           1       0.47      1.00      0.64        36\n",
      "\n",
      "    accuracy                           0.47        78\n",
      "   macro avg       0.73      0.51      0.34        78\n",
      "weighted avg       0.75      0.47      0.32        78\n",
      "\n"
     ]
    },
    {
     "data": {
      "application/vnd.jupyter.widget-view+json": {
       "model_id": "96d6b30c4e2842ea8730e4caa529a1c1",
       "version_major": 2,
       "version_minor": 0
      },
      "text/plain": [
       "VBox(children=(HTML(value=''), IntProgress(value=0, max=256)))"
      ]
     },
     "metadata": {},
     "output_type": "display_data"
    },
    {
     "data": {
      "application/vnd.jupyter.widget-view+json": {
       "model_id": "c2b872d0d82347ed9411de1c8ce81c45",
       "version_major": 2,
       "version_minor": 0
      },
      "text/plain": [
       "VBox(children=(HTML(value=''), IntProgress(value=0, max=9)))"
      ]
     },
     "metadata": {},
     "output_type": "display_data"
    },
    {
     "name": "stdout",
     "output_type": "stream",
     "text": [
      "CLUSTER # 1\n",
      "\n",
      "r2 score на тестовой выборке =  -0.2531434911242605\n",
      "\n",
      "              precision    recall  f1-score   support\n",
      "\n",
      "          -1       0.89      1.00      0.94         8\n",
      "           1       0.00      0.00      0.00         1\n",
      "\n",
      "    accuracy                           0.89         9\n",
      "   macro avg       0.44      0.50      0.47         9\n",
      "weighted avg       0.79      0.89      0.84         9\n",
      "\n"
     ]
    },
    {
     "name": "stderr",
     "output_type": "stream",
     "text": [
      "/Users/Varya/opt/anaconda3/lib/python3.7/site-packages/sklearn/metrics/_classification.py:1272: UndefinedMetricWarning: Precision and F-score are ill-defined and being set to 0.0 in labels with no predicted samples. Use `zero_division` parameter to control this behavior.\n",
      "  _warn_prf(average, modifier, msg_start, len(result))\n"
     ]
    },
    {
     "data": {
      "application/vnd.jupyter.widget-view+json": {
       "model_id": "2aa80930b9014232ae03d37e1e9e81a5",
       "version_major": 2,
       "version_minor": 0
      },
      "text/plain": [
       "VBox(children=(HTML(value=''), IntProgress(value=0, max=256)))"
      ]
     },
     "metadata": {},
     "output_type": "display_data"
    },
    {
     "data": {
      "application/vnd.jupyter.widget-view+json": {
       "model_id": "dba0c5b81aba4c82b7a3e65f47174163",
       "version_major": 2,
       "version_minor": 0
      },
      "text/plain": [
       "VBox(children=(HTML(value=''), IntProgress(value=0, max=9)))"
      ]
     },
     "metadata": {},
     "output_type": "display_data"
    },
    {
     "name": "stdout",
     "output_type": "stream",
     "text": [
      "CLUSTER # 2\n",
      "\n",
      "r2 score на тестовой выборке =  -0.055847001792947326\n",
      "\n",
      "              precision    recall  f1-score   support\n",
      "\n",
      "          -1       0.73      1.00      0.85        11\n",
      "           1       0.00      0.00      0.00         4\n",
      "\n",
      "    accuracy                           0.73        15\n",
      "   macro avg       0.37      0.50      0.42        15\n",
      "weighted avg       0.54      0.73      0.62        15\n",
      "\n"
     ]
    },
    {
     "name": "stderr",
     "output_type": "stream",
     "text": [
      "/Users/Varya/opt/anaconda3/lib/python3.7/site-packages/sklearn/metrics/_classification.py:1272: UndefinedMetricWarning: Precision and F-score are ill-defined and being set to 0.0 in labels with no predicted samples. Use `zero_division` parameter to control this behavior.\n",
      "  _warn_prf(average, modifier, msg_start, len(result))\n"
     ]
    }
   ],
   "source": [
    "clusters = DBSCAN(eps=5.5, min_samples=30)\n",
    "clusters_all = clusters.fit_predict(cox)\n",
    "clusters_train = clusters_all[rand_fold]\n",
    "clusters_test = clusters_all[np.delete(np.arange(cox.shape[0]), rand_fold)]\n",
    "\n",
    "for i in np.unique(clusters.labels_):\n",
    "    mgua_model = mguaJN.MGUA(Q=20, C=0.6, I=10, model=Ridge(alpha=0.1))\n",
    "    mgua_model.fit(X_train.loc[clusters_train==i], y_train.loc[clusters_train==i])\n",
    "    if X_test.loc[clusters_test==i].shape[0] > 0:\n",
    "        res = np.array(mgua_model.predict(X_test.loc[clusters_test==i]))\n",
    "        res = res.reshape(len(mgua_model.buf_coef[0]), X_test.loc[clusters_test==i].shape[0]).mean(axis=0)\n",
    "        print(\"CLUSTER #\", i)\n",
    "        print()\n",
    "        print(\"r2 score на тестовой выборке = \", r2_score(y_test.loc[clusters_test==i], res))\n",
    "        y_sgn_res = [-1 if y_i <= 0 else 1 for y_i in res]\n",
    "        print()\n",
    "        print(classification_report(y_test.loc[clusters_test==i], y_sgn_res))\n",
    "    else:\n",
    "        print(\"CLUSTER #\", i)\n",
    "        print(\"No elements in test\")"
   ]
  },
  {
   "cell_type": "markdown",
   "metadata": {},
   "source": [
    "### Метод главных компонент и DBSCAN"
   ]
  },
  {
   "cell_type": "code",
   "execution_count": 16,
   "metadata": {},
   "outputs": [],
   "source": [
    "pca = PCA(n_components=9)\n",
    "cox_pca = pd.DataFrame(pca.fit_transform(cox))\n",
    "\n",
    "train_size = int(0.7 * cox_pca.shape[0])\n",
    "rand_fold = random.choice(np.arange(cox_pca.shape[0]).tolist(), train_size, False)\n",
    "X_train = pd.DataFrame(preprocessing.scale(cox_pca[:].loc[rand_fold]))\n",
    "y_train = cox_class_y[:].loc[rand_fold]\n",
    "X_test = pd.DataFrame(preprocessing.scale(cox_pca[:].loc[np.delete(np.arange(cox_pca.shape[0]), rand_fold)]))\n",
    "y_test = cox_class_y[:].loc[np.delete(np.arange(cox_pca.shape[0]), rand_fold)]"
   ]
  },
  {
   "cell_type": "code",
   "execution_count": 17,
   "metadata": {},
   "outputs": [
    {
     "data": {
      "application/vnd.jupyter.widget-view+json": {
       "model_id": "e074bb7f30bd401694efa272371f304b",
       "version_major": 2,
       "version_minor": 0
      },
      "text/plain": [
       "VBox(children=(HTML(value=''), IntProgress(value=0, max=9)))"
      ]
     },
     "metadata": {},
     "output_type": "display_data"
    },
    {
     "data": {
      "application/vnd.jupyter.widget-view+json": {
       "model_id": "70653f96660a4859932dce1f0d2eb167",
       "version_major": 2,
       "version_minor": 0
      },
      "text/plain": [
       "VBox(children=(HTML(value=''), IntProgress(value=0, max=9)))"
      ]
     },
     "metadata": {},
     "output_type": "display_data"
    },
    {
     "name": "stdout",
     "output_type": "stream",
     "text": [
      "CLUSTER # -1\n",
      "\n",
      "r2 score на тестовой выборке =  0.11635377048774187\n",
      "\n",
      "              precision    recall  f1-score   support\n",
      "\n",
      "          -1       0.68      1.00      0.81        21\n",
      "           1       0.00      0.00      0.00        10\n",
      "\n",
      "    accuracy                           0.68        31\n",
      "   macro avg       0.34      0.50      0.40        31\n",
      "weighted avg       0.46      0.68      0.55        31\n",
      "\n"
     ]
    },
    {
     "name": "stderr",
     "output_type": "stream",
     "text": [
      "/Users/Varya/opt/anaconda3/lib/python3.7/site-packages/sklearn/metrics/_classification.py:1272: UndefinedMetricWarning: Precision and F-score are ill-defined and being set to 0.0 in labels with no predicted samples. Use `zero_division` parameter to control this behavior.\n",
      "  _warn_prf(average, modifier, msg_start, len(result))\n"
     ]
    },
    {
     "data": {
      "application/vnd.jupyter.widget-view+json": {
       "model_id": "a081b17f163640829ab1daefc370cbfd",
       "version_major": 2,
       "version_minor": 0
      },
      "text/plain": [
       "VBox(children=(HTML(value=''), IntProgress(value=0, max=9)))"
      ]
     },
     "metadata": {},
     "output_type": "display_data"
    },
    {
     "data": {
      "application/vnd.jupyter.widget-view+json": {
       "model_id": "7e063468468147e5af71c83c2a8224a4",
       "version_major": 2,
       "version_minor": 0
      },
      "text/plain": [
       "VBox(children=(HTML(value=''), IntProgress(value=0, max=9)))"
      ]
     },
     "metadata": {},
     "output_type": "display_data"
    },
    {
     "name": "stdout",
     "output_type": "stream",
     "text": [
      "CLUSTER # 0\n",
      "\n",
      "r2 score на тестовой выборке =  0.0806215730414338\n",
      "\n",
      "              precision    recall  f1-score   support\n",
      "\n",
      "          -1       0.77      0.26      0.39        38\n",
      "           1       0.58      0.93      0.72        42\n",
      "\n",
      "    accuracy                           0.61        80\n",
      "   macro avg       0.68      0.60      0.55        80\n",
      "weighted avg       0.67      0.61      0.56        80\n",
      "\n"
     ]
    },
    {
     "data": {
      "application/vnd.jupyter.widget-view+json": {
       "model_id": "9acfac4eb99e4b0a9b6fe5866c60b15e",
       "version_major": 2,
       "version_minor": 0
      },
      "text/plain": [
       "VBox(children=(HTML(value=''), IntProgress(value=0, max=9)))"
      ]
     },
     "metadata": {},
     "output_type": "display_data"
    },
    {
     "data": {
      "application/vnd.jupyter.widget-view+json": {
       "model_id": "f38784cfe87e42f993e06ccf6972409f",
       "version_major": 2,
       "version_minor": 0
      },
      "text/plain": [
       "VBox(children=(HTML(value=''), IntProgress(value=0, max=9)))"
      ]
     },
     "metadata": {},
     "output_type": "display_data"
    },
    {
     "name": "stdout",
     "output_type": "stream",
     "text": [
      "CLUSTER # 1\n",
      "\n",
      "r2 score на тестовой выборке =  -0.13387214367296596\n",
      "\n",
      "              precision    recall  f1-score   support\n",
      "\n",
      "          -1       0.86      1.00      0.92        12\n",
      "           1       0.00      0.00      0.00         2\n",
      "\n",
      "    accuracy                           0.86        14\n",
      "   macro avg       0.43      0.50      0.46        14\n",
      "weighted avg       0.73      0.86      0.79        14\n",
      "\n"
     ]
    },
    {
     "name": "stderr",
     "output_type": "stream",
     "text": [
      "/Users/Varya/opt/anaconda3/lib/python3.7/site-packages/sklearn/metrics/_classification.py:1272: UndefinedMetricWarning: Precision and F-score are ill-defined and being set to 0.0 in labels with no predicted samples. Use `zero_division` parameter to control this behavior.\n",
      "  _warn_prf(average, modifier, msg_start, len(result))\n"
     ]
    },
    {
     "data": {
      "application/vnd.jupyter.widget-view+json": {
       "model_id": "262756f380824e56b940c4810e2da686",
       "version_major": 2,
       "version_minor": 0
      },
      "text/plain": [
       "VBox(children=(HTML(value=''), IntProgress(value=0, max=9)))"
      ]
     },
     "metadata": {},
     "output_type": "display_data"
    },
    {
     "data": {
      "application/vnd.jupyter.widget-view+json": {
       "model_id": "241c10d677654ce79be4b2a4b274ca22",
       "version_major": 2,
       "version_minor": 0
      },
      "text/plain": [
       "VBox(children=(HTML(value=''), IntProgress(value=0, max=9)))"
      ]
     },
     "metadata": {},
     "output_type": "display_data"
    },
    {
     "name": "stdout",
     "output_type": "stream",
     "text": [
      "CLUSTER # 2\n",
      "\n",
      "r2 score на тестовой выборке =  -0.01566691388960706\n",
      "\n",
      "              precision    recall  f1-score   support\n",
      "\n",
      "          -1       0.81      1.00      0.90        13\n",
      "           1       0.00      0.00      0.00         3\n",
      "\n",
      "    accuracy                           0.81        16\n",
      "   macro avg       0.41      0.50      0.45        16\n",
      "weighted avg       0.66      0.81      0.73        16\n",
      "\n"
     ]
    },
    {
     "name": "stderr",
     "output_type": "stream",
     "text": [
      "/Users/Varya/opt/anaconda3/lib/python3.7/site-packages/sklearn/metrics/_classification.py:1272: UndefinedMetricWarning: Precision and F-score are ill-defined and being set to 0.0 in labels with no predicted samples. Use `zero_division` parameter to control this behavior.\n",
      "  _warn_prf(average, modifier, msg_start, len(result))\n"
     ]
    }
   ],
   "source": [
    "clusters = DBSCAN(eps=5.5, min_samples=30)\n",
    "clusters_all = clusters.fit_predict(cox)\n",
    "clusters_train = clusters_all[rand_fold]\n",
    "clusters_test = clusters_all[np.delete(np.arange(cox.shape[0]), rand_fold)]\n",
    "\n",
    "for i in np.unique(clusters.labels_):\n",
    "    mgua_model = mguaJN.MGUA(Q=20, C=0.6, I=10, model=Ridge(alpha=0.1))\n",
    "    mgua_model.fit(X_train.loc[clusters_train==i], y_train.loc[clusters_train==i])\n",
    "    if X_test.loc[clusters_test==i].shape[0] > 0:\n",
    "        res = np.array(mgua_model.predict(X_test.loc[clusters_test==i]))\n",
    "        res = res.reshape(len(mgua_model.buf_coef[0]), X_test.loc[clusters_test==i].shape[0]).mean(axis=0)\n",
    "        print(\"CLUSTER #\", i)\n",
    "        print()\n",
    "        print(\"r2 score на тестовой выборке = \", r2_score(y_test.loc[clusters_test==i], res))\n",
    "        y_sgn_res = [-1 if y_i <= 0 else 1 for y_i in res]\n",
    "        print()\n",
    "        print(classification_report(y_test.loc[clusters_test==i], y_sgn_res))\n",
    "    else:\n",
    "        print(\"CLUSTER #\", i)\n",
    "        print(\"No elements in test\")"
   ]
  },
  {
   "cell_type": "code",
   "execution_count": 18,
   "metadata": {},
   "outputs": [
    {
     "data": {
      "text/plain": [
       "(array([31.,  0.,  0., 80.,  0.,  0., 14.,  0.,  0., 16.]),\n",
       " array([-1. , -0.7, -0.4, -0.1,  0.2,  0.5,  0.8,  1.1,  1.4,  1.7,  2. ]),\n",
       " <a list of 10 Patch objects>)"
      ]
     },
     "execution_count": 18,
     "metadata": {},
     "output_type": "execute_result"
    },
    {
     "data": {
      "image/png": "[encoded data removed]",
      "text/plain": [
       "<Figure size 432x288 with 1 Axes>"
      ]
     },
     "metadata": {
      "needs_background": "light"
     },
     "output_type": "display_data"
    }
   ],
   "source": [
    "plt.hist(clusters_test)"
   ]
  },
  {
   "cell_type": "markdown",
   "metadata": {},
   "source": [
    "## Выборка cox2 NNd**_UpTo3chains"
   ]
  },
  {
   "cell_type": "code",
   "execution_count": 19,
   "metadata": {},
   "outputs": [],
   "source": [
    "cox = pd.read_csv('cox2/cox2_matrix_alphabet_NNd**_UpTo3chains.csv', sep=',')\n",
    "cox_y = pd.read_csv('cox2/cox2_y.csv', sep=',')"
   ]
  },
  {
   "cell_type": "code",
   "execution_count": 20,
   "metadata": {},
   "outputs": [],
   "source": [
    "for i, elem in cox_y['IC50_uM'].items():\n",
    "    cox_y['IC50_uM'][i] = float(elem.strip('[]').strip('()').split(', ')[0])"
   ]
  },
  {
   "cell_type": "code",
   "execution_count": 21,
   "metadata": {},
   "outputs": [
    {
     "data": {
      "text/plain": [
       "(467, 145)"
      ]
     },
     "execution_count": 21,
     "metadata": {},
     "output_type": "execute_result"
    }
   ],
   "source": [
    "normalized_cox = preprocessing.normalize(cox)\n",
    "normalized_cox.shape"
   ]
  },
  {
   "cell_type": "code",
   "execution_count": 22,
   "metadata": {},
   "outputs": [
    {
     "data": {
      "image/png": "[encoded data removed]",
      "text/plain": [
       "<Figure size 720x288 with 1 Axes>"
      ]
     },
     "metadata": {
      "needs_background": "light"
     },
     "output_type": "display_data"
    }
   ],
   "source": [
    "num_nonzero_col = []\n",
    "for i in range(normalized_cox.shape[1]):\n",
    "    num_nonzero_col.append(normalized_cox[:, i].nonzero()[0].shape[0])\n",
    "plt.figure(figsize=(10,4))\n",
    "plt.title(\"Гистограмма количества ненулевых элементов в столбцах матрицы cox2 NNd**_UpTo3chains\")\n",
    "_ = plt.hist(num_nonzero_col, bins=100)"
   ]
  },
  {
   "cell_type": "code",
   "execution_count": 23,
   "metadata": {},
   "outputs": [
    {
     "name": "stdout",
     "output_type": "stream",
     "text": [
      "количество столбцов с одним ненулевым элементом =  30 / 115\n"
     ]
    }
   ],
   "source": [
    "mask = np.array(num_nonzero_col) == 1\n",
    "print(\"количество столбцов с одним ненулевым элементом = \", mask.sum(), \"/\", (~mask).sum())"
   ]
  },
  {
   "cell_type": "markdown",
   "metadata": {},
   "source": [
    "### Нормализация y\n",
    "вычтем из y активность: для выборки cox2 - это 0.316"
   ]
  },
  {
   "cell_type": "code",
   "execution_count": 24,
   "metadata": {},
   "outputs": [],
   "source": [
    "cox_y = cox_y - 0.316"
   ]
  },
  {
   "cell_type": "code",
   "execution_count": 218,
   "metadata": {},
   "outputs": [],
   "source": [
    "mgua_model = mguaJN.MGUA(Q=20, C=0.6, I=10, model=Ridge(alpha=0.1))"
   ]
  },
  {
   "cell_type": "code",
   "execution_count": 219,
   "metadata": {},
   "outputs": [
    {
     "data": {
      "application/vnd.jupyter.widget-view+json": {
       "model_id": "87c4bc3c1b8e42fea45239929583bb99",
       "version_major": 2,
       "version_minor": 0
      },
      "text/plain": [
       "VBox(children=(HTML(value=''), IntProgress(value=0, max=145)))"
      ]
     },
     "metadata": {},
     "output_type": "display_data"
    },
    {
     "data": {
      "application/vnd.jupyter.widget-view+json": {
       "model_id": "f7456ce2c0ed4316bb88c04f788aa1f9",
       "version_major": 2,
       "version_minor": 0
      },
      "text/plain": [
       "VBox(children=(HTML(value=''), IntProgress(value=0, max=9)))"
      ]
     },
     "metadata": {},
     "output_type": "display_data"
    },
    {
     "name": "stdout",
     "output_type": "stream",
     "text": [
      "r2 score на тестовой выборке =  0.00321217683734909\n",
      "r2 score на тренировочной выборке =  0.004892922530684296\n"
     ]
    }
   ],
   "source": [
    "train_size = int(0.7 * cox.shape[0])\n",
    "X_train = pd.DataFrame(preprocessing.scale(cox[:][:train_size]))\n",
    "y_train = cox_y[:][:train_size]\n",
    "X_test = pd.DataFrame(preprocessing.scale(cox[:][train_size:]))\n",
    "y_test = cox_y[:][train_size:]\n",
    "mgua_model.fit(X_train, y_train)\n",
    "res = np.array(mgua_model.predict(X_test))\n",
    "res_train = np.array(mgua_model.predict(X_train))\n",
    "res = res.reshape(len(mgua_model.buf_coef[0]), X_test.shape[0]).mean(axis=0)\n",
    "res_train = res_train.reshape(len(mgua_model.buf_coef[0]), X_train.shape[0]).mean(axis=0)\n",
    "print(\"r2 score на тестовой выборке = \", r2_score(y_test, res))\n",
    "print(\"r2 score на тренировочной выборке = \", r2_score(y_train, res_train))"
   ]
  },
  {
   "cell_type": "code",
   "execution_count": 220,
   "metadata": {},
   "outputs": [],
   "source": [
    "y_np_test = y_test.to_numpy().reshape(-1)\n",
    "y_sgn_test = [-1 if y_i <= 0 else 1 for y_i in y_np_test]\n",
    "y_sgn_res = [-1 if y_i <= 0 else 1 for y_i in res]"
   ]
  },
  {
   "cell_type": "code",
   "execution_count": 221,
   "metadata": {},
   "outputs": [
    {
     "name": "stdout",
     "output_type": "stream",
     "text": [
      "              precision    recall  f1-score   support\n",
      "\n",
      "          -1       0.00      0.00      0.00        98\n",
      "           1       0.30      1.00      0.47        43\n",
      "\n",
      "    accuracy                           0.30       141\n",
      "   macro avg       0.15      0.50      0.23       141\n",
      "weighted avg       0.09      0.30      0.14       141\n",
      "\n",
      "roc_auc_score =  0.5\n"
     ]
    },
    {
     "name": "stderr",
     "output_type": "stream",
     "text": [
      "/Users/Varya/opt/anaconda3/lib/python3.7/site-packages/sklearn/metrics/_classification.py:1272: UndefinedMetricWarning: Precision and F-score are ill-defined and being set to 0.0 in labels with no predicted samples. Use `zero_division` parameter to control this behavior.\n",
      "  _warn_prf(average, modifier, msg_start, len(result))\n"
     ]
    }
   ],
   "source": [
    "print(classification_report(y_sgn_test, y_sgn_res))\n",
    "print(\"roc_auc_score = \", roc_auc_score(y_sgn_test, y_sgn_res))"
   ]
  },
  {
   "cell_type": "markdown",
   "metadata": {},
   "source": [
    "Подадим в МГУА ответы для классификации:"
   ]
  },
  {
   "cell_type": "code",
   "execution_count": 193,
   "metadata": {},
   "outputs": [],
   "source": [
    "cox_np_y = cox_y.to_numpy().reshape(-1)\n",
    "cox_class_y = pd.DataFrame([-1 if y_i <= 0 else 1 for y_i in cox_np_y])"
   ]
  },
  {
   "cell_type": "code",
   "execution_count": 194,
   "metadata": {},
   "outputs": [
    {
     "data": {
      "application/vnd.jupyter.widget-view+json": {
       "model_id": "10692196cc094ba0a0249b139c0ad401",
       "version_major": 2,
       "version_minor": 0
      },
      "text/plain": [
       "VBox(children=(HTML(value=''), IntProgress(value=0, max=145)))"
      ]
     },
     "metadata": {},
     "output_type": "display_data"
    },
    {
     "data": {
      "application/vnd.jupyter.widget-view+json": {
       "model_id": "eb0b63efb5cf4feca3a51da46fa991e7",
       "version_major": 2,
       "version_minor": 0
      },
      "text/plain": [
       "VBox(children=(HTML(value=''), IntProgress(value=0, max=9)))"
      ]
     },
     "metadata": {},
     "output_type": "display_data"
    },
    {
     "name": "stdout",
     "output_type": "stream",
     "text": [
      "r2 score на тестовой выборке =  0.08929065737417263\n",
      "\n",
      "              precision    recall  f1-score   support\n",
      "\n",
      "          -1       0.58      1.00      0.73       102\n",
      "           1       1.00      0.09      0.16        82\n",
      "\n",
      "    accuracy                           0.59       184\n",
      "   macro avg       0.79      0.54      0.44       184\n",
      "weighted avg       0.77      0.59      0.48       184\n",
      "\n",
      "\n",
      "roc_auc_score =  0.5426829268292683\n"
     ]
    }
   ],
   "source": [
    "# train_size = int(0.7 * cox.shape[0])\n",
    "rand_fold = random.choice(np.arange(cox.shape[0]).tolist(), train_size, False)\n",
    "X_train = pd.DataFrame(preprocessing.scale(cox[:].loc[rand_fold]))\n",
    "y_train = cox_class_y[:].loc[rand_fold]\n",
    "X_test = pd.DataFrame(preprocessing.scale(cox[:].loc[np.delete(np.arange(cox.shape[0]), rand_fold)]))\n",
    "y_test = cox_class_y[:].loc[np.delete(np.arange(cox.shape[0]), rand_fold)]\n",
    "# X_train = pd.DataFrame(preprocessing.scale(bzr[:][:train_size]))\n",
    "# y_train = bzr_class_y[:][:train_size]\n",
    "# X_test = pd.DataFrame(preprocessing.scale(bzr[:][train_size:]))\n",
    "# y_test = bzr_class_y[:][train_size:]\n",
    "mgua_model.fit(X_train, y_train)\n",
    "res = np.array(mgua_model.predict(X_test))\n",
    "# res_train = np.array(mgua_model.predict(X_train))\n",
    "res = res.reshape(res.shape[0], res.shape[1]).mean(axis=0)\n",
    "# res_train = res_train.reshape(len(mgua_model.buf_coef[0]), X_train.shape[0]).mean(axis=0)\n",
    "print(\"r2 score на тестовой выборке = \", r2_score(y_test, res))\n",
    "# print(\"r2 score на тренировочной выборке = \", r2_score(y_train, res_train))\n",
    "y_sgn_res = [-1 if y_i <= 0 else 1 for y_i in res]\n",
    "print()\n",
    "print(classification_report(y_test, y_sgn_res))\n",
    "print()\n",
    "print(\"roc_auc_score = \", roc_auc_score(y_test, y_sgn_res))"
   ]
  },
  {
   "cell_type": "markdown",
   "metadata": {},
   "source": [
    "# Кластеризация"
   ]
  },
  {
   "cell_type": "code",
   "execution_count": 25,
   "metadata": {},
   "outputs": [],
   "source": [
    "cox_np_y = cox_y.to_numpy().reshape(-1)\n",
    "cox_class_y = pd.DataFrame([-1 if y_i <= 0 else 1 for y_i in cox_np_y])"
   ]
  },
  {
   "cell_type": "code",
   "execution_count": 26,
   "metadata": {},
   "outputs": [],
   "source": [
    "train_size = int(0.7 * cox.shape[0])\n",
    "rand_fold = random.choice(np.arange(cox.shape[0]).tolist(), train_size, False)\n",
    "X_train = pd.DataFrame(preprocessing.scale(cox[:].loc[rand_fold]))\n",
    "y_train = cox_class_y[:].loc[rand_fold]\n",
    "X_test = pd.DataFrame(preprocessing.scale(cox[:].loc[np.delete(np.arange(cox.shape[0]), rand_fold)]))\n",
    "y_test = cox_class_y[:].loc[np.delete(np.arange(cox.shape[0]), rand_fold)]"
   ]
  },
  {
   "cell_type": "markdown",
   "metadata": {},
   "source": [
    "## Кластеризация с помощью метода к-средних"
   ]
  },
  {
   "cell_type": "code",
   "execution_count": 27,
   "metadata": {},
   "outputs": [
    {
     "name": "stdout",
     "output_type": "stream",
     "text": [
      "Founded good clusters: [127 101  98]\n",
      "\n"
     ]
    },
    {
     "data": {
      "application/vnd.jupyter.widget-view+json": {
       "model_id": "b9b74d18c04943acb426f2fb61fec55a",
       "version_major": 2,
       "version_minor": 0
      },
      "text/plain": [
       "VBox(children=(HTML(value=''), IntProgress(value=0, max=145)))"
      ]
     },
     "metadata": {},
     "output_type": "display_data"
    },
    {
     "data": {
      "application/vnd.jupyter.widget-view+json": {
       "model_id": "f848a0cb6dc94d438370e2950a2ee707",
       "version_major": 2,
       "version_minor": 0
      },
      "text/plain": [
       "VBox(children=(HTML(value=''), IntProgress(value=0, max=9)))"
      ]
     },
     "metadata": {},
     "output_type": "display_data"
    },
    {
     "name": "stdout",
     "output_type": "stream",
     "text": [
      "CLUSTER # 0\n",
      "\n",
      "r2 score на тестовой выборке =  0.006414197773224384\n",
      "\n",
      "              precision    recall  f1-score   support\n",
      "\n",
      "          -1       0.76      1.00      0.87        45\n",
      "           1       0.00      0.00      0.00        14\n",
      "\n",
      "    accuracy                           0.76        59\n",
      "   macro avg       0.38      0.50      0.43        59\n",
      "weighted avg       0.58      0.76      0.66        59\n",
      "\n"
     ]
    },
    {
     "name": "stderr",
     "output_type": "stream",
     "text": [
      "/Users/Varya/opt/anaconda3/lib/python3.7/site-packages/sklearn/metrics/_classification.py:1272: UndefinedMetricWarning: Precision and F-score are ill-defined and being set to 0.0 in labels with no predicted samples. Use `zero_division` parameter to control this behavior.\n",
      "  _warn_prf(average, modifier, msg_start, len(result))\n"
     ]
    },
    {
     "data": {
      "application/vnd.jupyter.widget-view+json": {
       "model_id": "19d6432be2754daabb051a4ed258c6f1",
       "version_major": 2,
       "version_minor": 0
      },
      "text/plain": [
       "VBox(children=(HTML(value=''), IntProgress(value=0, max=145)))"
      ]
     },
     "metadata": {},
     "output_type": "display_data"
    },
    {
     "data": {
      "application/vnd.jupyter.widget-view+json": {
       "model_id": "98f5f0348ac9405b9dcabe1b9ed96529",
       "version_major": 2,
       "version_minor": 0
      },
      "text/plain": [
       "VBox(children=(HTML(value=''), IntProgress(value=0, max=9)))"
      ]
     },
     "metadata": {},
     "output_type": "display_data"
    },
    {
     "name": "stdout",
     "output_type": "stream",
     "text": [
      "CLUSTER # 1\n",
      "\n",
      "r2 score на тестовой выборке =  0.06375446164074194\n",
      "\n",
      "              precision    recall  f1-score   support\n",
      "\n",
      "          -1       0.67      0.64      0.65        22\n",
      "           1       0.60      0.63      0.62        19\n",
      "\n",
      "    accuracy                           0.63        41\n",
      "   macro avg       0.63      0.63      0.63        41\n",
      "weighted avg       0.64      0.63      0.63        41\n",
      "\n"
     ]
    },
    {
     "data": {
      "application/vnd.jupyter.widget-view+json": {
       "model_id": "a75f0929fac44ad8ae39fc81c2a1d6ef",
       "version_major": 2,
       "version_minor": 0
      },
      "text/plain": [
       "VBox(children=(HTML(value=''), IntProgress(value=0, max=145)))"
      ]
     },
     "metadata": {},
     "output_type": "display_data"
    },
    {
     "data": {
      "application/vnd.jupyter.widget-view+json": {
       "model_id": "9ae5e04808ae40909fd0b59671f94de5",
       "version_major": 2,
       "version_minor": 0
      },
      "text/plain": [
       "VBox(children=(HTML(value=''), IntProgress(value=0, max=9)))"
      ]
     },
     "metadata": {},
     "output_type": "display_data"
    },
    {
     "name": "stdout",
     "output_type": "stream",
     "text": [
      "CLUSTER # 2\n",
      "\n",
      "r2 score на тестовой выборке =  0.12121326940763832\n",
      "\n",
      "              precision    recall  f1-score   support\n",
      "\n",
      "          -1       1.00      0.06      0.11        17\n",
      "           1       0.60      1.00      0.75        24\n",
      "\n",
      "    accuracy                           0.61        41\n",
      "   macro avg       0.80      0.53      0.43        41\n",
      "weighted avg       0.77      0.61      0.49        41\n",
      "\n"
     ]
    }
   ],
   "source": [
    "k = 3\n",
    "min_elem_in_cluster = 25\n",
    "clusters = KMeans(n_clusters=k)\n",
    "clusters_train = clusters.fit_predict(X_train)\n",
    "\n",
    "is_good_clusters = False\n",
    "while is_good_clusters == False:\n",
    "    clusters_train = clusters.fit_predict(X_train)\n",
    "    elems_in_clusters = np.array([np.array([clusters_train == i]).sum() for i in np.unique(clusters_train)])\n",
    "    elems_in_clusters_bool = elems_in_clusters > min_elem_in_cluster\n",
    "    is_good_clusters = np.all(elems_in_clusters_bool)\n",
    "print('Founded good clusters:', elems_in_clusters)\n",
    "print()\n",
    "clusters_test = clusters.predict(X_test)\n",
    "\n",
    "for i in range(k):\n",
    "    mgua_model = mguaJN.MGUA(Q=20, C=0.6, I=10, model=Ridge(alpha=0.1))\n",
    "    mgua_model.fit(X_train.loc[clusters_train==i], y_train.loc[clusters_train==i])\n",
    "    if X_test.loc[clusters_test==i].shape[0] > 0:\n",
    "        res = np.array(mgua_model.predict(X_test.loc[clusters_test==i]))\n",
    "        res = res.reshape(len(mgua_model.buf_coef[0]), X_test.loc[clusters_test==i].shape[0]).mean(axis=0)\n",
    "        print(\"CLUSTER #\", i)\n",
    "        print()\n",
    "        print(\"r2 score на тестовой выборке = \", r2_score(y_test.loc[clusters_test==i], res))\n",
    "        y_sgn_res = [-1 if y_i <= 0 else 1 for y_i in res]\n",
    "        print()\n",
    "        print(classification_report(y_test.loc[clusters_test==i], y_sgn_res))\n",
    "    else:\n",
    "        print(\"CLUSTER #\", i)\n",
    "        print(\"No elements in test\")"
   ]
  },
  {
   "cell_type": "markdown",
   "metadata": {},
   "source": [
    "## Кластеризация с помощью метода DBSCAN"
   ]
  },
  {
   "cell_type": "code",
   "execution_count": 28,
   "metadata": {},
   "outputs": [],
   "source": [
    "train_size = int(0.7 * cox.shape[0])\n",
    "rand_fold = random.choice(np.arange(cox.shape[0]).tolist(), train_size, False)\n",
    "X_train = pd.DataFrame(preprocessing.scale(cox[:].loc[rand_fold]))\n",
    "y_train = cox_class_y[:].loc[rand_fold]\n",
    "X_test = pd.DataFrame(preprocessing.scale(cox[:].loc[np.delete(np.arange(cox.shape[0]), rand_fold)]))\n",
    "y_test = cox_class_y[:].loc[np.delete(np.arange(cox.shape[0]), rand_fold)"
   ]
  },
  {
   "cell_type": "code",
   "execution_count": 39,
   "metadata": {},
   "outputs": [
    {
     "data": {
      "text/plain": [
       "(array([ 28.,   0.,   0., 193.,   0.,   0.,  83.,   0.,   0.,  22.]),\n",
       " array([-1. , -0.7, -0.4, -0.1,  0.2,  0.5,  0.8,  1.1,  1.4,  1.7,  2. ]),\n",
       " <a list of 10 Patch objects>)"
      ]
     },
     "execution_count": 39,
     "metadata": {},
     "output_type": "execute_result"
    },
    {
     "data": {
      "image/png": "[encoded data removed]",
      "text/plain": [
       "<Figure size 432x288 with 1 Axes>"
      ]
     },
     "metadata": {
      "needs_background": "light"
     },
     "output_type": "display_data"
    }
   ],
   "source": [
    "clusters = DBSCAN(eps=5.5, min_samples=30)\n",
    "clusters_all = clusters.fit_predict(cox)\n",
    "clusters_train = clusters_all[rand_fold]\n",
    "clusters_test = clusters_all[np.delete(np.arange(cox.shape[0]), rand_fold)]\n",
    "plt.hist(clusters_train)"
   ]
  },
  {
   "cell_type": "code",
   "execution_count": 40,
   "metadata": {},
   "outputs": [
    {
     "data": {
      "application/vnd.jupyter.widget-view+json": {
       "model_id": "40f0653b54cc435484bec2fbe9fff19a",
       "version_major": 2,
       "version_minor": 0
      },
      "text/plain": [
       "VBox(children=(HTML(value=''), IntProgress(value=0, max=145)))"
      ]
     },
     "metadata": {},
     "output_type": "display_data"
    },
    {
     "data": {
      "application/vnd.jupyter.widget-view+json": {
       "model_id": "2b2bb82d70aa4333bbb4ae64feb28cc9",
       "version_major": 2,
       "version_minor": 0
      },
      "text/plain": [
       "VBox(children=(HTML(value=''), IntProgress(value=0, max=9)))"
      ]
     },
     "metadata": {},
     "output_type": "display_data"
    },
    {
     "name": "stdout",
     "output_type": "stream",
     "text": [
      "CLUSTER # -1\n",
      "\n",
      "r2 score на тестовой выборке =  -0.07717964434299618\n",
      "\n",
      "              precision    recall  f1-score   support\n",
      "\n",
      "          -1       0.85      1.00      0.92        11\n",
      "           1       0.00      0.00      0.00         2\n",
      "\n",
      "    accuracy                           0.85        13\n",
      "   macro avg       0.42      0.50      0.46        13\n",
      "weighted avg       0.72      0.85      0.78        13\n",
      "\n"
     ]
    },
    {
     "name": "stderr",
     "output_type": "stream",
     "text": [
      "/Users/Varya/opt/anaconda3/lib/python3.7/site-packages/sklearn/metrics/_classification.py:1272: UndefinedMetricWarning: Precision and F-score are ill-defined and being set to 0.0 in labels with no predicted samples. Use `zero_division` parameter to control this behavior.\n",
      "  _warn_prf(average, modifier, msg_start, len(result))\n"
     ]
    },
    {
     "data": {
      "application/vnd.jupyter.widget-view+json": {
       "model_id": "a05789e736784e7480772b9fbdc5ba67",
       "version_major": 2,
       "version_minor": 0
      },
      "text/plain": [
       "VBox(children=(HTML(value=''), IntProgress(value=0, max=145)))"
      ]
     },
     "metadata": {},
     "output_type": "display_data"
    },
    {
     "data": {
      "application/vnd.jupyter.widget-view+json": {
       "model_id": "c6e1b7007ef24281adb701d7d6d12ee5",
       "version_major": 2,
       "version_minor": 0
      },
      "text/plain": [
       "VBox(children=(HTML(value=''), IntProgress(value=0, max=9)))"
      ]
     },
     "metadata": {},
     "output_type": "display_data"
    },
    {
     "name": "stdout",
     "output_type": "stream",
     "text": [
      "CLUSTER # 0\n",
      "\n",
      "r2 score на тестовой выборке =  0.07219123093333124\n",
      "\n",
      "              precision    recall  f1-score   support\n",
      "\n",
      "          -1       0.67      0.36      0.47        33\n",
      "           1       0.67      0.88      0.76        49\n",
      "\n",
      "    accuracy                           0.67        82\n",
      "   macro avg       0.67      0.62      0.62        82\n",
      "weighted avg       0.67      0.67      0.64        82\n",
      "\n"
     ]
    },
    {
     "data": {
      "application/vnd.jupyter.widget-view+json": {
       "model_id": "64bbc0a68b01431fadf7574da75923ef",
       "version_major": 2,
       "version_minor": 0
      },
      "text/plain": [
       "VBox(children=(HTML(value=''), IntProgress(value=0, max=145)))"
      ]
     },
     "metadata": {},
     "output_type": "display_data"
    },
    {
     "data": {
      "application/vnd.jupyter.widget-view+json": {
       "model_id": "33154e4bb3104268ac155152fc4e55e1",
       "version_major": 2,
       "version_minor": 0
      },
      "text/plain": [
       "VBox(children=(HTML(value=''), IntProgress(value=0, max=9)))"
      ]
     },
     "metadata": {},
     "output_type": "display_data"
    },
    {
     "name": "stdout",
     "output_type": "stream",
     "text": [
      "CLUSTER # 1\n",
      "\n",
      "r2 score на тестовой выборке =  -0.02522839726326942\n",
      "\n",
      "              precision    recall  f1-score   support\n",
      "\n",
      "          -1       0.79      1.00      0.89        27\n",
      "           1       0.00      0.00      0.00         7\n",
      "\n",
      "    accuracy                           0.79        34\n",
      "   macro avg       0.40      0.50      0.44        34\n",
      "weighted avg       0.63      0.79      0.70        34\n",
      "\n"
     ]
    },
    {
     "name": "stderr",
     "output_type": "stream",
     "text": [
      "/Users/Varya/opt/anaconda3/lib/python3.7/site-packages/sklearn/metrics/_classification.py:1272: UndefinedMetricWarning: Precision and F-score are ill-defined and being set to 0.0 in labels with no predicted samples. Use `zero_division` parameter to control this behavior.\n",
      "  _warn_prf(average, modifier, msg_start, len(result))\n"
     ]
    },
    {
     "data": {
      "application/vnd.jupyter.widget-view+json": {
       "model_id": "e50e187212a54a11b4556d2f82d9d767",
       "version_major": 2,
       "version_minor": 0
      },
      "text/plain": [
       "VBox(children=(HTML(value=''), IntProgress(value=0, max=145)))"
      ]
     },
     "metadata": {},
     "output_type": "display_data"
    },
    {
     "data": {
      "application/vnd.jupyter.widget-view+json": {
       "model_id": "62e42dbdb2134e58bd92d674529e6341",
       "version_major": 2,
       "version_minor": 0
      },
      "text/plain": [
       "VBox(children=(HTML(value=''), IntProgress(value=0, max=9)))"
      ]
     },
     "metadata": {},
     "output_type": "display_data"
    },
    {
     "name": "stdout",
     "output_type": "stream",
     "text": [
      "CLUSTER # 2\n",
      "\n",
      "r2 score на тестовой выборке =  -0.0162309598822028\n",
      "\n",
      "              precision    recall  f1-score   support\n",
      "\n",
      "          -1       0.92      1.00      0.96        11\n",
      "           1       0.00      0.00      0.00         1\n",
      "\n",
      "    accuracy                           0.92        12\n",
      "   macro avg       0.46      0.50      0.48        12\n",
      "weighted avg       0.84      0.92      0.88        12\n",
      "\n"
     ]
    },
    {
     "name": "stderr",
     "output_type": "stream",
     "text": [
      "/Users/Varya/opt/anaconda3/lib/python3.7/site-packages/sklearn/metrics/_classification.py:1272: UndefinedMetricWarning: Precision and F-score are ill-defined and being set to 0.0 in labels with no predicted samples. Use `zero_division` parameter to control this behavior.\n",
      "  _warn_prf(average, modifier, msg_start, len(result))\n"
     ]
    }
   ],
   "source": [
    "clusters = DBSCAN(eps=5.5, min_samples=30)\n",
    "clusters_all = clusters.fit_predict(cox)\n",
    "clusters_train = clusters_all[rand_fold]\n",
    "clusters_test = clusters_all[np.delete(np.arange(cox.shape[0]), rand_fold)]\n",
    "\n",
    "for i in np.unique(clusters.labels_):\n",
    "    mgua_model = mguaJN.MGUA(Q=20, C=0.6, I=10, model=Ridge(alpha=0.1))\n",
    "    mgua_model.fit(X_train.loc[clusters_train==i], y_train.loc[clusters_train==i])\n",
    "    if X_test.loc[clusters_test==i].shape[0] > 0:\n",
    "        res = np.array(mgua_model.predict(X_test.loc[clusters_test==i]))\n",
    "        res = res.reshape(len(mgua_model.buf_coef[0]), X_test.loc[clusters_test==i].shape[0]).mean(axis=0)\n",
    "        print(\"CLUSTER #\", i)\n",
    "        print()\n",
    "        print(\"r2 score на тестовой выборке = \", r2_score(y_test.loc[clusters_test==i], res))\n",
    "        y_sgn_res = [-1 if y_i <= 0 else 1 for y_i in res]\n",
    "        print()\n",
    "        print(classification_report(y_test.loc[clusters_test==i], y_sgn_res))\n",
    "    else:\n",
    "        print(\"CLUSTER #\", i)\n",
    "        print(\"No elements in test\")"
   ]
  },
  {
   "cell_type": "markdown",
   "metadata": {},
   "source": [
    "### Метод главных компонент и DBSCAN"
   ]
  },
  {
   "cell_type": "code",
   "execution_count": 41,
   "metadata": {},
   "outputs": [],
   "source": [
    "pca = PCA(n_components=9)\n",
    "cox_pca = pd.DataFrame(pca.fit_transform(cox))\n",
    "\n",
    "train_size = int(0.7 * cox_pca.shape[0])\n",
    "rand_fold = random.choice(np.arange(cox_pca.shape[0]).tolist(), train_size, False)\n",
    "X_train = pd.DataFrame(preprocessing.scale(cox_pca[:].loc[rand_fold]))\n",
    "y_train = cox_class_y[:].loc[rand_fold]\n",
    "X_test = pd.DataFrame(preprocessing.scale(cox_pca[:].loc[np.delete(np.arange(cox_pca.shape[0]), rand_fold)]))\n",
    "y_test = cox_class_y[:].loc[np.delete(np.arange(cox_pca.shape[0]), rand_fold)]"
   ]
  },
  {
   "cell_type": "code",
   "execution_count": 48,
   "metadata": {},
   "outputs": [
    {
     "data": {
      "application/vnd.jupyter.widget-view+json": {
       "model_id": "c3c55670ba42474f80d80c907dae8737",
       "version_major": 2,
       "version_minor": 0
      },
      "text/plain": [
       "VBox(children=(HTML(value=''), IntProgress(value=0, max=9)))"
      ]
     },
     "metadata": {},
     "output_type": "display_data"
    },
    {
     "data": {
      "application/vnd.jupyter.widget-view+json": {
       "model_id": "b177c4b4737848098f6a18f1683f0d90",
       "version_major": 2,
       "version_minor": 0
      },
      "text/plain": [
       "VBox(children=(HTML(value=''), IntProgress(value=0, max=9)))"
      ]
     },
     "metadata": {},
     "output_type": "display_data"
    },
    {
     "name": "stdout",
     "output_type": "stream",
     "text": [
      "CLUSTER # -1\n",
      "\n",
      "r2 score на тестовой выборке =  0.04043155225932338\n",
      "\n",
      "              precision    recall  f1-score   support\n",
      "\n",
      "          -1       0.84      1.00      0.91        16\n",
      "           1       1.00      0.25      0.40         4\n",
      "\n",
      "    accuracy                           0.85        20\n",
      "   macro avg       0.92      0.62      0.66        20\n",
      "weighted avg       0.87      0.85      0.81        20\n",
      "\n"
     ]
    },
    {
     "data": {
      "application/vnd.jupyter.widget-view+json": {
       "model_id": "002300c52cf1490dbcd8a36a0bc0c2d6",
       "version_major": 2,
       "version_minor": 0
      },
      "text/plain": [
       "VBox(children=(HTML(value=''), IntProgress(value=0, max=9)))"
      ]
     },
     "metadata": {},
     "output_type": "display_data"
    },
    {
     "data": {
      "application/vnd.jupyter.widget-view+json": {
       "model_id": "d9c1f90d362e4da18bbf5bc6a1478312",
       "version_major": 2,
       "version_minor": 0
      },
      "text/plain": [
       "VBox(children=(HTML(value=''), IntProgress(value=0, max=9)))"
      ]
     },
     "metadata": {},
     "output_type": "display_data"
    },
    {
     "name": "stdout",
     "output_type": "stream",
     "text": [
      "CLUSTER # 0\n",
      "\n",
      "r2 score на тестовой выборке =  -0.2544621946682346\n",
      "\n",
      "              precision    recall  f1-score   support\n",
      "\n",
      "          -1       0.29      0.13      0.18        15\n",
      "           1       0.48      0.71      0.57        17\n",
      "\n",
      "    accuracy                           0.44        32\n",
      "   macro avg       0.38      0.42      0.38        32\n",
      "weighted avg       0.39      0.44      0.39        32\n",
      "\n"
     ]
    },
    {
     "data": {
      "application/vnd.jupyter.widget-view+json": {
       "model_id": "2a46526b94034be280b63929e9f8ae48",
       "version_major": 2,
       "version_minor": 0
      },
      "text/plain": [
       "VBox(children=(HTML(value=''), IntProgress(value=0, max=9)))"
      ]
     },
     "metadata": {},
     "output_type": "display_data"
    },
    {
     "data": {
      "application/vnd.jupyter.widget-view+json": {
       "model_id": "8d4d178946b1441180c6944a2edaef21",
       "version_major": 2,
       "version_minor": 0
      },
      "text/plain": [
       "VBox(children=(HTML(value=''), IntProgress(value=0, max=9)))"
      ]
     },
     "metadata": {},
     "output_type": "display_data"
    },
    {
     "name": "stdout",
     "output_type": "stream",
     "text": [
      "CLUSTER # 1\n",
      "\n",
      "r2 score на тестовой выборке =  0.05370228771136676\n",
      "\n",
      "              precision    recall  f1-score   support\n",
      "\n",
      "          -1       0.76      0.46      0.58        28\n",
      "           1       0.59      0.85      0.70        26\n",
      "\n",
      "    accuracy                           0.65        54\n",
      "   macro avg       0.68      0.66      0.64        54\n",
      "weighted avg       0.68      0.65      0.64        54\n",
      "\n"
     ]
    },
    {
     "data": {
      "application/vnd.jupyter.widget-view+json": {
       "model_id": "90c8e616b1cd426998842d986f3678e0",
       "version_major": 2,
       "version_minor": 0
      },
      "text/plain": [
       "VBox(children=(HTML(value=''), IntProgress(value=0, max=9)))"
      ]
     },
     "metadata": {},
     "output_type": "display_data"
    },
    {
     "data": {
      "application/vnd.jupyter.widget-view+json": {
       "model_id": "444677a5e1d2445fad7a751fad426bee",
       "version_major": 2,
       "version_minor": 0
      },
      "text/plain": [
       "VBox(children=(HTML(value=''), IntProgress(value=0, max=9)))"
      ]
     },
     "metadata": {},
     "output_type": "display_data"
    },
    {
     "name": "stdout",
     "output_type": "stream",
     "text": [
      "CLUSTER # 2\n",
      "\n",
      "r2 score на тестовой выборке =  -0.20319643798159803\n",
      "\n",
      "              precision    recall  f1-score   support\n",
      "\n",
      "          -1       0.60      1.00      0.75        21\n",
      "           1       0.00      0.00      0.00        14\n",
      "\n",
      "    accuracy                           0.60        35\n",
      "   macro avg       0.30      0.50      0.37        35\n",
      "weighted avg       0.36      0.60      0.45        35\n",
      "\n"
     ]
    },
    {
     "name": "stderr",
     "output_type": "stream",
     "text": [
      "/Users/Varya/opt/anaconda3/lib/python3.7/site-packages/sklearn/metrics/_classification.py:1272: UndefinedMetricWarning: Precision and F-score are ill-defined and being set to 0.0 in labels with no predicted samples. Use `zero_division` parameter to control this behavior.\n",
      "  _warn_prf(average, modifier, msg_start, len(result))\n"
     ]
    },
    {
     "data": {
      "image/png": "[encoded data removed]",
      "text/plain": [
       "<Figure size 432x288 with 1 Axes>"
      ]
     },
     "metadata": {
      "needs_background": "light"
     },
     "output_type": "display_data"
    }
   ],
   "source": [
    "clusters = DBSCAN(eps=4.0, min_samples=30)\n",
    "clusters_all = clusters.fit_predict(cox_pca)\n",
    "clusters_train = clusters_all[rand_fold]\n",
    "clusters_test = clusters_all[np.delete(np.arange(cox_pca.shape[0]), rand_fold)]\n",
    "\n",
    "plt.hist(clusters_train)\n",
    "\n",
    "for i in np.unique(clusters.labels_):\n",
    "    mgua_model = mguaJN.MGUA(Q=20, C=0.6, I=10, model=Ridge(alpha=0.1))\n",
    "    mgua_model.fit(X_train.loc[clusters_train==i], y_train.loc[clusters_train==i])\n",
    "    if X_test.loc[clusters_test==i].shape[0] > 0:\n",
    "        res = np.array(mgua_model.predict(X_test.loc[clusters_test==i]))\n",
    "        res = res.reshape(len(mgua_model.buf_coef[0]), X_test.loc[clusters_test==i].shape[0]).mean(axis=0)\n",
    "        print(\"CLUSTER #\", i)\n",
    "        print()\n",
    "        print(\"r2 score на тестовой выборке = \", r2_score(y_test.loc[clusters_test==i], res))\n",
    "        y_sgn_res = [-1 if y_i <= 0 else 1 for y_i in res]\n",
    "        print()\n",
    "        print(classification_report(y_test.loc[clusters_test==i], y_sgn_res))\n",
    "    else:\n",
    "        print(\"CLUSTER #\", i)\n",
    "        print(\"No elements in test\")"
   ]
  },
  {
   "cell_type": "markdown",
   "metadata": {},
   "source": [
    "## Выборка er_lit NNdb*_UpTo3chains\n"
   ]
  },
  {
   "cell_type": "code",
   "execution_count": 49,
   "metadata": {},
   "outputs": [],
   "source": [
    "er = pd.read_csv('er_lit/er_lit_matrix_alphabet_NNdb*_UpTo3chains.csv', sep=',')\n",
    "er_y = pd.read_csv('er_lit/er_lit_y.csv', sep=',')"
   ]
  },
  {
   "cell_type": "code",
   "execution_count": 50,
   "metadata": {},
   "outputs": [
    {
     "data": {
      "text/plain": [
       "(393, 331)"
      ]
     },
     "execution_count": 50,
     "metadata": {},
     "output_type": "execute_result"
    }
   ],
   "source": [
    "normalized_er = preprocessing.normalize(er)\n",
    "normalized_er.shape"
   ]
  },
  {
   "cell_type": "code",
   "execution_count": 51,
   "metadata": {},
   "outputs": [
    {
     "data": {
      "image/png": "[encoded data removed]",
      "text/plain": [
       "<Figure size 720x288 with 1 Axes>"
      ]
     },
     "metadata": {
      "needs_background": "light"
     },
     "output_type": "display_data"
    }
   ],
   "source": [
    "num_nonzero_col = []\n",
    "for i in range(normalized_er.shape[1]):\n",
    "    num_nonzero_col.append(normalized_er[:, i].nonzero()[0].shape[0])\n",
    "plt.figure(figsize=(10,4))\n",
    "plt.title(\"Гистограмма количества ненулевых элементов в столбцах матрицы er_lit NNdb*_UpTo3chains\")\n",
    "_ = plt.hist(num_nonzero_col, bins=100)"
   ]
  },
  {
   "cell_type": "code",
   "execution_count": 52,
   "metadata": {},
   "outputs": [
    {
     "name": "stdout",
     "output_type": "stream",
     "text": [
      "количество столбцов с одним ненулевым элементом =  99 / 232\n"
     ]
    }
   ],
   "source": [
    "mask = np.array(num_nonzero_col) == 1\n",
    "print(\"количество столбцов с одним ненулевым элементом = \", mask.sum(), \"/\", (~mask).sum())"
   ]
  },
  {
   "cell_type": "markdown",
   "metadata": {},
   "source": [
    "### Нормализация y\n",
    "вычтем из y активность: для выборки er_lit - это 1.0"
   ]
  },
  {
   "cell_type": "code",
   "execution_count": 53,
   "metadata": {},
   "outputs": [],
   "source": [
    "er_y = er_y - 1.0"
   ]
  },
  {
   "cell_type": "code",
   "execution_count": 201,
   "metadata": {},
   "outputs": [],
   "source": [
    "mgua_model = mguaJN.MGUA(Q=20, C=0.6, I=10, model=Ridge(alpha=0.1))"
   ]
  },
  {
   "cell_type": "code",
   "execution_count": 222,
   "metadata": {},
   "outputs": [
    {
     "data": {
      "application/vnd.jupyter.widget-view+json": {
       "model_id": "99cbbea0479c497ca0dc4e93046fd4b9",
       "version_major": 2,
       "version_minor": 0
      },
      "text/plain": [
       "VBox(children=(HTML(value=''), IntProgress(value=0, max=331)))"
      ]
     },
     "metadata": {},
     "output_type": "display_data"
    },
    {
     "data": {
      "application/vnd.jupyter.widget-view+json": {
       "model_id": "ab6376d66993466997e013a4315125b4",
       "version_major": 2,
       "version_minor": 0
      },
      "text/plain": [
       "VBox(children=(HTML(value=''), IntProgress(value=0, max=9)))"
      ]
     },
     "metadata": {},
     "output_type": "display_data"
    },
    {
     "name": "stdout",
     "output_type": "stream",
     "text": [
      "r2 score на тестовой выборке =  -0.27573022250942825\n",
      "r2 score на тренировочной выборке =  0.06123850084744431\n"
     ]
    }
   ],
   "source": [
    "train_size = int(0.7 * er.shape[0])\n",
    "X_train = pd.DataFrame(preprocessing.scale(er[:][:train_size]))\n",
    "y_train = er_y[:][:train_size]\n",
    "X_test = pd.DataFrame(preprocessing.scale(er[:][train_size:]))\n",
    "y_test = er_y[:][train_size:]\n",
    "mgua_model.fit(X_train, y_train)\n",
    "res = np.array(mgua_model.predict(X_test))\n",
    "res_train = np.array(mgua_model.predict(X_train))\n",
    "res = res.reshape(len(mgua_model.buf_coef[0]), X_test.shape[0]).mean(axis=0)\n",
    "res_train = res_train.reshape(len(mgua_model.buf_coef[0]), X_train.shape[0]).mean(axis=0)\n",
    "print(\"r2 score на тестовой выборке = \", r2_score(y_test, res))\n",
    "print(\"r2 score на тренировочной выборке = \", r2_score(y_train, res_train))"
   ]
  },
  {
   "cell_type": "code",
   "execution_count": 223,
   "metadata": {},
   "outputs": [
    {
     "name": "stdout",
     "output_type": "stream",
     "text": [
      "              precision    recall  f1-score   support\n",
      "\n",
      "          -1       0.00      0.00      0.00        32\n",
      "           1       0.73      1.00      0.84        86\n",
      "\n",
      "    accuracy                           0.73       118\n",
      "   macro avg       0.36      0.50      0.42       118\n",
      "weighted avg       0.53      0.73      0.61       118\n",
      "\n",
      "roc_auc_score =  0.5\n"
     ]
    },
    {
     "name": "stderr",
     "output_type": "stream",
     "text": [
      "/Users/Varya/opt/anaconda3/lib/python3.7/site-packages/sklearn/metrics/_classification.py:1272: UndefinedMetricWarning: Precision and F-score are ill-defined and being set to 0.0 in labels with no predicted samples. Use `zero_division` parameter to control this behavior.\n",
      "  _warn_prf(average, modifier, msg_start, len(result))\n"
     ]
    }
   ],
   "source": [
    "y_np_test = y_test.to_numpy().reshape(-1)\n",
    "y_sgn_test = [-1 if y_i <= 0 else 1 for y_i in y_np_test]\n",
    "y_sgn_res = [-1 if y_i <= 0 else 1 for y_i in res]\n",
    "print(classification_report(y_sgn_test, y_sgn_res))\n",
    "print(\"roc_auc_score = \", roc_auc_score(y_sgn_test, y_sgn_res))"
   ]
  },
  {
   "cell_type": "markdown",
   "metadata": {},
   "source": [
    "Подадим в МГУА ответы для классификации:"
   ]
  },
  {
   "cell_type": "code",
   "execution_count": 224,
   "metadata": {},
   "outputs": [],
   "source": [
    "er_np_y = er_y.to_numpy().reshape(-1)\n",
    "er_class_y = pd.DataFrame([-1 if y_i <= 0 else 1 for y_i in er_np_y])"
   ]
  },
  {
   "cell_type": "code",
   "execution_count": 225,
   "metadata": {},
   "outputs": [
    {
     "data": {
      "application/vnd.jupyter.widget-view+json": {
       "model_id": "871e47ef56a842c38c07d36def88f81c",
       "version_major": 2,
       "version_minor": 0
      },
      "text/plain": [
       "VBox(children=(HTML(value=''), IntProgress(value=0, max=331)))"
      ]
     },
     "metadata": {},
     "output_type": "display_data"
    },
    {
     "data": {
      "application/vnd.jupyter.widget-view+json": {
       "model_id": "05bd759eee8e4354b8c9fb605287aab8",
       "version_major": 2,
       "version_minor": 0
      },
      "text/plain": [
       "VBox(children=(HTML(value=''), IntProgress(value=0, max=9)))"
      ]
     },
     "metadata": {},
     "output_type": "display_data"
    },
    {
     "name": "stdout",
     "output_type": "stream",
     "text": [
      "r2 score на тестовой выборке =  -0.00281986272020629\n",
      "\n",
      "              precision    recall  f1-score   support\n",
      "\n",
      "          -1       0.00      0.00      0.00        28\n",
      "           1       0.76      1.00      0.87        90\n",
      "\n",
      "    accuracy                           0.76       118\n",
      "   macro avg       0.38      0.50      0.43       118\n",
      "weighted avg       0.58      0.76      0.66       118\n",
      "\n",
      "\n",
      "roc_auc_score =  0.5\n"
     ]
    },
    {
     "name": "stderr",
     "output_type": "stream",
     "text": [
      "/Users/Varya/opt/anaconda3/lib/python3.7/site-packages/sklearn/metrics/_classification.py:1272: UndefinedMetricWarning: Precision and F-score are ill-defined and being set to 0.0 in labels with no predicted samples. Use `zero_division` parameter to control this behavior.\n",
      "  _warn_prf(average, modifier, msg_start, len(result))\n"
     ]
    }
   ],
   "source": [
    "# train_size = int(0.7 * er.shape[0])\n",
    "rand_fold = random.choice(np.arange(er.shape[0]).tolist(), train_size, False)\n",
    "X_train = pd.DataFrame(preprocessing.scale(er[:].loc[rand_fold]))\n",
    "y_train = er_class_y[:].loc[rand_fold]\n",
    "X_test = pd.DataFrame(preprocessing.scale(er[:].loc[np.delete(np.arange(er.shape[0]), rand_fold)]))\n",
    "y_test = er_class_y[:].loc[np.delete(np.arange(er.shape[0]), rand_fold)]\n",
    "# X_train = pd.DataFrame(preprocessing.scale(bzr[:][:train_size]))\n",
    "# y_train = bzr_class_y[:][:train_size]\n",
    "# X_test = pd.DataFrame(preprocessing.scale(bzr[:][train_size:]))\n",
    "# y_test = bzr_class_y[:][train_size:]\n",
    "mgua_model.fit(X_train, y_train)\n",
    "res = np.array(mgua_model.predict(X_test))\n",
    "# res_train = np.array(mgua_model.predict(X_train))\n",
    "res = res.reshape(res.shape[0], res.shape[1]).mean(axis=0)\n",
    "# res_train = res_train.reshape(len(mgua_model.buf_coef[0]), X_train.shape[0]).mean(axis=0)\n",
    "print(\"r2 score на тестовой выборке = \", r2_score(y_test, res))\n",
    "# print(\"r2 score на тренировочной выборке = \", r2_score(y_train, res_train))\n",
    "y_sgn_res = [-1 if y_i <= 0 else 1 for y_i in res]\n",
    "print()\n",
    "print(classification_report(y_test, y_sgn_res))\n",
    "print()\n",
    "print(\"roc_auc_score = \", roc_auc_score(y_test, y_sgn_res))"
   ]
  },
  {
   "cell_type": "markdown",
   "metadata": {},
   "source": [
    "## Кластеризация"
   ]
  },
  {
   "cell_type": "code",
   "execution_count": 54,
   "metadata": {},
   "outputs": [],
   "source": [
    "er_np_y = er_y.to_numpy().reshape(-1)\n",
    "er_class_y = pd.DataFrame([-1 if y_i <= 0 else 1 for y_i in er_np_y])"
   ]
  },
  {
   "cell_type": "code",
   "execution_count": 55,
   "metadata": {},
   "outputs": [],
   "source": [
    "train_size = int(0.7 * er.shape[0])\n",
    "rand_fold = random.choice(np.arange(er.shape[0]).tolist(), train_size, False)\n",
    "X_train = pd.DataFrame(preprocessing.scale(er[:].loc[rand_fold]))\n",
    "y_train = er_class_y[:].loc[rand_fold]\n",
    "X_test = pd.DataFrame(preprocessing.scale(er[:].loc[np.delete(np.arange(er.shape[0]), rand_fold)]))\n",
    "y_test = er_class_y[:].loc[np.delete(np.arange(er.shape[0]), rand_fold)]"
   ]
  },
  {
   "cell_type": "markdown",
   "metadata": {},
   "source": [
    "### Кластеризация с помощью метода к-средних\n"
   ]
  },
  {
   "cell_type": "code",
   "execution_count": 56,
   "metadata": {},
   "outputs": [
    {
     "name": "stdout",
     "output_type": "stream",
     "text": [
      "Founded good clusters: [ 89 107  79]\n",
      "\n"
     ]
    },
    {
     "data": {
      "application/vnd.jupyter.widget-view+json": {
       "model_id": "eb71f05fd75b4a428fd614f52f8833fc",
       "version_major": 2,
       "version_minor": 0
      },
      "text/plain": [
       "VBox(children=(HTML(value=''), IntProgress(value=0, max=331)))"
      ]
     },
     "metadata": {},
     "output_type": "display_data"
    },
    {
     "data": {
      "application/vnd.jupyter.widget-view+json": {
       "model_id": "c1bfe849cfea44fab679f1227bf688ba",
       "version_major": 2,
       "version_minor": 0
      },
      "text/plain": [
       "VBox(children=(HTML(value=''), IntProgress(value=0, max=9)))"
      ]
     },
     "metadata": {},
     "output_type": "display_data"
    },
    {
     "name": "stdout",
     "output_type": "stream",
     "text": [
      "CLUSTER # 0\n",
      "\n",
      "r2 score на тестовой выборке =  -0.002244567703474587\n",
      "\n",
      "              precision    recall  f1-score   support\n",
      "\n",
      "          -1       0.00      0.00      0.00        11\n",
      "           1       0.72      1.00      0.84        28\n",
      "\n",
      "    accuracy                           0.72        39\n",
      "   macro avg       0.36      0.50      0.42        39\n",
      "weighted avg       0.52      0.72      0.60        39\n",
      "\n"
     ]
    },
    {
     "name": "stderr",
     "output_type": "stream",
     "text": [
      "/Users/Varya/opt/anaconda3/lib/python3.7/site-packages/sklearn/metrics/_classification.py:1272: UndefinedMetricWarning: Precision and F-score are ill-defined and being set to 0.0 in labels with no predicted samples. Use `zero_division` parameter to control this behavior.\n",
      "  _warn_prf(average, modifier, msg_start, len(result))\n"
     ]
    },
    {
     "data": {
      "application/vnd.jupyter.widget-view+json": {
       "model_id": "e11d533fd5bd4f05a679190571304da6",
       "version_major": 2,
       "version_minor": 0
      },
      "text/plain": [
       "VBox(children=(HTML(value=''), IntProgress(value=0, max=331)))"
      ]
     },
     "metadata": {},
     "output_type": "display_data"
    },
    {
     "data": {
      "application/vnd.jupyter.widget-view+json": {
       "model_id": "f00c1ecc278347718ccbb96fe3f2d6d7",
       "version_major": 2,
       "version_minor": 0
      },
      "text/plain": [
       "VBox(children=(HTML(value=''), IntProgress(value=0, max=9)))"
      ]
     },
     "metadata": {},
     "output_type": "display_data"
    },
    {
     "name": "stdout",
     "output_type": "stream",
     "text": [
      "CLUSTER # 1\n",
      "\n",
      "r2 score на тестовой выборке =  -0.019652371386147838\n",
      "\n",
      "              precision    recall  f1-score   support\n",
      "\n",
      "          -1       0.00      0.00      0.00        12\n",
      "           1       0.69      1.00      0.82        27\n",
      "\n",
      "    accuracy                           0.69        39\n",
      "   macro avg       0.35      0.50      0.41        39\n",
      "weighted avg       0.48      0.69      0.57        39\n",
      "\n"
     ]
    },
    {
     "name": "stderr",
     "output_type": "stream",
     "text": [
      "/Users/Varya/opt/anaconda3/lib/python3.7/site-packages/sklearn/metrics/_classification.py:1272: UndefinedMetricWarning: Precision and F-score are ill-defined and being set to 0.0 in labels with no predicted samples. Use `zero_division` parameter to control this behavior.\n",
      "  _warn_prf(average, modifier, msg_start, len(result))\n"
     ]
    },
    {
     "data": {
      "application/vnd.jupyter.widget-view+json": {
       "model_id": "13ad6c02b2ab41f5b65859e3d771b287",
       "version_major": 2,
       "version_minor": 0
      },
      "text/plain": [
       "VBox(children=(HTML(value=''), IntProgress(value=0, max=331)))"
      ]
     },
     "metadata": {},
     "output_type": "display_data"
    },
    {
     "data": {
      "application/vnd.jupyter.widget-view+json": {
       "model_id": "df91e093b11e4b0d82692b911d632dbf",
       "version_major": 2,
       "version_minor": 0
      },
      "text/plain": [
       "VBox(children=(HTML(value=''), IntProgress(value=0, max=9)))"
      ]
     },
     "metadata": {},
     "output_type": "display_data"
    },
    {
     "name": "stdout",
     "output_type": "stream",
     "text": [
      "CLUSTER # 2\n",
      "\n",
      "r2 score на тестовой выборке =  -0.04902084738217649\n",
      "\n",
      "              precision    recall  f1-score   support\n",
      "\n",
      "          -1       0.00      0.00      0.00         5\n",
      "           1       0.88      1.00      0.93        35\n",
      "\n",
      "    accuracy                           0.88        40\n",
      "   macro avg       0.44      0.50      0.47        40\n",
      "weighted avg       0.77      0.88      0.82        40\n",
      "\n"
     ]
    },
    {
     "name": "stderr",
     "output_type": "stream",
     "text": [
      "/Users/Varya/opt/anaconda3/lib/python3.7/site-packages/sklearn/metrics/_classification.py:1272: UndefinedMetricWarning: Precision and F-score are ill-defined and being set to 0.0 in labels with no predicted samples. Use `zero_division` parameter to control this behavior.\n",
      "  _warn_prf(average, modifier, msg_start, len(result))\n"
     ]
    }
   ],
   "source": [
    "k = 3\n",
    "min_elem_in_cluster = 25\n",
    "clusters = KMeans(n_clusters=k)\n",
    "clusters_train = clusters.fit_predict(X_train)\n",
    "\n",
    "is_good_clusters = False\n",
    "while is_good_clusters == False:\n",
    "    clusters_train = clusters.fit_predict(X_train)\n",
    "    elems_in_clusters = np.array([np.array([clusters_train == i]).sum() for i in np.unique(clusters_train)])\n",
    "    elems_in_clusters_bool = elems_in_clusters > min_elem_in_cluster\n",
    "    is_good_clusters = np.all(elems_in_clusters_bool)\n",
    "print('Founded good clusters:', elems_in_clusters)\n",
    "print()\n",
    "clusters_test = clusters.predict(X_test)\n",
    "\n",
    "for i in range(k):\n",
    "    mgua_model = mguaJN.MGUA(Q=20, C=0.6, I=10, model=Ridge(alpha=0.1))\n",
    "    mgua_model.fit(X_train.loc[clusters_train==i], y_train.loc[clusters_train==i])\n",
    "    if X_test.loc[clusters_test==i].shape[0] > 0:\n",
    "        res = np.array(mgua_model.predict(X_test.loc[clusters_test==i]))\n",
    "        res = res.reshape(len(mgua_model.buf_coef[0]), X_test.loc[clusters_test==i].shape[0]).mean(axis=0)\n",
    "        print(\"CLUSTER #\", i)\n",
    "        print()\n",
    "        print(\"r2 score на тестовой выборке = \", r2_score(y_test.loc[clusters_test==i], res))\n",
    "        y_sgn_res = [-1 if y_i <= 0 else 1 for y_i in res]\n",
    "        print()\n",
    "        print(classification_report(y_test.loc[clusters_test==i], y_sgn_res))\n",
    "    else:\n",
    "        print(\"CLUSTER #\", i)\n",
    "        print(\"No elements in test\")"
   ]
  },
  {
   "cell_type": "markdown",
   "metadata": {},
   "source": [
    "## Кластеризация с помощью метода DBSCAN\n"
   ]
  },
  {
   "cell_type": "code",
   "execution_count": 57,
   "metadata": {},
   "outputs": [],
   "source": [
    "train_size = int(0.7 * er.shape[0])\n",
    "rand_fold = random.choice(np.arange(er.shape[0]).tolist(), train_size, False)\n",
    "X_train = pd.DataFrame(preprocessing.scale(er[:].loc[rand_fold]))\n",
    "y_train = er_class_y[:].loc[rand_fold]\n",
    "X_test = pd.DataFrame(preprocessing.scale(er[:].loc[np.delete(np.arange(er.shape[0]), rand_fold)]))\n",
    "y_test = er_class_y[:].loc[np.delete(np.arange(er.shape[0]), rand_fold)]"
   ]
  },
  {
   "cell_type": "code",
   "execution_count": 72,
   "metadata": {},
   "outputs": [
    {
     "data": {
      "text/plain": [
       "(array([ 30.,   0.,   0., 179.,   0.,   0.,  44.,   0.,   0.,  22.]),\n",
       " array([-1. , -0.7, -0.4, -0.1,  0.2,  0.5,  0.8,  1.1,  1.4,  1.7,  2. ]),\n",
       " <a list of 10 Patch objects>)"
      ]
     },
     "execution_count": 72,
     "metadata": {},
     "output_type": "execute_result"
    },
    {
     "data": {
      "image/png": "[encoded data removed]",
      "text/plain": [
       "<Figure size 432x288 with 1 Axes>"
      ]
     },
     "metadata": {
      "needs_background": "light"
     },
     "output_type": "display_data"
    }
   ],
   "source": [
    "clusters = DBSCAN(eps=5.3, min_samples=30)\n",
    "clusters_all = clusters.fit_predict(er)\n",
    "clusters_train = clusters_all[rand_fold]\n",
    "clusters_test = clusters_all[np.delete(np.arange(er.shape[0]), rand_fold)]\n",
    "plt.hist(clusters_train)"
   ]
  },
  {
   "cell_type": "code",
   "execution_count": 73,
   "metadata": {},
   "outputs": [
    {
     "data": {
      "application/vnd.jupyter.widget-view+json": {
       "model_id": "7904ae382d2e4ff38ad9774f3d709279",
       "version_major": 2,
       "version_minor": 0
      },
      "text/plain": [
       "VBox(children=(HTML(value=''), IntProgress(value=0, max=331)))"
      ]
     },
     "metadata": {},
     "output_type": "display_data"
    },
    {
     "data": {
      "application/vnd.jupyter.widget-view+json": {
       "model_id": "2822cbad40e14168bd03d43c303882a4",
       "version_major": 2,
       "version_minor": 0
      },
      "text/plain": [
       "VBox(children=(HTML(value=''), IntProgress(value=0, max=9)))"
      ]
     },
     "metadata": {},
     "output_type": "display_data"
    },
    {
     "name": "stdout",
     "output_type": "stream",
     "text": [
      "CLUSTER # -1\n",
      "\n",
      "r2 score на тестовой выборке =  0.10999092795227228\n",
      "\n",
      "              precision    recall  f1-score   support\n",
      "\n",
      "          -1       0.65      0.92      0.76        12\n",
      "           1       0.80      0.40      0.53        10\n",
      "\n",
      "    accuracy                           0.68        22\n",
      "   macro avg       0.72      0.66      0.65        22\n",
      "weighted avg       0.72      0.68      0.66        22\n",
      "\n"
     ]
    },
    {
     "data": {
      "application/vnd.jupyter.widget-view+json": {
       "model_id": "6e8ec0f8cf194c3d9537086e9d741f39",
       "version_major": 2,
       "version_minor": 0
      },
      "text/plain": [
       "VBox(children=(HTML(value=''), IntProgress(value=0, max=331)))"
      ]
     },
     "metadata": {},
     "output_type": "display_data"
    },
    {
     "data": {
      "application/vnd.jupyter.widget-view+json": {
       "model_id": "805acf5c757a468f9ba73e9a00ab8962",
       "version_major": 2,
       "version_minor": 0
      },
      "text/plain": [
       "VBox(children=(HTML(value=''), IntProgress(value=0, max=9)))"
      ]
     },
     "metadata": {},
     "output_type": "display_data"
    },
    {
     "name": "stdout",
     "output_type": "stream",
     "text": [
      "CLUSTER # 0\n",
      "\n",
      "r2 score на тестовой выборке =  -0.03150778158320189\n",
      "\n",
      "              precision    recall  f1-score   support\n",
      "\n",
      "          -1       0.00      0.00      0.00        14\n",
      "           1       0.80      1.00      0.89        56\n",
      "\n",
      "    accuracy                           0.80        70\n",
      "   macro avg       0.40      0.50      0.44        70\n",
      "weighted avg       0.64      0.80      0.71        70\n",
      "\n"
     ]
    },
    {
     "name": "stderr",
     "output_type": "stream",
     "text": [
      "/Users/Varya/opt/anaconda3/lib/python3.7/site-packages/sklearn/metrics/_classification.py:1272: UndefinedMetricWarning: Precision and F-score are ill-defined and being set to 0.0 in labels with no predicted samples. Use `zero_division` parameter to control this behavior.\n",
      "  _warn_prf(average, modifier, msg_start, len(result))\n"
     ]
    },
    {
     "data": {
      "application/vnd.jupyter.widget-view+json": {
       "model_id": "cde5460c7e1945f6804961796fea2c6a",
       "version_major": 2,
       "version_minor": 0
      },
      "text/plain": [
       "VBox(children=(HTML(value=''), IntProgress(value=0, max=331)))"
      ]
     },
     "metadata": {},
     "output_type": "display_data"
    },
    {
     "data": {
      "application/vnd.jupyter.widget-view+json": {
       "model_id": "640d1d67e3b84a36801660c5bf5d48c7",
       "version_major": 2,
       "version_minor": 0
      },
      "text/plain": [
       "VBox(children=(HTML(value=''), IntProgress(value=0, max=9)))"
      ]
     },
     "metadata": {},
     "output_type": "display_data"
    },
    {
     "name": "stdout",
     "output_type": "stream",
     "text": [
      "CLUSTER # 1\n",
      "\n",
      "r2 score на тестовой выборке =  -0.07463842975206614\n",
      "\n",
      "              precision    recall  f1-score   support\n",
      "\n",
      "          -1       0.00      0.00      0.00         5\n",
      "           1       0.67      1.00      0.80        10\n",
      "\n",
      "    accuracy                           0.67        15\n",
      "   macro avg       0.33      0.50      0.40        15\n",
      "weighted avg       0.44      0.67      0.53        15\n",
      "\n"
     ]
    },
    {
     "name": "stderr",
     "output_type": "stream",
     "text": [
      "/Users/Varya/opt/anaconda3/lib/python3.7/site-packages/sklearn/metrics/_classification.py:1272: UndefinedMetricWarning: Precision and F-score are ill-defined and being set to 0.0 in labels with no predicted samples. Use `zero_division` parameter to control this behavior.\n",
      "  _warn_prf(average, modifier, msg_start, len(result))\n"
     ]
    },
    {
     "data": {
      "application/vnd.jupyter.widget-view+json": {
       "model_id": "a65e5200b79b49baad65f89195528ab1",
       "version_major": 2,
       "version_minor": 0
      },
      "text/plain": [
       "VBox(children=(HTML(value=''), IntProgress(value=0, max=331)))"
      ]
     },
     "metadata": {},
     "output_type": "display_data"
    },
    {
     "data": {
      "application/vnd.jupyter.widget-view+json": {
       "model_id": "21152c9dd7d147ae8e2385bf0fd8861f",
       "version_major": 2,
       "version_minor": 0
      },
      "text/plain": [
       "VBox(children=(HTML(value=''), IntProgress(value=0, max=9)))"
      ]
     },
     "metadata": {},
     "output_type": "display_data"
    },
    {
     "name": "stdout",
     "output_type": "stream",
     "text": [
      "CLUSTER # 2\n",
      "\n",
      "r2 score на тестовой выборке =  -0.2250000000000001\n",
      "\n",
      "              precision    recall  f1-score   support\n",
      "\n",
      "          -1       0.00      0.00      0.00         1\n",
      "           1       0.91      1.00      0.95        10\n",
      "\n",
      "    accuracy                           0.91        11\n",
      "   macro avg       0.45      0.50      0.48        11\n",
      "weighted avg       0.83      0.91      0.87        11\n",
      "\n"
     ]
    },
    {
     "name": "stderr",
     "output_type": "stream",
     "text": [
      "/Users/Varya/opt/anaconda3/lib/python3.7/site-packages/sklearn/metrics/_classification.py:1272: UndefinedMetricWarning: Precision and F-score are ill-defined and being set to 0.0 in labels with no predicted samples. Use `zero_division` parameter to control this behavior.\n",
      "  _warn_prf(average, modifier, msg_start, len(result))\n"
     ]
    }
   ],
   "source": [
    "clusters = DBSCAN(eps=5.3, min_samples=30)\n",
    "clusters_all = clusters.fit_predict(er)\n",
    "clusters_train = clusters_all[rand_fold]\n",
    "clusters_test = clusters_all[np.delete(np.arange(er.shape[0]), rand_fold)]\n",
    "\n",
    "for i in np.unique(clusters.labels_):\n",
    "    mgua_model = mguaJN.MGUA(Q=20, C=0.6, I=10, model=Ridge(alpha=0.1))\n",
    "    mgua_model.fit(X_train.loc[clusters_train==i], y_train.loc[clusters_train==i])\n",
    "    if X_test.loc[clusters_test==i].shape[0] > 0:\n",
    "        res = np.array(mgua_model.predict(X_test.loc[clusters_test==i]))\n",
    "        res = res.reshape(len(mgua_model.buf_coef[0]), X_test.loc[clusters_test==i].shape[0]).mean(axis=0)\n",
    "        print(\"CLUSTER #\", i)\n",
    "        print()\n",
    "        print(\"r2 score на тестовой выборке = \", r2_score(y_test.loc[clusters_test==i], res))\n",
    "        y_sgn_res = [-1 if y_i <= 0 else 1 for y_i in res]\n",
    "        print()\n",
    "        print(classification_report(y_test.loc[clusters_test==i], y_sgn_res))\n",
    "    else:\n",
    "        print(\"CLUSTER #\", i)\n",
    "        print(\"No elements in test\")"
   ]
  },
  {
   "cell_type": "markdown",
   "metadata": {},
   "source": [
    "### Метод главных компонент и DBSCAN"
   ]
  },
  {
   "cell_type": "code",
   "execution_count": 74,
   "metadata": {},
   "outputs": [],
   "source": [
    "pca = PCA(n_components=10)\n",
    "er_pca = pd.DataFrame(pca.fit_transform(er))\n",
    "\n",
    "train_size = int(0.7 * er_pca.shape[0])\n",
    "rand_fold = random.choice(np.arange(er_pca.shape[0]).tolist(), train_size, False)\n",
    "X_train = pd.DataFrame(preprocessing.scale(er_pca[:].loc[rand_fold]))\n",
    "y_train = er_class_y[:].loc[rand_fold]\n",
    "X_test = pd.DataFrame(preprocessing.scale(er_pca[:].loc[np.delete(np.arange(er_pca.shape[0]), rand_fold)]))\n",
    "y_test = er_class_y[:].loc[np.delete(np.arange(er_pca.shape[0]), rand_fold)]"
   ]
  },
  {
   "cell_type": "code",
   "execution_count": 84,
   "metadata": {},
   "outputs": [
    {
     "data": {
      "application/vnd.jupyter.widget-view+json": {
       "model_id": "5f1cf238c212450da8ecc5d0022a8576",
       "version_major": 2,
       "version_minor": 0
      },
      "text/plain": [
       "VBox(children=(HTML(value=''), IntProgress(value=0, max=10)))"
      ]
     },
     "metadata": {},
     "output_type": "display_data"
    },
    {
     "data": {
      "application/vnd.jupyter.widget-view+json": {
       "model_id": "8ef9f160ed3b41f18942289a57656c4b",
       "version_major": 2,
       "version_minor": 0
      },
      "text/plain": [
       "VBox(children=(HTML(value=''), IntProgress(value=0, max=9)))"
      ]
     },
     "metadata": {},
     "output_type": "display_data"
    },
    {
     "name": "stdout",
     "output_type": "stream",
     "text": [
      "CLUSTER # -1\n",
      "\n",
      "r2 score на тестовой выборке =  0.0467691190668067\n",
      "\n",
      "              precision    recall  f1-score   support\n",
      "\n",
      "          -1       0.57      0.67      0.62         6\n",
      "           1       0.67      0.57      0.62         7\n",
      "\n",
      "    accuracy                           0.62        13\n",
      "   macro avg       0.62      0.62      0.62        13\n",
      "weighted avg       0.62      0.62      0.62        13\n",
      "\n"
     ]
    },
    {
     "data": {
      "application/vnd.jupyter.widget-view+json": {
       "model_id": "8515a16a1f4648f6b68553add525627b",
       "version_major": 2,
       "version_minor": 0
      },
      "text/plain": [
       "VBox(children=(HTML(value=''), IntProgress(value=0, max=10)))"
      ]
     },
     "metadata": {},
     "output_type": "display_data"
    },
    {
     "data": {
      "application/vnd.jupyter.widget-view+json": {
       "model_id": "662aa904ada54eb39e248a28d2131ffc",
       "version_major": 2,
       "version_minor": 0
      },
      "text/plain": [
       "VBox(children=(HTML(value=''), IntProgress(value=0, max=9)))"
      ]
     },
     "metadata": {},
     "output_type": "display_data"
    },
    {
     "name": "stdout",
     "output_type": "stream",
     "text": [
      "CLUSTER # 0\n",
      "\n",
      "r2 score на тестовой выборке =  -0.11252690822075095\n",
      "\n",
      "              precision    recall  f1-score   support\n",
      "\n",
      "          -1       0.00      0.00      0.00        13\n",
      "           1       0.82      0.98      0.89        59\n",
      "\n",
      "    accuracy                           0.81        72\n",
      "   macro avg       0.41      0.49      0.45        72\n",
      "weighted avg       0.67      0.81      0.73        72\n",
      "\n"
     ]
    },
    {
     "data": {
      "application/vnd.jupyter.widget-view+json": {
       "model_id": "9b983a0892324161961a2fa446ec03b9",
       "version_major": 2,
       "version_minor": 0
      },
      "text/plain": [
       "VBox(children=(HTML(value=''), IntProgress(value=0, max=10)))"
      ]
     },
     "metadata": {},
     "output_type": "display_data"
    },
    {
     "data": {
      "application/vnd.jupyter.widget-view+json": {
       "model_id": "09d286bd954a4807acad22b0939320ca",
       "version_major": 2,
       "version_minor": 0
      },
      "text/plain": [
       "VBox(children=(HTML(value=''), IntProgress(value=0, max=9)))"
      ]
     },
     "metadata": {},
     "output_type": "display_data"
    },
    {
     "name": "stdout",
     "output_type": "stream",
     "text": [
      "CLUSTER # 1\n",
      "\n",
      "r2 score на тестовой выборке =  0.09740386337831874\n",
      "\n",
      "              precision    recall  f1-score   support\n",
      "\n",
      "          -1       0.50      0.14      0.22         7\n",
      "           1       0.68      0.93      0.79        14\n",
      "\n",
      "    accuracy                           0.67        21\n",
      "   macro avg       0.59      0.54      0.51        21\n",
      "weighted avg       0.62      0.67      0.60        21\n",
      "\n"
     ]
    },
    {
     "data": {
      "application/vnd.jupyter.widget-view+json": {
       "model_id": "47e208e7dcc34e549876b5eab9ba93b6",
       "version_major": 2,
       "version_minor": 0
      },
      "text/plain": [
       "VBox(children=(HTML(value=''), IntProgress(value=0, max=10)))"
      ]
     },
     "metadata": {},
     "output_type": "display_data"
    },
    {
     "data": {
      "application/vnd.jupyter.widget-view+json": {
       "model_id": "19383be2f9054b1c90de522f37952f55",
       "version_major": 2,
       "version_minor": 0
      },
      "text/plain": [
       "VBox(children=(HTML(value=''), IntProgress(value=0, max=9)))"
      ]
     },
     "metadata": {},
     "output_type": "display_data"
    },
    {
     "name": "stdout",
     "output_type": "stream",
     "text": [
      "CLUSTER # 2\n",
      "\n",
      "r2 score на тестовой выборке =  -3.259833787654661\n",
      "\n",
      "              precision    recall  f1-score   support\n",
      "\n",
      "          -1       0.18      1.00      0.31         2\n",
      "           1       1.00      0.10      0.18        10\n",
      "\n",
      "    accuracy                           0.25        12\n",
      "   macro avg       0.59      0.55      0.24        12\n",
      "weighted avg       0.86      0.25      0.20        12\n",
      "\n"
     ]
    },
    {
     "data": {
      "image/png": "[encoded data removed]",
      "text/plain": [
       "<Figure size 432x288 with 1 Axes>"
      ]
     },
     "metadata": {
      "needs_background": "light"
     },
     "output_type": "display_data"
    }
   ],
   "source": [
    "clusters = DBSCAN(eps=4.0, min_samples=30)\n",
    "clusters_all = clusters.fit_predict(er_pca)\n",
    "clusters_train = clusters_all[rand_fold]\n",
    "clusters_test = clusters_all[np.delete(np.arange(er.shape[0]), rand_fold)]\n",
    "plt.hist(clusters_test)\n",
    "\n",
    "for i in np.unique(clusters.labels_):\n",
    "    mgua_model = mguaJN.MGUA(Q=20, C=0.6, I=10, model=Ridge(alpha=0.1))\n",
    "    mgua_model.fit(X_train.loc[clusters_train==i], y_train.loc[clusters_train==i])\n",
    "    if X_test.loc[clusters_test==i].shape[0] > 0:\n",
    "        res = np.array(mgua_model.predict(X_test.loc[clusters_test==i]))\n",
    "        res = res.reshape(len(mgua_model.buf_coef[0]), X_test.loc[clusters_test==i].shape[0]).mean(axis=0)\n",
    "        print(\"CLUSTER #\", i)\n",
    "        print()\n",
    "        print(\"r2 score на тестовой выборке = \", r2_score(y_test.loc[clusters_test==i], res))\n",
    "        y_sgn_res = [-1 if y_i <= 0 else 1 for y_i in res]\n",
    "        print()\n",
    "        print(classification_report(y_test.loc[clusters_test==i], y_sgn_res))\n",
    "    else:\n",
    "        print(\"CLUSTER #\", i)\n",
    "        print(\"No elements in test\")"
   ]
  },
  {
   "cell_type": "markdown",
   "metadata": {},
   "source": [
    "## Выборка er_lit NNd**_UpTo3chains"
   ]
  },
  {
   "cell_type": "code",
   "execution_count": 85,
   "metadata": {},
   "outputs": [],
   "source": [
    "er = pd.read_csv('er_lit/er_lit_matrix_alphabet_NNd**_UpTo3chains.csv', sep=',')\n",
    "er_y = pd.read_csv('er_lit/er_lit_y.csv', sep=',')"
   ]
  },
  {
   "cell_type": "code",
   "execution_count": 86,
   "metadata": {},
   "outputs": [
    {
     "data": {
      "text/plain": [
       "(393, 137)"
      ]
     },
     "execution_count": 86,
     "metadata": {},
     "output_type": "execute_result"
    }
   ],
   "source": [
    "normalized_er = preprocessing.normalize(er)\n",
    "normalized_er.shape"
   ]
  },
  {
   "cell_type": "code",
   "execution_count": 228,
   "metadata": {},
   "outputs": [
    {
     "data": {
      "image/png": "[encoded data removed]",
      "text/plain": [
       "<Figure size 720x288 with 1 Axes>"
      ]
     },
     "metadata": {
      "needs_background": "light"
     },
     "output_type": "display_data"
    }
   ],
   "source": [
    "num_nonzero_col = []\n",
    "for i in range(normalized_er.shape[1]):\n",
    "    num_nonzero_col.append(normalized_er[:, i].nonzero()[0].shape[0])\n",
    "plt.figure(figsize=(10,4))\n",
    "plt.title(\"Гистограмма количества ненулевых элементов в столбцах матрицы er_lit NNd**_UpTo3chains\")\n",
    "_ = plt.hist(num_nonzero_col, bins=100)"
   ]
  },
  {
   "cell_type": "code",
   "execution_count": 229,
   "metadata": {},
   "outputs": [
    {
     "name": "stdout",
     "output_type": "stream",
     "text": [
      "количество столбцов с одним ненулевым элементом =  33 / 104\n"
     ]
    }
   ],
   "source": [
    "mask = np.array(num_nonzero_col) == 1\n",
    "print(\"количество столбцов с одним ненулевым элементом = \", mask.sum(), \"/\", (~mask).sum())"
   ]
  },
  {
   "cell_type": "markdown",
   "metadata": {},
   "source": [
    "### Нормализация y\n",
    "вычтем из y активность: для выборки er_lit - это 1.0"
   ]
  },
  {
   "cell_type": "code",
   "execution_count": 87,
   "metadata": {},
   "outputs": [],
   "source": [
    "er_y = er_y - 1.0"
   ]
  },
  {
   "cell_type": "code",
   "execution_count": 231,
   "metadata": {},
   "outputs": [],
   "source": [
    "mgua_model = mguaJN.MGUA(Q=20, C=0.6, I=10, model=Ridge(alpha=0.1))"
   ]
  },
  {
   "cell_type": "code",
   "execution_count": 232,
   "metadata": {},
   "outputs": [
    {
     "data": {
      "application/vnd.jupyter.widget-view+json": {
       "model_id": "185c021d0f874573939a2674ecc197f2",
       "version_major": 2,
       "version_minor": 0
      },
      "text/plain": [
       "VBox(children=(HTML(value=''), IntProgress(value=0, max=137)))"
      ]
     },
     "metadata": {},
     "output_type": "display_data"
    },
    {
     "data": {
      "application/vnd.jupyter.widget-view+json": {
       "model_id": "dd59b602db004679a82ee50857d77cf3",
       "version_major": 2,
       "version_minor": 0
      },
      "text/plain": [
       "VBox(children=(HTML(value=''), IntProgress(value=0, max=9)))"
      ]
     },
     "metadata": {},
     "output_type": "display_data"
    },
    {
     "name": "stdout",
     "output_type": "stream",
     "text": [
      "r2 score на тестовой выборке =  -0.25294006832337734\n",
      "r2 score на тренировочной выборке =  0.038225885121560665\n"
     ]
    }
   ],
   "source": [
    "train_size = int(0.7 * er.shape[0])\n",
    "X_train = pd.DataFrame(preprocessing.scale(er[:][:train_size]))\n",
    "y_train = er_y[:][:train_size]\n",
    "X_test = pd.DataFrame(preprocessing.scale(er[:][train_size:]))\n",
    "y_test = er_y[:][train_size:]\n",
    "mgua_model.fit(X_train, y_train)\n",
    "res = np.array(mgua_model.predict(X_test))\n",
    "res_train = np.array(mgua_model.predict(X_train))\n",
    "res = res.reshape(len(mgua_model.buf_coef[0]), X_test.shape[0]).mean(axis=0)\n",
    "res_train = res_train.reshape(len(mgua_model.buf_coef[0]), X_train.shape[0]).mean(axis=0)\n",
    "print(\"r2 score на тестовой выборке = \", r2_score(y_test, res))\n",
    "print(\"r2 score на тренировочной выборке = \", r2_score(y_train, res_train))"
   ]
  },
  {
   "cell_type": "code",
   "execution_count": 233,
   "metadata": {},
   "outputs": [
    {
     "name": "stdout",
     "output_type": "stream",
     "text": [
      "              precision    recall  f1-score   support\n",
      "\n",
      "          -1       0.00      0.00      0.00        32\n",
      "           1       0.73      1.00      0.84        86\n",
      "\n",
      "    accuracy                           0.73       118\n",
      "   macro avg       0.36      0.50      0.42       118\n",
      "weighted avg       0.53      0.73      0.61       118\n",
      "\n",
      "roc_auc_score =  0.5\n"
     ]
    },
    {
     "name": "stderr",
     "output_type": "stream",
     "text": [
      "/Users/Varya/opt/anaconda3/lib/python3.7/site-packages/sklearn/metrics/_classification.py:1272: UndefinedMetricWarning: Precision and F-score are ill-defined and being set to 0.0 in labels with no predicted samples. Use `zero_division` parameter to control this behavior.\n",
      "  _warn_prf(average, modifier, msg_start, len(result))\n"
     ]
    }
   ],
   "source": [
    "y_np_test = y_test.to_numpy().reshape(-1)\n",
    "y_sgn_test = [-1 if y_i <= 0 else 1 for y_i in y_np_test]\n",
    "y_sgn_res = [-1 if y_i <= 0 else 1 for y_i in res]\n",
    "print(classification_report(y_sgn_test, y_sgn_res))\n",
    "print(\"roc_auc_score = \", roc_auc_score(y_sgn_test, y_sgn_res))"
   ]
  },
  {
   "cell_type": "markdown",
   "metadata": {},
   "source": [
    "Подадим в МГУА ответы для классификации:"
   ]
  },
  {
   "cell_type": "code",
   "execution_count": 234,
   "metadata": {},
   "outputs": [],
   "source": [
    "er_np_y = er_y.to_numpy().reshape(-1)\n",
    "er_class_y = pd.DataFrame([-1 if y_i <= 0 else 1 for y_i in er_np_y])"
   ]
  },
  {
   "cell_type": "code",
   "execution_count": 235,
   "metadata": {},
   "outputs": [
    {
     "data": {
      "application/vnd.jupyter.widget-view+json": {
       "model_id": "430cfd62d5ff424288ebad34c9833c15",
       "version_major": 2,
       "version_minor": 0
      },
      "text/plain": [
       "VBox(children=(HTML(value=''), IntProgress(value=0, max=137)))"
      ]
     },
     "metadata": {},
     "output_type": "display_data"
    },
    {
     "data": {
      "application/vnd.jupyter.widget-view+json": {
       "model_id": "c7f986fcb9224e8ba3c9969513389622",
       "version_major": 2,
       "version_minor": 0
      },
      "text/plain": [
       "VBox(children=(HTML(value=''), IntProgress(value=0, max=9)))"
      ]
     },
     "metadata": {},
     "output_type": "display_data"
    },
    {
     "name": "stdout",
     "output_type": "stream",
     "text": [
      "r2 score на тестовой выборке =  -0.06586530270939872\n",
      "\n",
      "              precision    recall  f1-score   support\n",
      "\n",
      "          -1       0.00      0.00      0.00        34\n",
      "           1       0.71      1.00      0.83        84\n",
      "\n",
      "    accuracy                           0.71       118\n",
      "   macro avg       0.36      0.50      0.42       118\n",
      "weighted avg       0.51      0.71      0.59       118\n",
      "\n",
      "\n",
      "roc_auc_score =  0.5\n"
     ]
    },
    {
     "name": "stderr",
     "output_type": "stream",
     "text": [
      "/Users/Varya/opt/anaconda3/lib/python3.7/site-packages/sklearn/metrics/_classification.py:1272: UndefinedMetricWarning: Precision and F-score are ill-defined and being set to 0.0 in labels with no predicted samples. Use `zero_division` parameter to control this behavior.\n",
      "  _warn_prf(average, modifier, msg_start, len(result))\n"
     ]
    }
   ],
   "source": [
    "# train_size = int(0.7 * er.shape[0])\n",
    "rand_fold = random.choice(np.arange(er.shape[0]).tolist(), train_size, False)\n",
    "X_train = pd.DataFrame(preprocessing.scale(er[:].loc[rand_fold]))\n",
    "y_train = er_class_y[:].loc[rand_fold]\n",
    "X_test = pd.DataFrame(preprocessing.scale(er[:].loc[np.delete(np.arange(er.shape[0]), rand_fold)]))\n",
    "y_test = er_class_y[:].loc[np.delete(np.arange(er.shape[0]), rand_fold)]\n",
    "# X_train = pd.DataFrame(preprocessing.scale(bzr[:][:train_size]))\n",
    "# y_train = bzr_class_y[:][:train_size]\n",
    "# X_test = pd.DataFrame(preprocessing.scale(bzr[:][train_size:]))\n",
    "# y_test = bzr_class_y[:][train_size:]\n",
    "mgua_model.fit(X_train, y_train)\n",
    "res = np.array(mgua_model.predict(X_test))\n",
    "# res_train = np.array(mgua_model.predict(X_train))\n",
    "res = res.reshape(res.shape[0], res.shape[1]).mean(axis=0)\n",
    "# res_train = res_train.reshape(len(mgua_model.buf_coef[0]), X_train.shape[0]).mean(axis=0)\n",
    "print(\"r2 score на тестовой выборке = \", r2_score(y_test, res))\n",
    "# print(\"r2 score на тренировочной выборке = \", r2_score(y_train, res_train))\n",
    "y_sgn_res = [-1 if y_i <= 0 else 1 for y_i in res]\n",
    "print()\n",
    "print(classification_report(y_test, y_sgn_res))\n",
    "print()\n",
    "print(\"roc_auc_score = \", roc_auc_score(y_test, y_sgn_res))"
   ]
  },
  {
   "cell_type": "markdown",
   "metadata": {},
   "source": [
    "## Кластеризация\n"
   ]
  },
  {
   "cell_type": "code",
   "execution_count": 88,
   "metadata": {},
   "outputs": [],
   "source": [
    "er_np_y = er_y.to_numpy().reshape(-1)\n",
    "er_class_y = pd.DataFrame([-1 if y_i <= 0 else 1 for y_i in er_np_y])"
   ]
  },
  {
   "cell_type": "code",
   "execution_count": 89,
   "metadata": {},
   "outputs": [],
   "source": [
    "train_size = int(0.7 * er.shape[0])\n",
    "rand_fold = random.choice(np.arange(er.shape[0]).tolist(), train_size, False)\n",
    "X_train = pd.DataFrame(preprocessing.scale(er[:].loc[rand_fold]))\n",
    "y_train = er_class_y[:].loc[rand_fold]\n",
    "X_test = pd.DataFrame(preprocessing.scale(er[:].loc[np.delete(np.arange(er.shape[0]), rand_fold)]))\n",
    "y_test = er_class_y[:].loc[np.delete(np.arange(er.shape[0]), rand_fold)]"
   ]
  },
  {
   "cell_type": "markdown",
   "metadata": {},
   "source": [
    "### Кластеризация с помощью метода к-средних\n"
   ]
  },
  {
   "cell_type": "code",
   "execution_count": 90,
   "metadata": {},
   "outputs": [
    {
     "name": "stdout",
     "output_type": "stream",
     "text": [
      "Founded good clusters: [88 96 91]\n",
      "\n"
     ]
    },
    {
     "data": {
      "application/vnd.jupyter.widget-view+json": {
       "model_id": "855ec0f9cbfc448289aed61a3fa395e8",
       "version_major": 2,
       "version_minor": 0
      },
      "text/plain": [
       "VBox(children=(HTML(value=''), IntProgress(value=0, max=137)))"
      ]
     },
     "metadata": {},
     "output_type": "display_data"
    },
    {
     "data": {
      "application/vnd.jupyter.widget-view+json": {
       "model_id": "18bd7b3859024029bf59e7973393dd68",
       "version_major": 2,
       "version_minor": 0
      },
      "text/plain": [
       "VBox(children=(HTML(value=''), IntProgress(value=0, max=9)))"
      ]
     },
     "metadata": {},
     "output_type": "display_data"
    },
    {
     "name": "stdout",
     "output_type": "stream",
     "text": [
      "CLUSTER # 0\n",
      "\n",
      "r2 score на тестовой выборке =  -0.19854604116927077\n",
      "\n",
      "              precision    recall  f1-score   support\n",
      "\n",
      "          -1       0.00      0.00      0.00        18\n",
      "           1       0.55      1.00      0.71        22\n",
      "\n",
      "    accuracy                           0.55        40\n",
      "   macro avg       0.28      0.50      0.35        40\n",
      "weighted avg       0.30      0.55      0.39        40\n",
      "\n"
     ]
    },
    {
     "name": "stderr",
     "output_type": "stream",
     "text": [
      "/Users/Varya/opt/anaconda3/lib/python3.7/site-packages/sklearn/metrics/_classification.py:1272: UndefinedMetricWarning: Precision and F-score are ill-defined and being set to 0.0 in labels with no predicted samples. Use `zero_division` parameter to control this behavior.\n",
      "  _warn_prf(average, modifier, msg_start, len(result))\n"
     ]
    },
    {
     "data": {
      "application/vnd.jupyter.widget-view+json": {
       "model_id": "0e4eb99bd751418fb1fa95279267cf0b",
       "version_major": 2,
       "version_minor": 0
      },
      "text/plain": [
       "VBox(children=(HTML(value=''), IntProgress(value=0, max=137)))"
      ]
     },
     "metadata": {},
     "output_type": "display_data"
    },
    {
     "data": {
      "application/vnd.jupyter.widget-view+json": {
       "model_id": "0014e581eebf4e20ba6e834b94eced3b",
       "version_major": 2,
       "version_minor": 0
      },
      "text/plain": [
       "VBox(children=(HTML(value=''), IntProgress(value=0, max=9)))"
      ]
     },
     "metadata": {},
     "output_type": "display_data"
    },
    {
     "name": "stdout",
     "output_type": "stream",
     "text": [
      "CLUSTER # 1\n",
      "\n",
      "r2 score на тестовой выборке =  -0.0034587900128624227\n",
      "\n",
      "              precision    recall  f1-score   support\n",
      "\n",
      "          -1       0.00      0.00      0.00         2\n",
      "           1       0.93      1.00      0.96        27\n",
      "\n",
      "    accuracy                           0.93        29\n",
      "   macro avg       0.47      0.50      0.48        29\n",
      "weighted avg       0.87      0.93      0.90        29\n",
      "\n"
     ]
    },
    {
     "name": "stderr",
     "output_type": "stream",
     "text": [
      "/Users/Varya/opt/anaconda3/lib/python3.7/site-packages/sklearn/metrics/_classification.py:1272: UndefinedMetricWarning: Precision and F-score are ill-defined and being set to 0.0 in labels with no predicted samples. Use `zero_division` parameter to control this behavior.\n",
      "  _warn_prf(average, modifier, msg_start, len(result))\n"
     ]
    },
    {
     "data": {
      "application/vnd.jupyter.widget-view+json": {
       "model_id": "88007e737711464ca6dc8fac2dce25ff",
       "version_major": 2,
       "version_minor": 0
      },
      "text/plain": [
       "VBox(children=(HTML(value=''), IntProgress(value=0, max=137)))"
      ]
     },
     "metadata": {},
     "output_type": "display_data"
    },
    {
     "data": {
      "application/vnd.jupyter.widget-view+json": {
       "model_id": "f9e3b48272bb42d2adeaf50231b371b0",
       "version_major": 2,
       "version_minor": 0
      },
      "text/plain": [
       "VBox(children=(HTML(value=''), IntProgress(value=0, max=9)))"
      ]
     },
     "metadata": {},
     "output_type": "display_data"
    },
    {
     "name": "stdout",
     "output_type": "stream",
     "text": [
      "CLUSTER # 2\n",
      "\n",
      "r2 score на тестовой выборке =  -5.919582714453142e-06\n",
      "\n",
      "              precision    recall  f1-score   support\n",
      "\n",
      "          -1       0.00      0.00      0.00        13\n",
      "           1       0.73      1.00      0.85        36\n",
      "\n",
      "    accuracy                           0.73        49\n",
      "   macro avg       0.37      0.50      0.42        49\n",
      "weighted avg       0.54      0.73      0.62        49\n",
      "\n"
     ]
    },
    {
     "name": "stderr",
     "output_type": "stream",
     "text": [
      "/Users/Varya/opt/anaconda3/lib/python3.7/site-packages/sklearn/metrics/_classification.py:1272: UndefinedMetricWarning: Precision and F-score are ill-defined and being set to 0.0 in labels with no predicted samples. Use `zero_division` parameter to control this behavior.\n",
      "  _warn_prf(average, modifier, msg_start, len(result))\n"
     ]
    }
   ],
   "source": [
    "k = 3\n",
    "min_elem_in_cluster = 25\n",
    "clusters = KMeans(n_clusters=k)\n",
    "clusters_train = clusters.fit_predict(X_train)\n",
    "\n",
    "is_good_clusters = False\n",
    "while is_good_clusters == False:\n",
    "    clusters_train = clusters.fit_predict(X_train)\n",
    "    elems_in_clusters = np.array([np.array([clusters_train == i]).sum() for i in np.unique(clusters_train)])\n",
    "    elems_in_clusters_bool = elems_in_clusters > min_elem_in_cluster\n",
    "    is_good_clusters = np.all(elems_in_clusters_bool)\n",
    "print('Founded good clusters:', elems_in_clusters)\n",
    "print()\n",
    "clusters_test = clusters.predict(X_test)\n",
    "\n",
    "for i in range(k):\n",
    "    mgua_model = mguaJN.MGUA(Q=20, C=0.6, I=10, model=Ridge(alpha=0.1))\n",
    "    mgua_model.fit(X_train.loc[clusters_train==i], y_train.loc[clusters_train==i])\n",
    "    if X_test.loc[clusters_test==i].shape[0] > 0:\n",
    "        res = np.array(mgua_model.predict(X_test.loc[clusters_test==i]))\n",
    "        res = res.reshape(len(mgua_model.buf_coef[0]), X_test.loc[clusters_test==i].shape[0]).mean(axis=0)\n",
    "        print(\"CLUSTER #\", i)\n",
    "        print()\n",
    "        print(\"r2 score на тестовой выборке = \", r2_score(y_test.loc[clusters_test==i], res))\n",
    "        y_sgn_res = [-1 if y_i <= 0 else 1 for y_i in res]\n",
    "        print()\n",
    "        print(classification_report(y_test.loc[clusters_test==i], y_sgn_res))\n",
    "    else:\n",
    "        print(\"CLUSTER #\", i)\n",
    "        print(\"No elements in test\")"
   ]
  },
  {
   "cell_type": "markdown",
   "metadata": {},
   "source": [
    "## Кластеризация с помощью метода DBSCAN"
   ]
  },
  {
   "cell_type": "code",
   "execution_count": 121,
   "metadata": {},
   "outputs": [],
   "source": [
    "train_size = int(0.7 * er.shape[0])\n",
    "rand_fold = random.choice(np.arange(er.shape[0]).tolist(), train_size, False)\n",
    "X_train = pd.DataFrame(preprocessing.scale(er[:].loc[rand_fold]))\n",
    "y_train = er_class_y[:].loc[rand_fold]\n",
    "X_test = pd.DataFrame(preprocessing.scale(er[:].loc[np.delete(np.arange(er.shape[0]), rand_fold)]))\n",
    "y_test = er_class_y[:].loc[np.delete(np.arange(er.shape[0]), rand_fold)]"
   ]
  },
  {
   "cell_type": "code",
   "execution_count": 122,
   "metadata": {},
   "outputs": [
    {
     "data": {
      "text/plain": [
       "(array([135.,   0.,   0.,   0.,   0.,  78.,   0.,   0.,   0.,  62.]),\n",
       " array([-1. , -0.8, -0.6, -0.4, -0.2,  0. ,  0.2,  0.4,  0.6,  0.8,  1. ]),\n",
       " <a list of 10 Patch objects>)"
      ]
     },
     "execution_count": 122,
     "metadata": {},
     "output_type": "execute_result"
    },
    {
     "data": {
      "image/png": "[encoded data removed]",
      "text/plain": [
       "<Figure size 432x288 with 1 Axes>"
      ]
     },
     "metadata": {
      "needs_background": "light"
     },
     "output_type": "display_data"
    }
   ],
   "source": [
    "clusters = DBSCAN(eps=3.8, min_samples=30)\n",
    "clusters_all = clusters.fit_predict(er)\n",
    "clusters_train = clusters_all[rand_fold]\n",
    "clusters_test = clusters_all[np.delete(np.arange(er.shape[0]), rand_fold)]\n",
    "plt.hist(clusters_train)"
   ]
  },
  {
   "cell_type": "code",
   "execution_count": 100,
   "metadata": {},
   "outputs": [
    {
     "data": {
      "application/vnd.jupyter.widget-view+json": {
       "model_id": "7ae1de94d8424144808182a1c35dac31",
       "version_major": 2,
       "version_minor": 0
      },
      "text/plain": [
       "VBox(children=(HTML(value=''), IntProgress(value=0, max=137)))"
      ]
     },
     "metadata": {},
     "output_type": "display_data"
    },
    {
     "data": {
      "application/vnd.jupyter.widget-view+json": {
       "model_id": "4cb5c84753514da4abe9a75f0ce22964",
       "version_major": 2,
       "version_minor": 0
      },
      "text/plain": [
       "VBox(children=(HTML(value=''), IntProgress(value=0, max=9)))"
      ]
     },
     "metadata": {},
     "output_type": "display_data"
    },
    {
     "name": "stdout",
     "output_type": "stream",
     "text": [
      "CLUSTER # -1\n",
      "\n",
      "r2 score на тестовой выборке =  -0.036557271803918656\n",
      "\n",
      "              precision    recall  f1-score   support\n",
      "\n",
      "          -1       0.00      0.00      0.00        14\n",
      "           1       0.76      0.98      0.85        45\n",
      "\n",
      "    accuracy                           0.75        59\n",
      "   macro avg       0.38      0.49      0.43        59\n",
      "weighted avg       0.58      0.75      0.65        59\n",
      "\n"
     ]
    },
    {
     "data": {
      "application/vnd.jupyter.widget-view+json": {
       "model_id": "6d076ed4e2ed4d648e5768369f503b03",
       "version_major": 2,
       "version_minor": 0
      },
      "text/plain": [
       "VBox(children=(HTML(value=''), IntProgress(value=0, max=137)))"
      ]
     },
     "metadata": {},
     "output_type": "display_data"
    },
    {
     "data": {
      "application/vnd.jupyter.widget-view+json": {
       "model_id": "6a5029fdede3452bb9871269723ab5d2",
       "version_major": 2,
       "version_minor": 0
      },
      "text/plain": [
       "VBox(children=(HTML(value=''), IntProgress(value=0, max=9)))"
      ]
     },
     "metadata": {},
     "output_type": "display_data"
    },
    {
     "name": "stdout",
     "output_type": "stream",
     "text": [
      "CLUSTER # 0\n",
      "\n",
      "r2 score на тестовой выборке =  -0.0071118966460463895\n",
      "\n",
      "              precision    recall  f1-score   support\n",
      "\n",
      "          -1       0.00      0.00      0.00         8\n",
      "           1       0.75      1.00      0.86        24\n",
      "\n",
      "    accuracy                           0.75        32\n",
      "   macro avg       0.38      0.50      0.43        32\n",
      "weighted avg       0.56      0.75      0.64        32\n",
      "\n"
     ]
    },
    {
     "name": "stderr",
     "output_type": "stream",
     "text": [
      "/Users/Varya/opt/anaconda3/lib/python3.7/site-packages/sklearn/metrics/_classification.py:1272: UndefinedMetricWarning: Precision and F-score are ill-defined and being set to 0.0 in labels with no predicted samples. Use `zero_division` parameter to control this behavior.\n",
      "  _warn_prf(average, modifier, msg_start, len(result))\n"
     ]
    },
    {
     "data": {
      "application/vnd.jupyter.widget-view+json": {
       "model_id": "9d51b8893a354f178848a18b61920b31",
       "version_major": 2,
       "version_minor": 0
      },
      "text/plain": [
       "VBox(children=(HTML(value=''), IntProgress(value=0, max=137)))"
      ]
     },
     "metadata": {},
     "output_type": "display_data"
    },
    {
     "data": {
      "application/vnd.jupyter.widget-view+json": {
       "model_id": "014b0bbed5c7472f8d41c0563e479544",
       "version_major": 2,
       "version_minor": 0
      },
      "text/plain": [
       "VBox(children=(HTML(value=''), IntProgress(value=0, max=9)))"
      ]
     },
     "metadata": {},
     "output_type": "display_data"
    },
    {
     "name": "stdout",
     "output_type": "stream",
     "text": [
      "CLUSTER # 1\n",
      "\n",
      "r2 score на тестовой выборке =  0.0\n",
      "\n",
      "              precision    recall  f1-score   support\n",
      "\n",
      "           1       1.00      1.00      1.00        27\n",
      "\n",
      "    accuracy                           1.00        27\n",
      "   macro avg       1.00      1.00      1.00        27\n",
      "weighted avg       1.00      1.00      1.00        27\n",
      "\n"
     ]
    }
   ],
   "source": [
    "clusters = DBSCAN(eps=3.8, min_samples=30)\n",
    "clusters_all = clusters.fit_predict(er)\n",
    "clusters_train = clusters_all[rand_fold]\n",
    "clusters_test = clusters_all[np.delete(np.arange(er.shape[0]), rand_fold)]\n",
    "\n",
    "for i in np.unique(clusters.labels_):\n",
    "    mgua_model = mguaJN.MGUA(Q=20, C=0.6, I=10, model=Ridge(alpha=0.1))\n",
    "    mgua_model.fit(X_train.loc[clusters_train==i], y_train.loc[clusters_train==i])\n",
    "    if X_test.loc[clusters_test==i].shape[0] > 0:\n",
    "        res = np.array(mgua_model.predict(X_test.loc[clusters_test==i]))\n",
    "        res = res.reshape(len(mgua_model.buf_coef[0]), X_test.loc[clusters_test==i].shape[0]).mean(axis=0)\n",
    "        print(\"CLUSTER #\", i)\n",
    "        print()\n",
    "        print(\"r2 score на тестовой выборке = \", r2_score(y_test.loc[clusters_test==i], res))\n",
    "        y_sgn_res = [-1 if y_i <= 0 else 1 for y_i in res]\n",
    "        print()\n",
    "        print(classification_report(y_test.loc[clusters_test==i], y_sgn_res))\n",
    "    else:\n",
    "        print(\"CLUSTER #\", i)\n",
    "        print(\"No elements in test\")"
   ]
  },
  {
   "cell_type": "markdown",
   "metadata": {},
   "source": [
    "### Метод главных компонент и DBSCAN"
   ]
  },
  {
   "cell_type": "code",
   "execution_count": 101,
   "metadata": {},
   "outputs": [],
   "source": [
    "pca = PCA(n_components=10)\n",
    "er_pca = pd.DataFrame(pca.fit_transform(er))\n",
    "\n",
    "train_size = int(0.7 * er_pca.shape[0])\n",
    "rand_fold = random.choice(np.arange(er_pca.shape[0]).tolist(), train_size, False)\n",
    "X_train = pd.DataFrame(preprocessing.scale(er_pca[:].loc[rand_fold]))\n",
    "y_train = er_class_y[:].loc[rand_fold]\n",
    "X_test = pd.DataFrame(preprocessing.scale(er_pca[:].loc[np.delete(np.arange(er_pca.shape[0]), rand_fold)]))\n",
    "y_test = er_class_y[:].loc[np.delete(np.arange(er_pca.shape[0]), rand_fold)]"
   ]
  },
  {
   "cell_type": "code",
   "execution_count": 120,
   "metadata": {},
   "outputs": [
    {
     "data": {
      "application/vnd.jupyter.widget-view+json": {
       "model_id": "065de86de9564ec5a677336e7cb7275a",
       "version_major": 2,
       "version_minor": 0
      },
      "text/plain": [
       "VBox(children=(HTML(value=''), IntProgress(value=0, max=10)))"
      ]
     },
     "metadata": {},
     "output_type": "display_data"
    },
    {
     "data": {
      "application/vnd.jupyter.widget-view+json": {
       "model_id": "a0b6a18daf1a4bc2a7b9921aedb927fb",
       "version_major": 2,
       "version_minor": 0
      },
      "text/plain": [
       "VBox(children=(HTML(value=''), IntProgress(value=0, max=9)))"
      ]
     },
     "metadata": {},
     "output_type": "display_data"
    },
    {
     "name": "stdout",
     "output_type": "stream",
     "text": [
      "CLUSTER # -1\n",
      "\n",
      "r2 score на тестовой выборке =  0.09862590561132767\n",
      "\n",
      "              precision    recall  f1-score   support\n",
      "\n",
      "          -1       0.50      0.17      0.25        12\n",
      "           1       0.73      0.93      0.82        29\n",
      "\n",
      "    accuracy                           0.71        41\n",
      "   macro avg       0.61      0.55      0.53        41\n",
      "weighted avg       0.66      0.71      0.65        41\n",
      "\n"
     ]
    },
    {
     "data": {
      "application/vnd.jupyter.widget-view+json": {
       "model_id": "d08d1a12b93d4e85adfc383f94a637b6",
       "version_major": 2,
       "version_minor": 0
      },
      "text/plain": [
       "VBox(children=(HTML(value=''), IntProgress(value=0, max=10)))"
      ]
     },
     "metadata": {},
     "output_type": "display_data"
    },
    {
     "data": {
      "application/vnd.jupyter.widget-view+json": {
       "model_id": "a485df4b19f64b159dcf5d5ac04472c0",
       "version_major": 2,
       "version_minor": 0
      },
      "text/plain": [
       "VBox(children=(HTML(value=''), IntProgress(value=0, max=9)))"
      ]
     },
     "metadata": {},
     "output_type": "display_data"
    },
    {
     "name": "stdout",
     "output_type": "stream",
     "text": [
      "CLUSTER # 0\n",
      "\n",
      "r2 score на тестовой выборке =  -0.09915836051163973\n",
      "\n",
      "              precision    recall  f1-score   support\n",
      "\n",
      "          -1       0.00      0.00      0.00        10\n",
      "           1       0.85      1.00      0.92        58\n",
      "\n",
      "    accuracy                           0.85        68\n",
      "   macro avg       0.43      0.50      0.46        68\n",
      "weighted avg       0.73      0.85      0.79        68\n",
      "\n"
     ]
    },
    {
     "name": "stderr",
     "output_type": "stream",
     "text": [
      "/Users/Varya/opt/anaconda3/lib/python3.7/site-packages/sklearn/metrics/_classification.py:1272: UndefinedMetricWarning: Precision and F-score are ill-defined and being set to 0.0 in labels with no predicted samples. Use `zero_division` parameter to control this behavior.\n",
      "  _warn_prf(average, modifier, msg_start, len(result))\n"
     ]
    },
    {
     "data": {
      "application/vnd.jupyter.widget-view+json": {
       "model_id": "e1bcd6e664d942b591482786dcf08e92",
       "version_major": 2,
       "version_minor": 0
      },
      "text/plain": [
       "VBox(children=(HTML(value=''), IntProgress(value=0, max=10)))"
      ]
     },
     "metadata": {},
     "output_type": "display_data"
    },
    {
     "data": {
      "application/vnd.jupyter.widget-view+json": {
       "model_id": "5aed5248510a418f96e92ed2aa69e762",
       "version_major": 2,
       "version_minor": 0
      },
      "text/plain": [
       "VBox(children=(HTML(value=''), IntProgress(value=0, max=9)))"
      ]
     },
     "metadata": {},
     "output_type": "display_data"
    },
    {
     "name": "stdout",
     "output_type": "stream",
     "text": [
      "CLUSTER # 1\n",
      "\n",
      "r2 score на тестовой выборке =  0.0\n",
      "\n",
      "              precision    recall  f1-score   support\n",
      "\n",
      "          -1       0.00      0.00      0.00         0\n",
      "           1       1.00      0.89      0.94         9\n",
      "\n",
      "    accuracy                           0.89         9\n",
      "   macro avg       0.50      0.44      0.47         9\n",
      "weighted avg       1.00      0.89      0.94         9\n",
      "\n"
     ]
    },
    {
     "name": "stderr",
     "output_type": "stream",
     "text": [
      "/Users/Varya/opt/anaconda3/lib/python3.7/site-packages/sklearn/metrics/_classification.py:1272: UndefinedMetricWarning: Recall and F-score are ill-defined and being set to 0.0 in labels with no true samples. Use `zero_division` parameter to control this behavior.\n",
      "  _warn_prf(average, modifier, msg_start, len(result))\n"
     ]
    },
    {
     "data": {
      "image/png": "[encoded data removed]",
      "text/plain": [
       "<Figure size 432x288 with 1 Axes>"
      ]
     },
     "metadata": {
      "needs_background": "light"
     },
     "output_type": "display_data"
    }
   ],
   "source": [
    "clusters = DBSCAN(eps=3.4, min_samples=30)\n",
    "clusters_all = clusters.fit_predict(er_pca)\n",
    "clusters_train = clusters_all[rand_fold]\n",
    "clusters_test = clusters_all[np.delete(np.arange(er.shape[0]), rand_fold)]\n",
    "plt.hist(clusters_train)\n",
    "\n",
    "for i in np.unique(clusters.labels_):\n",
    "    mgua_model = mguaJN.MGUA(Q=20, C=0.6, I=10, model=Ridge(alpha=0.1))\n",
    "    mgua_model.fit(X_train.loc[clusters_train==i], y_train.loc[clusters_train==i])\n",
    "    if X_test.loc[clusters_test==i].shape[0] > 0:\n",
    "        res = np.array(mgua_model.predict(X_test.loc[clusters_test==i]))\n",
    "        res = res.reshape(len(mgua_model.buf_coef[0]), X_test.loc[clusters_test==i].shape[0]).mean(axis=0)\n",
    "        print(\"CLUSTER #\", i)\n",
    "        print()\n",
    "        print(\"r2 score на тестовой выборке = \", r2_score(y_test.loc[clusters_test==i], res))\n",
    "        y_sgn_res = [-1 if y_i <= 0 else 1 for y_i in res]\n",
    "        print()\n",
    "        print(classification_report(y_test.loc[clusters_test==i], y_sgn_res))\n",
    "    else:\n",
    "        print(\"CLUSTER #\", i)\n",
    "        print(\"No elements in test\")"
   ]
  },
  {
   "cell_type": "code",
   "execution_count": null,
   "metadata": {},
   "outputs": [],
   "source": []
  }
 ],
 "metadata": {
  "kernelspec": {
   "display_name": "Python 3",
   "language": "python",
   "name": "python3"
  },
  "language_info": {
   "codemirror_mode": {
    "name": "ipython",
    "version": 3
   },
   "file_extension": ".py",
   "mimetype": "text/x-python",
   "name": "python",
   "nbconvert_exporter": "python",
   "pygments_lexer": "ipython3",
   "version": "3.7.4"
  }
 },
 "nbformat": 4,
 "nbformat_minor": 2
}
