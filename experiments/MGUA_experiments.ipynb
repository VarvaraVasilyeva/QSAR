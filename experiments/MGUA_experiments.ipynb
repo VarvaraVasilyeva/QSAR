{
 "cells": [
  {
   "cell_type": "code",
   "execution_count": 3,
   "metadata": {},
   "outputs": [],
   "source": [
    "import numpy as np\n",
    "import sklearn\n",
    "import pandas as pd\n",
    "from sklearn import datasets\n",
    "from sklearn.neighbors import NearestNeighbors\n",
    "from sklearn import metrics\n",
    "import math\n",
    "from sklearn.metrics import r2_score\n",
    "import json\n",
    "import matplotlib.pyplot as plt\n",
    "from sklearn.linear_model import LinearRegression"
   ]
  },
  {
   "cell_type": "code",
   "execution_count": 127,
   "metadata": {},
   "outputs": [],
   "source": [
    "class MGUA:\n",
    "    def __init__(self, Q=3, C=0.99, I=3, model=LinearRegression(normalize=True), X_train=None, y_train=None, buf_coef=None, buf=None):\n",
    "        self.Q = Q #размер буфера\n",
    "        self.C = C #порог корреляции\n",
    "        self.I = I #количество итераций\n",
    "        self.model = model #model = LinearRegression(normalize=True)\n",
    "        self.EPS = 1e-14\n",
    "        self.X_train = X_train\n",
    "        self.y_train = y_train\n",
    "        self.buf_coef = buf_coef\n",
    "        self.buf = buf\n",
    "        self.column_indexes = [] #индексы колонок, использованных в каждой модели\n",
    "        \n",
    "    def fit(self, X, y):\n",
    "        N = X.shape[0]\n",
    "        M = X.shape[1]\n",
    "        buf_val = 0\n",
    "        for i in range(M):\n",
    "            print(i, ' / ', M)\n",
    "            for j in range(i+1, M):\n",
    "                X_train = X.iloc[:, [i, j]]\n",
    "                self.model.fit(X_train, y)\n",
    "                pred = self.model.predict(X_train) #Попробовать тут Х?\n",
    "                if buf_val == 0:\n",
    "#                     print(type(pred))\n",
    "                    buf = [pred] #buf[0] = [pred]???\n",
    "                    buf_coef = [[[i, j]]]\n",
    "                    buf_val += 1\n",
    "                else:\n",
    "                    buf_corr = [corr(col, pred.reshape(-1, )) for col in buf[0].T]\n",
    "                    if buf_val<self.Q and max(buf_corr)-self.C < self.EPS:\n",
    "                        buf[0] = np.c_[buf[0], pred]\n",
    "                        buf_coef[0].append([i, j])\n",
    "                        buf_val += 1\n",
    "                    elif buf_val>=self.Q and max(buf_corr)<self.C:\n",
    "                        buf_r2 = [r2_score(y, buf[0][:, col]) for col in range(self.Q)]\n",
    "                        if r2_score(y, pred) > min(buf_r2):\n",
    "                            buf[0] = np.delete(buf[0], buf_r2.index(min(buf_r2)), axis = 1)\n",
    "                            del buf_coef[0][buf_r2.index(min(buf_r2))]\n",
    "                            buf[0] = np.c_[buf[0], pred]\n",
    "                            buf_coef[0].append([i, j])\n",
    "\n",
    "        for k in range(1, self.I):\n",
    "            print(\"iter = \", k)\n",
    "            buf_val = 0\n",
    "            X_train = X.iloc[:, [0]]\n",
    "            X_train = X_train.assign(new = buf[k-1][:, 0])\n",
    "            self.model.fit(X_train, y)\n",
    "            pred = self.model.predict(X_train) \n",
    "            \n",
    "            buf.append(pred)\n",
    "            buf_coef.append([[0, 0]])\n",
    "            buf_val += 1\n",
    "            for i in range(M):\n",
    "#                 print('i = ', i)\n",
    "                for j in range(1, buf[k-1].shape[1]):\n",
    "                    X_train = X.iloc[:, [i]]\n",
    "                    X_train = X_train.assign(new = buf[k-1][:, j])\n",
    "                    self.model.fit(X_train, y)\n",
    "                    pred = self.model.predict(X_train) \n",
    "\n",
    "                    buf_corr = [corr(col, pred.reshape(-1, )) for col in buf[k].T]\n",
    "#                     if buf_val>=self.Q:\n",
    "#                         print('buf_val=', buf_val, 'max(buf_corr)=', max(buf_corr), max(buf_corr)<self.C)\n",
    "                    if buf_val<self.Q and max(buf_corr)-self.C < self.EPS:\n",
    "#                         print('1. (i, j) = ', i, j)\n",
    "                        buf[k] = np.c_[buf[k], pred]\n",
    "                        buf_coef[k].append([i, j])\n",
    "                        buf_val += 1\n",
    "                    elif buf_val>=self.Q and max(buf_corr)<self.C:\n",
    "                        buf_r2 = [r2_score(y_train, buf[k][:, col]) for col in range(self.Q)]\n",
    "                        if r2_score(y_train, pred) > min(buf_r2):\n",
    "#                             print('(i, j) = ', i, j)\n",
    "                            buf[k] = np.delete(buf[k], buf_r2.index(min(buf_r2)), axis = 1)\n",
    "                            del buf_coef[k][buf_r2.index(min(buf_r2))]\n",
    "                            buf[k] = np.c_[buf[k], pred]\n",
    "                            buf_coef[k].append([i, j])\n",
    "        self.buf_coef = buf_coef\n",
    "        self.buf = buf\n",
    "        self.X_train = X\n",
    "        self.y_train = y\n",
    "        return buf_coef\n",
    "    \n",
    "    def predict(self, X):\n",
    "        result = []\n",
    "        index = []\n",
    "        for i in range(len(self.buf_coef[-1])): #может быть последний буфер не полностью заполнен, тогда меньше...\n",
    "            ind_pred = i\n",
    "            index.append([])\n",
    "            for k in reversed(range(self.I)):\n",
    "                index[i].append(self.buf_coef[k][ind_pred])\n",
    "                ind_pred = self.buf_coef[k][ind_pred][1]\n",
    "            X_t = self.X_train.iloc[:, index[i][-1]]\n",
    "            self.model.fit(X_t, self.y_train)\n",
    "            pred = self.model.predict(X.iloc[:, index[i][-1]])\n",
    "            for k in range(1, self.I):\n",
    "                X_t = self.X_train.iloc[:, [index[i][self.I-1-k][0]]]\n",
    "                X_t = X_t.assign(new = self.buf[k-1][:, index[i][self.I-1-k][1]])\n",
    "                self.model.fit(X_t, self.y_train)\n",
    "                X_pred = X.iloc[:, [index[i][self.I-1-k][0]]]\n",
    "                X_pred = X_pred.assign(new = pred)\n",
    "                pred = self.model.predict(X_pred)\n",
    "            result.append(pred)\n",
    "        \n",
    "        for col in index:\n",
    "            self.column_indexes.append(set([row[0] for row in col]) | set([col[-1][1]]))\n",
    "            \n",
    "        return result #Q столбцов - Q предсказаний\n",
    "    \n",
    "    def save_json(self, filepath):\n",
    "        dict_ = {}\n",
    "        dict_['Q'] = self.Q\n",
    "        dict_['C'] = self.C\n",
    "        dict_['I'] = self.I\n",
    "#         dict_['model'] = self.model\n",
    "        dict_['X_train'] = self.X_train.to_numpy().tolist() if self.X_train is not None else 'None'\n",
    "        dict_['y_train'] = self.y_train.to_numpy().tolist() if self.y_train is not None else 'None'\n",
    "        dict_['buf_coef'] = np.array(self.buf_coef).tolist() if self.buf_coef is not None else 'None'\n",
    "        dict_['buf'] = np.array(self.buf).tolist() if self.buf is not None else 'None'\n",
    "        \n",
    "        # Creat json and save to file\n",
    "        json_txt = json.dumps(dict_, indent=4)\n",
    "        with open(filepath, 'w') as file:\n",
    "            file.write(json_txt)\n",
    "            \n",
    "            \n",
    "    # A method for loading data from JSON file\n",
    "    def load_json(self, filepath):\n",
    "        with open(filepath, 'r') as file:\n",
    "            dict_ = json.load(file)\n",
    "            \n",
    "        self.Q = dict_['Q']\n",
    "        self.C = dict_['C']\n",
    "        self.I = dict_['I']\n",
    "#         self.model = dict_['model']\n",
    "        self.X_train = pd.DataFrame(dict_['X_train']) if dict_['X_train'] != 'None' else None\n",
    "        self.y_train = pd.DataFrame(dict_['y_train']) if dict_['y_train'] != 'None' else None\n",
    "        self.buf_coef = np.asarray(dict_['buf_coef']) if dict_['buf_coef'] != 'None' else None\n",
    "        self.buf = np.asarray(dict_['buf']) if dict_['buf'] != 'None' else None\n",
    "        \n"
   ]
  },
  {
   "cell_type": "code",
   "execution_count": 5,
   "metadata": {},
   "outputs": [],
   "source": [
    "def corr(x, y):\n",
    "    up = sum(x*y)\n",
    "    down = math.sqrt(sum(x*x)*sum(y*y))\n",
    "    return up/down"
   ]
  },
  {
   "cell_type": "markdown",
   "metadata": {},
   "source": [
    "## Как сохранить обученную модель"
   ]
  },
  {
   "cell_type": "code",
   "execution_count": null,
   "metadata": {},
   "outputs": [],
   "source": [
    "filepath = \"mylogreg.json\"\n",
    "\n",
    "# Create a model and train it\n",
    "mylogreg = MGUA(X_train=Xtrain, Y_train=Ytrain)\n",
    "mylogreg.save_json(filepath)\n",
    "\n",
    "# Create a new object and load its data from JSON file\n",
    "json_mylogreg = MGUA()\n",
    "json_mylogreg.load_json(filepath)\n",
    "json_mylogreg"
   ]
  },
  {
   "cell_type": "code",
   "execution_count": 63,
   "metadata": {},
   "outputs": [],
   "source": [
    "glass = pd.read_csv('glass_/GLASS_matrix_alphabet_NNdt*_1and2and3chains.csv', sep=',', header=None)\n",
    "y_glass = pd.read_csv('glass_/GLASS_y.csv')"
   ]
  },
  {
   "cell_type": "code",
   "execution_count": 64,
   "metadata": {},
   "outputs": [
    {
     "data": {
      "text/html": [
       "<div>\n",
       "<style scoped>\n",
       "    .dataframe tbody tr th:only-of-type {\n",
       "        vertical-align: middle;\n",
       "    }\n",
       "\n",
       "    .dataframe tbody tr th {\n",
       "        vertical-align: top;\n",
       "    }\n",
       "\n",
       "    .dataframe thead th {\n",
       "        text-align: right;\n",
       "    }\n",
       "</style>\n",
       "<table border=\"1\" class=\"dataframe\">\n",
       "  <thead>\n",
       "    <tr style=\"text-align: right;\">\n",
       "      <th></th>\n",
       "      <th>0</th>\n",
       "      <th>1</th>\n",
       "      <th>2</th>\n",
       "      <th>3</th>\n",
       "      <th>4</th>\n",
       "      <th>5</th>\n",
       "      <th>6</th>\n",
       "      <th>7</th>\n",
       "      <th>8</th>\n",
       "      <th>9</th>\n",
       "      <th>...</th>\n",
       "      <th>167</th>\n",
       "      <th>168</th>\n",
       "      <th>169</th>\n",
       "      <th>170</th>\n",
       "      <th>171</th>\n",
       "      <th>172</th>\n",
       "      <th>173</th>\n",
       "      <th>174</th>\n",
       "      <th>175</th>\n",
       "      <th>176</th>\n",
       "    </tr>\n",
       "  </thead>\n",
       "  <tbody>\n",
       "    <tr>\n",
       "      <td>0</td>\n",
       "      <td>0.0</td>\n",
       "      <td>0.0</td>\n",
       "      <td>3.0</td>\n",
       "      <td>0.0</td>\n",
       "      <td>2.0</td>\n",
       "      <td>0.0</td>\n",
       "      <td>0.0</td>\n",
       "      <td>1.0</td>\n",
       "      <td>0.0</td>\n",
       "      <td>0.0</td>\n",
       "      <td>...</td>\n",
       "      <td>0.0</td>\n",
       "      <td>0.0</td>\n",
       "      <td>0.0</td>\n",
       "      <td>0.0</td>\n",
       "      <td>0.0</td>\n",
       "      <td>0.0</td>\n",
       "      <td>0.0</td>\n",
       "      <td>0.0</td>\n",
       "      <td>0.0</td>\n",
       "      <td>0.0</td>\n",
       "    </tr>\n",
       "    <tr>\n",
       "      <td>1</td>\n",
       "      <td>0.0</td>\n",
       "      <td>0.0</td>\n",
       "      <td>3.0</td>\n",
       "      <td>0.0</td>\n",
       "      <td>3.0</td>\n",
       "      <td>0.0</td>\n",
       "      <td>0.0</td>\n",
       "      <td>1.0</td>\n",
       "      <td>0.0</td>\n",
       "      <td>0.0</td>\n",
       "      <td>...</td>\n",
       "      <td>0.0</td>\n",
       "      <td>0.0</td>\n",
       "      <td>0.0</td>\n",
       "      <td>0.0</td>\n",
       "      <td>0.0</td>\n",
       "      <td>0.0</td>\n",
       "      <td>0.0</td>\n",
       "      <td>0.0</td>\n",
       "      <td>0.0</td>\n",
       "      <td>0.0</td>\n",
       "    </tr>\n",
       "    <tr>\n",
       "      <td>2</td>\n",
       "      <td>0.0</td>\n",
       "      <td>0.0</td>\n",
       "      <td>4.0</td>\n",
       "      <td>0.0</td>\n",
       "      <td>0.0</td>\n",
       "      <td>0.0</td>\n",
       "      <td>0.0</td>\n",
       "      <td>2.0</td>\n",
       "      <td>0.0</td>\n",
       "      <td>0.0</td>\n",
       "      <td>...</td>\n",
       "      <td>0.0</td>\n",
       "      <td>0.0</td>\n",
       "      <td>0.0</td>\n",
       "      <td>0.0</td>\n",
       "      <td>0.0</td>\n",
       "      <td>0.0</td>\n",
       "      <td>0.0</td>\n",
       "      <td>0.0</td>\n",
       "      <td>0.0</td>\n",
       "      <td>0.0</td>\n",
       "    </tr>\n",
       "  </tbody>\n",
       "</table>\n",
       "<p>3 rows × 177 columns</p>\n",
       "</div>"
      ],
      "text/plain": [
       "   0    1    2    3    4    5    6    7    8    9    ...  167  168  169  170  \\\n",
       "0  0.0  0.0  3.0  0.0  2.0  0.0  0.0  1.0  0.0  0.0  ...  0.0  0.0  0.0  0.0   \n",
       "1  0.0  0.0  3.0  0.0  3.0  0.0  0.0  1.0  0.0  0.0  ...  0.0  0.0  0.0  0.0   \n",
       "2  0.0  0.0  4.0  0.0  0.0  0.0  0.0  2.0  0.0  0.0  ...  0.0  0.0  0.0  0.0   \n",
       "\n",
       "   171  172  173  174  175  176  \n",
       "0  0.0  0.0  0.0  0.0  0.0  0.0  \n",
       "1  0.0  0.0  0.0  0.0  0.0  0.0  \n",
       "2  0.0  0.0  0.0  0.0  0.0  0.0  \n",
       "\n",
       "[3 rows x 177 columns]"
      ]
     },
     "execution_count": 64,
     "metadata": {},
     "output_type": "execute_result"
    }
   ],
   "source": [
    "glass.head(3)"
   ]
  },
  {
   "cell_type": "code",
   "execution_count": 65,
   "metadata": {},
   "outputs": [],
   "source": [
    "from sklearn.linear_model import LinearRegression"
   ]
  },
  {
   "cell_type": "code",
   "execution_count": 66,
   "metadata": {},
   "outputs": [],
   "source": [
    "mgua = MGUA(Q=4, C=0.997, I=5, model=LinearRegression(normalize=True))"
   ]
  },
  {
   "cell_type": "code",
   "execution_count": 25,
   "metadata": {},
   "outputs": [],
   "source": [
    "long = MGUA(4, 0.997, 5, LinearRegression(normalize=True))"
   ]
  },
  {
   "cell_type": "code",
   "execution_count": 74,
   "metadata": {
    "scrolled": true
   },
   "outputs": [],
   "source": [
    "train_size = int(0.7 * glass.shape[0])\n",
    "\n",
    "X_train = glass[:][:train_size]\n",
    "y_train = y_glass[:][:train_size]\n",
    "X_test = glass[:][train_size:]\n",
    "y_test = y_glass[:][train_size:]\n",
    "coef = mgua.fit(X_train, y_train)\n",
    "# result = long.fit(X_train, y_train)"
   ]
  },
  {
   "cell_type": "code",
   "execution_count": 79,
   "metadata": {},
   "outputs": [],
   "source": [
    "json_file = \"glass_/model__GLASS_matrix_alphabet_NNdt*_1and2and3chains.json\"\n",
    "# mylogreg = MGUA(X_train=Xtrain, Y_train=Ytrain)\n",
    "mgua.save_json(json_file)"
   ]
  },
  {
   "cell_type": "code",
   "execution_count": 124,
   "metadata": {},
   "outputs": [
    {
     "data": {
      "text/plain": [
       "<__main__.MGUA at 0x1a2185c0d0>"
      ]
     },
     "execution_count": 124,
     "metadata": {},
     "output_type": "execute_result"
    }
   ],
   "source": [
    "mgua_glass = MGUA()\n",
    "mgua_glass.load_json(json_file)\n",
    "mgua_glass"
   ]
  },
  {
   "cell_type": "code",
   "execution_count": 125,
   "metadata": {},
   "outputs": [],
   "source": [
    "res = mgua_glass.predict(X_test)"
   ]
  },
  {
   "cell_type": "code",
   "execution_count": 126,
   "metadata": {},
   "outputs": [
    {
     "data": {
      "text/plain": [
       "[{0, 1, 2, 6}, {0, 1, 6, 55}, {0, 6, 17, 55}, {2, 6, 55}]"
      ]
     },
     "execution_count": 126,
     "metadata": {},
     "output_type": "execute_result"
    }
   ],
   "source": [
    "mgua_glass.column_indexes"
   ]
  },
  {
   "cell_type": "code",
   "execution_count": 106,
   "metadata": {},
   "outputs": [],
   "source": [
    "a = np.array([1, 2]).reshape(2, )"
   ]
  },
  {
   "cell_type": "code",
   "execution_count": 122,
   "metadata": {},
   "outputs": [
    {
     "data": {
      "text/plain": [
       "{2}"
      ]
     },
     "execution_count": 122,
     "metadata": {},
     "output_type": "execute_result"
    }
   ],
   "source": [
    "set([a[1]])"
   ]
  },
  {
   "cell_type": "code",
   "execution_count": null,
   "metadata": {},
   "outputs": [],
   "source": []
  },
  {
   "cell_type": "code",
   "execution_count": 254,
   "metadata": {},
   "outputs": [
    {
     "data": {
      "text/plain": [
       "1460"
      ]
     },
     "execution_count": 254,
     "metadata": {},
     "output_type": "execute_result"
    }
   ],
   "source": [
    "np.count_nonzero(glass)"
   ]
  },
  {
   "cell_type": "markdown",
   "metadata": {},
   "source": [
    "## Результат на glass_/GLASS_matrix_NNdt*_1and2and3chains.csv"
   ]
  },
  {
   "cell_type": "code",
   "execution_count": 60,
   "metadata": {},
   "outputs": [
    {
     "data": {
      "text/plain": [
       "[[[28, 244], [37, 46], [39, 1094], [249, 5293]],\n",
       " [[99, 2], [99, 3], [213, 2], [2982, 2]],\n",
       " [[99, 2], [102, 3], [2865, 3], [5085, 1]],\n",
       " [[0, 0], [0, 1], [0, 2], [0, 3]],\n",
       " [[0, 0], [0, 1], [0, 2], [0, 3]]]"
      ]
     },
     "execution_count": 60,
     "metadata": {},
     "output_type": "execute_result"
    }
   ],
   "source": [
    "result"
   ]
  },
  {
   "cell_type": "code",
   "execution_count": 61,
   "metadata": {},
   "outputs": [],
   "source": [
    "reslong = long.predict(X_test)"
   ]
  },
  {
   "cell_type": "code",
   "execution_count": 62,
   "metadata": {},
   "outputs": [
    {
     "name": "stdout",
     "output_type": "stream",
     "text": [
      "-1.379672563059542\n",
      "-0.7505992651322624\n",
      "-1.073322722462779\n",
      "-1.534577713436176\n"
     ]
    }
   ],
   "source": [
    "for i in range(4):\n",
    "    print(r2_score(y_test, reslong[i]))"
   ]
  },
  {
   "cell_type": "code",
   "execution_count": 55,
   "metadata": {},
   "outputs": [
    {
     "data": {
      "text/plain": [
       "9101"
      ]
     },
     "execution_count": 55,
     "metadata": {},
     "output_type": "execute_result"
    }
   ],
   "source": [
    "np.count_nonzero(glass)"
   ]
  },
  {
   "cell_type": "markdown",
   "metadata": {},
   "source": [
    "Визуализация результатов:"
   ]
  },
  {
   "cell_type": "code",
   "execution_count": 236,
   "metadata": {},
   "outputs": [
    {
     "data": {
      "image/png": "[encoded data removed]",
      "text/plain": [
       "<Figure size 864x288 with 1 Axes>"
      ]
     },
     "metadata": {
      "needs_background": "light"
     },
     "output_type": "display_data"
    }
   ],
   "source": [
    "data = ((np.arange(y_test.shape[0]), y_test.to_numpy().reshape(-1)), (np.arange(y_test.shape[0]), reslong[1].reshape(-1)))\n",
    "colors = (\"red\", \"green\")\n",
    "groups = (\"y_test\", \"y_pred\")\n",
    "\n",
    "# Create plot\n",
    "fig, ax = plt.subplots()\n",
    "fig.set_figwidth(12)\n",
    "fig.set_figheight(4)\n",
    "\n",
    "for data, color, group in zip(data, colors, groups):\n",
    "    x, y = data\n",
    "    ax.scatter(x, y, alpha=0.8, c=color, edgecolors='none', s=30, label=group)\n",
    "\n",
    "plt.title('Glass long matrix test and prediction values')\n",
    "plt.ylabel(\"y value\")\n",
    "plt.xlabel(\"item from matrix X\")\n",
    "plt.grid()  \n",
    "plt.legend(loc=0)\n",
    "plt.show()"
   ]
  },
  {
   "cell_type": "markdown",
   "metadata": {},
   "source": [
    "## Результат на glass_/GLASS_matrix_alphabet_NNdt*_1and2and3chains.csv"
   ]
  },
  {
   "cell_type": "code",
   "execution_count": 77,
   "metadata": {},
   "outputs": [],
   "source": [
    "res = mgua.predict(X_test)"
   ]
  },
  {
   "cell_type": "code",
   "execution_count": 70,
   "metadata": {},
   "outputs": [
    {
     "name": "stdout",
     "output_type": "stream",
     "text": [
      "0.9287023586642775\n",
      "0.8399777455671995\n",
      "0.829126991426675\n",
      "0.7829653377845821\n"
     ]
    }
   ],
   "source": [
    "for i in range(4):\n",
    "    print(r2_score(y_test, res[i]))"
   ]
  },
  {
   "cell_type": "code",
   "execution_count": 71,
   "metadata": {},
   "outputs": [
    {
     "data": {
      "text/plain": [
       "[[[0, 6], [0, 35], [2, 6], [6, 55]],\n",
       " [[1, 2], [1, 3], [2, 3], [17, 3]],\n",
       " [[0, 0], [0, 1], [0, 3], [2, 2]],\n",
       " [[0, 0], [0, 1], [0, 2], [2, 3]],\n",
       " [[0, 0], [0, 1], [0, 2], [2, 3]]]"
      ]
     },
     "execution_count": 71,
     "metadata": {},
     "output_type": "execute_result"
    }
   ],
   "source": [
    "mgua.buf_coef"
   ]
  },
  {
   "cell_type": "code",
   "execution_count": 57,
   "metadata": {},
   "outputs": [
    {
     "data": {
      "text/plain": [
       "1460"
      ]
     },
     "execution_count": 57,
     "metadata": {},
     "output_type": "execute_result"
    }
   ],
   "source": [
    "np.count_nonzero(glass)"
   ]
  },
  {
   "cell_type": "code",
   "execution_count": 118,
   "metadata": {},
   "outputs": [],
   "source": [
    "json_file = \"model__GLASS_matrix_alphabet_NNdt*_1and2and3chains.json\"\n",
    "# mylogreg = MGUA(X_train=Xtrain, Y_train=Ytrain)\n",
    "mgua.save_json(json_file)"
   ]
  },
  {
   "cell_type": "code",
   "execution_count": 119,
   "metadata": {},
   "outputs": [],
   "source": [
    "mgua1 = MGUA(model=LinearRegression(normalize=True))\n",
    "mgua1.load_json(json_file)\n",
    "res1 = mgua1.predict(X_test)"
   ]
  },
  {
   "cell_type": "code",
   "execution_count": 212,
   "metadata": {},
   "outputs": [
    {
     "name": "stdout",
     "output_type": "stream",
     "text": [
      "0.9287023586642775\n",
      "0.8399777455671995\n",
      "0.829126991426675\n",
      "0.7829653377845821\n"
     ]
    }
   ],
   "source": [
    "for i in range(4):\n",
    "    print(r2_score(y_test, res1[i]))"
   ]
  },
  {
   "cell_type": "markdown",
   "metadata": {},
   "source": [
    "Визуализация результатов:"
   ]
  },
  {
   "cell_type": "code",
   "execution_count": 232,
   "metadata": {},
   "outputs": [
    {
     "data": {
      "image/png": "[encoded data removed]",
      "text/plain": [
       "<Figure size 864x288 with 1 Axes>"
      ]
     },
     "metadata": {
      "needs_background": "light"
     },
     "output_type": "display_data"
    }
   ],
   "source": [
    "data = ((np.arange(y_test.shape[0]), y_test.to_numpy().reshape(-1)), (np.arange(y_test.shape[0]), res1[0].reshape(-1)))\n",
    "colors = (\"red\", \"green\")\n",
    "groups = (\"y_test\", \"y_pred\")\n",
    "\n",
    "# Create plot\n",
    "fig, ax = plt.subplots()\n",
    "fig.set_figwidth(12)\n",
    "fig.set_figheight(4)\n",
    "\n",
    "for data, color, group in zip(data, colors, groups):\n",
    "    x, y = data\n",
    "    ax.scatter(x, y, alpha=0.8, c=color, edgecolors='none', s=30, label=group)\n",
    "\n",
    "plt.title('Glass Alphabet test and prediction values')\n",
    "plt.ylabel(\"y value\")\n",
    "plt.xlabel(\"item from matrix X\")\n",
    "plt.grid()  \n",
    "plt.legend(loc=0)\n",
    "plt.show()"
   ]
  },
  {
   "cell_type": "markdown",
   "metadata": {},
   "source": [
    "# Выборка SOIL"
   ]
  },
  {
   "cell_type": "code",
   "execution_count": 16,
   "metadata": {},
   "outputs": [
    {
     "data": {
      "text/plain": [
       "Index(['>  <logKoc(exp)> ', '>  <logKoc(cal)> ', '>  <logKow(cal)> '], dtype='object')"
      ]
     },
     "execution_count": 16,
     "metadata": {},
     "output_type": "execute_result"
    }
   ],
   "source": [
    "soil = pd.read_csv('SOIL/soil-1-1_matrix_alphabet_NNdt*_1and2and3chains.csv', sep=',', header=None)\n",
    "y_SOIL = pd.read_csv('SOIL/soil-1-1_y.csv')\n",
    "y_SOIL.columns"
   ]
  },
  {
   "cell_type": "code",
   "execution_count": 188,
   "metadata": {},
   "outputs": [
    {
     "data": {
      "text/html": [
       "<div>\n",
       "<style scoped>\n",
       "    .dataframe tbody tr th:only-of-type {\n",
       "        vertical-align: middle;\n",
       "    }\n",
       "\n",
       "    .dataframe tbody tr th {\n",
       "        vertical-align: top;\n",
       "    }\n",
       "\n",
       "    .dataframe thead th {\n",
       "        text-align: right;\n",
       "    }\n",
       "</style>\n",
       "<table border=\"1\" class=\"dataframe\">\n",
       "  <thead>\n",
       "    <tr style=\"text-align: right;\">\n",
       "      <th></th>\n",
       "      <th>0</th>\n",
       "      <th>1</th>\n",
       "      <th>2</th>\n",
       "      <th>3</th>\n",
       "      <th>4</th>\n",
       "      <th>5</th>\n",
       "      <th>6</th>\n",
       "      <th>7</th>\n",
       "      <th>8</th>\n",
       "      <th>9</th>\n",
       "      <th>...</th>\n",
       "      <th>467</th>\n",
       "      <th>468</th>\n",
       "      <th>469</th>\n",
       "      <th>470</th>\n",
       "      <th>471</th>\n",
       "      <th>472</th>\n",
       "      <th>473</th>\n",
       "      <th>474</th>\n",
       "      <th>475</th>\n",
       "      <th>476</th>\n",
       "    </tr>\n",
       "  </thead>\n",
       "  <tbody>\n",
       "    <tr>\n",
       "      <td>0</td>\n",
       "      <td>0.0</td>\n",
       "      <td>0.0</td>\n",
       "      <td>0.0</td>\n",
       "      <td>0.0</td>\n",
       "      <td>2.0</td>\n",
       "      <td>0.0</td>\n",
       "      <td>4.0</td>\n",
       "      <td>0.0</td>\n",
       "      <td>0.0</td>\n",
       "      <td>3.0</td>\n",
       "      <td>...</td>\n",
       "      <td>0.0</td>\n",
       "      <td>0.0</td>\n",
       "      <td>0.0</td>\n",
       "      <td>0.0</td>\n",
       "      <td>0.0</td>\n",
       "      <td>0.0</td>\n",
       "      <td>0.0</td>\n",
       "      <td>0.0</td>\n",
       "      <td>0.0</td>\n",
       "      <td>0.0</td>\n",
       "    </tr>\n",
       "    <tr>\n",
       "      <td>1</td>\n",
       "      <td>0.0</td>\n",
       "      <td>0.0</td>\n",
       "      <td>0.0</td>\n",
       "      <td>0.0</td>\n",
       "      <td>1.0</td>\n",
       "      <td>0.0</td>\n",
       "      <td>5.0</td>\n",
       "      <td>0.0</td>\n",
       "      <td>0.0</td>\n",
       "      <td>2.0</td>\n",
       "      <td>...</td>\n",
       "      <td>0.0</td>\n",
       "      <td>0.0</td>\n",
       "      <td>0.0</td>\n",
       "      <td>0.0</td>\n",
       "      <td>0.0</td>\n",
       "      <td>0.0</td>\n",
       "      <td>0.0</td>\n",
       "      <td>0.0</td>\n",
       "      <td>0.0</td>\n",
       "      <td>0.0</td>\n",
       "    </tr>\n",
       "    <tr>\n",
       "      <td>2</td>\n",
       "      <td>1.0</td>\n",
       "      <td>0.0</td>\n",
       "      <td>0.0</td>\n",
       "      <td>0.0</td>\n",
       "      <td>1.0</td>\n",
       "      <td>0.0</td>\n",
       "      <td>4.0</td>\n",
       "      <td>0.0</td>\n",
       "      <td>0.0</td>\n",
       "      <td>3.0</td>\n",
       "      <td>...</td>\n",
       "      <td>0.0</td>\n",
       "      <td>0.0</td>\n",
       "      <td>0.0</td>\n",
       "      <td>0.0</td>\n",
       "      <td>0.0</td>\n",
       "      <td>0.0</td>\n",
       "      <td>0.0</td>\n",
       "      <td>0.0</td>\n",
       "      <td>0.0</td>\n",
       "      <td>0.0</td>\n",
       "    </tr>\n",
       "    <tr>\n",
       "      <td>3</td>\n",
       "      <td>0.0</td>\n",
       "      <td>0.0</td>\n",
       "      <td>0.0</td>\n",
       "      <td>0.0</td>\n",
       "      <td>1.0</td>\n",
       "      <td>0.0</td>\n",
       "      <td>4.0</td>\n",
       "      <td>0.0</td>\n",
       "      <td>0.0</td>\n",
       "      <td>3.0</td>\n",
       "      <td>...</td>\n",
       "      <td>0.0</td>\n",
       "      <td>0.0</td>\n",
       "      <td>0.0</td>\n",
       "      <td>0.0</td>\n",
       "      <td>0.0</td>\n",
       "      <td>0.0</td>\n",
       "      <td>0.0</td>\n",
       "      <td>0.0</td>\n",
       "      <td>0.0</td>\n",
       "      <td>0.0</td>\n",
       "    </tr>\n",
       "    <tr>\n",
       "      <td>4</td>\n",
       "      <td>0.0</td>\n",
       "      <td>0.0</td>\n",
       "      <td>0.0</td>\n",
       "      <td>0.0</td>\n",
       "      <td>1.0</td>\n",
       "      <td>0.0</td>\n",
       "      <td>4.0</td>\n",
       "      <td>0.0</td>\n",
       "      <td>0.0</td>\n",
       "      <td>3.0</td>\n",
       "      <td>...</td>\n",
       "      <td>0.0</td>\n",
       "      <td>0.0</td>\n",
       "      <td>0.0</td>\n",
       "      <td>0.0</td>\n",
       "      <td>0.0</td>\n",
       "      <td>0.0</td>\n",
       "      <td>0.0</td>\n",
       "      <td>0.0</td>\n",
       "      <td>0.0</td>\n",
       "      <td>0.0</td>\n",
       "    </tr>\n",
       "    <tr>\n",
       "      <td>...</td>\n",
       "      <td>...</td>\n",
       "      <td>...</td>\n",
       "      <td>...</td>\n",
       "      <td>...</td>\n",
       "      <td>...</td>\n",
       "      <td>...</td>\n",
       "      <td>...</td>\n",
       "      <td>...</td>\n",
       "      <td>...</td>\n",
       "      <td>...</td>\n",
       "      <td>...</td>\n",
       "      <td>...</td>\n",
       "      <td>...</td>\n",
       "      <td>...</td>\n",
       "      <td>...</td>\n",
       "      <td>...</td>\n",
       "      <td>...</td>\n",
       "      <td>...</td>\n",
       "      <td>...</td>\n",
       "      <td>...</td>\n",
       "      <td>...</td>\n",
       "    </tr>\n",
       "    <tr>\n",
       "      <td>323</td>\n",
       "      <td>0.0</td>\n",
       "      <td>0.0</td>\n",
       "      <td>0.0</td>\n",
       "      <td>0.0</td>\n",
       "      <td>1.0</td>\n",
       "      <td>0.0</td>\n",
       "      <td>3.0</td>\n",
       "      <td>3.0</td>\n",
       "      <td>0.0</td>\n",
       "      <td>3.0</td>\n",
       "      <td>...</td>\n",
       "      <td>0.0</td>\n",
       "      <td>0.0</td>\n",
       "      <td>0.0</td>\n",
       "      <td>0.0</td>\n",
       "      <td>0.0</td>\n",
       "      <td>0.0</td>\n",
       "      <td>0.0</td>\n",
       "      <td>0.0</td>\n",
       "      <td>0.0</td>\n",
       "      <td>0.0</td>\n",
       "    </tr>\n",
       "    <tr>\n",
       "      <td>324</td>\n",
       "      <td>0.0</td>\n",
       "      <td>1.0</td>\n",
       "      <td>0.0</td>\n",
       "      <td>0.0</td>\n",
       "      <td>0.0</td>\n",
       "      <td>0.0</td>\n",
       "      <td>3.0</td>\n",
       "      <td>0.0</td>\n",
       "      <td>0.0</td>\n",
       "      <td>3.0</td>\n",
       "      <td>...</td>\n",
       "      <td>0.0</td>\n",
       "      <td>0.0</td>\n",
       "      <td>0.0</td>\n",
       "      <td>0.0</td>\n",
       "      <td>0.0</td>\n",
       "      <td>0.0</td>\n",
       "      <td>0.0</td>\n",
       "      <td>0.0</td>\n",
       "      <td>0.0</td>\n",
       "      <td>0.0</td>\n",
       "    </tr>\n",
       "    <tr>\n",
       "      <td>325</td>\n",
       "      <td>0.0</td>\n",
       "      <td>0.0</td>\n",
       "      <td>0.0</td>\n",
       "      <td>0.0</td>\n",
       "      <td>0.0</td>\n",
       "      <td>0.0</td>\n",
       "      <td>3.0</td>\n",
       "      <td>0.0</td>\n",
       "      <td>0.0</td>\n",
       "      <td>3.0</td>\n",
       "      <td>...</td>\n",
       "      <td>0.0</td>\n",
       "      <td>0.0</td>\n",
       "      <td>0.0</td>\n",
       "      <td>0.0</td>\n",
       "      <td>0.0</td>\n",
       "      <td>0.0</td>\n",
       "      <td>0.0</td>\n",
       "      <td>0.0</td>\n",
       "      <td>0.0</td>\n",
       "      <td>0.0</td>\n",
       "    </tr>\n",
       "    <tr>\n",
       "      <td>326</td>\n",
       "      <td>0.0</td>\n",
       "      <td>0.0</td>\n",
       "      <td>0.0</td>\n",
       "      <td>0.0</td>\n",
       "      <td>1.0</td>\n",
       "      <td>0.0</td>\n",
       "      <td>3.0</td>\n",
       "      <td>0.0</td>\n",
       "      <td>0.0</td>\n",
       "      <td>3.0</td>\n",
       "      <td>...</td>\n",
       "      <td>0.0</td>\n",
       "      <td>0.0</td>\n",
       "      <td>0.0</td>\n",
       "      <td>0.0</td>\n",
       "      <td>0.0</td>\n",
       "      <td>0.0</td>\n",
       "      <td>0.0</td>\n",
       "      <td>0.0</td>\n",
       "      <td>0.0</td>\n",
       "      <td>0.0</td>\n",
       "    </tr>\n",
       "    <tr>\n",
       "      <td>327</td>\n",
       "      <td>0.0</td>\n",
       "      <td>2.0</td>\n",
       "      <td>0.0</td>\n",
       "      <td>0.0</td>\n",
       "      <td>6.0</td>\n",
       "      <td>0.0</td>\n",
       "      <td>2.0</td>\n",
       "      <td>0.0</td>\n",
       "      <td>0.0</td>\n",
       "      <td>6.0</td>\n",
       "      <td>...</td>\n",
       "      <td>0.0</td>\n",
       "      <td>0.0</td>\n",
       "      <td>0.0</td>\n",
       "      <td>0.0</td>\n",
       "      <td>0.0</td>\n",
       "      <td>0.0</td>\n",
       "      <td>0.0</td>\n",
       "      <td>0.0</td>\n",
       "      <td>0.0</td>\n",
       "      <td>0.0</td>\n",
       "    </tr>\n",
       "  </tbody>\n",
       "</table>\n",
       "<p>328 rows × 477 columns</p>\n",
       "</div>"
      ],
      "text/plain": [
       "     0    1    2    3    4    5    6    7    8    9    ...  467  468  469  \\\n",
       "0    0.0  0.0  0.0  0.0  2.0  0.0  4.0  0.0  0.0  3.0  ...  0.0  0.0  0.0   \n",
       "1    0.0  0.0  0.0  0.0  1.0  0.0  5.0  0.0  0.0  2.0  ...  0.0  0.0  0.0   \n",
       "2    1.0  0.0  0.0  0.0  1.0  0.0  4.0  0.0  0.0  3.0  ...  0.0  0.0  0.0   \n",
       "3    0.0  0.0  0.0  0.0  1.0  0.0  4.0  0.0  0.0  3.0  ...  0.0  0.0  0.0   \n",
       "4    0.0  0.0  0.0  0.0  1.0  0.0  4.0  0.0  0.0  3.0  ...  0.0  0.0  0.0   \n",
       "..   ...  ...  ...  ...  ...  ...  ...  ...  ...  ...  ...  ...  ...  ...   \n",
       "323  0.0  0.0  0.0  0.0  1.0  0.0  3.0  3.0  0.0  3.0  ...  0.0  0.0  0.0   \n",
       "324  0.0  1.0  0.0  0.0  0.0  0.0  3.0  0.0  0.0  3.0  ...  0.0  0.0  0.0   \n",
       "325  0.0  0.0  0.0  0.0  0.0  0.0  3.0  0.0  0.0  3.0  ...  0.0  0.0  0.0   \n",
       "326  0.0  0.0  0.0  0.0  1.0  0.0  3.0  0.0  0.0  3.0  ...  0.0  0.0  0.0   \n",
       "327  0.0  2.0  0.0  0.0  6.0  0.0  2.0  0.0  0.0  6.0  ...  0.0  0.0  0.0   \n",
       "\n",
       "     470  471  472  473  474  475  476  \n",
       "0    0.0  0.0  0.0  0.0  0.0  0.0  0.0  \n",
       "1    0.0  0.0  0.0  0.0  0.0  0.0  0.0  \n",
       "2    0.0  0.0  0.0  0.0  0.0  0.0  0.0  \n",
       "3    0.0  0.0  0.0  0.0  0.0  0.0  0.0  \n",
       "4    0.0  0.0  0.0  0.0  0.0  0.0  0.0  \n",
       "..   ...  ...  ...  ...  ...  ...  ...  \n",
       "323  0.0  0.0  0.0  0.0  0.0  0.0  0.0  \n",
       "324  0.0  0.0  0.0  0.0  0.0  0.0  0.0  \n",
       "325  0.0  0.0  0.0  0.0  0.0  0.0  0.0  \n",
       "326  0.0  0.0  0.0  0.0  0.0  0.0  0.0  \n",
       "327  0.0  0.0  0.0  0.0  0.0  0.0  0.0  \n",
       "\n",
       "[328 rows x 477 columns]"
      ]
     },
     "execution_count": 188,
     "metadata": {},
     "output_type": "execute_result"
    }
   ],
   "source": [
    "soil"
   ]
  },
  {
   "cell_type": "code",
   "execution_count": 17,
   "metadata": {},
   "outputs": [
    {
     "data": {
      "text/html": [
       "<div>\n",
       "<style scoped>\n",
       "    .dataframe tbody tr th:only-of-type {\n",
       "        vertical-align: middle;\n",
       "    }\n",
       "\n",
       "    .dataframe tbody tr th {\n",
       "        vertical-align: top;\n",
       "    }\n",
       "\n",
       "    .dataframe thead th {\n",
       "        text-align: right;\n",
       "    }\n",
       "</style>\n",
       "<table border=\"1\" class=\"dataframe\">\n",
       "  <thead>\n",
       "    <tr style=\"text-align: right;\">\n",
       "      <th></th>\n",
       "      <th>&gt;  &lt;logKoc(exp)&gt;</th>\n",
       "    </tr>\n",
       "  </thead>\n",
       "  <tbody>\n",
       "    <tr>\n",
       "      <td>0</td>\n",
       "      <td>1.40</td>\n",
       "    </tr>\n",
       "    <tr>\n",
       "      <td>1</td>\n",
       "      <td>1.43</td>\n",
       "    </tr>\n",
       "    <tr>\n",
       "      <td>2</td>\n",
       "      <td>1.95</td>\n",
       "    </tr>\n",
       "    <tr>\n",
       "      <td>3</td>\n",
       "      <td>1.94</td>\n",
       "    </tr>\n",
       "    <tr>\n",
       "      <td>4</td>\n",
       "      <td>1.57</td>\n",
       "    </tr>\n",
       "    <tr>\n",
       "      <td>...</td>\n",
       "      <td>...</td>\n",
       "    </tr>\n",
       "    <tr>\n",
       "      <td>323</td>\n",
       "      <td>2.16</td>\n",
       "    </tr>\n",
       "    <tr>\n",
       "      <td>324</td>\n",
       "      <td>1.98</td>\n",
       "    </tr>\n",
       "    <tr>\n",
       "      <td>325</td>\n",
       "      <td>1.87</td>\n",
       "    </tr>\n",
       "    <tr>\n",
       "      <td>326</td>\n",
       "      <td>1.80</td>\n",
       "    </tr>\n",
       "    <tr>\n",
       "      <td>327</td>\n",
       "      <td>3.51</td>\n",
       "    </tr>\n",
       "  </tbody>\n",
       "</table>\n",
       "<p>328 rows × 1 columns</p>\n",
       "</div>"
      ],
      "text/plain": [
       "     >  <logKoc(exp)> \n",
       "0                 1.40\n",
       "1                 1.43\n",
       "2                 1.95\n",
       "3                 1.94\n",
       "4                 1.57\n",
       "..                 ...\n",
       "323               2.16\n",
       "324               1.98\n",
       "325               1.87\n",
       "326               1.80\n",
       "327               3.51\n",
       "\n",
       "[328 rows x 1 columns]"
      ]
     },
     "execution_count": 17,
     "metadata": {},
     "output_type": "execute_result"
    }
   ],
   "source": [
    "y_soil0 = pd.DataFrame(y_SOIL.loc[:, '>  <logKoc(exp)> '])\n",
    "y_soil0"
   ]
  },
  {
   "cell_type": "markdown",
   "metadata": {},
   "source": [
    "## Линейная регрессия:"
   ]
  },
  {
   "cell_type": "code",
   "execution_count": 18,
   "metadata": {},
   "outputs": [],
   "source": [
    "soil_mgua = MGUA(6, 0.997, 7, LinearRegression(normalize=True))"
   ]
  },
  {
   "cell_type": "code",
   "execution_count": 39,
   "metadata": {},
   "outputs": [],
   "source": [
    "train_size = int(0.7 * soil.shape[0])\n"
   ]
  },
  {
   "cell_type": "code",
   "execution_count": 40,
   "metadata": {},
   "outputs": [],
   "source": [
    "X_train = soil[:][:train_size]\n",
    "y_train = y_soil0[:][:train_size]\n",
    "X_test = soil[:][train_size:]\n",
    "y_test = y_soil0[:][train_size:]\n",
    "# model_soil = soil_mgua.fit(X_train, y_train)"
   ]
  },
  {
   "cell_type": "code",
   "execution_count": 21,
   "metadata": {},
   "outputs": [],
   "source": [
    "soil_pred = soil_mgua.predict(X_test)"
   ]
  },
  {
   "cell_type": "code",
   "execution_count": 22,
   "metadata": {},
   "outputs": [
    {
     "name": "stdout",
     "output_type": "stream",
     "text": [
      "0.2286329553195494\n",
      "0.25724556100661455\n",
      "0.19309654049009173\n",
      "0.1958328024154703\n"
     ]
    }
   ],
   "source": [
    "for i in range(4):\n",
    "    print(r2_score(y_test, soil_pred[i]))"
   ]
  },
  {
   "cell_type": "code",
   "execution_count": 23,
   "metadata": {},
   "outputs": [
    {
     "data": {
      "text/plain": [
       "[[[1, 172], [7, 9], [9, 40], [9, 172], [9, 270], [34, 172]],\n",
       " [[90, 1], [90, 3], [90, 4], [252, 1], [285, 1], [400, 1]],\n",
       " [[1, 5], [22, 2], [56, 5], [90, 3], [90, 4], [90, 5]],\n",
       " [[22, 3], [56, 4], [69, 3], [69, 4], [69, 5], [252, 5]],\n",
       " [[0, 0], [0, 4], [400, 2], [451, 1], [451, 2], [451, 5]],\n",
       " [[0, 1], [0, 2], [0, 4], [0, 5], [69, 3], [72, 3]],\n",
       " [[0, 0], [0, 1], [0, 2], [0, 3], [0, 4], [0, 5]]]"
      ]
     },
     "execution_count": 23,
     "metadata": {},
     "output_type": "execute_result"
    }
   ],
   "source": [
    "model_soil"
   ]
  },
  {
   "cell_type": "code",
   "execution_count": 24,
   "metadata": {},
   "outputs": [
    {
     "data": {
      "image/png": "[encoded data removed]",
      "text/plain": [
       "<Figure size 1080x288 with 1 Axes>"
      ]
     },
     "metadata": {
      "needs_background": "light"
     },
     "output_type": "display_data"
    }
   ],
   "source": [
    "data = ((np.arange(y_test[:40].shape[0]), y_test.to_numpy().reshape(-1)[:40]), (np.arange(y_test[:40].shape[0]), soil_pred[2].reshape(-1)[:40]))\n",
    "colors = (\"red\", \"green\")\n",
    "groups = (\"y_test\", \"y_pred\")\n",
    "\n",
    "# Create plot\n",
    "fig, ax = plt.subplots()\n",
    "fig.set_figwidth(15)\n",
    "fig.set_figheight(4)\n",
    "\n",
    "for data, color, group in zip(data, colors, groups):\n",
    "    x, y = data\n",
    "    ax.scatter(x, y, alpha=0.8, c=color, edgecolors='none', s=30, label=group)\n",
    "\n",
    "plt.title('Soil alphabet matrix test and prediction values, linear model')\n",
    "plt.ylabel(\"y value\")\n",
    "plt.xlabel(\"item from matrix X\")\n",
    "plt.grid()  \n",
    "plt.legend(loc=0)\n",
    "plt.show()"
   ]
  },
  {
   "cell_type": "markdown",
   "metadata": {},
   "source": [
    "## Гребневая регрессия:"
   ]
  },
  {
   "cell_type": "code",
   "execution_count": 25,
   "metadata": {},
   "outputs": [],
   "source": [
    "from sklearn.linear_model import Ridge"
   ]
  },
  {
   "cell_type": "code",
   "execution_count": 248,
   "metadata": {},
   "outputs": [],
   "source": [
    "ridge_soil_mgua = MGUA(6, 0.997, 7, Ridge(normalize=True, alpha=1))"
   ]
  },
  {
   "cell_type": "code",
   "execution_count": 250,
   "metadata": {},
   "outputs": [],
   "source": [
    "ridge_model_soil = ridge_soil_mgua.fit(X_train, y_train)"
   ]
  },
  {
   "cell_type": "code",
   "execution_count": 155,
   "metadata": {},
   "outputs": [],
   "source": [
    "ridge_soil_pred = ridge_soil_mgua.predict(X_test)"
   ]
  },
  {
   "cell_type": "code",
   "execution_count": 156,
   "metadata": {},
   "outputs": [
    {
     "name": "stdout",
     "output_type": "stream",
     "text": [
      "-0.210178133127485\n",
      "-0.2788644721236484\n",
      "-0.4246583550672902\n",
      "-0.479700770484643\n",
      "-0.412956734338104\n",
      "-0.3057943165826933\n"
     ]
    }
   ],
   "source": [
    "for i in range(ridge_soil_mgua.Q):\n",
    "    print(r2_score(y_test, ridge_soil_pred[i]))"
   ]
  },
  {
   "cell_type": "code",
   "execution_count": 157,
   "metadata": {},
   "outputs": [
    {
     "data": {
      "text/plain": [
       "[[[0, 9], [1, 22], [19, 22], [33, 55], [55, 110], [79, 88]],\n",
       " [[0, 0], [0, 1], [1, 3], [6, 2], [47, 3], [146, 4]],\n",
       " [[0, 0], [0, 1], [0, 3], [0, 4], [0, 5], [1, 2]],\n",
       " [[0, 0], [0, 1], [0, 3], [0, 4], [1, 3], [4, 2]],\n",
       " [[0, 0], [0, 1], [0, 2], [0, 3], [0, 5], [1, 2]],\n",
       " [[0, 0], [0, 1], [0, 2], [0, 3], [0, 4], [1, 2]],\n",
       " [[0, 0], [0, 1], [0, 2], [0, 3], [0, 4], [1, 2]]]"
      ]
     },
     "execution_count": 157,
     "metadata": {},
     "output_type": "execute_result"
    }
   ],
   "source": [
    "ridge_model_soil"
   ]
  },
  {
   "cell_type": "markdown",
   "metadata": {},
   "source": [
    "В данной модели размер буфера = 6, количество итераций = 7. Можно заметить, что последние 3 строки отличаются одной цифрой, это значит, что можно количество итераций сократить до 5, а то и до 4х без потери качества (которого и так нет). Аналогичное предположение можно сделать относительно столбцов матрицы, то есть размера буфера. Или можно изменить порог корреляции на 0.9990"
   ]
  },
  {
   "cell_type": "code",
   "execution_count": 27,
   "metadata": {},
   "outputs": [],
   "source": [
    "ridge_soil_mgua = MGUA(6, 0.9990, 9, Ridge(normalize=True, alpha=1))"
   ]
  },
  {
   "cell_type": "code",
   "execution_count": 28,
   "metadata": {},
   "outputs": [
    {
     "name": "stdout",
     "output_type": "stream",
     "text": [
      "0  /  477\n",
      "1  /  477\n",
      "2  /  477\n",
      "3  /  477\n",
      "4  /  477\n",
      "5  /  477\n",
      "6  /  477\n",
      "7  /  477\n",
      "8  /  477\n",
      "9  /  477\n",
      "10  /  477\n",
      "11  /  477\n",
      "12  /  477\n",
      "13  /  477\n",
      "14  /  477\n",
      "15  /  477\n",
      "16  /  477\n",
      "17  /  477\n",
      "18  /  477\n",
      "19  /  477\n",
      "20  /  477\n",
      "21  /  477\n",
      "22  /  477\n",
      "23  /  477\n",
      "24  /  477\n",
      "25  /  477\n",
      "26  /  477\n",
      "27  /  477\n",
      "28  /  477\n",
      "29  /  477\n",
      "30  /  477\n",
      "31  /  477\n",
      "32  /  477\n",
      "33  /  477\n",
      "34  /  477\n",
      "35  /  477\n",
      "36  /  477\n",
      "37  /  477\n",
      "38  /  477\n",
      "39  /  477\n",
      "40  /  477\n",
      "41  /  477\n",
      "42  /  477\n",
      "43  /  477\n",
      "44  /  477\n",
      "45  /  477\n",
      "46  /  477\n",
      "47  /  477\n",
      "48  /  477\n",
      "49  /  477\n",
      "50  /  477\n",
      "51  /  477\n",
      "52  /  477\n",
      "53  /  477\n",
      "54  /  477\n",
      "55  /  477\n",
      "56  /  477\n",
      "57  /  477\n",
      "58  /  477\n",
      "59  /  477\n",
      "60  /  477\n",
      "61  /  477\n",
      "62  /  477\n",
      "63  /  477\n",
      "64  /  477\n",
      "65  /  477\n",
      "66  /  477\n",
      "67  /  477\n",
      "68  /  477\n",
      "69  /  477\n",
      "70  /  477\n",
      "71  /  477\n",
      "72  /  477\n",
      "73  /  477\n",
      "74  /  477\n",
      "75  /  477\n",
      "76  /  477\n",
      "77  /  477\n",
      "78  /  477\n",
      "79  /  477\n",
      "80  /  477\n",
      "81  /  477\n",
      "82  /  477\n",
      "83  /  477\n",
      "84  /  477\n",
      "85  /  477\n",
      "86  /  477\n",
      "87  /  477\n",
      "88  /  477\n",
      "89  /  477\n",
      "90  /  477\n",
      "91  /  477\n",
      "92  /  477\n",
      "93  /  477\n",
      "94  /  477\n",
      "95  /  477\n",
      "96  /  477\n",
      "97  /  477\n",
      "98  /  477\n",
      "99  /  477\n",
      "100  /  477\n",
      "101  /  477\n",
      "102  /  477\n",
      "103  /  477\n",
      "104  /  477\n",
      "105  /  477\n",
      "106  /  477\n",
      "107  /  477\n",
      "108  /  477\n",
      "109  /  477\n",
      "110  /  477\n",
      "111  /  477\n",
      "112  /  477\n",
      "113  /  477\n",
      "114  /  477\n",
      "115  /  477\n",
      "116  /  477\n",
      "117  /  477\n",
      "118  /  477\n",
      "119  /  477\n",
      "120  /  477\n",
      "121  /  477\n",
      "122  /  477\n",
      "123  /  477\n",
      "124  /  477\n",
      "125  /  477\n",
      "126  /  477\n",
      "127  /  477\n",
      "128  /  477\n",
      "129  /  477\n",
      "130  /  477\n",
      "131  /  477\n",
      "132  /  477\n",
      "133  /  477\n",
      "134  /  477\n",
      "135  /  477\n",
      "136  /  477\n",
      "137  /  477\n",
      "138  /  477\n",
      "139  /  477\n",
      "140  /  477\n",
      "141  /  477\n",
      "142  /  477\n",
      "143  /  477\n",
      "144  /  477\n",
      "145  /  477\n",
      "146  /  477\n",
      "147  /  477\n",
      "148  /  477\n",
      "149  /  477\n",
      "150  /  477\n",
      "151  /  477\n",
      "152  /  477\n",
      "153  /  477\n",
      "154  /  477\n",
      "155  /  477\n",
      "156  /  477\n",
      "157  /  477\n",
      "158  /  477\n",
      "159  /  477\n",
      "160  /  477\n",
      "161  /  477\n",
      "162  /  477\n",
      "163  /  477\n",
      "164  /  477\n",
      "165  /  477\n",
      "166  /  477\n",
      "167  /  477\n",
      "168  /  477\n",
      "169  /  477\n",
      "170  /  477\n",
      "171  /  477\n",
      "172  /  477\n",
      "173  /  477\n",
      "174  /  477\n",
      "175  /  477\n",
      "176  /  477\n",
      "177  /  477\n",
      "178  /  477\n",
      "179  /  477\n",
      "180  /  477\n",
      "181  /  477\n",
      "182  /  477\n",
      "183  /  477\n",
      "184  /  477\n",
      "185  /  477\n",
      "186  /  477\n",
      "187  /  477\n",
      "188  /  477\n",
      "189  /  477\n",
      "190  /  477\n",
      "191  /  477\n",
      "192  /  477\n",
      "193  /  477\n",
      "194  /  477\n",
      "195  /  477\n",
      "196  /  477\n",
      "197  /  477\n",
      "198  /  477\n",
      "199  /  477\n",
      "200  /  477\n",
      "201  /  477\n",
      "202  /  477\n",
      "203  /  477\n",
      "204  /  477\n",
      "205  /  477\n",
      "206  /  477\n",
      "207  /  477\n",
      "208  /  477\n",
      "209  /  477\n",
      "210  /  477\n",
      "211  /  477\n",
      "212  /  477\n",
      "213  /  477\n",
      "214  /  477\n",
      "215  /  477\n",
      "216  /  477\n",
      "217  /  477\n",
      "218  /  477\n",
      "219  /  477\n",
      "220  /  477\n",
      "221  /  477\n",
      "222  /  477\n",
      "223  /  477\n",
      "224  /  477\n",
      "225  /  477\n",
      "226  /  477\n",
      "227  /  477\n",
      "228  /  477\n",
      "229  /  477\n",
      "230  /  477\n",
      "231  /  477\n",
      "232  /  477\n",
      "233  /  477\n",
      "234  /  477\n",
      "235  /  477\n",
      "236  /  477\n",
      "237  /  477\n",
      "238  /  477\n",
      "239  /  477\n",
      "240  /  477\n",
      "241  /  477\n",
      "242  /  477\n",
      "243  /  477\n",
      "244  /  477\n",
      "245  /  477\n",
      "246  /  477\n",
      "247  /  477\n",
      "248  /  477\n",
      "249  /  477\n",
      "250  /  477\n",
      "251  /  477\n",
      "252  /  477\n",
      "253  /  477\n",
      "254  /  477\n",
      "255  /  477\n",
      "256  /  477\n",
      "257  /  477\n",
      "258  /  477\n",
      "259  /  477\n",
      "260  /  477\n",
      "261  /  477\n",
      "262  /  477\n",
      "263  /  477\n",
      "264  /  477\n",
      "265  /  477\n",
      "266  /  477\n",
      "267  /  477\n",
      "268  /  477\n",
      "269  /  477\n",
      "270  /  477\n",
      "271  /  477\n",
      "272  /  477\n",
      "273  /  477\n",
      "274  /  477\n",
      "275  /  477\n",
      "276  /  477\n",
      "277  /  477\n",
      "278  /  477\n",
      "279  /  477\n",
      "280  /  477\n",
      "281  /  477\n",
      "282  /  477\n",
      "283  /  477\n",
      "284  /  477\n",
      "285  /  477\n",
      "286  /  477\n",
      "287  /  477\n",
      "288  /  477\n",
      "289  /  477\n",
      "290  /  477\n",
      "291  /  477\n",
      "292  /  477\n",
      "293  /  477\n",
      "294  /  477\n",
      "295  /  477\n",
      "296  /  477\n",
      "297  /  477\n",
      "298  /  477\n",
      "299  /  477\n",
      "300  /  477\n",
      "301  /  477\n",
      "302  /  477\n",
      "303  /  477\n",
      "304  /  477\n",
      "305  /  477\n",
      "306  /  477\n",
      "307  /  477\n",
      "308  /  477\n",
      "309  /  477\n",
      "310  /  477\n",
      "311  /  477\n",
      "312  /  477\n",
      "313  /  477\n",
      "314  /  477\n",
      "315  /  477\n",
      "316  /  477\n",
      "317  /  477\n",
      "318  /  477\n",
      "319  /  477\n",
      "320  /  477\n",
      "321  /  477\n",
      "322  /  477\n",
      "323  /  477\n",
      "324  /  477\n",
      "325  /  477\n",
      "326  /  477\n",
      "327  /  477\n",
      "328  /  477\n",
      "329  /  477\n",
      "330  /  477\n",
      "331  /  477\n",
      "332  /  477\n",
      "333  /  477\n",
      "334  /  477\n",
      "335  /  477\n",
      "336  /  477\n",
      "337  /  477\n",
      "338  /  477\n",
      "339  /  477\n",
      "340  /  477\n",
      "341  /  477\n",
      "342  /  477\n",
      "343  /  477\n",
      "344  /  477\n",
      "345  /  477\n",
      "346  /  477\n",
      "347  /  477\n",
      "348  /  477\n",
      "349  /  477\n",
      "350  /  477\n",
      "351  /  477\n",
      "352  /  477\n",
      "353  /  477\n",
      "354  /  477\n",
      "355  /  477\n",
      "356  /  477\n",
      "357  /  477\n",
      "358  /  477\n",
      "359  /  477\n",
      "360  /  477\n",
      "361  /  477\n",
      "362  /  477\n",
      "363  /  477\n",
      "364  /  477\n",
      "365  /  477\n",
      "366  /  477\n",
      "367  /  477\n",
      "368  /  477\n",
      "369  /  477\n",
      "370  /  477\n",
      "371  /  477\n",
      "372  /  477\n",
      "373  /  477\n",
      "374  /  477\n",
      "375  /  477\n",
      "376  /  477\n",
      "377  /  477\n",
      "378  /  477\n",
      "379  /  477\n",
      "380  /  477\n",
      "381  /  477\n",
      "382  /  477\n",
      "383  /  477\n",
      "384  /  477\n",
      "385  /  477\n",
      "386  /  477\n",
      "387  /  477\n",
      "388  /  477\n",
      "389  /  477\n",
      "390  /  477\n",
      "391  /  477\n",
      "392  /  477\n",
      "393  /  477\n",
      "394  /  477\n",
      "395  /  477\n",
      "396  /  477\n",
      "397  /  477\n",
      "398  /  477\n",
      "399  /  477\n",
      "400  /  477\n",
      "401  /  477\n",
      "402  /  477\n",
      "403  /  477\n",
      "404  /  477\n",
      "405  /  477\n",
      "406  /  477\n",
      "407  /  477\n",
      "408  /  477\n",
      "409  /  477\n",
      "410  /  477\n",
      "411  /  477\n",
      "412  /  477\n",
      "413  /  477\n",
      "414  /  477\n",
      "415  /  477\n",
      "416  /  477\n",
      "417  /  477\n",
      "418  /  477\n",
      "419  /  477\n",
      "420  /  477\n",
      "421  /  477\n",
      "422  /  477\n",
      "423  /  477\n",
      "424  /  477\n",
      "425  /  477\n",
      "426  /  477\n",
      "427  /  477\n",
      "428  /  477\n",
      "429  /  477\n",
      "430  /  477\n",
      "431  /  477\n",
      "432  /  477\n",
      "433  /  477\n",
      "434  /  477\n",
      "435  /  477\n",
      "436  /  477\n",
      "437  /  477\n",
      "438  /  477\n",
      "439  /  477\n",
      "440  /  477\n",
      "441  /  477\n",
      "442  /  477\n",
      "443  /  477\n",
      "444  /  477\n",
      "445  /  477\n",
      "446  /  477\n",
      "447  /  477\n",
      "448  /  477\n",
      "449  /  477\n",
      "450  /  477\n",
      "451  /  477\n",
      "452  /  477\n",
      "453  /  477\n",
      "454  /  477\n",
      "455  /  477\n",
      "456  /  477\n",
      "457  /  477\n",
      "458  /  477\n",
      "459  /  477\n",
      "460  /  477\n",
      "461  /  477\n",
      "462  /  477\n",
      "463  /  477\n",
      "464  /  477\n",
      "465  /  477\n",
      "466  /  477\n",
      "467  /  477\n",
      "468  /  477\n",
      "469  /  477\n",
      "470  /  477\n",
      "471  /  477\n",
      "472  /  477\n",
      "473  /  477\n",
      "474  /  477\n",
      "475  /  477\n",
      "476  /  477\n",
      "iter =  1\n",
      "iter =  2\n",
      "iter =  3\n",
      "iter =  4\n",
      "iter =  5\n",
      "iter =  6\n",
      "iter =  7\n",
      "iter =  8\n"
     ]
    }
   ],
   "source": [
    "ridge_model_soil = ridge_soil_mgua.fit(X_train, y_train)"
   ]
  },
  {
   "cell_type": "code",
   "execution_count": 29,
   "metadata": {},
   "outputs": [],
   "source": [
    "ridge_soil_pred = ridge_soil_mgua.predict(X_test)"
   ]
  },
  {
   "cell_type": "code",
   "execution_count": 30,
   "metadata": {},
   "outputs": [
    {
     "name": "stdout",
     "output_type": "stream",
     "text": [
      "0.08177162849768471\n",
      "0.020645658477622564\n",
      "0.09943557618973287\n",
      "0.08447732368765415\n",
      "0.22697584837998863\n",
      "-8.06018415947066\n"
     ]
    }
   ],
   "source": [
    "for i in range(ridge_soil_mgua.Q):\n",
    "    print(r2_score(y_test, ridge_soil_pred[i]))"
   ]
  },
  {
   "cell_type": "code",
   "execution_count": 32,
   "metadata": {},
   "outputs": [
    {
     "data": {
      "text/plain": [
       "[[[1, 172], [7, 9], [9, 20], [9, 68], [9, 172], [79, 172]],\n",
       " [[1, 1], [1, 4], [20, 1], [90, 1], [172, 1], [400, 1]],\n",
       " [[1, 3], [1, 5], [22, 3], [172, 3], [342, 3], [401, 3]],\n",
       " [[1, 2], [69, 4], [172, 2], [236, 2], [252, 2], [463, 1]],\n",
       " [[172, 1], [400, 1], [401, 1], [401, 4], [410, 4], [463, 4]],\n",
       " [[1, 1], [1, 3], [172, 1], [174, 1], [236, 1], [450, 1]],\n",
       " [[150, 2], [150, 4], [172, 1], [244, 1], [401, 5], [426, 3]],\n",
       " [[0, 5], [1, 4], [1, 5], [69, 3], [90, 4], [172, 3]],\n",
       " [[172, 1], [236, 1], [236, 4], [244, 1], [287, 4], [401, 2]]]"
      ]
     },
     "execution_count": 32,
     "metadata": {},
     "output_type": "execute_result"
    }
   ],
   "source": [
    "ridge_model_soil"
   ]
  },
  {
   "cell_type": "code",
   "execution_count": 31,
   "metadata": {},
   "outputs": [
    {
     "data": {
      "image/png": "[encoded data removed]",
      "text/plain": [
       "<Figure size 1080x360 with 1 Axes>"
      ]
     },
     "metadata": {
      "needs_background": "light"
     },
     "output_type": "display_data"
    }
   ],
   "source": [
    "# data = ((np.arange(40, 80), y_test.to_numpy().reshape(-1)[40:80]), (np.arange(40, 80), ridge_soil_pred[2].reshape(-1)[40:80]))\n",
    "data = ((np.arange(y_test[:40].shape[0]), y_test.to_numpy().reshape(-1)[:40]), (np.arange(y_test[:40].shape[0]), ridge_soil_pred[2].reshape(-1)[:40]))\n",
    "colors = (\"red\", \"green\")\n",
    "groups = (\"y_test\", \"y_pred\")\n",
    "\n",
    "# Create plot\n",
    "fig, ax = plt.subplots()\n",
    "fig.set_figwidth(15)\n",
    "fig.set_figheight(5)\n",
    "\n",
    "for data, color, group in zip(data, colors, groups):\n",
    "    x, y = data\n",
    "    ax.scatter(x, y, alpha=0.8, c=color, edgecolors='none', s=30, label=group)\n",
    "\n",
    "plt.title('Soil alphabet matrix test and prediction values, ridge model')\n",
    "plt.ylabel(\"y value\")\n",
    "plt.xlabel(\"item from matrix X\")\n",
    "plt.grid()  \n",
    "plt.legend(loc=0)\n",
    "plt.show()"
   ]
  },
  {
   "cell_type": "markdown",
   "metadata": {},
   "source": [
    "Заметим, что теперь значения в буфере не такие постоянные, значит, вероятно, модель недообучилась, поэтому увеличим еще буфер и количество итераций:"
   ]
  },
  {
   "cell_type": "code",
   "execution_count": 178,
   "metadata": {},
   "outputs": [],
   "source": [
    "ridge_soil_mgua = MGUA(Q=10, C=0.9990, I=20, model=Ridge(normalize=True, alpha=1))"
   ]
  },
  {
   "cell_type": "code",
   "execution_count": 273,
   "metadata": {},
   "outputs": [],
   "source": [
    "ridge_model_soil = ridge_soil_mgua.fit(X_train, y_train)"
   ]
  },
  {
   "cell_type": "code",
   "execution_count": 180,
   "metadata": {},
   "outputs": [],
   "source": [
    "ridge_soil_pred = ridge_soil_mgua.predict(X_test)"
   ]
  },
  {
   "cell_type": "code",
   "execution_count": 181,
   "metadata": {},
   "outputs": [
    {
     "name": "stdout",
     "output_type": "stream",
     "text": [
      "-0.15610666458748268\n",
      "-0.12135160910713494\n",
      "-0.0731839961617835\n",
      "-0.10593241987426061\n",
      "-0.034964292555522025\n",
      "-0.06638687176919711\n",
      "-0.17641937483040215\n",
      "-0.07906569589561152\n",
      "-0.13986302891793656\n",
      "-0.08951455389765473\n"
     ]
    }
   ],
   "source": [
    "for i in range(ridge_soil_mgua.Q):\n",
    "    print(r2_score(y_test, ridge_soil_pred[i]))"
   ]
  },
  {
   "cell_type": "code",
   "execution_count": 182,
   "metadata": {},
   "outputs": [
    {
     "data": {
      "text/html": [
       "<div>\n",
       "<style scoped>\n",
       "    .dataframe tbody tr th:only-of-type {\n",
       "        vertical-align: middle;\n",
       "    }\n",
       "\n",
       "    .dataframe tbody tr th {\n",
       "        vertical-align: top;\n",
       "    }\n",
       "\n",
       "    .dataframe thead th {\n",
       "        text-align: right;\n",
       "    }\n",
       "</style>\n",
       "<table border=\"1\" class=\"dataframe\">\n",
       "  <thead>\n",
       "    <tr style=\"text-align: right;\">\n",
       "      <th></th>\n",
       "      <th>0</th>\n",
       "      <th>1</th>\n",
       "      <th>2</th>\n",
       "      <th>3</th>\n",
       "      <th>4</th>\n",
       "      <th>5</th>\n",
       "      <th>6</th>\n",
       "      <th>7</th>\n",
       "      <th>8</th>\n",
       "      <th>9</th>\n",
       "    </tr>\n",
       "  </thead>\n",
       "  <tbody>\n",
       "    <tr>\n",
       "      <td>0</td>\n",
       "      <td>[1, 6]</td>\n",
       "      <td>[1, 9]</td>\n",
       "      <td>[1, 22]</td>\n",
       "      <td>[9, 19]</td>\n",
       "      <td>[9, 22]</td>\n",
       "      <td>[9, 28]</td>\n",
       "      <td>[9, 33]</td>\n",
       "      <td>[9, 54]</td>\n",
       "      <td>[9, 178]</td>\n",
       "      <td>[22, 88]</td>\n",
       "    </tr>\n",
       "    <tr>\n",
       "      <td>1</td>\n",
       "      <td>[1, 3]</td>\n",
       "      <td>[1, 7]</td>\n",
       "      <td>[1, 9]</td>\n",
       "      <td>[6, 1]</td>\n",
       "      <td>[9, 2]</td>\n",
       "      <td>[22, 5]</td>\n",
       "      <td>[22, 6]</td>\n",
       "      <td>[60, 6]</td>\n",
       "      <td>[88, 7]</td>\n",
       "      <td>[144, 6]</td>\n",
       "    </tr>\n",
       "    <tr>\n",
       "      <td>2</td>\n",
       "      <td>[1, 6]</td>\n",
       "      <td>[1, 7]</td>\n",
       "      <td>[9, 1]</td>\n",
       "      <td>[22, 7]</td>\n",
       "      <td>[22, 9]</td>\n",
       "      <td>[28, 7]</td>\n",
       "      <td>[28, 9]</td>\n",
       "      <td>[55, 2]</td>\n",
       "      <td>[88, 3]</td>\n",
       "      <td>[451, 3]</td>\n",
       "    </tr>\n",
       "    <tr>\n",
       "      <td>3</td>\n",
       "      <td>[9, 1]</td>\n",
       "      <td>[9, 9]</td>\n",
       "      <td>[22, 5]</td>\n",
       "      <td>[55, 5]</td>\n",
       "      <td>[60, 6]</td>\n",
       "      <td>[178, 1]</td>\n",
       "      <td>[178, 5]</td>\n",
       "      <td>[178, 6]</td>\n",
       "      <td>[240, 5]</td>\n",
       "      <td>[292, 1]</td>\n",
       "    </tr>\n",
       "    <tr>\n",
       "      <td>4</td>\n",
       "      <td>[6, 5]</td>\n",
       "      <td>[9, 5]</td>\n",
       "      <td>[22, 6]</td>\n",
       "      <td>[22, 8]</td>\n",
       "      <td>[47, 8]</td>\n",
       "      <td>[55, 4]</td>\n",
       "      <td>[60, 7]</td>\n",
       "      <td>[144, 8]</td>\n",
       "      <td>[178, 8]</td>\n",
       "      <td>[292, 4]</td>\n",
       "    </tr>\n",
       "    <tr>\n",
       "      <td>5</td>\n",
       "      <td>[1, 3]</td>\n",
       "      <td>[1, 5]</td>\n",
       "      <td>[9, 4]</td>\n",
       "      <td>[22, 6]</td>\n",
       "      <td>[150, 8]</td>\n",
       "      <td>[236, 7]</td>\n",
       "      <td>[236, 8]</td>\n",
       "      <td>[240, 9]</td>\n",
       "      <td>[292, 8]</td>\n",
       "      <td>[451, 7]</td>\n",
       "    </tr>\n",
       "    <tr>\n",
       "      <td>6</td>\n",
       "      <td>[1, 7]</td>\n",
       "      <td>[6, 7]</td>\n",
       "      <td>[9, 4]</td>\n",
       "      <td>[47, 7]</td>\n",
       "      <td>[47, 8]</td>\n",
       "      <td>[55, 8]</td>\n",
       "      <td>[144, 8]</td>\n",
       "      <td>[236, 4]</td>\n",
       "      <td>[236, 7]</td>\n",
       "      <td>[390, 7]</td>\n",
       "    </tr>\n",
       "    <tr>\n",
       "      <td>7</td>\n",
       "      <td>[0, 4]</td>\n",
       "      <td>[0, 6]</td>\n",
       "      <td>[1, 4]</td>\n",
       "      <td>[9, 3]</td>\n",
       "      <td>[9, 5]</td>\n",
       "      <td>[9, 7]</td>\n",
       "      <td>[33, 1]</td>\n",
       "      <td>[33, 7]</td>\n",
       "      <td>[451, 5]</td>\n",
       "      <td>[460, 3]</td>\n",
       "    </tr>\n",
       "    <tr>\n",
       "      <td>8</td>\n",
       "      <td>[0, 1]</td>\n",
       "      <td>[1, 6]</td>\n",
       "      <td>[6, 2]</td>\n",
       "      <td>[7, 9]</td>\n",
       "      <td>[9, 6]</td>\n",
       "      <td>[9, 7]</td>\n",
       "      <td>[19, 2]</td>\n",
       "      <td>[22, 9]</td>\n",
       "      <td>[144, 2]</td>\n",
       "      <td>[178, 6]</td>\n",
       "    </tr>\n",
       "    <tr>\n",
       "      <td>9</td>\n",
       "      <td>[0, 3]</td>\n",
       "      <td>[1, 2]</td>\n",
       "      <td>[1, 3]</td>\n",
       "      <td>[9, 2]</td>\n",
       "      <td>[9, 3]</td>\n",
       "      <td>[55, 8]</td>\n",
       "      <td>[79, 9]</td>\n",
       "      <td>[88, 2]</td>\n",
       "      <td>[110, 9]</td>\n",
       "      <td>[236, 2]</td>\n",
       "    </tr>\n",
       "    <tr>\n",
       "      <td>10</td>\n",
       "      <td>[0, 0]</td>\n",
       "      <td>[1, 6]</td>\n",
       "      <td>[6, 2]</td>\n",
       "      <td>[9, 1]</td>\n",
       "      <td>[9, 8]</td>\n",
       "      <td>[22, 2]</td>\n",
       "      <td>[33, 5]</td>\n",
       "      <td>[178, 2]</td>\n",
       "      <td>[178, 4]</td>\n",
       "      <td>[270, 9]</td>\n",
       "    </tr>\n",
       "    <tr>\n",
       "      <td>11</td>\n",
       "      <td>[0, 9]</td>\n",
       "      <td>[1, 2]</td>\n",
       "      <td>[9, 2]</td>\n",
       "      <td>[19, 7]</td>\n",
       "      <td>[22, 7]</td>\n",
       "      <td>[28, 8]</td>\n",
       "      <td>[33, 2]</td>\n",
       "      <td>[33, 8]</td>\n",
       "      <td>[60, 6]</td>\n",
       "      <td>[236, 7]</td>\n",
       "    </tr>\n",
       "    <tr>\n",
       "      <td>12</td>\n",
       "      <td>[0, 0]</td>\n",
       "      <td>[6, 3]</td>\n",
       "      <td>[9, 1]</td>\n",
       "      <td>[9, 8]</td>\n",
       "      <td>[22, 3]</td>\n",
       "      <td>[55, 6]</td>\n",
       "      <td>[80, 8]</td>\n",
       "      <td>[80, 9]</td>\n",
       "      <td>[88, 9]</td>\n",
       "      <td>[236, 7]</td>\n",
       "    </tr>\n",
       "    <tr>\n",
       "      <td>13</td>\n",
       "      <td>[0, 0]</td>\n",
       "      <td>[0, 7]</td>\n",
       "      <td>[1, 1]</td>\n",
       "      <td>[9, 1]</td>\n",
       "      <td>[9, 6]</td>\n",
       "      <td>[22, 7]</td>\n",
       "      <td>[55, 8]</td>\n",
       "      <td>[88, 7]</td>\n",
       "      <td>[270, 1]</td>\n",
       "      <td>[270, 6]</td>\n",
       "    </tr>\n",
       "    <tr>\n",
       "      <td>14</td>\n",
       "      <td>[0, 0]</td>\n",
       "      <td>[0, 1]</td>\n",
       "      <td>[0, 9]</td>\n",
       "      <td>[6, 7]</td>\n",
       "      <td>[9, 1]</td>\n",
       "      <td>[9, 8]</td>\n",
       "      <td>[14, 8]</td>\n",
       "      <td>[22, 9]</td>\n",
       "      <td>[79, 9]</td>\n",
       "      <td>[451, 6]</td>\n",
       "    </tr>\n",
       "    <tr>\n",
       "      <td>15</td>\n",
       "      <td>[0, 2]</td>\n",
       "      <td>[1, 7]</td>\n",
       "      <td>[9, 2]</td>\n",
       "      <td>[22, 1]</td>\n",
       "      <td>[69, 2]</td>\n",
       "      <td>[69, 6]</td>\n",
       "      <td>[88, 1]</td>\n",
       "      <td>[178, 8]</td>\n",
       "      <td>[236, 6]</td>\n",
       "      <td>[451, 6]</td>\n",
       "    </tr>\n",
       "    <tr>\n",
       "      <td>16</td>\n",
       "      <td>[0, 0]</td>\n",
       "      <td>[1, 7]</td>\n",
       "      <td>[9, 1]</td>\n",
       "      <td>[9, 6]</td>\n",
       "      <td>[22, 4]</td>\n",
       "      <td>[22, 7]</td>\n",
       "      <td>[22, 9]</td>\n",
       "      <td>[236, 7]</td>\n",
       "      <td>[236, 9]</td>\n",
       "      <td>[392, 4]</td>\n",
       "    </tr>\n",
       "    <tr>\n",
       "      <td>17</td>\n",
       "      <td>[0, 0]</td>\n",
       "      <td>[0, 7]</td>\n",
       "      <td>[0, 8]</td>\n",
       "      <td>[0, 9]</td>\n",
       "      <td>[6, 1]</td>\n",
       "      <td>[9, 7]</td>\n",
       "      <td>[22, 8]</td>\n",
       "      <td>[110, 5]</td>\n",
       "      <td>[152, 5]</td>\n",
       "      <td>[270, 4]</td>\n",
       "    </tr>\n",
       "    <tr>\n",
       "      <td>18</td>\n",
       "      <td>[0, 0]</td>\n",
       "      <td>[0, 9]</td>\n",
       "      <td>[1, 1]</td>\n",
       "      <td>[1, 9]</td>\n",
       "      <td>[9, 2]</td>\n",
       "      <td>[69, 1]</td>\n",
       "      <td>[146, 2]</td>\n",
       "      <td>[150, 2]</td>\n",
       "      <td>[150, 3]</td>\n",
       "      <td>[236, 3]</td>\n",
       "    </tr>\n",
       "    <tr>\n",
       "      <td>19</td>\n",
       "      <td>[0, 0]</td>\n",
       "      <td>[0, 1]</td>\n",
       "      <td>[1, 1]</td>\n",
       "      <td>[9, 6]</td>\n",
       "      <td>[9, 8]</td>\n",
       "      <td>[22, 7]</td>\n",
       "      <td>[47, 6]</td>\n",
       "      <td>[54, 7]</td>\n",
       "      <td>[270, 9]</td>\n",
       "      <td>[276, 8]</td>\n",
       "    </tr>\n",
       "  </tbody>\n",
       "</table>\n",
       "</div>"
      ],
      "text/plain": [
       "         0       1        2        3         4         5         6         7  \\\n",
       "0   [1, 6]  [1, 9]  [1, 22]  [9, 19]   [9, 22]   [9, 28]   [9, 33]   [9, 54]   \n",
       "1   [1, 3]  [1, 7]   [1, 9]   [6, 1]    [9, 2]   [22, 5]   [22, 6]   [60, 6]   \n",
       "2   [1, 6]  [1, 7]   [9, 1]  [22, 7]   [22, 9]   [28, 7]   [28, 9]   [55, 2]   \n",
       "3   [9, 1]  [9, 9]  [22, 5]  [55, 5]   [60, 6]  [178, 1]  [178, 5]  [178, 6]   \n",
       "4   [6, 5]  [9, 5]  [22, 6]  [22, 8]   [47, 8]   [55, 4]   [60, 7]  [144, 8]   \n",
       "5   [1, 3]  [1, 5]   [9, 4]  [22, 6]  [150, 8]  [236, 7]  [236, 8]  [240, 9]   \n",
       "6   [1, 7]  [6, 7]   [9, 4]  [47, 7]   [47, 8]   [55, 8]  [144, 8]  [236, 4]   \n",
       "7   [0, 4]  [0, 6]   [1, 4]   [9, 3]    [9, 5]    [9, 7]   [33, 1]   [33, 7]   \n",
       "8   [0, 1]  [1, 6]   [6, 2]   [7, 9]    [9, 6]    [9, 7]   [19, 2]   [22, 9]   \n",
       "9   [0, 3]  [1, 2]   [1, 3]   [9, 2]    [9, 3]   [55, 8]   [79, 9]   [88, 2]   \n",
       "10  [0, 0]  [1, 6]   [6, 2]   [9, 1]    [9, 8]   [22, 2]   [33, 5]  [178, 2]   \n",
       "11  [0, 9]  [1, 2]   [9, 2]  [19, 7]   [22, 7]   [28, 8]   [33, 2]   [33, 8]   \n",
       "12  [0, 0]  [6, 3]   [9, 1]   [9, 8]   [22, 3]   [55, 6]   [80, 8]   [80, 9]   \n",
       "13  [0, 0]  [0, 7]   [1, 1]   [9, 1]    [9, 6]   [22, 7]   [55, 8]   [88, 7]   \n",
       "14  [0, 0]  [0, 1]   [0, 9]   [6, 7]    [9, 1]    [9, 8]   [14, 8]   [22, 9]   \n",
       "15  [0, 2]  [1, 7]   [9, 2]  [22, 1]   [69, 2]   [69, 6]   [88, 1]  [178, 8]   \n",
       "16  [0, 0]  [1, 7]   [9, 1]   [9, 6]   [22, 4]   [22, 7]   [22, 9]  [236, 7]   \n",
       "17  [0, 0]  [0, 7]   [0, 8]   [0, 9]    [6, 1]    [9, 7]   [22, 8]  [110, 5]   \n",
       "18  [0, 0]  [0, 9]   [1, 1]   [1, 9]    [9, 2]   [69, 1]  [146, 2]  [150, 2]   \n",
       "19  [0, 0]  [0, 1]   [1, 1]   [9, 6]    [9, 8]   [22, 7]   [47, 6]   [54, 7]   \n",
       "\n",
       "           8         9  \n",
       "0   [9, 178]  [22, 88]  \n",
       "1    [88, 7]  [144, 6]  \n",
       "2    [88, 3]  [451, 3]  \n",
       "3   [240, 5]  [292, 1]  \n",
       "4   [178, 8]  [292, 4]  \n",
       "5   [292, 8]  [451, 7]  \n",
       "6   [236, 7]  [390, 7]  \n",
       "7   [451, 5]  [460, 3]  \n",
       "8   [144, 2]  [178, 6]  \n",
       "9   [110, 9]  [236, 2]  \n",
       "10  [178, 4]  [270, 9]  \n",
       "11   [60, 6]  [236, 7]  \n",
       "12   [88, 9]  [236, 7]  \n",
       "13  [270, 1]  [270, 6]  \n",
       "14   [79, 9]  [451, 6]  \n",
       "15  [236, 6]  [451, 6]  \n",
       "16  [236, 9]  [392, 4]  \n",
       "17  [152, 5]  [270, 4]  \n",
       "18  [150, 3]  [236, 3]  \n",
       "19  [270, 9]  [276, 8]  "
      ]
     },
     "execution_count": 182,
     "metadata": {},
     "output_type": "execute_result"
    }
   ],
   "source": [
    "pd.DataFrame(ridge_model_soil)"
   ]
  },
  {
   "cell_type": "markdown",
   "metadata": {},
   "source": [
    "Видно, что при значительном изменении параметров результат уже практически не меняется. "
   ]
  },
  {
   "cell_type": "markdown",
   "metadata": {},
   "source": [
    "Лассо:"
   ]
  },
  {
   "cell_type": "code",
   "execution_count": 183,
   "metadata": {},
   "outputs": [],
   "source": [
    "from sklearn import linear_model"
   ]
  },
  {
   "cell_type": "code",
   "execution_count": 196,
   "metadata": {},
   "outputs": [],
   "source": [
    "lasso_soil_mgua = MGUA(6, 0.9990, 9, linear_model.Lasso(normalize=True, alpha=0.2))"
   ]
  },
  {
   "cell_type": "code",
   "execution_count": 197,
   "metadata": {},
   "outputs": [
    {
     "name": "stdout",
     "output_type": "stream",
     "text": [
      "0  /  477\n"
     ]
    },
    {
     "ename": "TypeError",
     "evalue": "'numpy.float64' object is not iterable",
     "output_type": "error",
     "traceback": [
      "\u001b[0;31m---------------------------------------------------------------------------\u001b[0m",
      "\u001b[0;31mTypeError\u001b[0m                                 Traceback (most recent call last)",
      "\u001b[0;32m<ipython-input-197-efba0737e33e>\u001b[0m in \u001b[0;36m<module>\u001b[0;34m\u001b[0m\n\u001b[0;32m----> 1\u001b[0;31m \u001b[0mlasso_model_soil\u001b[0m \u001b[0;34m=\u001b[0m \u001b[0mlasso_soil_mgua\u001b[0m\u001b[0;34m.\u001b[0m\u001b[0mfit\u001b[0m\u001b[0;34m(\u001b[0m\u001b[0mX_train\u001b[0m\u001b[0;34m,\u001b[0m \u001b[0my_train\u001b[0m\u001b[0;34m)\u001b[0m\u001b[0;34m\u001b[0m\u001b[0;34m\u001b[0m\u001b[0m\n\u001b[0m",
      "\u001b[0;32m<ipython-input-113-40bf39de1500>\u001b[0m in \u001b[0;36mfit\u001b[0;34m(self, X, y)\u001b[0m\n\u001b[1;32m     27\u001b[0m                     \u001b[0mbuf_val\u001b[0m \u001b[0;34m+=\u001b[0m \u001b[0;36m1\u001b[0m\u001b[0;34m\u001b[0m\u001b[0;34m\u001b[0m\u001b[0m\n\u001b[1;32m     28\u001b[0m                 \u001b[0;32melse\u001b[0m\u001b[0;34m:\u001b[0m\u001b[0;34m\u001b[0m\u001b[0;34m\u001b[0m\u001b[0m\n\u001b[0;32m---> 29\u001b[0;31m                     \u001b[0mbuf_corr\u001b[0m \u001b[0;34m=\u001b[0m \u001b[0;34m[\u001b[0m\u001b[0mcorr\u001b[0m\u001b[0;34m(\u001b[0m\u001b[0mcol\u001b[0m\u001b[0;34m,\u001b[0m \u001b[0mpred\u001b[0m\u001b[0;34m.\u001b[0m\u001b[0mreshape\u001b[0m\u001b[0;34m(\u001b[0m\u001b[0;34m-\u001b[0m\u001b[0;36m1\u001b[0m\u001b[0;34m,\u001b[0m \u001b[0;34m)\u001b[0m\u001b[0;34m)\u001b[0m \u001b[0;32mfor\u001b[0m \u001b[0mcol\u001b[0m \u001b[0;32min\u001b[0m \u001b[0mbuf\u001b[0m\u001b[0;34m[\u001b[0m\u001b[0;36m0\u001b[0m\u001b[0;34m]\u001b[0m\u001b[0;34m.\u001b[0m\u001b[0mT\u001b[0m\u001b[0;34m]\u001b[0m\u001b[0;34m\u001b[0m\u001b[0;34m\u001b[0m\u001b[0m\n\u001b[0m\u001b[1;32m     30\u001b[0m                     \u001b[0;32mif\u001b[0m \u001b[0mbuf_val\u001b[0m\u001b[0;34m<\u001b[0m\u001b[0mself\u001b[0m\u001b[0;34m.\u001b[0m\u001b[0mQ\u001b[0m \u001b[0;32mand\u001b[0m \u001b[0mmax\u001b[0m\u001b[0;34m(\u001b[0m\u001b[0mbuf_corr\u001b[0m\u001b[0;34m)\u001b[0m\u001b[0;34m-\u001b[0m\u001b[0mself\u001b[0m\u001b[0;34m.\u001b[0m\u001b[0mC\u001b[0m \u001b[0;34m<\u001b[0m \u001b[0mself\u001b[0m\u001b[0;34m.\u001b[0m\u001b[0mEPS\u001b[0m\u001b[0;34m:\u001b[0m\u001b[0;34m\u001b[0m\u001b[0;34m\u001b[0m\u001b[0m\n\u001b[1;32m     31\u001b[0m                         \u001b[0mbuf\u001b[0m\u001b[0;34m[\u001b[0m\u001b[0;36m0\u001b[0m\u001b[0;34m]\u001b[0m \u001b[0;34m=\u001b[0m \u001b[0mnp\u001b[0m\u001b[0;34m.\u001b[0m\u001b[0mc_\u001b[0m\u001b[0;34m[\u001b[0m\u001b[0mbuf\u001b[0m\u001b[0;34m[\u001b[0m\u001b[0;36m0\u001b[0m\u001b[0;34m]\u001b[0m\u001b[0;34m,\u001b[0m \u001b[0mpred\u001b[0m\u001b[0;34m]\u001b[0m\u001b[0;34m\u001b[0m\u001b[0;34m\u001b[0m\u001b[0m\n",
      "\u001b[0;32m<ipython-input-113-40bf39de1500>\u001b[0m in \u001b[0;36m<listcomp>\u001b[0;34m(.0)\u001b[0m\n\u001b[1;32m     27\u001b[0m                     \u001b[0mbuf_val\u001b[0m \u001b[0;34m+=\u001b[0m \u001b[0;36m1\u001b[0m\u001b[0;34m\u001b[0m\u001b[0;34m\u001b[0m\u001b[0m\n\u001b[1;32m     28\u001b[0m                 \u001b[0;32melse\u001b[0m\u001b[0;34m:\u001b[0m\u001b[0;34m\u001b[0m\u001b[0;34m\u001b[0m\u001b[0m\n\u001b[0;32m---> 29\u001b[0;31m                     \u001b[0mbuf_corr\u001b[0m \u001b[0;34m=\u001b[0m \u001b[0;34m[\u001b[0m\u001b[0mcorr\u001b[0m\u001b[0;34m(\u001b[0m\u001b[0mcol\u001b[0m\u001b[0;34m,\u001b[0m \u001b[0mpred\u001b[0m\u001b[0;34m.\u001b[0m\u001b[0mreshape\u001b[0m\u001b[0;34m(\u001b[0m\u001b[0;34m-\u001b[0m\u001b[0;36m1\u001b[0m\u001b[0;34m,\u001b[0m \u001b[0;34m)\u001b[0m\u001b[0;34m)\u001b[0m \u001b[0;32mfor\u001b[0m \u001b[0mcol\u001b[0m \u001b[0;32min\u001b[0m \u001b[0mbuf\u001b[0m\u001b[0;34m[\u001b[0m\u001b[0;36m0\u001b[0m\u001b[0;34m]\u001b[0m\u001b[0;34m.\u001b[0m\u001b[0mT\u001b[0m\u001b[0;34m]\u001b[0m\u001b[0;34m\u001b[0m\u001b[0;34m\u001b[0m\u001b[0m\n\u001b[0m\u001b[1;32m     30\u001b[0m                     \u001b[0;32mif\u001b[0m \u001b[0mbuf_val\u001b[0m\u001b[0;34m<\u001b[0m\u001b[0mself\u001b[0m\u001b[0;34m.\u001b[0m\u001b[0mQ\u001b[0m \u001b[0;32mand\u001b[0m \u001b[0mmax\u001b[0m\u001b[0;34m(\u001b[0m\u001b[0mbuf_corr\u001b[0m\u001b[0;34m)\u001b[0m\u001b[0;34m-\u001b[0m\u001b[0mself\u001b[0m\u001b[0;34m.\u001b[0m\u001b[0mC\u001b[0m \u001b[0;34m<\u001b[0m \u001b[0mself\u001b[0m\u001b[0;34m.\u001b[0m\u001b[0mEPS\u001b[0m\u001b[0;34m:\u001b[0m\u001b[0;34m\u001b[0m\u001b[0;34m\u001b[0m\u001b[0m\n\u001b[1;32m     31\u001b[0m                         \u001b[0mbuf\u001b[0m\u001b[0;34m[\u001b[0m\u001b[0;36m0\u001b[0m\u001b[0;34m]\u001b[0m \u001b[0;34m=\u001b[0m \u001b[0mnp\u001b[0m\u001b[0;34m.\u001b[0m\u001b[0mc_\u001b[0m\u001b[0;34m[\u001b[0m\u001b[0mbuf\u001b[0m\u001b[0;34m[\u001b[0m\u001b[0;36m0\u001b[0m\u001b[0;34m]\u001b[0m\u001b[0;34m,\u001b[0m \u001b[0mpred\u001b[0m\u001b[0;34m]\u001b[0m\u001b[0;34m\u001b[0m\u001b[0;34m\u001b[0m\u001b[0m\n",
      "\u001b[0;32m<ipython-input-72-fbfa49177281>\u001b[0m in \u001b[0;36mcorr\u001b[0;34m(x, y)\u001b[0m\n\u001b[1;32m      1\u001b[0m \u001b[0;32mdef\u001b[0m \u001b[0mcorr\u001b[0m\u001b[0;34m(\u001b[0m\u001b[0mx\u001b[0m\u001b[0;34m,\u001b[0m \u001b[0my\u001b[0m\u001b[0;34m)\u001b[0m\u001b[0;34m:\u001b[0m\u001b[0;34m\u001b[0m\u001b[0;34m\u001b[0m\u001b[0m\n\u001b[1;32m      2\u001b[0m     \u001b[0mup\u001b[0m \u001b[0;34m=\u001b[0m \u001b[0msum\u001b[0m\u001b[0;34m(\u001b[0m\u001b[0mx\u001b[0m\u001b[0;34m*\u001b[0m\u001b[0my\u001b[0m\u001b[0;34m)\u001b[0m\u001b[0;34m\u001b[0m\u001b[0;34m\u001b[0m\u001b[0m\n\u001b[0;32m----> 3\u001b[0;31m     \u001b[0mdown\u001b[0m \u001b[0;34m=\u001b[0m \u001b[0mmath\u001b[0m\u001b[0;34m.\u001b[0m\u001b[0msqrt\u001b[0m\u001b[0;34m(\u001b[0m\u001b[0msum\u001b[0m\u001b[0;34m(\u001b[0m\u001b[0mx\u001b[0m\u001b[0;34m*\u001b[0m\u001b[0mx\u001b[0m\u001b[0;34m)\u001b[0m\u001b[0;34m*\u001b[0m\u001b[0msum\u001b[0m\u001b[0;34m(\u001b[0m\u001b[0my\u001b[0m\u001b[0;34m*\u001b[0m\u001b[0my\u001b[0m\u001b[0;34m)\u001b[0m\u001b[0;34m)\u001b[0m\u001b[0;34m\u001b[0m\u001b[0;34m\u001b[0m\u001b[0m\n\u001b[0m\u001b[1;32m      4\u001b[0m     \u001b[0;32mreturn\u001b[0m \u001b[0mup\u001b[0m\u001b[0;34m/\u001b[0m\u001b[0mdown\u001b[0m\u001b[0;34m\u001b[0m\u001b[0;34m\u001b[0m\u001b[0m\n",
      "\u001b[0;31mTypeError\u001b[0m: 'numpy.float64' object is not iterable"
     ]
    }
   ],
   "source": [
    "lasso_model_soil = lasso_soil_mgua.fit(X_train, y_train)"
   ]
  },
  {
   "cell_type": "markdown",
   "metadata": {},
   "source": [
    "???\n",
    "\n",
    "\n",
    "Попробуем изучить другой признак logKoc(cal):"
   ]
  },
  {
   "cell_type": "code",
   "execution_count": 199,
   "metadata": {},
   "outputs": [],
   "source": [
    "y_soil1 = pd.DataFrame(y_SOIL.loc[:, '>  <logKoc(cal)> '])"
   ]
  },
  {
   "cell_type": "code",
   "execution_count": 200,
   "metadata": {},
   "outputs": [],
   "source": [
    "X_train = soil[:][:train_size]\n",
    "y_train = y_soil1[:][:train_size]\n",
    "X_test = soil[:][train_size:]\n",
    "y_test = y_soil1[:][train_size:]"
   ]
  },
  {
   "cell_type": "code",
   "execution_count": 201,
   "metadata": {},
   "outputs": [],
   "source": [
    "ridge_soil_mgua1 = MGUA(Q=6, C=0.9990, I=9, model=Ridge(normalize=True, alpha=1))"
   ]
  },
  {
   "cell_type": "code",
   "execution_count": 274,
   "metadata": {},
   "outputs": [],
   "source": [
    "ridge_model_soil1 = ridge_soil_mgua1.fit(X_train, y_train)"
   ]
  },
  {
   "cell_type": "code",
   "execution_count": 203,
   "metadata": {},
   "outputs": [],
   "source": [
    "ridge_soil_pred1 = ridge_soil_mgua1.predict(X_test)"
   ]
  },
  {
   "cell_type": "code",
   "execution_count": 204,
   "metadata": {},
   "outputs": [
    {
     "name": "stdout",
     "output_type": "stream",
     "text": [
      "-0.10778528963276335\n",
      "-0.24267485926625887\n",
      "-0.20378457061375554\n",
      "-0.19573439480317245\n",
      "-0.13257388565722517\n",
      "-0.22797431517060507\n"
     ]
    }
   ],
   "source": [
    "for i in range(ridge_soil_mgua1.Q):\n",
    "    print(r2_score(y_test, ridge_soil_pred1[i]))"
   ]
  },
  {
   "cell_type": "markdown",
   "metadata": {},
   "source": [
    "## Матрица пар для выборки SOIL (длинная матрица)"
   ]
  },
  {
   "cell_type": "code",
   "execution_count": 45,
   "metadata": {},
   "outputs": [
    {
     "data": {
      "text/plain": [
       "Index(['>  <logKoc(exp)> ', '>  <logKoc(cal)> ', '>  <logKow(cal)> '], dtype='object')"
      ]
     },
     "execution_count": 45,
     "metadata": {},
     "output_type": "execute_result"
    }
   ],
   "source": [
    "soil_long = pd.read_csv('SOIL/soil-1-1_matrix_NNdt*_1and2chains.csv', sep=',', header=None)\n",
    "y_SOIL = pd.read_csv('SOIL/soil-1-1_y.csv')\n",
    "y_SOIL.columns"
   ]
  },
  {
   "cell_type": "code",
   "execution_count": 46,
   "metadata": {},
   "outputs": [],
   "source": [
    "y_soil_long0 = pd.DataFrame(y_SOIL.loc[:, '>  <logKoc(exp)> '])"
   ]
  },
  {
   "cell_type": "code",
   "execution_count": 13,
   "metadata": {},
   "outputs": [
    {
     "data": {
      "text/plain": [
       "31707"
      ]
     },
     "execution_count": 13,
     "metadata": {},
     "output_type": "execute_result"
    }
   ],
   "source": [
    "np.count_nonzero(soil_long)"
   ]
  },
  {
   "cell_type": "code",
   "execution_count": 14,
   "metadata": {},
   "outputs": [],
   "source": [
    "soil_long_mgua = MGUA(6, 0.997, 7, LinearRegression(normalize=True))"
   ]
  },
  {
   "cell_type": "code",
   "execution_count": 47,
   "metadata": {},
   "outputs": [],
   "source": [
    "train_size = int(0.7 * soil_long.shape[0])\n",
    "\n",
    "X_train = soil_long[:][:train_size]\n",
    "y_train = y_soil_long0[:][:train_size]\n",
    "X_test = soil_long[:][train_size:]\n",
    "y_test = y_soil_long0[:][train_size:]\n",
    "# model_soil_long = soil_long_mgua.fit(X_train, y_train)"
   ]
  },
  {
   "cell_type": "code",
   "execution_count": 68,
   "metadata": {},
   "outputs": [],
   "source": [
    "json_file = \"SOIL/model__soil-1-1_matrix_NNdt*_1and2chains.json\"\n",
    "# mylogreg = MGUA(X_train=Xtrain, Y_train=Ytrain)\n",
    "soil_long_mgua.save_json(json_file)"
   ]
  },
  {
   "cell_type": "code",
   "execution_count": 48,
   "metadata": {},
   "outputs": [
    {
     "name": "stdout",
     "output_type": "stream",
     "text": [
      "-0.372604710301623\n",
      "-0.4377846929108413\n",
      "-0.29673351545971305\n",
      "-0.47795287768349737\n",
      "-0.3209151938577415\n",
      "-0.37481274404030396\n"
     ]
    }
   ],
   "source": [
    "soil_long_pred = soil_long_mgua.predict(X_test)\n",
    "for i in range(soil_long_mgua.Q):\n",
    "    print(r2_score(y_test, soil_long_pred[i]))"
   ]
  },
  {
   "cell_type": "code",
   "execution_count": 49,
   "metadata": {},
   "outputs": [
    {
     "data": {
      "image/png": "[encoded data removed]",
      "text/plain": [
       "<Figure size 1080x360 with 1 Axes>"
      ]
     },
     "metadata": {
      "needs_background": "light"
     },
     "output_type": "display_data"
    }
   ],
   "source": [
    "data = ((np.arange(40, 80), y_test.to_numpy().reshape(-1)[40:80]), (np.arange(40, 80), soil_long_pred[2].reshape(-1)[40:80]))\n",
    "# data = ((np.arange(y_test[:40].shape[0]), y_test.to_numpy().reshape(-1)[:40]), (np.arange(y_test[:40].shape[0]), soil_long_pred[0].reshape(-1)[:40]))\n",
    "colors = (\"red\", \"green\")\n",
    "groups = (\"y_test\", \"y_pred\")\n",
    "\n",
    "# Create plot\n",
    "fig, ax = plt.subplots()\n",
    "fig.set_figwidth(15)\n",
    "fig.set_figheight(5)\n",
    "\n",
    "for data, color, group in zip(data, colors, groups):\n",
    "    x, y = data\n",
    "    ax.scatter(x, y, alpha=0.8, c=color, edgecolors='none', s=30, label=group)\n",
    "\n",
    "plt.title('Soil long matrix test and prediction values, linear model')\n",
    "plt.ylabel(\"y value\")\n",
    "plt.xlabel(\"item from matrix X\")\n",
    "plt.grid()  \n",
    "plt.legend(loc=0)\n",
    "plt.show()"
   ]
  },
  {
   "cell_type": "code",
   "execution_count": 62,
   "metadata": {},
   "outputs": [
    {
     "data": {
      "text/plain": [
       "[[[31, 198], [31, 210], [31, 1114], [31, 1590], [31, 1797], [210, 243]],\n",
       " [[171, 1], [171, 3], [706, 1], [1592, 1], [1592, 3], [1592, 4]],\n",
       " [[0, 0], [0, 3], [171, 2], [314, 5], [1592, 2], [2454, 5]],\n",
       " [[0, 0], [0, 1], [0, 2], [0, 3], [0, 4], [0, 5]],\n",
       " [[0, 0], [0, 1], [0, 2], [0, 3], [0, 4], [0, 5]],\n",
       " [[0, 0], [0, 1], [0, 2], [0, 3], [0, 4], [0, 5]],\n",
       " [[0, 0], [0, 1], [0, 2], [0, 3], [0, 4], [0, 5]]]"
      ]
     },
     "execution_count": 62,
     "metadata": {},
     "output_type": "execute_result"
    }
   ],
   "source": [
    "soil_long_mgua.buf_coef"
   ]
  },
  {
   "cell_type": "code",
   "execution_count": null,
   "metadata": {},
   "outputs": [],
   "source": []
  }
 ],
 "metadata": {
  "kernelspec": {
   "display_name": "Python 3",
   "language": "python",
   "name": "python3"
  },
  "language_info": {
   "codemirror_mode": {
    "name": "ipython",
    "version": 3
   },
   "file_extension": ".py",
   "mimetype": "text/x-python",
   "name": "python",
   "nbconvert_exporter": "python",
   "pygments_lexer": "ipython3",
   "version": "3.7.4"
  }
 },
 "nbformat": 4,
 "nbformat_minor": 2
}
