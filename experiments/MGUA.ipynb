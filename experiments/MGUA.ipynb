{
 "cells": [
  {
   "cell_type": "code",
   "execution_count": 3,
   "metadata": {},
   "outputs": [],
   "source": [
    "import numpy as np\n",
    "import sklearn\n",
    "import pandas as pd\n",
    "from sklearn import datasets\n",
    "from sklearn.neighbors import NearestNeighbors\n",
    "from sklearn import metrics\n",
    "import math\n",
    "from sklearn.metrics import r2_score\n",
    "import json\n",
    "import matplotlib.pyplot as plt\n",
    "from sklearn.linear_model import LinearRegression"
   ]
  },
  {
   "cell_type": "code",
   "execution_count": 4,
   "metadata": {},
   "outputs": [],
   "source": [
    "def corr(x, y):\n",
    "    up = sum(x*y)\n",
    "    down = math.sqrt(sum(x*x)*sum(y*y))\n",
    "    return up/down\n",
    "\n",
    "class MGUA:\n",
    "    def __init__(self, Q=3, C=0.99, I=3, model=LinearRegression(normalize=True), X_train=None, y_train=None, buf_coef=None, buf=None):\n",
    "        self.Q = Q #размер буфера\n",
    "        self.C = C #порог корреляции\n",
    "        self.I = I #количество итераций\n",
    "        self.model = model #model = LinearRegression(normalize=True)\n",
    "        self.EPS = 1e-14\n",
    "        self.X_train = X_train\n",
    "        self.y_train = y_train\n",
    "        self.buf_coef = buf_coef\n",
    "        self.buf = buf\n",
    "        \n",
    "    def fit(self, X, y):\n",
    "        N = X.shape[0]\n",
    "        M = X.shape[1]\n",
    "        buf_val = 0\n",
    "        for i in range(M):\n",
    "            print(i, ' / ', M)\n",
    "            for j in range(i+1, M):\n",
    "                X_train = X.iloc[:, [i, j]]\n",
    "                self.model.fit(X_train, y)\n",
    "                pred = self.model.predict(X_train) #Попробовать тут Х?\n",
    "                if buf_val == 0:\n",
    "#                     print(type(pred))\n",
    "                    buf = [pred] #buf[0] = [pred]???\n",
    "                    buf_coef = [[[i, j]]]\n",
    "                    buf_val += 1\n",
    "                else:\n",
    "                    buf_corr = [corr(col, pred.reshape(-1, )) for col in buf[0].T]\n",
    "                    if buf_val<self.Q and max(buf_corr)-self.C < self.EPS:\n",
    "                        buf[0] = np.c_[buf[0], pred]\n",
    "                        buf_coef[0].append([i, j])\n",
    "                        buf_val += 1\n",
    "                    elif buf_val>=self.Q and max(buf_corr)<self.C:\n",
    "                        buf_r2 = [r2_score(y, buf[0][:, col]) for col in range(self.Q)]\n",
    "                        if r2_score(y, pred) > min(buf_r2):\n",
    "                            buf[0] = np.delete(buf[0], buf_r2.index(min(buf_r2)), axis = 1)\n",
    "                            del buf_coef[0][buf_r2.index(min(buf_r2))]\n",
    "                            buf[0] = np.c_[buf[0], pred]\n",
    "                            buf_coef[0].append([i, j])\n",
    "\n",
    "        for k in range(1, self.I):\n",
    "            print(\"iter = \", k)\n",
    "            buf_val = 0\n",
    "            X_train = X.iloc[:, [0]]\n",
    "            X_train = X_train.assign(new = buf[k-1][:, 0])\n",
    "            self.model.fit(X_train, y)\n",
    "            pred = self.model.predict(X_train) \n",
    "            \n",
    "            buf.append(pred)\n",
    "            buf_coef.append([[0, 0]])\n",
    "            buf_val += 1\n",
    "            for i in range(M):\n",
    "#                 print('i = ', i)\n",
    "                for j in range(1, buf[k-1].shape[1]):\n",
    "                    X_train = X.iloc[:, [i]]\n",
    "                    X_train = X_train.assign(new = buf[k-1][:, j])\n",
    "                    self.model.fit(X_train, y)\n",
    "                    pred = self.model.predict(X_train) \n",
    "\n",
    "                    buf_corr = [corr(col, pred.reshape(-1, )) for col in buf[k].T]\n",
    "#                     if buf_val>=self.Q:\n",
    "#                         print('buf_val=', buf_val, 'max(buf_corr)=', max(buf_corr), max(buf_corr)<self.C)\n",
    "                    if buf_val<self.Q and max(buf_corr)-self.C < self.EPS:\n",
    "#                         print('1. (i, j) = ', i, j)\n",
    "                        buf[k] = np.c_[buf[k], pred]\n",
    "                        buf_coef[k].append([i, j])\n",
    "                        buf_val += 1\n",
    "                    elif buf_val>=self.Q and max(buf_corr)<self.C:\n",
    "                        buf_r2 = [r2_score(y_train, buf[k][:, col]) for col in range(self.Q)]\n",
    "                        if r2_score(y_train, pred) > min(buf_r2):\n",
    "#                             print('(i, j) = ', i, j)\n",
    "                            buf[k] = np.delete(buf[k], buf_r2.index(min(buf_r2)), axis = 1)\n",
    "                            del buf_coef[k][buf_r2.index(min(buf_r2))]\n",
    "                            buf[k] = np.c_[buf[k], pred]\n",
    "                            buf_coef[k].append([i, j])\n",
    "        self.buf_coef = buf_coef\n",
    "        self.buf = buf\n",
    "        self.X_train = X\n",
    "        self.y_train = y\n",
    "        return buf_coef\n",
    "    \n",
    "    def predict(self, X):\n",
    "        result = []\n",
    "        index = []\n",
    "        for i in range(len(self.buf_coef[-1])): #может быть последний буфер не полностью заполнен, тогда меньше...\n",
    "            ind_pred = i\n",
    "            index.append([])\n",
    "            for k in reversed(range(self.I)):\n",
    "                index[i].append(self.buf_coef[k][ind_pred])\n",
    "                ind_pred = self.buf_coef[k][ind_pred][1]\n",
    "            X_t = self.X_train.iloc[:, index[i][-1]]\n",
    "            self.model.fit(X_t, self.y_train)\n",
    "            pred = self.model.predict(X.iloc[:, index[i][-1]])\n",
    "            for k in range(1, self.I):\n",
    "                X_t = self.X_train.iloc[:, [index[i][self.I-1-k][0]]]\n",
    "                X_t = X_t.assign(new = self.buf[k-1][:, index[i][self.I-1-k][1]])\n",
    "                self.model.fit(X_t, self.y_train)\n",
    "                X_pred = X.iloc[:, [index[i][self.I-1-k][0]]]\n",
    "                X_pred = X_pred.assign(new = pred)\n",
    "                pred = self.model.predict(X_pred)\n",
    "            result.append(pred)\n",
    "            \n",
    "        return result #Q столбцов - Q предсказаний\n",
    "    \n",
    "    def save_json(self, filepath):\n",
    "        dict_ = {}\n",
    "        dict_['Q'] = self.Q\n",
    "        dict_['C'] = self.C\n",
    "        dict_['I'] = self.I\n",
    "#         dict_['model'] = self.model\n",
    "        dict_['X_train'] = self.X_train.to_numpy().tolist() if self.X_train is not None else 'None'\n",
    "        dict_['y_train'] = self.y_train.to_numpy().tolist() if self.y_train is not None else 'None'\n",
    "        dict_['buf_coef'] = np.array(self.buf_coef).tolist() if self.buf_coef is not None else 'None'\n",
    "        dict_['buf'] = np.array(self.buf).tolist() if self.buf is not None else 'None'\n",
    "        \n",
    "        # Creat json and save to file\n",
    "        json_txt = json.dumps(dict_, indent=4)\n",
    "        with open(filepath, 'w') as file:\n",
    "            file.write(json_txt)\n",
    "            \n",
    "            \n",
    "    # A method for loading data from JSON file\n",
    "    def load_json(self, filepath):\n",
    "        with open(filepath, 'r') as file:\n",
    "            dict_ = json.load(file)\n",
    "            \n",
    "        self.Q = dict_['Q']\n",
    "        self.C = dict_['C']\n",
    "        self.I = dict_['I']\n",
    "#         self.model = dict_['model']\n",
    "        self.X_train = pd.DataFrame(dict_['X_train']) if dict_['X_train'] != 'None' else None\n",
    "        self.y_train = pd.DataFrame(dict_['y_train']) if dict_['y_train'] != 'None' else None\n",
    "        self.buf_coef = np.asarray(dict_['buf_coef']) if dict_['buf_coef'] != 'None' else None\n",
    "        self.buf = np.asarray(dict_['buf']) if dict_['buf'] != 'None' else None\n",
    "        \n",
    "\n"
   ]
  },
  {
   "cell_type": "markdown",
   "metadata": {},
   "source": [
    "## Как сохранить обученную модель:"
   ]
  },
  {
   "cell_type": "code",
   "execution_count": null,
   "metadata": {},
   "outputs": [],
   "source": [
    "filepath = \"mylogreg.json\"\n",
    "\n",
    "# Create a model and train it\n",
    "mylogreg = MGUA(X_train=Xtrain, Y_train=Ytrain)\n",
    "mylogreg.save_json(filepath)\n",
    "\n",
    "# Create a new object and load its data from JSON file\n",
    "json_mylogreg = MGUA()\n",
    "json_mylogreg.load_json(filepath)\n",
    "json_mylogreg"
   ]
  },
  {
   "cell_type": "code",
   "execution_count": 8,
   "metadata": {},
   "outputs": [],
   "source": [
    "glass = pd.read_csv('glass_/GLASS_matrix_alphabet_NNdt*_1and2and3chains.csv', sep=',', header=None)\n",
    "y_glass = pd.read_csv('glass_/GLASS_y.csv')"
   ]
  },
  {
   "cell_type": "code",
   "execution_count": 9,
   "metadata": {},
   "outputs": [],
   "source": [
    "mgua = MGUA(Q=4, C=0.997, I=5, model=LinearRegression(normalize=True))"
   ]
  },
  {
   "cell_type": "code",
   "execution_count": 11,
   "metadata": {},
   "outputs": [],
   "source": [
    "train_size = int(0.7 * glass.shape[0])\n",
    "\n",
    "X_train = glass[:][:train_size]\n",
    "y_train = y_glass[:][:train_size]\n",
    "X_test = glass[:][train_size:]\n",
    "y_test = y_glass[:][train_size:]\n",
    "coef = mgua.fit(X_train, y_train)"
   ]
  },
  {
   "cell_type": "code",
   "execution_count": 12,
   "metadata": {},
   "outputs": [],
   "source": [
    "res = mgua.predict(X_test)"
   ]
  },
  {
   "cell_type": "code",
   "execution_count": 13,
   "metadata": {},
   "outputs": [
    {
     "name": "stdout",
     "output_type": "stream",
     "text": [
      "0.9287023586642775\n",
      "0.8399777455671995\n",
      "0.829126991426675\n",
      "0.7829653377845821\n"
     ]
    }
   ],
   "source": [
    "for i in range(4):\n",
    "    print(r2_score(y_test, res[i]))"
   ]
  },
  {
   "cell_type": "code",
   "execution_count": 14,
   "metadata": {},
   "outputs": [
    {
     "data": {
      "text/plain": [
       "[[[0, 6], [0, 35], [2, 6], [6, 55]],\n",
       " [[1, 2], [1, 3], [2, 3], [17, 3]],\n",
       " [[0, 0], [0, 1], [0, 3], [2, 2]],\n",
       " [[0, 0], [0, 1], [0, 2], [2, 3]],\n",
       " [[0, 0], [0, 1], [0, 2], [2, 3]]]"
      ]
     },
     "execution_count": 14,
     "metadata": {},
     "output_type": "execute_result"
    }
   ],
   "source": [
    "mgua.buf_coef"
   ]
  },
  {
   "cell_type": "code",
   "execution_count": 16,
   "metadata": {},
   "outputs": [
    {
     "data": {
      "image/png": "[encoded data removed]",
      "text/plain": [
       "<Figure size 864x288 with 1 Axes>"
      ]
     },
     "metadata": {
      "needs_background": "light"
     },
     "output_type": "display_data"
    }
   ],
   "source": [
    "data = ((np.arange(y_test.shape[0]), y_test.to_numpy().reshape(-1)), (np.arange(y_test.shape[0]), res[0].reshape(-1)))\n",
    "colors = (\"red\", \"green\")\n",
    "groups = (\"y_test\", \"y_pred\")\n",
    "\n",
    "# Create plot\n",
    "fig, ax = plt.subplots()\n",
    "fig.set_figwidth(12)\n",
    "fig.set_figheight(4)\n",
    "\n",
    "for data, color, group in zip(data, colors, groups):\n",
    "    x, y = data\n",
    "    ax.scatter(x, y, alpha=0.8, c=color, edgecolors='none', s=30, label=group)\n",
    "\n",
    "plt.title('Glass Alphabet test and prediction values')\n",
    "plt.ylabel(\"y value\")\n",
    "plt.xlabel(\"item from matrix X\")\n",
    "plt.grid()  \n",
    "plt.legend(loc=0)\n",
    "plt.show()"
   ]
  },
  {
   "cell_type": "code",
   "execution_count": null,
   "metadata": {},
   "outputs": [],
   "source": []
  }
 ],
 "metadata": {
  "kernelspec": {
   "display_name": "Python 3",
   "language": "python",
   "name": "python3"
  },
  "language_info": {
   "codemirror_mode": {
    "name": "ipython",
    "version": 3
   },
   "file_extension": ".py",
   "mimetype": "text/x-python",
   "name": "python",
   "nbconvert_exporter": "python",
   "pygments_lexer": "ipython3",
   "version": "3.7.4"
  }
 },
 "nbformat": 4,
 "nbformat_minor": 2
}
