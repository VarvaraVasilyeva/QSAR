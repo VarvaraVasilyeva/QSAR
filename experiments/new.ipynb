{
 "cells": [
  {
   "cell_type": "code",
   "execution_count": 33,
   "metadata": {},
   "outputs": [],
   "source": [
    "import mguaJN\n",
    "import numpy as np\n",
    "import sklearn\n",
    "import pandas as pd\n",
    "from sklearn import datasets\n",
    "from sklearn.neighbors import NearestNeighbors\n",
    "from sklearn import metrics\n",
    "import math\n",
    "from sklearn.metrics import r2_score\n",
    "import json\n",
    "import matplotlib.pyplot as plt\n",
    "from sklearn.linear_model import LinearRegression"
   ]
  },
  {
   "cell_type": "code",
   "execution_count": 293,
   "metadata": {},
   "outputs": [],
   "source": [
    "from numpy import random"
   ]
  },
  {
   "cell_type": "code",
   "execution_count": 576,
   "metadata": {},
   "outputs": [],
   "source": [
    "bzr = pd.read_csv('cox2/cox2_matrix_alphabet_NNdb*_UpTo2chains.csv', sep=',')\n",
    "bzr_y = pd.read_csv('cox2/cox2_y.csv', sep=',')"
   ]
  },
  {
   "cell_type": "code",
   "execution_count": 577,
   "metadata": {},
   "outputs": [
    {
     "data": {
      "text/html": [
       "<div>\n",
       "<style scoped>\n",
       "    .dataframe tbody tr th:only-of-type {\n",
       "        vertical-align: middle;\n",
       "    }\n",
       "\n",
       "    .dataframe tbody tr th {\n",
       "        vertical-align: top;\n",
       "    }\n",
       "\n",
       "    .dataframe thead th {\n",
       "        text-align: right;\n",
       "    }\n",
       "</style>\n",
       "<table border=\"1\" class=\"dataframe\">\n",
       "  <thead>\n",
       "    <tr style=\"text-align: right;\">\n",
       "      <th></th>\n",
       "      <th>Br1s*C3a*</th>\n",
       "      <th>C1d*C2d*</th>\n",
       "      <th>C1s*C2s*</th>\n",
       "      <th>C1s*C3a*</th>\n",
       "      <th>C1s*C3d*</th>\n",
       "      <th>C1s*C4s*</th>\n",
       "      <th>C1s*N2s*</th>\n",
       "      <th>C1s*N3a*</th>\n",
       "      <th>C1s*N3s*</th>\n",
       "      <th>C1s*O2s*</th>\n",
       "      <th>...</th>\n",
       "      <th>N2a*N2a*</th>\n",
       "      <th>N2a*N3a*</th>\n",
       "      <th>N2a*O2a*</th>\n",
       "      <th>N2s*S4w*</th>\n",
       "      <th>N3d*O1d*</th>\n",
       "      <th>N3d*O1s*</th>\n",
       "      <th>N3s*O2s*</th>\n",
       "      <th>N3s*S4w*</th>\n",
       "      <th>O1d*S3d*</th>\n",
       "      <th>O1d*S4w*</th>\n",
       "    </tr>\n",
       "  </thead>\n",
       "  <tbody>\n",
       "    <tr>\n",
       "      <td>0</td>\n",
       "      <td>0.0</td>\n",
       "      <td>0.0</td>\n",
       "      <td>0.0</td>\n",
       "      <td>1.0</td>\n",
       "      <td>0.0</td>\n",
       "      <td>0.0</td>\n",
       "      <td>0.0</td>\n",
       "      <td>0.0</td>\n",
       "      <td>0.0</td>\n",
       "      <td>0.0</td>\n",
       "      <td>...</td>\n",
       "      <td>0.0</td>\n",
       "      <td>0.0</td>\n",
       "      <td>0.0</td>\n",
       "      <td>0.0</td>\n",
       "      <td>0.0</td>\n",
       "      <td>0.0</td>\n",
       "      <td>0.0</td>\n",
       "      <td>0.0</td>\n",
       "      <td>0.0</td>\n",
       "      <td>2.0</td>\n",
       "    </tr>\n",
       "    <tr>\n",
       "      <td>1</td>\n",
       "      <td>0.0</td>\n",
       "      <td>0.0</td>\n",
       "      <td>0.0</td>\n",
       "      <td>0.0</td>\n",
       "      <td>0.0</td>\n",
       "      <td>0.0</td>\n",
       "      <td>0.0</td>\n",
       "      <td>0.0</td>\n",
       "      <td>0.0</td>\n",
       "      <td>0.0</td>\n",
       "      <td>...</td>\n",
       "      <td>0.0</td>\n",
       "      <td>0.0</td>\n",
       "      <td>0.0</td>\n",
       "      <td>0.0</td>\n",
       "      <td>0.0</td>\n",
       "      <td>0.0</td>\n",
       "      <td>0.0</td>\n",
       "      <td>0.0</td>\n",
       "      <td>0.0</td>\n",
       "      <td>2.0</td>\n",
       "    </tr>\n",
       "    <tr>\n",
       "      <td>2</td>\n",
       "      <td>0.0</td>\n",
       "      <td>0.0</td>\n",
       "      <td>0.0</td>\n",
       "      <td>0.0</td>\n",
       "      <td>0.0</td>\n",
       "      <td>0.0</td>\n",
       "      <td>0.0</td>\n",
       "      <td>0.0</td>\n",
       "      <td>0.0</td>\n",
       "      <td>0.0</td>\n",
       "      <td>...</td>\n",
       "      <td>0.0</td>\n",
       "      <td>0.0</td>\n",
       "      <td>0.0</td>\n",
       "      <td>0.0</td>\n",
       "      <td>0.0</td>\n",
       "      <td>0.0</td>\n",
       "      <td>0.0</td>\n",
       "      <td>0.0</td>\n",
       "      <td>0.0</td>\n",
       "      <td>2.0</td>\n",
       "    </tr>\n",
       "    <tr>\n",
       "      <td>3</td>\n",
       "      <td>0.0</td>\n",
       "      <td>0.0</td>\n",
       "      <td>0.0</td>\n",
       "      <td>1.0</td>\n",
       "      <td>0.0</td>\n",
       "      <td>0.0</td>\n",
       "      <td>0.0</td>\n",
       "      <td>0.0</td>\n",
       "      <td>0.0</td>\n",
       "      <td>0.0</td>\n",
       "      <td>...</td>\n",
       "      <td>0.0</td>\n",
       "      <td>0.0</td>\n",
       "      <td>0.0</td>\n",
       "      <td>0.0</td>\n",
       "      <td>0.0</td>\n",
       "      <td>0.0</td>\n",
       "      <td>0.0</td>\n",
       "      <td>0.0</td>\n",
       "      <td>0.0</td>\n",
       "      <td>2.0</td>\n",
       "    </tr>\n",
       "    <tr>\n",
       "      <td>4</td>\n",
       "      <td>0.0</td>\n",
       "      <td>0.0</td>\n",
       "      <td>0.0</td>\n",
       "      <td>1.0</td>\n",
       "      <td>0.0</td>\n",
       "      <td>0.0</td>\n",
       "      <td>0.0</td>\n",
       "      <td>0.0</td>\n",
       "      <td>0.0</td>\n",
       "      <td>0.0</td>\n",
       "      <td>...</td>\n",
       "      <td>0.0</td>\n",
       "      <td>0.0</td>\n",
       "      <td>0.0</td>\n",
       "      <td>0.0</td>\n",
       "      <td>0.0</td>\n",
       "      <td>0.0</td>\n",
       "      <td>0.0</td>\n",
       "      <td>0.0</td>\n",
       "      <td>0.0</td>\n",
       "      <td>2.0</td>\n",
       "    </tr>\n",
       "  </tbody>\n",
       "</table>\n",
       "<p>5 rows × 93 columns</p>\n",
       "</div>"
      ],
      "text/plain": [
       "   Br1s*C3a*  C1d*C2d*  C1s*C2s*  C1s*C3a*  C1s*C3d*  C1s*C4s*  C1s*N2s*  \\\n",
       "0        0.0       0.0       0.0       1.0       0.0       0.0       0.0   \n",
       "1        0.0       0.0       0.0       0.0       0.0       0.0       0.0   \n",
       "2        0.0       0.0       0.0       0.0       0.0       0.0       0.0   \n",
       "3        0.0       0.0       0.0       1.0       0.0       0.0       0.0   \n",
       "4        0.0       0.0       0.0       1.0       0.0       0.0       0.0   \n",
       "\n",
       "   C1s*N3a*  C1s*N3s*  C1s*O2s*  ...  N2a*N2a*  N2a*N3a*  N2a*O2a*  N2s*S4w*  \\\n",
       "0       0.0       0.0       0.0  ...       0.0       0.0       0.0       0.0   \n",
       "1       0.0       0.0       0.0  ...       0.0       0.0       0.0       0.0   \n",
       "2       0.0       0.0       0.0  ...       0.0       0.0       0.0       0.0   \n",
       "3       0.0       0.0       0.0  ...       0.0       0.0       0.0       0.0   \n",
       "4       0.0       0.0       0.0  ...       0.0       0.0       0.0       0.0   \n",
       "\n",
       "   N3d*O1d*  N3d*O1s*  N3s*O2s*  N3s*S4w*  O1d*S3d*  O1d*S4w*  \n",
       "0       0.0       0.0       0.0       0.0       0.0       2.0  \n",
       "1       0.0       0.0       0.0       0.0       0.0       2.0  \n",
       "2       0.0       0.0       0.0       0.0       0.0       2.0  \n",
       "3       0.0       0.0       0.0       0.0       0.0       2.0  \n",
       "4       0.0       0.0       0.0       0.0       0.0       2.0  \n",
       "\n",
       "[5 rows x 93 columns]"
      ]
     },
     "execution_count": 577,
     "metadata": {},
     "output_type": "execute_result"
    }
   ],
   "source": [
    "bzr.head()"
   ]
  },
  {
   "cell_type": "code",
   "execution_count": 578,
   "metadata": {},
   "outputs": [],
   "source": [
    "for i, elem in bzr_y['IC50_uM'].items():\n",
    "    bzr_y['IC50_uM'][i] = float(elem.strip('[]').strip('()').split(', ')[0])"
   ]
  },
  {
   "cell_type": "code",
   "execution_count": 579,
   "metadata": {},
   "outputs": [
    {
     "data": {
      "text/html": [
       "<div>\n",
       "<style scoped>\n",
       "    .dataframe tbody tr th:only-of-type {\n",
       "        vertical-align: middle;\n",
       "    }\n",
       "\n",
       "    .dataframe tbody tr th {\n",
       "        vertical-align: top;\n",
       "    }\n",
       "\n",
       "    .dataframe thead th {\n",
       "        text-align: right;\n",
       "    }\n",
       "</style>\n",
       "<table border=\"1\" class=\"dataframe\">\n",
       "  <thead>\n",
       "    <tr style=\"text-align: right;\">\n",
       "      <th></th>\n",
       "      <th>IC50_uM</th>\n",
       "    </tr>\n",
       "  </thead>\n",
       "  <tbody>\n",
       "    <tr>\n",
       "      <td>0</td>\n",
       "      <td>0.06</td>\n",
       "    </tr>\n",
       "    <tr>\n",
       "      <td>1</td>\n",
       "      <td>0.51</td>\n",
       "    </tr>\n",
       "    <tr>\n",
       "      <td>2</td>\n",
       "      <td>10.2</td>\n",
       "    </tr>\n",
       "    <tr>\n",
       "      <td>3</td>\n",
       "      <td>0.06</td>\n",
       "    </tr>\n",
       "    <tr>\n",
       "      <td>4</td>\n",
       "      <td>0.08</td>\n",
       "    </tr>\n",
       "    <tr>\n",
       "      <td>...</td>\n",
       "      <td>...</td>\n",
       "    </tr>\n",
       "    <tr>\n",
       "      <td>462</td>\n",
       "      <td>0.093</td>\n",
       "    </tr>\n",
       "    <tr>\n",
       "      <td>463</td>\n",
       "      <td>0.005</td>\n",
       "    </tr>\n",
       "    <tr>\n",
       "      <td>464</td>\n",
       "      <td>0.1</td>\n",
       "    </tr>\n",
       "    <tr>\n",
       "      <td>465</td>\n",
       "      <td>0.02</td>\n",
       "    </tr>\n",
       "    <tr>\n",
       "      <td>466</td>\n",
       "      <td>100</td>\n",
       "    </tr>\n",
       "  </tbody>\n",
       "</table>\n",
       "<p>467 rows × 1 columns</p>\n",
       "</div>"
      ],
      "text/plain": [
       "    IC50_uM\n",
       "0      0.06\n",
       "1      0.51\n",
       "2      10.2\n",
       "3      0.06\n",
       "4      0.08\n",
       "..      ...\n",
       "462   0.093\n",
       "463   0.005\n",
       "464     0.1\n",
       "465    0.02\n",
       "466     100\n",
       "\n",
       "[467 rows x 1 columns]"
      ]
     },
     "execution_count": 579,
     "metadata": {},
     "output_type": "execute_result"
    }
   ],
   "source": [
    "# bzr_y  = np.log(bzr_y+1)\n",
    "bzr_y"
   ]
  },
  {
   "cell_type": "markdown",
   "metadata": {},
   "source": [
    "## bzr\n",
    "\n",
    "A set of 405 ligands for the benzodiazepine\n",
    "receptor (BZR) has been assembled mostly from the work\n",
    "of Haefely et al. and Cook et al. No differentiation of\n",
    "agonists, antagonists, and inverse agonists is made. \n",
    "In vitro binding affinities as measured by inhibition\n",
    "of [ 3 H] diazepam binding are expressed as IC 50 \n",
    "values, ranging from 0.34 nM to >70 μM (65 compounds \n",
    "have indeterminate values). We have selected pIC_50=7.0\n",
    "as the threshold for activity by considering a \n",
    "histogram plot of compound counts vs pIC_50 and the \n",
    "resulting balance of active and inactive compounds.\n",
    "\n",
    "training, test, unused - set, 1,2,0 respectively.\n",
    "Benzodiazepine receptor (BZR) ligands.\n",
    "pIC_50=-np.log10(IC50)=-np.log10(IC50_uM)+6.0\n",
    "Target property: IC50_uM, threshold 0.1.\n",
    "    Inactive: IC50_uM > 0.1\n",
    "    Active: IC50_uM <= 0.1"
   ]
  },
  {
   "cell_type": "markdown",
   "metadata": {},
   "source": [
    "## cox2\n",
    "A set of 467 cyclooxygenase-2 (COX-2)\n",
    "inhibitors has been assembled from the published work of a\n",
    "single research group, with in vitro activities \n",
    "against human recombinant enzyme expressed as \n",
    "IC 50 values ranging from 1 nM to >100 μM \n",
    "(53 compounds have indeterminate IC 50 values). \n",
    "A 314 compound subset of these inhibitors has been\n",
    "studied with QSAR and classification by \n",
    "Kauffman and Jurs. They used pIC_50=6.5 as the \n",
    "threshold for classifying compounds as active \n",
    "or inactive, guided by a histogram plot\n",
    "of compound counts vs pIC_50 . \n",
    "Here, we employ the same threshold.\n",
    "\n",
    "training, test, unused - set, 1,2,0 respectively.\n",
    "Cyclooxygenase-2 inhibitors.\n",
    "pIC_50=-np.log10(IC50)=-np.log10(IC50_uM)+6.0\n",
    "Target property - IC50_uM, threshold 0.1**0.5~=0.316.\n",
    "    Inactive: IC50_uM > 0.316\n",
    "    Active: IC50_uM <= 0.316"
   ]
  },
  {
   "cell_type": "markdown",
   "metadata": {},
   "source": [
    "## er_lit\n",
    "A further 393 compounds of pharmaceutical interest were culled\n",
    "from the chemical literature. The activity threshold RBA=1 \n",
    "(after rounding to the nearest integer) was selected for\n",
    "designating compounds as active or inactive, a value that is\n",
    "useful for toxicological prioritization rather than pharma-\n",
    "ceutical screening.\n",
    "\n",
    "training, test, unused - set, 1,2,0 respectively.\n",
    "Estrogen receptor (ER) ligands.\n",
    "RBA - relative binding affinity.\n",
    "Target property - RBA_avg, threshold 1.\n",
    "    Strong ER binders: RBA_avg > 1.0\n",
    "    Weak ER binders: RBA_avg <= 1.0"
   ]
  },
  {
   "cell_type": "code",
   "execution_count": 239,
   "metadata": {},
   "outputs": [
    {
     "data": {
      "text/plain": [
       "15953"
      ]
     },
     "execution_count": 239,
     "metadata": {},
     "output_type": "execute_result"
    }
   ],
   "source": [
    "np.count_nonzero(bzr)"
   ]
  },
  {
   "cell_type": "markdown",
   "metadata": {},
   "source": [
    "## cox2"
   ]
  },
  {
   "cell_type": "code",
   "execution_count": 209,
   "metadata": {},
   "outputs": [
    {
     "data": {
      "text/plain": [
       "11708"
      ]
     },
     "execution_count": 209,
     "metadata": {},
     "output_type": "execute_result"
    }
   ],
   "source": [
    "np.count_nonzero(bzr)"
   ]
  },
  {
   "cell_type": "code",
   "execution_count": 580,
   "metadata": {},
   "outputs": [],
   "source": [
    "def make_ordinary_mgua(X, y, fitted_model_file, q=4, c=0.997, it=5, model=LinearRegression(normalize=True), print_num_points=None, figname='bzr'):\n",
    "    mgua_model = mguaJN.MGUA(Q=q, C=c, I=it, model=model)\n",
    "    \n",
    "    train_size = int(0.7 * X.shape[0])\n",
    "    X_train = X[:][:train_size]\n",
    "    y_train = y[:][:train_size]\n",
    "    X_test = X[:][train_size:]\n",
    "    y_test = y[:][train_size:]\n",
    "\n",
    "#     train_size = int(0.7 * bzr.shape[0])\n",
    "#     rand_fold = random.choice(np.arange(bzr.shape[0]).tolist(), train_size, False)\n",
    "#     # print(rand_fold)\n",
    "#     X_train = bzr[:].loc[rand_fold]\n",
    "#     y_train = bzr_y[:].loc[rand_fold]\n",
    "#     X_test = bzr[:].loc[np.delete(np.arange(bzr.shape[0]), rand_fold)]\n",
    "#     y_test = bzr_y[:].loc[np.delete(np.arange(bzr.shape[0]), rand_fold)]\n",
    "\n",
    "    mgua_model.fit(X_train, y_train)\n",
    "    \n",
    "    json_file = fitted_model_file\n",
    "    mgua_model.save_json(json_file)\n",
    "    res = mgua_model.predict(X_test)\n",
    "    print(len(res), mgua_model.Q)\n",
    "    print()\n",
    "    scores = [r2_score(y_test, res[i]) for i in range(len(res))]\n",
    "    print('scores = ', scores)\n",
    "    print(' ')\n",
    "    print('useful columns:', mgua_model.column_indexes)\n",
    "    print(' ')\n",
    "    print('best score: ', max(scores))\n",
    "    print(' ')\n",
    "    print('best useful columns: ', mgua_model.column_indexes[scores.index(max(scores))])\n",
    "    \n",
    "    \n",
    "    data = ((np.arange(y_test[:].shape[0]), y_test.to_numpy().reshape(-1)[:]), (np.arange(y_test[:].shape[0]), res[scores.index(max(scores))].reshape(-1)[:]))\n",
    "    colors = (\"red\", \"green\")\n",
    "    groups = (\"y_test\", \"y_pred\")\n",
    "\n",
    "    # Create plot\n",
    "    fig, ax = plt.subplots()\n",
    "    fig.set_figwidth(15)\n",
    "    fig.set_figheight(5)\n",
    "\n",
    "    for data, color, group in zip(data, colors, groups):\n",
    "        x, y = data\n",
    "        ax.scatter(x, y, alpha=0.8, c=color, edgecolors='none', s=30, label=group)\n",
    "    #         ax.vlines(x[0], x[1], y[1], color = 'r')\n",
    "\n",
    "    plt.title('cox2 NNdb*_UpTo2chains test and prediction values, linear model 10_800_10')\n",
    "    plt.ylabel(\"y value\")\n",
    "    plt.xlabel(\"item from matrix X\")\n",
    "    plt.grid()  \n",
    "    plt.legend(loc=0)\n",
    "    plt.show()\n",
    "    \n",
    "    return mgua_model\n"
   ]
  },
  {
   "cell_type": "code",
   "execution_count": 581,
   "metadata": {},
   "outputs": [
    {
     "data": {
      "application/vnd.jupyter.widget-view+json": {
       "model_id": "761f1d28093d44d281741155a7e01ce2",
       "version_major": 2,
       "version_minor": 0
      },
      "text/plain": [
       "VBox(children=(HTML(value=''), IntProgress(value=0, max=93)))"
      ]
     },
     "metadata": {},
     "output_type": "display_data"
    },
    {
     "data": {
      "application/vnd.jupyter.widget-view+json": {
       "model_id": "2184641e9a504b66ae9099237ee1ab66",
       "version_major": 2,
       "version_minor": 0
      },
      "text/plain": [
       "VBox(children=(HTML(value=''), IntProgress(value=0, max=9)))"
      ]
     },
     "metadata": {},
     "output_type": "display_data"
    },
    {
     "name": "stdout",
     "output_type": "stream",
     "text": [
      "2 10\n",
      "\n",
      "scores =  [0.005537690258172523, -0.532645220142203]\n",
      " \n",
      "useful columns: [{0, 1}, {1, 92}]\n",
      " \n",
      "best score:  0.005537690258172523\n",
      " \n",
      "best useful columns:  {0, 1}\n"
     ]
    },
    {
     "data": {
      "image/png": "[encoded data removed]",
      "text/plain": [
       "<Figure size 1080x360 with 1 Axes>"
      ]
     },
     "metadata": {
      "needs_background": "light"
     },
     "output_type": "display_data"
    }
   ],
   "source": [
    "model = make_ordinary_mgua(X=bzr, y=bzr_y, fitted_model_file='cox2/model__10_800_10__cox2_matrix_alphabet_NNdb*_UpTo2chains.json', q=10, c=0.8, it=10, model=LinearRegression(normalize=True), print_num_points=None, figname='er_lit')\n",
    "\n"
   ]
  },
  {
   "cell_type": "code",
   "execution_count": 347,
   "metadata": {
    "scrolled": true
   },
   "outputs": [
    {
     "data": {
      "text/html": [
       "<div>\n",
       "<style scoped>\n",
       "    .dataframe tbody tr th:only-of-type {\n",
       "        vertical-align: middle;\n",
       "    }\n",
       "\n",
       "    .dataframe tbody tr th {\n",
       "        vertical-align: top;\n",
       "    }\n",
       "\n",
       "    .dataframe thead th {\n",
       "        text-align: right;\n",
       "    }\n",
       "</style>\n",
       "<table border=\"1\" class=\"dataframe\">\n",
       "  <thead>\n",
       "    <tr style=\"text-align: right;\">\n",
       "      <th></th>\n",
       "      <th>0</th>\n",
       "      <th>1</th>\n",
       "      <th>2</th>\n",
       "      <th>3</th>\n",
       "      <th>4</th>\n",
       "      <th>5</th>\n",
       "      <th>6</th>\n",
       "      <th>7</th>\n",
       "      <th>8</th>\n",
       "      <th>9</th>\n",
       "    </tr>\n",
       "  </thead>\n",
       "  <tbody>\n",
       "    <tr>\n",
       "      <td>0</td>\n",
       "      <td>[34, 88]</td>\n",
       "      <td>[44, 88]</td>\n",
       "      <td>[50, 99]</td>\n",
       "      <td>[67, 88]</td>\n",
       "      <td>[67, 99]</td>\n",
       "      <td>[71, 88]</td>\n",
       "      <td>[88, 97]</td>\n",
       "      <td>[88, 99]</td>\n",
       "      <td>[88, 114]</td>\n",
       "      <td>[99, 114]</td>\n",
       "    </tr>\n",
       "    <tr>\n",
       "      <td>1</td>\n",
       "      <td>[34, 1]</td>\n",
       "      <td>[34, 3]</td>\n",
       "      <td>[34, 7]</td>\n",
       "      <td>[34, 8]</td>\n",
       "      <td>[50, 4]</td>\n",
       "      <td>[50, 7]</td>\n",
       "      <td>[67, 7]</td>\n",
       "      <td>[88, 9]</td>\n",
       "      <td>[97, 8]</td>\n",
       "      <td>[99, 1]</td>\n",
       "    </tr>\n",
       "    <tr>\n",
       "      <td>2</td>\n",
       "      <td>[34, 5]</td>\n",
       "      <td>[34, 6]</td>\n",
       "      <td>[34, 7]</td>\n",
       "      <td>[34, 9]</td>\n",
       "      <td>[41, 2]</td>\n",
       "      <td>[50, 2]</td>\n",
       "      <td>[50, 7]</td>\n",
       "      <td>[65, 3]</td>\n",
       "      <td>[67, 3]</td>\n",
       "      <td>[99, 3]</td>\n",
       "    </tr>\n",
       "    <tr>\n",
       "      <td>3</td>\n",
       "      <td>[34, 6]</td>\n",
       "      <td>[41, 1]</td>\n",
       "      <td>[41, 2]</td>\n",
       "      <td>[41, 5]</td>\n",
       "      <td>[41, 9]</td>\n",
       "      <td>[50, 9]</td>\n",
       "      <td>[67, 2]</td>\n",
       "      <td>[67, 5]</td>\n",
       "      <td>[67, 9]</td>\n",
       "      <td>[113, 5]</td>\n",
       "    </tr>\n",
       "    <tr>\n",
       "      <td>4</td>\n",
       "      <td>[37, 7]</td>\n",
       "      <td>[41, 5]</td>\n",
       "      <td>[41, 6]</td>\n",
       "      <td>[41, 7]</td>\n",
       "      <td>[41, 8]</td>\n",
       "      <td>[41, 9]</td>\n",
       "      <td>[44, 3]</td>\n",
       "      <td>[45, 3]</td>\n",
       "      <td>[50, 1]</td>\n",
       "      <td>[50, 6]</td>\n",
       "    </tr>\n",
       "    <tr>\n",
       "      <td>5</td>\n",
       "      <td>[17, 3]</td>\n",
       "      <td>[26, 3]</td>\n",
       "      <td>[37, 3]</td>\n",
       "      <td>[41, 9]</td>\n",
       "      <td>[49, 3]</td>\n",
       "      <td>[65, 3]</td>\n",
       "      <td>[85, 3]</td>\n",
       "      <td>[113, 3]</td>\n",
       "      <td>[114, 7]</td>\n",
       "      <td>[114, 8]</td>\n",
       "    </tr>\n",
       "    <tr>\n",
       "      <td>6</td>\n",
       "      <td>[17, 2]</td>\n",
       "      <td>[17, 3]</td>\n",
       "      <td>[17, 7]</td>\n",
       "      <td>[37, 5]</td>\n",
       "      <td>[65, 3]</td>\n",
       "      <td>[65, 7]</td>\n",
       "      <td>[67, 8]</td>\n",
       "      <td>[85, 3]</td>\n",
       "      <td>[114, 2]</td>\n",
       "      <td>[114, 4]</td>\n",
       "    </tr>\n",
       "    <tr>\n",
       "      <td>7</td>\n",
       "      <td>[17, 3]</td>\n",
       "      <td>[17, 4]</td>\n",
       "      <td>[17, 5]</td>\n",
       "      <td>[17, 6]</td>\n",
       "      <td>[17, 7]</td>\n",
       "      <td>[17, 8]</td>\n",
       "      <td>[17, 9]</td>\n",
       "      <td>[37, 4]</td>\n",
       "      <td>[65, 7]</td>\n",
       "      <td>[85, 9]</td>\n",
       "    </tr>\n",
       "    <tr>\n",
       "      <td>8</td>\n",
       "      <td>[17, 7]</td>\n",
       "      <td>[17, 8]</td>\n",
       "      <td>[17, 9]</td>\n",
       "      <td>[37, 2]</td>\n",
       "      <td>[37, 6]</td>\n",
       "      <td>[49, 1]</td>\n",
       "      <td>[49, 8]</td>\n",
       "      <td>[65, 3]</td>\n",
       "      <td>[73, 8]</td>\n",
       "      <td>[85, 2]</td>\n",
       "    </tr>\n",
       "    <tr>\n",
       "      <td>9</td>\n",
       "      <td>[2, 1]</td>\n",
       "      <td>[16, 1]</td>\n",
       "      <td>[17, 6]</td>\n",
       "      <td>[37, 5]</td>\n",
       "      <td>[48, 1]</td>\n",
       "      <td>[49, 3]</td>\n",
       "      <td>[49, 7]</td>\n",
       "      <td>[49, 9]</td>\n",
       "      <td>[63, 1]</td>\n",
       "      <td>[85, 7]</td>\n",
       "    </tr>\n",
       "  </tbody>\n",
       "</table>\n",
       "</div>"
      ],
      "text/plain": [
       "          0         1         2         3         4         5         6  \\\n",
       "0  [34, 88]  [44, 88]  [50, 99]  [67, 88]  [67, 99]  [71, 88]  [88, 97]   \n",
       "1   [34, 1]   [34, 3]   [34, 7]   [34, 8]   [50, 4]   [50, 7]   [67, 7]   \n",
       "2   [34, 5]   [34, 6]   [34, 7]   [34, 9]   [41, 2]   [50, 2]   [50, 7]   \n",
       "3   [34, 6]   [41, 1]   [41, 2]   [41, 5]   [41, 9]   [50, 9]   [67, 2]   \n",
       "4   [37, 7]   [41, 5]   [41, 6]   [41, 7]   [41, 8]   [41, 9]   [44, 3]   \n",
       "5   [17, 3]   [26, 3]   [37, 3]   [41, 9]   [49, 3]   [65, 3]   [85, 3]   \n",
       "6   [17, 2]   [17, 3]   [17, 7]   [37, 5]   [65, 3]   [65, 7]   [67, 8]   \n",
       "7   [17, 3]   [17, 4]   [17, 5]   [17, 6]   [17, 7]   [17, 8]   [17, 9]   \n",
       "8   [17, 7]   [17, 8]   [17, 9]   [37, 2]   [37, 6]   [49, 1]   [49, 8]   \n",
       "9    [2, 1]   [16, 1]   [17, 6]   [37, 5]   [48, 1]   [49, 3]   [49, 7]   \n",
       "\n",
       "          7          8          9  \n",
       "0  [88, 99]  [88, 114]  [99, 114]  \n",
       "1   [88, 9]    [97, 8]    [99, 1]  \n",
       "2   [65, 3]    [67, 3]    [99, 3]  \n",
       "3   [67, 5]    [67, 9]   [113, 5]  \n",
       "4   [45, 3]    [50, 1]    [50, 6]  \n",
       "5  [113, 3]   [114, 7]   [114, 8]  \n",
       "6   [85, 3]   [114, 2]   [114, 4]  \n",
       "7   [37, 4]    [65, 7]    [85, 9]  \n",
       "8   [65, 3]    [73, 8]    [85, 2]  \n",
       "9   [49, 9]    [63, 1]    [85, 7]  "
      ]
     },
     "execution_count": 347,
     "metadata": {},
     "output_type": "execute_result"
    }
   ],
   "source": [
    "pd.DataFrame(model.buf_coef)"
   ]
  },
  {
   "cell_type": "code",
   "execution_count": 335,
   "metadata": {},
   "outputs": [],
   "source": [
    "train_size = int(0.7 * bzr.shape[0])\n",
    "X_train = bzr[:][:train_size]\n",
    "y_train = bzr_y[:][:train_size]\n",
    "X_test = bzr[:][train_size:]\n",
    "y_test = bzr_y[:][train_size:]\n",
    "\n",
    "# train_size = int(0.7 * bzr.shape[0])\n",
    "# rand_fold = random.choice(np.arange(bzr.shape[0]).tolist(), train_size, False)\n",
    "# # print(rand_fold)\n",
    "# X_train = bzr[:].loc[rand_fold]\n",
    "# y_train = bzr_y[:].loc[rand_fold]\n",
    "# X_test = bzr[:].loc[np.delete(np.arange(bzr.shape[0]), rand_fold)]\n",
    "# y_test = bzr_y[:].loc[np.delete(np.arange(bzr.shape[0]), rand_fold)]"
   ]
  },
  {
   "cell_type": "code",
   "execution_count": 336,
   "metadata": {},
   "outputs": [],
   "source": [
    "res = model.predict(X_test)"
   ]
  },
  {
   "cell_type": "code",
   "execution_count": 280,
   "metadata": {},
   "outputs": [
    {
     "data": {
      "text/plain": [
       "1"
      ]
     },
     "execution_count": 280,
     "metadata": {},
     "output_type": "execute_result"
    }
   ],
   "source": [
    "len(res)"
   ]
  },
  {
   "cell_type": "code",
   "execution_count": 337,
   "metadata": {},
   "outputs": [
    {
     "data": {
      "text/plain": [
       "[0.05345740441573521,\n",
       " 0.06173298758050838,\n",
       " 0.05221266173575234,\n",
       " 0.04450407213632135,\n",
       " 0.012542802058241764,\n",
       " 0.012421103696936608,\n",
       " -0.13886986003973179,\n",
       " -0.17514015858717613,\n",
       " -0.13587501793127243,\n",
       " -0.18637434701925004]"
      ]
     },
     "execution_count": 337,
     "metadata": {},
     "output_type": "execute_result"
    }
   ],
   "source": [
    "scores = [r2_score(y_test, res[i]) for i in range(len(res))]\n",
    "scores"
   ]
  },
  {
   "cell_type": "code",
   "execution_count": 283,
   "metadata": {
    "scrolled": true
   },
   "outputs": [
    {
     "data": {
      "image/png": "[encoded data removed]",
      "text/plain": [
       "<Figure size 1080x360 with 1 Axes>"
      ]
     },
     "metadata": {
      "needs_background": "light"
     },
     "output_type": "display_data"
    }
   ],
   "source": [
    "# data = ((np.arange(40, 80), y_test.to_numpy().reshape(-1)[40:80]), (np.arange(40, 80), ridge_soil_pred[2].reshape(-1)[40:80]))\n",
    "data = ((np.arange(y_test[:].shape[0]), y_test.to_numpy().reshape(-1)[:]), (np.arange(y_test[:].shape[0]), res[scores.index(max(scores))].reshape(-1)[:]))\n",
    "colors = (\"red\", \"green\")\n",
    "groups = (\"y_test\", \"y_pred\")\n",
    "\n",
    "# Create plot\n",
    "fig, ax = plt.subplots()\n",
    "fig.set_figwidth(15)\n",
    "fig.set_figheight(5)\n",
    "\n",
    "for data, color, group in zip(data, colors, groups):\n",
    "    x, y = data\n",
    "    ax.scatter(x, y, alpha=0.8, c=color, edgecolors='none', s=30, label=group)\n",
    "#         ax.vlines(x[0], x[1], y[1], color = 'r')\n",
    "\n",
    "plt.title('er_lit NNdb*_UpTo3chains test and prediction values, linear model 10_800_10')\n",
    "plt.ylabel(\"y value\")\n",
    "plt.xlabel(\"item from matrix X\")\n",
    "plt.grid()  \n",
    "plt.legend(loc=0)\n",
    "plt.show()"
   ]
  },
  {
   "cell_type": "code",
   "execution_count": 338,
   "metadata": {},
   "outputs": [
    {
     "name": "stderr",
     "output_type": "stream",
     "text": [
      "/Users/Varya/opt/anaconda3/lib/python3.7/site-packages/ipykernel_launcher.py:8: SettingWithCopyWarning: \n",
      "A value is trying to be set on a copy of a slice from a DataFrame\n",
      "\n",
      "See the caveats in the documentation: http://pandas.pydata.org/pandas-docs/stable/user_guide/indexing.html#returning-a-view-versus-a-copy\n",
      "  \n",
      "/Users/Varya/opt/anaconda3/lib/python3.7/site-packages/ipykernel_launcher.py:5: SettingWithCopyWarning: \n",
      "A value is trying to be set on a copy of a slice from a DataFrame\n",
      "\n",
      "See the caveats in the documentation: http://pandas.pydata.org/pandas-docs/stable/user_guide/indexing.html#returning-a-view-versus-a-copy\n",
      "  \"\"\"\n"
     ]
    }
   ],
   "source": [
    "a = y_test.reset_index()\n",
    "a['active'] = 0\n",
    "for i, row in a['RBA_avg'].items():\n",
    "    if row > 1.0:\n",
    "        a['active'][i] = 0\n",
    "#         print(i, row)\n",
    "    else:\n",
    "        a['active'][i] = 1"
   ]
  },
  {
   "cell_type": "code",
   "execution_count": 339,
   "metadata": {},
   "outputs": [
    {
     "data": {
      "text/html": [
       "<div>\n",
       "<style scoped>\n",
       "    .dataframe tbody tr th:only-of-type {\n",
       "        vertical-align: middle;\n",
       "    }\n",
       "\n",
       "    .dataframe tbody tr th {\n",
       "        vertical-align: top;\n",
       "    }\n",
       "\n",
       "    .dataframe thead th {\n",
       "        text-align: right;\n",
       "    }\n",
       "</style>\n",
       "<table border=\"1\" class=\"dataframe\">\n",
       "  <thead>\n",
       "    <tr style=\"text-align: right;\">\n",
       "      <th></th>\n",
       "      <th>index</th>\n",
       "      <th>RBA_avg</th>\n",
       "      <th>active</th>\n",
       "    </tr>\n",
       "  </thead>\n",
       "  <tbody>\n",
       "    <tr>\n",
       "      <td>0</td>\n",
       "      <td>275</td>\n",
       "      <td>0.03</td>\n",
       "      <td>1</td>\n",
       "    </tr>\n",
       "    <tr>\n",
       "      <td>1</td>\n",
       "      <td>276</td>\n",
       "      <td>0.03</td>\n",
       "      <td>1</td>\n",
       "    </tr>\n",
       "    <tr>\n",
       "      <td>2</td>\n",
       "      <td>277</td>\n",
       "      <td>0.01</td>\n",
       "      <td>1</td>\n",
       "    </tr>\n",
       "    <tr>\n",
       "      <td>3</td>\n",
       "      <td>278</td>\n",
       "      <td>0.02</td>\n",
       "      <td>1</td>\n",
       "    </tr>\n",
       "    <tr>\n",
       "      <td>4</td>\n",
       "      <td>279</td>\n",
       "      <td>32.00</td>\n",
       "      <td>0</td>\n",
       "    </tr>\n",
       "    <tr>\n",
       "      <td>...</td>\n",
       "      <td>...</td>\n",
       "      <td>...</td>\n",
       "      <td>...</td>\n",
       "    </tr>\n",
       "    <tr>\n",
       "      <td>113</td>\n",
       "      <td>388</td>\n",
       "      <td>0.06</td>\n",
       "      <td>1</td>\n",
       "    </tr>\n",
       "    <tr>\n",
       "      <td>114</td>\n",
       "      <td>389</td>\n",
       "      <td>0.06</td>\n",
       "      <td>1</td>\n",
       "    </tr>\n",
       "    <tr>\n",
       "      <td>115</td>\n",
       "      <td>390</td>\n",
       "      <td>0.02</td>\n",
       "      <td>1</td>\n",
       "    </tr>\n",
       "    <tr>\n",
       "      <td>116</td>\n",
       "      <td>391</td>\n",
       "      <td>0.01</td>\n",
       "      <td>1</td>\n",
       "    </tr>\n",
       "    <tr>\n",
       "      <td>117</td>\n",
       "      <td>392</td>\n",
       "      <td>0.01</td>\n",
       "      <td>1</td>\n",
       "    </tr>\n",
       "  </tbody>\n",
       "</table>\n",
       "<p>118 rows × 3 columns</p>\n",
       "</div>"
      ],
      "text/plain": [
       "     index  RBA_avg  active\n",
       "0      275     0.03       1\n",
       "1      276     0.03       1\n",
       "2      277     0.01       1\n",
       "3      278     0.02       1\n",
       "4      279    32.00       0\n",
       "..     ...      ...     ...\n",
       "113    388     0.06       1\n",
       "114    389     0.06       1\n",
       "115    390     0.02       1\n",
       "116    391     0.01       1\n",
       "117    392     0.01       1\n",
       "\n",
       "[118 rows x 3 columns]"
      ]
     },
     "execution_count": 339,
     "metadata": {},
     "output_type": "execute_result"
    }
   ],
   "source": [
    "a"
   ]
  },
  {
   "cell_type": "code",
   "execution_count": 340,
   "metadata": {},
   "outputs": [],
   "source": [
    "pred = res[scores.index(max(scores))]\n",
    "b = []\n",
    "for num in pred:\n",
    "#     print(num[0])\n",
    "    if num[0] > 1.0:\n",
    "        b.append(0)\n",
    "    else:\n",
    "        b.append(1)"
   ]
  },
  {
   "cell_type": "code",
   "execution_count": 341,
   "metadata": {},
   "outputs": [],
   "source": [
    "from sklearn.metrics import roc_auc_score"
   ]
  },
  {
   "cell_type": "code",
   "execution_count": 342,
   "metadata": {},
   "outputs": [
    {
     "data": {
      "text/plain": [
       "0.515625"
      ]
     },
     "execution_count": 342,
     "metadata": {},
     "output_type": "execute_result"
    }
   ],
   "source": [
    "roc_auc_score(a['active'], b)"
   ]
  },
  {
   "cell_type": "code",
   "execution_count": 17,
   "metadata": {},
   "outputs": [
    {
     "data": {
      "text/plain": [
       "array([65.03955953, 28.46522927,  8.63227253, 45.16730205, 60.96703188,\n",
       "        2.52348106,  4.55974488,  8.63227253, 24.39270162, 25.39381849,\n",
       "       24.39270162, 24.39270162, 24.39270162, 24.39270162, 24.39270162,\n",
       "       20.32017397, 24.39270162, 24.39270162, 24.39270162, 24.39270162,\n",
       "        8.63227253,  8.63227253,  4.55974488,  6.59600871,  6.59600871,\n",
       "       65.02101457, 24.39270162, 86.09540164, 24.39270162, 24.39270162,\n",
       "       24.39270162, 24.39270162, 24.39270162, 24.39270162, 24.39270162,\n",
       "       24.39270162, 65.00025879, 24.39270162, 24.39270162, 24.39270162,\n",
       "       24.39270162, 24.39270162, 22.35643779, 24.39270162, 24.39270162,\n",
       "       24.39270162, 24.39270162, 24.39270162, 18.28391014, 20.32017397,\n",
       "       20.32017397, 20.32017397, 22.35643779,  0.48721723, 24.39270162,\n",
       "       24.39270162, 18.24988007, 18.24988007, 24.39270162, 24.39270162,\n",
       "       60.96703188, 65.03955953, 60.96703188, 60.96703188, 65.03955953,\n",
       "       65.03955953, 65.03955953, 65.03955953, 65.03955953, 49.2398297 ,\n",
       "       49.2398297 , 49.2398297 , 49.2398297 , 78.76372479, 65.03955953,\n",
       "       20.32017397, 20.32017397, 20.32017397, 20.32017397, 20.32017397,\n",
       "       20.32017397, 20.32017397, 20.32017397, 20.32017397, 20.32017397,\n",
       "       20.32017397, 20.32017397, 20.32017397, 20.32017397, 20.32017397,\n",
       "        4.55974488, 20.32017397, 20.32017397, 16.24764632, 20.32017397,\n",
       "       20.32017397, 20.32017397, 20.32017397, 20.32017397, 16.24764632,\n",
       "       20.32017397, 16.24764632, 20.32017397, 20.32017397, 20.32017397,\n",
       "       20.32017397, 20.32017397, 20.32017397, 20.32017397, 20.32017397,\n",
       "       20.32017397, 20.32017397, 20.32017397, 16.24764632, 20.32017397,\n",
       "        4.55974488,  0.48721723, 22.35643779, 38.11686688, 22.35643779,\n",
       "       16.24764632, 20.32017397])"
      ]
     },
     "execution_count": 17,
     "metadata": {},
     "output_type": "execute_result"
    }
   ],
   "source": [
    "res[scores.index(max(scores))].reshape(-1)[:]"
   ]
  },
  {
   "cell_type": "code",
   "execution_count": 40,
   "metadata": {},
   "outputs": [],
   "source": [
    "round_y = []\n",
    "for i, elem in bzr_y['IC50_uM'].items():\n",
    "    round_y.append(round(elem))"
   ]
  },
  {
   "cell_type": "code",
   "execution_count": 47,
   "metadata": {},
   "outputs": [
    {
     "data": {
      "text/plain": [
       "(array([374.,   9.,  20.,   0.,   0.,   1.,   0.,   0.,   0.,   1.]),\n",
       " array([  0.,  50., 100., 150., 200., 250., 300., 350., 400., 450., 500.]),\n",
       " <a list of 10 Patch objects>)"
      ]
     },
     "execution_count": 47,
     "metadata": {},
     "output_type": "execute_result"
    },
    {
     "data": {
      "image/png": "[encoded data removed]",
      "text/plain": [
       "<Figure size 432x288 with 1 Axes>"
      ]
     },
     "metadata": {
      "needs_background": "light"
     },
     "output_type": "display_data"
    }
   ],
   "source": [
    "plt.hist(np.array(round_y))"
   ]
  },
  {
   "cell_type": "code",
   "execution_count": 52,
   "metadata": {},
   "outputs": [
    {
     "name": "stdout",
     "output_type": "stream",
     "text": [
      "[[  0 283]\n",
      " [  1  44]\n",
      " [  2  15]\n",
      " [  3   3]\n",
      " [  4   5]\n",
      " [  5   6]\n",
      " [  6   3]\n",
      " [  7   1]\n",
      " [  8   1]\n",
      " [  9   1]\n",
      " [ 10   4]\n",
      " [ 11   1]\n",
      " [ 12   1]\n",
      " [ 13   1]\n",
      " [ 24   1]\n",
      " [ 25   1]\n",
      " [ 26   1]\n",
      " [ 32   1]\n",
      " [ 39   1]\n",
      " [ 50   8]\n",
      " [ 54   1]\n",
      " [100  20]\n",
      " [250   1]\n",
      " [500   1]]\n"
     ]
    }
   ],
   "source": [
    "\n",
    "unique, counts = np.unique(np.array(round_y), return_counts=True)\n",
    "\n",
    "print(np.asarray((unique, counts)).T)"
   ]
  },
  {
   "cell_type": "code",
   "execution_count": 343,
   "metadata": {},
   "outputs": [
    {
     "data": {
      "image/png": "[encoded data removed]",
      "text/plain": [
       "<Figure size 1080x360 with 1 Axes>"
      ]
     },
     "metadata": {
      "needs_background": "light"
     },
     "output_type": "display_data"
    }
   ],
   "source": [
    "data = ((np.arange(y_train[:].shape[0]), y_train.to_numpy().reshape(-1)[:]), (np.arange(y_test[:].shape[0]), res[scores.index(max(scores))].reshape(-1)[:]))\n",
    "colors = (\"red\", \"green\")\n",
    "groups = (\"y_train\", \"y_pred\")\n",
    "\n",
    "# Create plot\n",
    "fig, ax = plt.subplots()\n",
    "fig.set_figwidth(15)\n",
    "fig.set_figheight(5)\n",
    "\n",
    "for data, color, group in zip(data, colors, groups):\n",
    "    x, y = data\n",
    "    ax.scatter(x, np.log(y+1), alpha=0.8, c=color, edgecolors='none', s=30, label=group)\n",
    "    break\n",
    "#         ax.vlines(x[0], x[1], y[1], color = 'r')\n",
    "\n",
    "plt.title('er_lit matrix y train')\n",
    "plt.ylabel(\"y value\")\n",
    "plt.xlabel(\"item from matrix X\")\n",
    "plt.grid()  \n",
    "plt.legend(loc=0)\n",
    "plt.show()"
   ]
  },
  {
   "cell_type": "code",
   "execution_count": 157,
   "metadata": {},
   "outputs": [],
   "source": [
    "mgua_bzr = mguaJN.MGUA()\n",
    "mgua_bzr.load_json('bzr/model_10_900_10__bzr_matrix_alphabet_NNdb*_UpTo4chains.json')\n",
    "res = mgua_bzr.predict(X_test)"
   ]
  },
  {
   "cell_type": "code",
   "execution_count": 158,
   "metadata": {},
   "outputs": [
    {
     "data": {
      "text/plain": [
       "array([[ 68.87427192],\n",
       "       [  1.26960257],\n",
       "       [  1.26960257],\n",
       "       [132.14856299],\n",
       "       [ 68.87427192],\n",
       "       [  1.26960257],\n",
       "       [  1.26960257],\n",
       "       [  1.26960257],\n",
       "       [  1.26960257],\n",
       "       [  1.26960257],\n",
       "       [  1.26960257],\n",
       "       [  1.26960257],\n",
       "       [  1.26960257],\n",
       "       [  1.26960257],\n",
       "       [  1.26960257],\n",
       "       [  1.26960257],\n",
       "       [  1.26960257],\n",
       "       [  1.26960257],\n",
       "       [  1.26960257],\n",
       "       [  1.26960257],\n",
       "       [  1.26960257],\n",
       "       [  1.26960257],\n",
       "       [  1.26960257],\n",
       "       [  1.26960257],\n",
       "       [  1.26960257],\n",
       "       [  1.26960257],\n",
       "       [  1.26960257],\n",
       "       [ 39.07064236],\n",
       "       [  1.26960257],\n",
       "       [  1.26960257],\n",
       "       [  1.26960257],\n",
       "       [  1.26960257],\n",
       "       [  1.26960257],\n",
       "       [  1.26960257],\n",
       "       [  1.26960257],\n",
       "       [  1.26960257],\n",
       "       [  1.26960257],\n",
       "       [  1.26960257],\n",
       "       [  1.26960257],\n",
       "       [  1.26960257],\n",
       "       [  1.26960257],\n",
       "       [  1.26960257],\n",
       "       [  1.26960257],\n",
       "       [  1.26960257],\n",
       "       [  1.26960257],\n",
       "       [  1.26960257],\n",
       "       [  1.26960257],\n",
       "       [  1.26960257],\n",
       "       [  1.26960257],\n",
       "       [  1.26960257],\n",
       "       [  1.26960257],\n",
       "       [  1.26960257],\n",
       "       [  1.26960257],\n",
       "       [  1.26960257],\n",
       "       [  1.26960257],\n",
       "       [  1.26960257],\n",
       "       [ 99.99257301],\n",
       "       [ 99.99257301],\n",
       "       [  1.26960257],\n",
       "       [  1.26960257],\n",
       "       [ 68.87427192],\n",
       "       [ 68.87427192],\n",
       "       [ 68.87427192],\n",
       "       [  1.26960257],\n",
       "       [ 68.87427192],\n",
       "       [ 68.87427192],\n",
       "       [ 68.87427192],\n",
       "       [ 68.87427192],\n",
       "       [ 68.87427192],\n",
       "       [132.14856299],\n",
       "       [132.14856299],\n",
       "       [132.14856299],\n",
       "       [132.14856299],\n",
       "       [ 68.87427192],\n",
       "       [ 68.87427192],\n",
       "       [  1.26960257],\n",
       "       [  1.26960257],\n",
       "       [  1.26960257],\n",
       "       [  1.26960257],\n",
       "       [  1.26960257],\n",
       "       [  1.26960257],\n",
       "       [  1.26960257],\n",
       "       [  1.26960257],\n",
       "       [  1.26960257],\n",
       "       [  1.26960257],\n",
       "       [  1.26960257],\n",
       "       [  1.26960257],\n",
       "       [  1.26960257],\n",
       "       [  1.26960257],\n",
       "       [  1.26960257],\n",
       "       [  1.26960257],\n",
       "       [  1.26960257],\n",
       "       [  0.20476   ],\n",
       "       [  1.26960257],\n",
       "       [  1.26960257],\n",
       "       [  1.26960257],\n",
       "       [  0.20476   ],\n",
       "       [  1.26960257],\n",
       "       [  0.20476   ],\n",
       "       [  1.26960257],\n",
       "       [  1.26960257],\n",
       "       [  1.26960257],\n",
       "       [  1.26960257],\n",
       "       [  1.26960257],\n",
       "       [  1.26960257],\n",
       "       [  1.26960257],\n",
       "       [  1.26960257],\n",
       "       [  1.26960257],\n",
       "       [  1.26960257],\n",
       "       [  0.20476   ],\n",
       "       [ -0.86008257],\n",
       "       [  1.26960257],\n",
       "       [  1.26960257],\n",
       "       [  1.26960257],\n",
       "       [  1.26960257],\n",
       "       [  1.26960257],\n",
       "       [  1.26960257],\n",
       "       [  1.26960257],\n",
       "       [  1.26960257],\n",
       "       [  1.26960257],\n",
       "       [  1.26960257],\n",
       "       [  1.26960257]])"
      ]
     },
     "execution_count": 158,
     "metadata": {},
     "output_type": "execute_result"
    }
   ],
   "source": [
    "pred = res[scores.index(max(scores))]\n",
    "pred"
   ]
  },
  {
   "cell_type": "code",
   "execution_count": 159,
   "metadata": {},
   "outputs": [],
   "source": [
    "b = []\n",
    "for num in pred:\n",
    "#     print(num[0])\n",
    "    if num[0] > 0.1:\n",
    "        b.append(0)\n",
    "    else:\n",
    "        b.append(1)"
   ]
  },
  {
   "cell_type": "code",
   "execution_count": 160,
   "metadata": {},
   "outputs": [
    {
     "data": {
      "text/plain": [
       "0.4939759036144578"
      ]
     },
     "execution_count": 160,
     "metadata": {},
     "output_type": "execute_result"
    }
   ],
   "source": [
    "roc_auc_score(a['active'], b)"
   ]
  },
  {
   "cell_type": "markdown",
   "metadata": {},
   "source": [
    "# Кластеризация"
   ]
  },
  {
   "cell_type": "code",
   "execution_count": 485,
   "metadata": {},
   "outputs": [],
   "source": [
    "bzr = pd.read_csv('er_lit/er_lit_matrix_alphabet_NNdb*_UpTo2chains.csv', sep=',')\n",
    "bzr_y = pd.read_csv('er_lit/er_lit_y.csv', sep=',')"
   ]
  },
  {
   "cell_type": "code",
   "execution_count": null,
   "metadata": {},
   "outputs": [],
   "source": [
    "for i, elem in bzr_y['IC50_uM'].items():\n",
    "    bzr_y['IC50_uM'][i] = float(elem.strip('[]').strip('()').split(', ')[0])"
   ]
  },
  {
   "cell_type": "code",
   "execution_count": 486,
   "metadata": {},
   "outputs": [],
   "source": [
    "bzr_y  = np.log(bzr_y+1)"
   ]
  },
  {
   "cell_type": "code",
   "execution_count": 487,
   "metadata": {},
   "outputs": [],
   "source": [
    "train_size = int(0.7 * bzr.shape[0])\n",
    "X_train = bzr[:][:train_size]\n",
    "y_train = bzr_y[:][:train_size]\n",
    "X_test = bzr[:][train_size:]\n",
    "y_test = bzr_y[:][train_size:]\n",
    "\n",
    "# train_size = int(0.7 * bzr.shape[0])\n",
    "# rand_fold = random.choice(np.arange(bzr.shape[0]).tolist(), train_size, False)\n",
    "# # print(rand_fold)\n",
    "# X_train = bzr[:].loc[rand_fold]\n",
    "# y_train = bzr_y[:].loc[rand_fold]\n",
    "# X_test = bzr[:].loc[np.delete(np.arange(bzr.shape[0]), rand_fold)]\n",
    "# y_test = bzr_y[:].loc[np.delete(np.arange(bzr.shape[0]), rand_fold)]"
   ]
  },
  {
   "cell_type": "code",
   "execution_count": 453,
   "metadata": {},
   "outputs": [],
   "source": [
    "# y_train.to_numpy()"
   ]
  },
  {
   "cell_type": "code",
   "execution_count": null,
   "metadata": {},
   "outputs": [],
   "source": []
  },
  {
   "cell_type": "code",
   "execution_count": 496,
   "metadata": {},
   "outputs": [],
   "source": [
    "from metric_learn import MLKR\n",
    "from sklearn.cluster import DBSCAN\n",
    "from sklearn.cluster import KMeans\n",
    "from sklearn.metrics.pairwise import pairwise_distances\n",
    "import hdbscan\n",
    "import random"
   ]
  },
  {
   "cell_type": "code",
   "execution_count": 488,
   "metadata": {},
   "outputs": [],
   "source": [
    "mlkr = MLKR()"
   ]
  },
  {
   "cell_type": "code",
   "execution_count": 489,
   "metadata": {},
   "outputs": [
    {
     "name": "stderr",
     "output_type": "stream",
     "text": [
      "/Users/Varya/opt/anaconda3/lib/python3.7/site-packages/sklearn/utils/validation.py:760: DataConversionWarning: A column-vector y was passed when a 1d array was expected. Please change the shape of y to (n_samples, ), for example using ravel().\n",
      "  y = column_or_1d(y, warn=True)\n",
      "/Users/Varya/opt/anaconda3/lib/python3.7/site-packages/metric_learn/mlkr.py:181: ChangedBehaviorWarning: Warning, no init was set (`init=None`). As of version 0.5.0, the default init will now be set to 'auto', instead of 'pca'. If you still want to use PCA as an init, set init='pca'. This warning will disappear in v0.6.0, and `init` parameter's default value will be set to 'auto'.\n",
      "  warnings.warn(msg, ChangedBehaviorWarning)\n"
     ]
    },
    {
     "data": {
      "text/plain": [
       "MLKR(A0='deprecated', init=None, max_iter=1000, n_components=None,\n",
       "     num_dims='deprecated', preprocessor=None, random_state=None, tol=None,\n",
       "     verbose=False)"
      ]
     },
     "execution_count": 489,
     "metadata": {},
     "output_type": "execute_result"
    }
   ],
   "source": [
    "mlkr.fit(X_train, y_train.to_numpy())"
   ]
  },
  {
   "cell_type": "code",
   "execution_count": 490,
   "metadata": {},
   "outputs": [],
   "source": [
    "metric_fun = mlkr.get_metric()"
   ]
  },
  {
   "cell_type": "code",
   "execution_count": 491,
   "metadata": {},
   "outputs": [],
   "source": [
    "# X_dist = pairwise_distances(X_train, metric=metric_fun)\n",
    "X_dist = pairwise_distances(X_train, metric='euclidean')"
   ]
  },
  {
   "cell_type": "code",
   "execution_count": 555,
   "metadata": {},
   "outputs": [
    {
     "data": {
      "text/plain": [
       "array([-1,  0,  1])"
      ]
     },
     "execution_count": 555,
     "metadata": {},
     "output_type": "execute_result"
    }
   ],
   "source": [
    "# clusters_train = DBSCAN(eps=3.).fit(X_dist)\n",
    "# clusters_train = KMeans(n_clusters=3).fit(X_dist)\n",
    "clusters_train = hdbscan.HDBSCAN(min_cluster_size=10, metric='precomputed')\n",
    "clusters_train.fit(X_dist)\n",
    "np.unique(clusters_train.labels_)"
   ]
  },
  {
   "cell_type": "code",
   "execution_count": 556,
   "metadata": {},
   "outputs": [
    {
     "name": "stdout",
     "output_type": "stream",
     "text": [
      "['bisque', 'darkorange', 'olivedrab']\n"
     ]
    },
    {
     "data": {
      "image/png": "[encoded data removed]",
      "text/plain": [
       "<Figure size 800x400 with 1 Axes>"
      ]
     },
     "metadata": {},
     "output_type": "display_data"
    }
   ],
   "source": [
    "clusters = np.unique(clusters_train.labels_)\n",
    "# print(clusters.shape, X_train.shape)\n",
    "yy_train = y_train.copy()\n",
    "yy_train['cluster'] = clusters_train.labels_\n",
    "# colours = [plt.cm.tab10(i/float(len(clusters)-1)) for i in range(len(clusters))]\n",
    "# colours = ['red', 'blue', 'green', 'yellow', 'purple', 'orange', 'pink', 'olive', 'cyan']\n",
    "all_colors = list(plt.cm.colors.cnames.keys())\n",
    "random.seed(200)\n",
    "colours = random.choices(all_colors, k=len(clusters))\n",
    "print(colours)\n",
    "\n",
    "plt.figure(figsize=(10, 5), dpi= 80, facecolor='w', edgecolor='k')\n",
    "\n",
    "for i, category in enumerate(clusters):\n",
    "    plt.scatter(x=yy_train.loc[yy_train.cluster==category].index, y=yy_train.loc[yy_train.cluster==category]['RBA_avg'], c=colours[i])"
   ]
  },
  {
   "cell_type": "code",
   "execution_count": 557,
   "metadata": {},
   "outputs": [
    {
     "data": {
      "text/plain": [
       "<matplotlib.axes._subplots.AxesSubplot at 0x1a1f107d10>"
      ]
     },
     "execution_count": 557,
     "metadata": {},
     "output_type": "execute_result"
    },
    {
     "data": {
      "image/png": "[encoded data removed]",
      "text/plain": [
       "<Figure size 432x288 with 1 Axes>"
      ]
     },
     "metadata": {
      "needs_background": "light"
     },
     "output_type": "display_data"
    }
   ],
   "source": [
    "yy_train['cluster'].hist()"
   ]
  },
  {
   "cell_type": "code",
   "execution_count": 387,
   "metadata": {},
   "outputs": [
    {
     "data": {
      "image/png": "[encoded data removed]",
      "text/plain": [
       "<Figure size 1080x360 with 1 Axes>"
      ]
     },
     "metadata": {
      "needs_background": "light"
     },
     "output_type": "display_data"
    }
   ],
   "source": [
    "data = ((np.arange(y_train[:].shape[0]), y_train.to_numpy().reshape(-1)[:]), (np.arange(y_test[:].shape[0]), res[scores.index(max(scores))].reshape(-1)[:]))\n",
    "colors = (\"red\", \"green\")\n",
    "groups = (\"y_train\", \"y_pred\")\n",
    "\n",
    "# Create plot\n",
    "fig, ax = plt.subplots()\n",
    "fig.set_figwidth(15)\n",
    "fig.set_figheight(5)\n",
    "\n",
    "for data, color, group in zip(data, colors, groups):\n",
    "    x, y = data\n",
    "    ax.scatter(x, y, alpha=0.8, c=color, edgecolors='none', s=30, label=group)\n",
    "    break\n",
    "#         ax.vlines(x[0], x[1], y[1], color = 'r')\n",
    "\n",
    "plt.title('er_lit matrix y train')\n",
    "plt.ylabel(\"y value\")\n",
    "plt.xlabel(\"item from matrix X\")\n",
    "plt.grid()  \n",
    "plt.legend(loc=0)\n",
    "plt.show()"
   ]
  },
  {
   "cell_type": "code",
   "execution_count": 575,
   "metadata": {},
   "outputs": [
    {
     "data": {
      "text/plain": [
       "Text(0.5, 1.0, 'er_lit')"
      ]
     },
     "execution_count": 575,
     "metadata": {},
     "output_type": "execute_result"
    },
    {
     "data": {
      "image/png": "[encoded data removed]",
      "text/plain": [
       "<Figure size 1200x400 with 1 Axes>"
      ]
     },
     "metadata": {
      "needs_background": "light"
     },
     "output_type": "display_data"
    }
   ],
   "source": [
    "x1 = [0.800, 0.900, 0.997, 0.999]\n",
    "y2 = [-0.006329067, 0.092965596, 0.109835019759, 0.1098]\n",
    "y3 = [-0.00064153210, 0.039421768, -0.036497619, -0.0232]\n",
    "y4 = [-0.233753090, -0.1641462016, -0.74756339, -0.7475]\n",
    "\n",
    "# Create plot\n",
    "plt.figure(figsize=(15,5), dpi= 80)\n",
    "\n",
    "all_colors = list(plt.cm.colors.cnames.keys())\n",
    "random.seed(7)\n",
    "colours = random.choices(all_colors, k=3)\n",
    "\n",
    "plt.plot(x1, y2, c=colours[0], label='2 chains')\n",
    "plt.text(x1[-1], y2[-1], y2[-1], c=colours[0])\n",
    "plt.plot(x1, y3, c=colours[1], label='3 chains')\n",
    "plt.text(x1[-1], y3[-1], y3[-1], c=colours[1])\n",
    "plt.plot(x1, y4, c=colours[2], label='4 chains')\n",
    "plt.text(x1[-1], y4[-1], y4[-1], c=colours[2])\n",
    "\n",
    "\n",
    "plt.ylabel(\"best score, 10 iterations\")\n",
    "plt.xlabel(\"correlation coef\")\n",
    "\n",
    "plt.legend()\n",
    "plt.title('er_lit')"
   ]
  },
  {
   "cell_type": "code",
   "execution_count": 589,
   "metadata": {},
   "outputs": [
    {
     "data": {
      "text/plain": [
       "Text(0.5, 1.0, 'cox2')"
      ]
     },
     "execution_count": 589,
     "metadata": {},
     "output_type": "execute_result"
    },
    {
     "data": {
      "image/png": "[encoded data removed]",
      "text/plain": [
       "<Figure size 1200x400 with 1 Axes>"
      ]
     },
     "metadata": {
      "needs_background": "light"
     },
     "output_type": "display_data"
    }
   ],
   "source": [
    "x1 = [0.800, 0.900, 0.997]\n",
    "y2 = [0.0055377, 0.062236, 0.0622]\n",
    "y3 = [0.019718, 0.074413, 0.0744]\n",
    "y4 = [-0.0002476, 0.0423558, -0.7227]\n",
    "\n",
    "# Create plot\n",
    "plt.figure(figsize=(15,5), dpi= 80)\n",
    "\n",
    "all_colors = list(plt.cm.colors.cnames.keys())\n",
    "random.seed(14)\n",
    "colours = random.choices(all_colors, k=3)\n",
    "\n",
    "plt.plot(x1, y2, c=colours[0], label='2 chains')\n",
    "plt.text(x1[-1], y2[-1], y2[-1], c=colours[0])\n",
    "plt.plot(x1, y3, c=colours[1], label='3 chains')\n",
    "plt.text(x1[-1], y3[-1], y3[-1], c=colours[1])\n",
    "plt.plot(x1, y4, c=colours[2], label='4 chains')\n",
    "plt.text(x1[-1], y4[-1], y4[-1], c=colours[2])\n",
    "\n",
    "\n",
    "plt.ylabel(\"best score, 10 iterations\")\n",
    "plt.xlabel(\"correlation coef\")\n",
    "\n",
    "plt.legend()\n",
    "plt.title('cox2')"
   ]
  },
  {
   "cell_type": "code",
   "execution_count": 592,
   "metadata": {},
   "outputs": [
    {
     "data": {
      "text/plain": [
       "Text(0.5, 1.0, 'bzr')"
      ]
     },
     "execution_count": 592,
     "metadata": {},
     "output_type": "execute_result"
    },
    {
     "data": {
      "image/png": "[encoded data removed]",
      "text/plain": [
       "<Figure size 1200x400 with 1 Axes>"
      ]
     },
     "metadata": {
      "needs_background": "light"
     },
     "output_type": "display_data"
    }
   ],
   "source": [
    "x1 = [0.600, 0.700, 0.800, 0.900]\n",
    "y2 = [0.11067, 0.004466, 0.0707, 0.0707]\n",
    "y3 = [0.17518, 0.18492, 0.1615, 0.1615]\n",
    "y4 = [0.290408, 0.24425, 0.1685, 0.3096]\n",
    "\n",
    "# Create plot\n",
    "plt.figure(figsize=(15,5), dpi= 80)\n",
    "\n",
    "all_colors = list(plt.cm.colors.cnames.keys())\n",
    "random.seed(17)\n",
    "colours = random.choices(all_colors, k=3)\n",
    "\n",
    "plt.plot(x1, y2, c=colours[0], label='2 chains')\n",
    "plt.text(x1[-1], y2[-1], y2[-1], c=colours[0])\n",
    "plt.plot(x1, y3, c=colours[1], label='3 chains')\n",
    "plt.text(x1[-1], y3[-1], y3[-1], c=colours[1])\n",
    "plt.plot(x1, y4, c=colours[2], label='4 chains')\n",
    "plt.text(x1[-1], y4[-1], y4[-1], c=colours[2])\n",
    "\n",
    "\n",
    "plt.ylabel(\"best score, 10 iterations\")\n",
    "plt.xlabel(\"correlation coef\")\n",
    "\n",
    "plt.legend()\n",
    "plt.title('bzr')"
   ]
  },
  {
   "cell_type": "code",
   "execution_count": null,
   "metadata": {},
   "outputs": [],
   "source": []
  }
 ],
 "metadata": {
  "kernelspec": {
   "display_name": "Python 3",
   "language": "python",
   "name": "python3"
  },
  "language_info": {
   "codemirror_mode": {
    "name": "ipython",
    "version": 3
   },
   "file_extension": ".py",
   "mimetype": "text/x-python",
   "name": "python",
   "nbconvert_exporter": "python",
   "pygments_lexer": "ipython3",
   "version": "3.7.4"
  }
 },
 "nbformat": 4,
 "nbformat_minor": 2
}
