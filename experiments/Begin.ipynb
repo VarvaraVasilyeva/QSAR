{
 "cells": [
  {
   "cell_type": "code",
   "execution_count": 1,
   "metadata": {},
   "outputs": [],
   "source": [
    "import pandas as pd\n",
    "import numpy as np\n",
    "from sklearn.model_selection import train_test_split\n",
    "from sklearn import preprocessing\n",
    "from sklearn import metrics \n",
    "from sklearn.feature_selection import RFE\n",
    "from sklearn.linear_model import LogisticRegression\n",
    "from sklearn.tree import DecisionTreeRegressor\n",
    "from sklearn.svm import SVC\n",
    "from sklearn.svm import SVR\n",
    "import matplotlib.pyplot as plt\n",
    "from sklearn.feature_selection import SelectKBest\n",
    "from sklearn.feature_selection import chi2\n",
    "from sklearn.decomposition import PCA\n",
    "from sklearn.tree import DecisionTreeRegressor\n",
    "from sklearn.model_selection import cross_val_score\n"
   ]
  },
  {
   "cell_type": "code",
   "execution_count": 2,
   "metadata": {},
   "outputs": [],
   "source": [
    "glass = pd.read_csv('glass_/GLASS_matrix_alphabet_NNdt*_1and2and3chains.csv', sep=',', header=None)\n",
    "y_glass = pd.read_csv('glass_/GLASS_y.csv')\n"
   ]
  },
  {
   "cell_type": "code",
   "execution_count": 3,
   "metadata": {},
   "outputs": [],
   "source": [
    "soil = pd.read_csv('SOIL/soil-1-1_matrix_alphabet_NNdt*_1and2and3chains.csv', sep=',', header=None)\n",
    "y_soil = pd.read_csv('SOIL/soil-1-1_y.csv')\n"
   ]
  },
  {
   "cell_type": "markdown",
   "metadata": {},
   "source": [
    "# Линейная регрессия"
   ]
  },
  {
   "cell_type": "code",
   "execution_count": 4,
   "metadata": {},
   "outputs": [],
   "source": [
    "from sklearn.linear_model import LinearRegression"
   ]
  },
  {
   "cell_type": "code",
   "execution_count": 21,
   "metadata": {},
   "outputs": [],
   "source": [
    "lin_reg = LinearRegression(normalize=True)\n",
    "scores = cross_val_score(lin_reg, glass, np.ravel(y_glass), cv=4, scoring='r2', n_jobs = -1)"
   ]
  },
  {
   "cell_type": "code",
   "execution_count": 14,
   "metadata": {},
   "outputs": [
    {
     "data": {
      "text/plain": [
       "array([-6.09564601e+00, -1.36852232e+26, -5.56245868e+21, -3.03286038e+23])"
      ]
     },
     "execution_count": 14,
     "metadata": {},
     "output_type": "execute_result"
    }
   ],
   "source": [
    "scores"
   ]
  },
  {
   "cell_type": "code",
   "execution_count": 35,
   "metadata": {},
   "outputs": [
    {
     "name": "stdout",
     "output_type": "stream",
     "text": [
      "      0    1\n",
      "0   0.0  0.0\n",
      "1   0.0  0.0\n",
      "2   0.0  0.0\n",
      "3   0.0  0.0\n",
      "4   0.0  0.0\n",
      "..  ...  ...\n",
      "67  0.0  0.0\n",
      "68  0.0  0.0\n",
      "69  0.0  0.0\n",
      "70  0.0  0.0\n",
      "71  0.0  0.0\n",
      "\n",
      "[72 rows x 2 columns]\n"
     ]
    },
    {
     "data": {
      "text/plain": [
       "LinearRegression(copy_X=True, fit_intercept=True, n_jobs=None, normalize=True)"
      ]
     },
     "execution_count": 35,
     "metadata": {},
     "output_type": "execute_result"
    }
   ],
   "source": [
    "train_size = int(0.7 * glass.shape[0])\n",
    "\n",
    "X_train = glass.loc[:, [0, 1]][:train_size]\n",
    "print(X_train)\n",
    "y_train = y_glass[:][:train_size]\n",
    "X_test = glass[:][train_size:]\n",
    "y_test = y_glass[:][train_size:]\n",
    "lin_reg.fit(X_train, y_train)"
   ]
  },
  {
   "cell_type": "code",
   "execution_count": 40,
   "metadata": {},
   "outputs": [
    {
     "data": {
      "text/plain": [
       "158.53731343283584"
      ]
     },
     "execution_count": 40,
     "metadata": {},
     "output_type": "execute_result"
    }
   ],
   "source": [
    "lin_reg.intercept_[0]"
   ]
  },
  {
   "cell_type": "markdown",
   "metadata": {},
   "source": [
    "# Гребневая регрессия"
   ]
  },
  {
   "cell_type": "code",
   "execution_count": 15,
   "metadata": {},
   "outputs": [],
   "source": [
    "from sklearn.linear_model import Ridge"
   ]
  },
  {
   "cell_type": "code",
   "execution_count": 99,
   "metadata": {},
   "outputs": [],
   "source": [
    "ridge_scores = []\n",
    "x = [0, 1, 10, 100, 500, 1000, 5000, 10000]\n",
    "for a in x:\n",
    "    ridge = Ridge(alpha=a)\n",
    "    ridge_scores.append(cross_val_score(ridge, glass, np.ravel(y_glass), cv=4, scoring='r2', n_jobs = -1))"
   ]
  },
  {
   "cell_type": "code",
   "execution_count": 100,
   "metadata": {},
   "outputs": [
    {
     "data": {
      "image/png": "[encoded data removed]",
      "text/plain": [
       "<Figure size 1080x432 with 1 Axes>"
      ]
     },
     "metadata": {
      "needs_background": "light"
     },
     "output_type": "display_data"
    }
   ],
   "source": [
    "y1 = [max(row) for row in ridge_scores]\n",
    "y2 = [min(row) for row in ridge_scores]\n",
    "y3 = [row.mean() for row in ridge_scores]\n",
    "\n",
    "fig, ax = plt.subplots()\n",
    "\n",
    "ax.plot(x, y1, label = 'max(score)')\n",
    "ax.plot(x, y2, label = 'min(score)')\n",
    "ax.plot(x, y3, label = 'mean(score)')\n",
    "ax.legend()\n",
    "\n",
    "ax.set_ylim(-2, 1)\n",
    "# ax.set_xlim(0, 10000)\n",
    "plt.xticks(x)\n",
    "\n",
    "plt.title(\"Зависимость кросс-валидации от параметра регуляризации\") # заголовок\n",
    "plt.xlabel(\"alpha\")         # ось абсцисс\n",
    "plt.ylabel(\"r2\")    # ось ординат\n",
    "fig.set_figwidth(15)\n",
    "fig.set_figheight(6)\n",
    "plt.grid()              # включение отображение сетки\n",
    "# plt.plot(x, y1, x, y2, x, y3)  # построение графика\n",
    "plt.show()"
   ]
  },
  {
   "cell_type": "markdown",
   "metadata": {},
   "source": [
    "## зависимость кросс-валидации от параметров регуляризации при нормализованных данных"
   ]
  },
  {
   "cell_type": "code",
   "execution_count": 90,
   "metadata": {},
   "outputs": [],
   "source": [
    "ridge_scores = []\n",
    "x = [ 1, 10, 100, 250, 500, 750, 1000]\n",
    "for a in x:\n",
    "    ridge = Ridge(alpha=a)\n",
    "    ridge_scores.append(cross_val_score(ridge, preprocessing.normalize(glass), np.ravel(y_glass), cv=4, scoring='r2', n_jobs = -1))"
   ]
  },
  {
   "cell_type": "code",
   "execution_count": 92,
   "metadata": {},
   "outputs": [
    {
     "data": {
      "image/png": "[encoded data removed]",
      "text/plain": [
       "<Figure size 1080x432 with 1 Axes>"
      ]
     },
     "metadata": {
      "needs_background": "light"
     },
     "output_type": "display_data"
    }
   ],
   "source": [
    "y1 = [max(row) for row in ridge_scores]\n",
    "y2 = [min(row) for row in ridge_scores]\n",
    "y3 = [row.mean() for row in ridge_scores]\n",
    "\n",
    "fig, ax = plt.subplots()\n",
    "\n",
    "ax.plot(x, y1, label = 'max(score)')\n",
    "ax.plot(x, y2, label = 'min(score)')\n",
    "ax.plot(x, y3, label = 'mean(score)')\n",
    "ax.legend()\n",
    "\n",
    "# ax.set_ylim(-6, 1.5)\n",
    "# ax.set_xlim(1, 1000)\n",
    "plt.xticks(x)\n",
    "\n",
    "plt.title(\"Зависимость кросс-валидации от параметра регуляризации\") # заголовок\n",
    "plt.xlabel(\"alpha\")         # ось абсцисс\n",
    "plt.ylabel(\"r2\")    # ось ординат\n",
    "fig.set_figwidth(15)\n",
    "fig.set_figheight(6)\n",
    "plt.grid()              # включение отображение сетки\n",
    "# plt.plot(x, y1, x, y2, x, y3)  # построение графика\n",
    "plt.show()"
   ]
  },
  {
   "cell_type": "code",
   "execution_count": 93,
   "metadata": {},
   "outputs": [
    {
     "data": {
      "text/plain": [
       "array([-8.42329274, -0.37982927,  0.82013775,  0.91621765])"
      ]
     },
     "execution_count": 93,
     "metadata": {},
     "output_type": "execute_result"
    }
   ],
   "source": [
    "ridge = Ridge(alpha=1)\n",
    "cross_val_score(ridge, preprocessing.normalize(glass), np.ravel(y_glass), cv=4, scoring='r2', n_jobs = -1)"
   ]
  },
  {
   "cell_type": "code",
   "execution_count": 94,
   "metadata": {},
   "outputs": [],
   "source": [
    "train_size = int(0.7 * glass.shape[0])\n",
    "\n",
    "X_train = glass[:][:train_size]\n",
    "y_train = y_glass[:][:train_size]\n",
    "X_test = glass[:][train_size:]\n",
    "y_test = y_glass[:][train_size:]"
   ]
  },
  {
   "cell_type": "code",
   "execution_count": 95,
   "metadata": {},
   "outputs": [
    {
     "data": {
      "text/plain": [
       "Ridge(alpha=1, copy_X=True, fit_intercept=True, max_iter=None, normalize=False,\n",
       "      random_state=None, solver='auto', tol=0.001)"
      ]
     },
     "execution_count": 95,
     "metadata": {},
     "output_type": "execute_result"
    }
   ],
   "source": [
    "ridge.fit(X_train, y_train)"
   ]
  },
  {
   "cell_type": "code",
   "execution_count": 97,
   "metadata": {},
   "outputs": [
    {
     "data": {
      "text/plain": [
       "-19.717554486825442"
      ]
     },
     "execution_count": 97,
     "metadata": {},
     "output_type": "execute_result"
    }
   ],
   "source": [
    "metrics.r2_score(y_test, ridge.predict(X_test))"
   ]
  },
  {
   "cell_type": "markdown",
   "metadata": {},
   "source": [
    "# Лассо"
   ]
  },
  {
   "cell_type": "code",
   "execution_count": 84,
   "metadata": {},
   "outputs": [],
   "source": [
    "from sklearn import linear_model"
   ]
  },
  {
   "cell_type": "code",
   "execution_count": 106,
   "metadata": {},
   "outputs": [],
   "source": [
    "x = [ 0, 0.0001, 0.001, 0.01, 0.1, 0.2, 0.5]\n",
    "lasso_scores = []\n",
    "for a in x:\n",
    "    lasso = linear_model.Lasso(alpha=a)\n",
    "    lasso_scores.append(cross_val_score(lasso, glass, np.ravel(y_glass), cv=4, scoring='r2', n_jobs = -1))"
   ]
  },
  {
   "cell_type": "code",
   "execution_count": 107,
   "metadata": {
    "scrolled": true
   },
   "outputs": [
    {
     "data": {
      "image/png": "[encoded data removed]",
      "text/plain": [
       "<Figure size 1080x432 with 1 Axes>"
      ]
     },
     "metadata": {
      "needs_background": "light"
     },
     "output_type": "display_data"
    }
   ],
   "source": [
    "y1 = [max(row) for row in lasso_scores]\n",
    "y2 = [min(row) for row in lasso_scores]\n",
    "y3 = [row.mean() for row in lasso_scores]\n",
    "\n",
    "fig, ax = plt.subplots()\n",
    "\n",
    "ax.plot(x, y1, label = 'max(score)')\n",
    "ax.plot(x, y2, label = 'min(score)')\n",
    "ax.plot(x, y3, label = 'mean(score)')\n",
    "ax.legend()\n",
    "\n",
    "ax.set_ylim(-3, 1.5)\n",
    "ax.set_xlim(0, 0.5)\n",
    "plt.xticks(x)\n",
    "\n",
    "plt.title(\"Зависимость кросс-валидации от параметра регуляризации\") # заголовок\n",
    "plt.xlabel(\"alpha\")         # ось абсцисс\n",
    "plt.ylabel(\"r2\")    # ось ординат\n",
    "fig.set_figwidth(15)\n",
    "fig.set_figheight(6)\n",
    "plt.grid()              # включение отображение сетки\n",
    "# plt.plot(x, y1, x, y2, x, y3)  # построение графика\n",
    "plt.show()"
   ]
  },
  {
   "cell_type": "markdown",
   "metadata": {},
   "source": [
    "# Попробуем использованные методы на 4х главых компонентах\n",
    "Гребневая регрессия, Ненормализованные данные:"
   ]
  },
  {
   "cell_type": "code",
   "execution_count": 103,
   "metadata": {},
   "outputs": [],
   "source": [
    "pca = PCA(n_components=4)\n",
    "projection = pca.fit_transform(glass)"
   ]
  },
  {
   "cell_type": "code",
   "execution_count": 104,
   "metadata": {},
   "outputs": [
    {
     "data": {
      "text/plain": [
       "array([-3.32147636,  0.28302175,  0.59478258, -0.01796069])"
      ]
     },
     "execution_count": 104,
     "metadata": {},
     "output_type": "execute_result"
    }
   ],
   "source": [
    "ridge = Ridge(alpha=5000)\n",
    "cross_val_score(ridge, projection, np.ravel(y_glass), cv=4, scoring='r2', n_jobs = -1)"
   ]
  },
  {
   "cell_type": "markdown",
   "metadata": {},
   "source": [
    "Гребневая регрессия, Нормализованные данные:"
   ]
  },
  {
   "cell_type": "code",
   "execution_count": 108,
   "metadata": {},
   "outputs": [
    {
     "data": {
      "text/plain": [
       "array([-27.75509189,  -3.11218969,  -0.7846187 ,  -0.24588379])"
      ]
     },
     "execution_count": 108,
     "metadata": {},
     "output_type": "execute_result"
    }
   ],
   "source": [
    "pca = PCA(n_components=4)\n",
    "projection = pca.fit_transform(preprocessing.normalize(glass))\n",
    "ridge = Ridge(alpha=500)\n",
    "cross_val_score(ridge, projection, np.ravel(y_glass), cv=4, scoring='r2', n_jobs = -1)"
   ]
  },
  {
   "cell_type": "markdown",
   "metadata": {},
   "source": [
    "Регрессия Лассо, ненормализованные данные:"
   ]
  },
  {
   "cell_type": "code",
   "execution_count": 109,
   "metadata": {},
   "outputs": [
    {
     "data": {
      "text/plain": [
       "array([-3.31865919,  0.28324907,  0.59481707, -0.02111108])"
      ]
     },
     "execution_count": 109,
     "metadata": {},
     "output_type": "execute_result"
    }
   ],
   "source": [
    "pca = PCA(n_components=4)\n",
    "projection = pca.fit_transform(glass)\n",
    "lasso = linear_model.Lasso(alpha=0.2)\n",
    "cross_val_score(lasso, projection, np.ravel(y_glass), cv=4, scoring='r2', n_jobs = -1)"
   ]
  },
  {
   "cell_type": "markdown",
   "metadata": {},
   "source": [
    "Регрессия Лассо, нормализованные данные:"
   ]
  },
  {
   "cell_type": "code",
   "execution_count": 110,
   "metadata": {},
   "outputs": [
    {
     "data": {
      "text/plain": [
       "array([-10.17347839,  -0.87622341,   0.78717469,   0.90030406])"
      ]
     },
     "execution_count": 110,
     "metadata": {},
     "output_type": "execute_result"
    }
   ],
   "source": [
    "pca = PCA(n_components=4)\n",
    "projection = pca.fit_transform(preprocessing.normalize(glass))\n",
    "lasso = linear_model.Lasso(alpha=0.2)\n",
    "cross_val_score(lasso, projection, np.ravel(y_glass), cv=4, scoring='r2', n_jobs = -1)"
   ]
  },
  {
   "cell_type": "markdown",
   "metadata": {},
   "source": [
    "## Логистическая регрессия"
   ]
  },
  {
   "cell_type": "code",
   "execution_count": 121,
   "metadata": {},
   "outputs": [
    {
     "name": "stderr",
     "output_type": "stream",
     "text": [
      "/Users/Varya/opt/anaconda3/lib/python3.7/site-packages/sklearn/model_selection/_split.py:667: UserWarning: The least populated class in y has only 1 members, which is less than n_splits=3.\n",
      "  % (min_groups, self.n_splits)), UserWarning)\n"
     ]
    },
    {
     "data": {
      "text/plain": [
       "array([-0.2548858 ,  0.76284094, -0.38346535])"
      ]
     },
     "execution_count": 121,
     "metadata": {},
     "output_type": "execute_result"
    }
   ],
   "source": [
    "from sklearn.linear_model import LogisticRegression\n",
    "logistic = LogisticRegression()\n",
    "cross_val_score(logistic, preprocessing.normalize(glass), np.ravel(y_glass), cv=3, scoring='r2', n_jobs = -1)"
   ]
  },
  {
   "cell_type": "code",
   "execution_count": 122,
   "metadata": {},
   "outputs": [
    {
     "name": "stderr",
     "output_type": "stream",
     "text": [
      "/Users/Varya/opt/anaconda3/lib/python3.7/site-packages/sklearn/model_selection/_split.py:667: UserWarning: The least populated class in y has only 1 members, which is less than n_splits=3.\n",
      "  % (min_groups, self.n_splits)), UserWarning)\n"
     ]
    },
    {
     "data": {
      "text/plain": [
       "array([0.58834181, 0.51690369, 0.22202605])"
      ]
     },
     "execution_count": 122,
     "metadata": {},
     "output_type": "execute_result"
    }
   ],
   "source": [
    "cross_val_score(logistic, glass, np.ravel(y_glass), cv=3, scoring='r2', n_jobs = -1)"
   ]
  },
  {
   "cell_type": "code",
   "execution_count": 119,
   "metadata": {},
   "outputs": [
    {
     "name": "stdout",
     "output_type": "stream",
     "text": [
      "score =  -1.2041048518107278\n"
     ]
    }
   ],
   "source": [
    "logistic.fit(preprocessing.normalize(X_train), np.ravel(y_train))\n",
    "print('score = ', metrics.r2_score(np.ravel(y_test), logistic.predict(preprocessing.normalize(X_test))))"
   ]
  },
  {
   "cell_type": "code",
   "execution_count": 120,
   "metadata": {},
   "outputs": [
    {
     "data": {
      "text/plain": [
       "array([ 73.,  76.,  80.,  83.,  85.,  88.,  90.,  91.,  93.,  95.,  97.,\n",
       "        98., 100., 101., 103., 105., 108., 111., 112., 115., 118., 119.,\n",
       "       120., 121., 122., 123., 125., 126., 127., 128., 129., 130., 133.,\n",
       "       135., 137., 142., 149., 150., 154., 160., 161., 167., 168., 170.,\n",
       "       171., 176., 184., 186., 193., 213., 240., 243., 261., 338., 343.,\n",
       "       363., 379., 406., 412., 417.])"
      ]
     },
     "execution_count": 120,
     "metadata": {},
     "output_type": "execute_result"
    }
   ],
   "source": [
    "logistic.classes_"
   ]
  },
  {
   "cell_type": "markdown",
   "metadata": {},
   "source": [
    "На 4х главных компонентах:"
   ]
  },
  {
   "cell_type": "code",
   "execution_count": 126,
   "metadata": {},
   "outputs": [
    {
     "name": "stderr",
     "output_type": "stream",
     "text": [
      "/Users/Varya/opt/anaconda3/lib/python3.7/site-packages/sklearn/model_selection/_split.py:667: UserWarning: The least populated class in y has only 1 members, which is less than n_splits=3.\n",
      "  % (min_groups, self.n_splits)), UserWarning)\n"
     ]
    },
    {
     "data": {
      "text/plain": [
       "array([-0.25083839,  0.74877134, -0.38977283])"
      ]
     },
     "execution_count": 126,
     "metadata": {},
     "output_type": "execute_result"
    }
   ],
   "source": [
    "pca = PCA(n_components=10)\n",
    "projection = pca.fit_transform(preprocessing.normalize(glass))\n",
    "cross_val_score(logistic, projection, np.ravel(y_glass), cv=3, scoring='r2', n_jobs = -1)"
   ]
  },
  {
   "cell_type": "code",
   "execution_count": null,
   "metadata": {},
   "outputs": [],
   "source": []
  }
 ],
 "metadata": {
  "kernelspec": {
   "display_name": "Python 3",
   "language": "python",
   "name": "python3"
  },
  "language_info": {
   "codemirror_mode": {
    "name": "ipython",
    "version": 3
   },
   "file_extension": ".py",
   "mimetype": "text/x-python",
   "name": "python",
   "nbconvert_exporter": "python",
   "pygments_lexer": "ipython3",
   "version": "3.7.4"
  }
 },
 "nbformat": 4,
 "nbformat_minor": 2
}
